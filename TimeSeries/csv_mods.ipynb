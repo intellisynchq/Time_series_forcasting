{
 "cells": [
  {
   "cell_type": "code",
   "execution_count": 1,
   "id": "1e360082",
   "metadata": {},
   "outputs": [],
   "source": [
    "import pandas as pd"
   ]
  },
  {
   "cell_type": "code",
   "execution_count": 2,
   "id": "c09a0d0a",
   "metadata": {},
   "outputs": [
    {
     "data": {
      "application/vnd.microsoft.datawrangler.viewer.v0+json": {
       "columns": [
        {
         "name": "index",
         "rawType": "int64",
         "type": "integer"
        },
        {
         "name": "Store",
         "rawType": "int64",
         "type": "integer"
        },
        {
         "name": "DayOfWeek",
         "rawType": "int64",
         "type": "integer"
        },
        {
         "name": "Date",
         "rawType": "datetime64[ns]",
         "type": "datetime"
        },
        {
         "name": "Sales",
         "rawType": "int64",
         "type": "integer"
        },
        {
         "name": "Customers",
         "rawType": "int64",
         "type": "integer"
        },
        {
         "name": "Open",
         "rawType": "int64",
         "type": "integer"
        },
        {
         "name": "Promo",
         "rawType": "int64",
         "type": "integer"
        },
        {
         "name": "StateHoliday",
         "rawType": "object",
         "type": "string"
        },
        {
         "name": "SchoolHoliday",
         "rawType": "int64",
         "type": "integer"
        }
       ],
       "ref": "0af02d15-0823-4a60-b001-7ef366edf505",
       "rows": [
        [
         "0",
         "1",
         "5",
         "2015-07-31 00:00:00",
         "5263",
         "555",
         "1",
         "1",
         "0",
         "1"
        ],
        [
         "1",
         "2",
         "5",
         "2015-07-31 00:00:00",
         "6064",
         "625",
         "1",
         "1",
         "0",
         "1"
        ],
        [
         "2",
         "3",
         "5",
         "2015-07-31 00:00:00",
         "8314",
         "821",
         "1",
         "1",
         "0",
         "1"
        ],
        [
         "3",
         "4",
         "5",
         "2015-07-31 00:00:00",
         "13995",
         "1498",
         "1",
         "1",
         "0",
         "1"
        ],
        [
         "4",
         "5",
         "5",
         "2015-07-31 00:00:00",
         "4822",
         "559",
         "1",
         "1",
         "0",
         "1"
        ]
       ],
       "shape": {
        "columns": 9,
        "rows": 5
       }
      },
      "text/html": [
       "<div>\n",
       "<style scoped>\n",
       "    .dataframe tbody tr th:only-of-type {\n",
       "        vertical-align: middle;\n",
       "    }\n",
       "\n",
       "    .dataframe tbody tr th {\n",
       "        vertical-align: top;\n",
       "    }\n",
       "\n",
       "    .dataframe thead th {\n",
       "        text-align: right;\n",
       "    }\n",
       "</style>\n",
       "<table border=\"1\" class=\"dataframe\">\n",
       "  <thead>\n",
       "    <tr style=\"text-align: right;\">\n",
       "      <th></th>\n",
       "      <th>Store</th>\n",
       "      <th>DayOfWeek</th>\n",
       "      <th>Date</th>\n",
       "      <th>Sales</th>\n",
       "      <th>Customers</th>\n",
       "      <th>Open</th>\n",
       "      <th>Promo</th>\n",
       "      <th>StateHoliday</th>\n",
       "      <th>SchoolHoliday</th>\n",
       "    </tr>\n",
       "  </thead>\n",
       "  <tbody>\n",
       "    <tr>\n",
       "      <th>0</th>\n",
       "      <td>1</td>\n",
       "      <td>5</td>\n",
       "      <td>2015-07-31</td>\n",
       "      <td>5263</td>\n",
       "      <td>555</td>\n",
       "      <td>1</td>\n",
       "      <td>1</td>\n",
       "      <td>0</td>\n",
       "      <td>1</td>\n",
       "    </tr>\n",
       "    <tr>\n",
       "      <th>1</th>\n",
       "      <td>2</td>\n",
       "      <td>5</td>\n",
       "      <td>2015-07-31</td>\n",
       "      <td>6064</td>\n",
       "      <td>625</td>\n",
       "      <td>1</td>\n",
       "      <td>1</td>\n",
       "      <td>0</td>\n",
       "      <td>1</td>\n",
       "    </tr>\n",
       "    <tr>\n",
       "      <th>2</th>\n",
       "      <td>3</td>\n",
       "      <td>5</td>\n",
       "      <td>2015-07-31</td>\n",
       "      <td>8314</td>\n",
       "      <td>821</td>\n",
       "      <td>1</td>\n",
       "      <td>1</td>\n",
       "      <td>0</td>\n",
       "      <td>1</td>\n",
       "    </tr>\n",
       "    <tr>\n",
       "      <th>3</th>\n",
       "      <td>4</td>\n",
       "      <td>5</td>\n",
       "      <td>2015-07-31</td>\n",
       "      <td>13995</td>\n",
       "      <td>1498</td>\n",
       "      <td>1</td>\n",
       "      <td>1</td>\n",
       "      <td>0</td>\n",
       "      <td>1</td>\n",
       "    </tr>\n",
       "    <tr>\n",
       "      <th>4</th>\n",
       "      <td>5</td>\n",
       "      <td>5</td>\n",
       "      <td>2015-07-31</td>\n",
       "      <td>4822</td>\n",
       "      <td>559</td>\n",
       "      <td>1</td>\n",
       "      <td>1</td>\n",
       "      <td>0</td>\n",
       "      <td>1</td>\n",
       "    </tr>\n",
       "  </tbody>\n",
       "</table>\n",
       "</div>"
      ],
      "text/plain": [
       "   Store  DayOfWeek       Date  Sales  Customers  Open  Promo StateHoliday  \\\n",
       "0      1          5 2015-07-31   5263        555     1      1            0   \n",
       "1      2          5 2015-07-31   6064        625     1      1            0   \n",
       "2      3          5 2015-07-31   8314        821     1      1            0   \n",
       "3      4          5 2015-07-31  13995       1498     1      1            0   \n",
       "4      5          5 2015-07-31   4822        559     1      1            0   \n",
       "\n",
       "   SchoolHoliday  \n",
       "0              1  \n",
       "1              1  \n",
       "2              1  \n",
       "3              1  \n",
       "4              1  "
      ]
     },
     "metadata": {},
     "output_type": "display_data"
    }
   ],
   "source": [
    "train = pd.read_csv('train.csv', parse_dates=['Date'], low_memory=False)\n",
    "display(train.head())"
   ]
  },
  {
   "cell_type": "code",
   "execution_count": 3,
   "id": "c4dd7211",
   "metadata": {},
   "outputs": [
    {
     "data": {
      "application/vnd.microsoft.datawrangler.viewer.v0+json": {
       "columns": [
        {
         "name": "index",
         "rawType": "int64",
         "type": "integer"
        },
        {
         "name": "Store",
         "rawType": "int64",
         "type": "integer"
        },
        {
         "name": "Date",
         "rawType": "datetime64[ns]",
         "type": "datetime"
        },
        {
         "name": "Sales",
         "rawType": "int64",
         "type": "integer"
        },
        {
         "name": "Customers",
         "rawType": "int64",
         "type": "integer"
        },
        {
         "name": "Open",
         "rawType": "int64",
         "type": "integer"
        },
        {
         "name": "Promo",
         "rawType": "int64",
         "type": "integer"
        }
       ],
       "ref": "66fd9979-30c8-47b4-92c2-98b12d205abc",
       "rows": [
        [
         "0",
         "1",
         "2015-07-31 00:00:00",
         "5263",
         "555",
         "1",
         "1"
        ],
        [
         "1",
         "2",
         "2015-07-31 00:00:00",
         "6064",
         "625",
         "1",
         "1"
        ],
        [
         "2",
         "3",
         "2015-07-31 00:00:00",
         "8314",
         "821",
         "1",
         "1"
        ],
        [
         "3",
         "4",
         "2015-07-31 00:00:00",
         "13995",
         "1498",
         "1",
         "1"
        ],
        [
         "4",
         "5",
         "2015-07-31 00:00:00",
         "4822",
         "559",
         "1",
         "1"
        ]
       ],
       "shape": {
        "columns": 6,
        "rows": 5
       }
      },
      "text/html": [
       "<div>\n",
       "<style scoped>\n",
       "    .dataframe tbody tr th:only-of-type {\n",
       "        vertical-align: middle;\n",
       "    }\n",
       "\n",
       "    .dataframe tbody tr th {\n",
       "        vertical-align: top;\n",
       "    }\n",
       "\n",
       "    .dataframe thead th {\n",
       "        text-align: right;\n",
       "    }\n",
       "</style>\n",
       "<table border=\"1\" class=\"dataframe\">\n",
       "  <thead>\n",
       "    <tr style=\"text-align: right;\">\n",
       "      <th></th>\n",
       "      <th>Store</th>\n",
       "      <th>Date</th>\n",
       "      <th>Sales</th>\n",
       "      <th>Customers</th>\n",
       "      <th>Open</th>\n",
       "      <th>Promo</th>\n",
       "    </tr>\n",
       "  </thead>\n",
       "  <tbody>\n",
       "    <tr>\n",
       "      <th>0</th>\n",
       "      <td>1</td>\n",
       "      <td>2015-07-31</td>\n",
       "      <td>5263</td>\n",
       "      <td>555</td>\n",
       "      <td>1</td>\n",
       "      <td>1</td>\n",
       "    </tr>\n",
       "    <tr>\n",
       "      <th>1</th>\n",
       "      <td>2</td>\n",
       "      <td>2015-07-31</td>\n",
       "      <td>6064</td>\n",
       "      <td>625</td>\n",
       "      <td>1</td>\n",
       "      <td>1</td>\n",
       "    </tr>\n",
       "    <tr>\n",
       "      <th>2</th>\n",
       "      <td>3</td>\n",
       "      <td>2015-07-31</td>\n",
       "      <td>8314</td>\n",
       "      <td>821</td>\n",
       "      <td>1</td>\n",
       "      <td>1</td>\n",
       "    </tr>\n",
       "    <tr>\n",
       "      <th>3</th>\n",
       "      <td>4</td>\n",
       "      <td>2015-07-31</td>\n",
       "      <td>13995</td>\n",
       "      <td>1498</td>\n",
       "      <td>1</td>\n",
       "      <td>1</td>\n",
       "    </tr>\n",
       "    <tr>\n",
       "      <th>4</th>\n",
       "      <td>5</td>\n",
       "      <td>2015-07-31</td>\n",
       "      <td>4822</td>\n",
       "      <td>559</td>\n",
       "      <td>1</td>\n",
       "      <td>1</td>\n",
       "    </tr>\n",
       "  </tbody>\n",
       "</table>\n",
       "</div>"
      ],
      "text/plain": [
       "   Store       Date  Sales  Customers  Open  Promo\n",
       "0      1 2015-07-31   5263        555     1      1\n",
       "1      2 2015-07-31   6064        625     1      1\n",
       "2      3 2015-07-31   8314        821     1      1\n",
       "3      4 2015-07-31  13995       1498     1      1\n",
       "4      5 2015-07-31   4822        559     1      1"
      ]
     },
     "metadata": {},
     "output_type": "display_data"
    }
   ],
   "source": [
    "# Drop DayOfWeek, StateHoliday, SchoolHoliday\n",
    "train.drop(columns=['DayOfWeek', 'StateHoliday', 'SchoolHoliday'], inplace=True)\n",
    "display(train.head())"
   ]
  },
  {
   "cell_type": "code",
   "execution_count": 4,
   "id": "980a2c87",
   "metadata": {},
   "outputs": [
    {
     "data": {
      "application/vnd.microsoft.datawrangler.viewer.v0+json": {
       "columns": [
        {
         "name": "index",
         "rawType": "int64",
         "type": "integer"
        },
        {
         "name": "Store",
         "rawType": "int64",
         "type": "integer"
        },
        {
         "name": "Date",
         "rawType": "datetime64[ns]",
         "type": "datetime"
        },
        {
         "name": "Sales",
         "rawType": "int64",
         "type": "integer"
        },
        {
         "name": "Customers",
         "rawType": "int64",
         "type": "integer"
        },
        {
         "name": "Promo",
         "rawType": "int64",
         "type": "integer"
        }
       ],
       "ref": "baa83ffa-9c38-4fbc-a64c-90f194fff16d",
       "rows": [
        [
         "0",
         "1",
         "2015-07-31 00:00:00",
         "5263",
         "555",
         "1"
        ],
        [
         "1",
         "2",
         "2015-07-31 00:00:00",
         "6064",
         "625",
         "1"
        ],
        [
         "2",
         "3",
         "2015-07-31 00:00:00",
         "8314",
         "821",
         "1"
        ],
        [
         "3",
         "4",
         "2015-07-31 00:00:00",
         "13995",
         "1498",
         "1"
        ],
        [
         "4",
         "5",
         "2015-07-31 00:00:00",
         "4822",
         "559",
         "1"
        ]
       ],
       "shape": {
        "columns": 5,
        "rows": 5
       }
      },
      "text/html": [
       "<div>\n",
       "<style scoped>\n",
       "    .dataframe tbody tr th:only-of-type {\n",
       "        vertical-align: middle;\n",
       "    }\n",
       "\n",
       "    .dataframe tbody tr th {\n",
       "        vertical-align: top;\n",
       "    }\n",
       "\n",
       "    .dataframe thead th {\n",
       "        text-align: right;\n",
       "    }\n",
       "</style>\n",
       "<table border=\"1\" class=\"dataframe\">\n",
       "  <thead>\n",
       "    <tr style=\"text-align: right;\">\n",
       "      <th></th>\n",
       "      <th>Store</th>\n",
       "      <th>Date</th>\n",
       "      <th>Sales</th>\n",
       "      <th>Customers</th>\n",
       "      <th>Promo</th>\n",
       "    </tr>\n",
       "  </thead>\n",
       "  <tbody>\n",
       "    <tr>\n",
       "      <th>0</th>\n",
       "      <td>1</td>\n",
       "      <td>2015-07-31</td>\n",
       "      <td>5263</td>\n",
       "      <td>555</td>\n",
       "      <td>1</td>\n",
       "    </tr>\n",
       "    <tr>\n",
       "      <th>1</th>\n",
       "      <td>2</td>\n",
       "      <td>2015-07-31</td>\n",
       "      <td>6064</td>\n",
       "      <td>625</td>\n",
       "      <td>1</td>\n",
       "    </tr>\n",
       "    <tr>\n",
       "      <th>2</th>\n",
       "      <td>3</td>\n",
       "      <td>2015-07-31</td>\n",
       "      <td>8314</td>\n",
       "      <td>821</td>\n",
       "      <td>1</td>\n",
       "    </tr>\n",
       "    <tr>\n",
       "      <th>3</th>\n",
       "      <td>4</td>\n",
       "      <td>2015-07-31</td>\n",
       "      <td>13995</td>\n",
       "      <td>1498</td>\n",
       "      <td>1</td>\n",
       "    </tr>\n",
       "    <tr>\n",
       "      <th>4</th>\n",
       "      <td>5</td>\n",
       "      <td>2015-07-31</td>\n",
       "      <td>4822</td>\n",
       "      <td>559</td>\n",
       "      <td>1</td>\n",
       "    </tr>\n",
       "  </tbody>\n",
       "</table>\n",
       "</div>"
      ],
      "text/plain": [
       "   Store       Date  Sales  Customers  Promo\n",
       "0      1 2015-07-31   5263        555      1\n",
       "1      2 2015-07-31   6064        625      1\n",
       "2      3 2015-07-31   8314        821      1\n",
       "3      4 2015-07-31  13995       1498      1\n",
       "4      5 2015-07-31   4822        559      1"
      ]
     },
     "metadata": {},
     "output_type": "display_data"
    }
   ],
   "source": [
    "train = train[train['Open'] != 0]\n",
    "train['Open'] = train['Open'].astype(bool)\n",
    "\n",
    "train.drop(columns=['Open'], inplace=True)\n",
    "display(train.head())"
   ]
  },
  {
   "cell_type": "code",
   "execution_count": 5,
   "id": "60c247ea",
   "metadata": {},
   "outputs": [],
   "source": [
    "dataset = train.copy()\n",
    "\n",
    "# Drop Open and Promo and save into a new csv file\n",
    "dataset.drop(columns=['Promo'], inplace=True)\n",
    "dataset.to_csv('new_data/dataset.csv', index=False)"
   ]
  },
  {
   "cell_type": "code",
   "execution_count": 6,
   "id": "7d0a7ec5",
   "metadata": {},
   "outputs": [
    {
     "data": {
      "application/vnd.microsoft.datawrangler.viewer.v0+json": {
       "columns": [
        {
         "name": "index",
         "rawType": "int64",
         "type": "integer"
        },
        {
         "name": "Store",
         "rawType": "int64",
         "type": "integer"
        },
        {
         "name": "StoreType",
         "rawType": "object",
         "type": "string"
        },
        {
         "name": "Assortment",
         "rawType": "object",
         "type": "string"
        },
        {
         "name": "CompetitionDistance",
         "rawType": "float64",
         "type": "float"
        },
        {
         "name": "CompetitionOpenSinceMonth",
         "rawType": "float64",
         "type": "float"
        },
        {
         "name": "CompetitionOpenSinceYear",
         "rawType": "float64",
         "type": "float"
        },
        {
         "name": "Promo2",
         "rawType": "int64",
         "type": "integer"
        },
        {
         "name": "Promo2SinceWeek",
         "rawType": "float64",
         "type": "float"
        },
        {
         "name": "Promo2SinceYear",
         "rawType": "float64",
         "type": "float"
        },
        {
         "name": "PromoInterval",
         "rawType": "object",
         "type": "unknown"
        }
       ],
       "ref": "efd45a81-bd94-424b-8705-5e1eedb46272",
       "rows": [
        [
         "0",
         "1",
         "c",
         "a",
         "1270.0",
         "9.0",
         "2008.0",
         "0",
         null,
         null,
         null
        ],
        [
         "1",
         "2",
         "a",
         "a",
         "570.0",
         "11.0",
         "2007.0",
         "1",
         "13.0",
         "2010.0",
         "Jan,Apr,Jul,Oct"
        ],
        [
         "2",
         "3",
         "a",
         "a",
         "14130.0",
         "12.0",
         "2006.0",
         "1",
         "14.0",
         "2011.0",
         "Jan,Apr,Jul,Oct"
        ],
        [
         "3",
         "4",
         "c",
         "c",
         "620.0",
         "9.0",
         "2009.0",
         "0",
         null,
         null,
         null
        ],
        [
         "4",
         "5",
         "a",
         "a",
         "29910.0",
         "4.0",
         "2015.0",
         "0",
         null,
         null,
         null
        ]
       ],
       "shape": {
        "columns": 10,
        "rows": 5
       }
      },
      "text/html": [
       "<div>\n",
       "<style scoped>\n",
       "    .dataframe tbody tr th:only-of-type {\n",
       "        vertical-align: middle;\n",
       "    }\n",
       "\n",
       "    .dataframe tbody tr th {\n",
       "        vertical-align: top;\n",
       "    }\n",
       "\n",
       "    .dataframe thead th {\n",
       "        text-align: right;\n",
       "    }\n",
       "</style>\n",
       "<table border=\"1\" class=\"dataframe\">\n",
       "  <thead>\n",
       "    <tr style=\"text-align: right;\">\n",
       "      <th></th>\n",
       "      <th>Store</th>\n",
       "      <th>StoreType</th>\n",
       "      <th>Assortment</th>\n",
       "      <th>CompetitionDistance</th>\n",
       "      <th>CompetitionOpenSinceMonth</th>\n",
       "      <th>CompetitionOpenSinceYear</th>\n",
       "      <th>Promo2</th>\n",
       "      <th>Promo2SinceWeek</th>\n",
       "      <th>Promo2SinceYear</th>\n",
       "      <th>PromoInterval</th>\n",
       "    </tr>\n",
       "  </thead>\n",
       "  <tbody>\n",
       "    <tr>\n",
       "      <th>0</th>\n",
       "      <td>1</td>\n",
       "      <td>c</td>\n",
       "      <td>a</td>\n",
       "      <td>1270.0</td>\n",
       "      <td>9.0</td>\n",
       "      <td>2008.0</td>\n",
       "      <td>0</td>\n",
       "      <td>NaN</td>\n",
       "      <td>NaN</td>\n",
       "      <td>NaN</td>\n",
       "    </tr>\n",
       "    <tr>\n",
       "      <th>1</th>\n",
       "      <td>2</td>\n",
       "      <td>a</td>\n",
       "      <td>a</td>\n",
       "      <td>570.0</td>\n",
       "      <td>11.0</td>\n",
       "      <td>2007.0</td>\n",
       "      <td>1</td>\n",
       "      <td>13.0</td>\n",
       "      <td>2010.0</td>\n",
       "      <td>Jan,Apr,Jul,Oct</td>\n",
       "    </tr>\n",
       "    <tr>\n",
       "      <th>2</th>\n",
       "      <td>3</td>\n",
       "      <td>a</td>\n",
       "      <td>a</td>\n",
       "      <td>14130.0</td>\n",
       "      <td>12.0</td>\n",
       "      <td>2006.0</td>\n",
       "      <td>1</td>\n",
       "      <td>14.0</td>\n",
       "      <td>2011.0</td>\n",
       "      <td>Jan,Apr,Jul,Oct</td>\n",
       "    </tr>\n",
       "    <tr>\n",
       "      <th>3</th>\n",
       "      <td>4</td>\n",
       "      <td>c</td>\n",
       "      <td>c</td>\n",
       "      <td>620.0</td>\n",
       "      <td>9.0</td>\n",
       "      <td>2009.0</td>\n",
       "      <td>0</td>\n",
       "      <td>NaN</td>\n",
       "      <td>NaN</td>\n",
       "      <td>NaN</td>\n",
       "    </tr>\n",
       "    <tr>\n",
       "      <th>4</th>\n",
       "      <td>5</td>\n",
       "      <td>a</td>\n",
       "      <td>a</td>\n",
       "      <td>29910.0</td>\n",
       "      <td>4.0</td>\n",
       "      <td>2015.0</td>\n",
       "      <td>0</td>\n",
       "      <td>NaN</td>\n",
       "      <td>NaN</td>\n",
       "      <td>NaN</td>\n",
       "    </tr>\n",
       "  </tbody>\n",
       "</table>\n",
       "</div>"
      ],
      "text/plain": [
       "   Store StoreType Assortment  CompetitionDistance  CompetitionOpenSinceMonth  \\\n",
       "0      1         c          a               1270.0                        9.0   \n",
       "1      2         a          a                570.0                       11.0   \n",
       "2      3         a          a              14130.0                       12.0   \n",
       "3      4         c          c                620.0                        9.0   \n",
       "4      5         a          a              29910.0                        4.0   \n",
       "\n",
       "   CompetitionOpenSinceYear  Promo2  Promo2SinceWeek  Promo2SinceYear  \\\n",
       "0                    2008.0       0              NaN              NaN   \n",
       "1                    2007.0       1             13.0           2010.0   \n",
       "2                    2006.0       1             14.0           2011.0   \n",
       "3                    2009.0       0              NaN              NaN   \n",
       "4                    2015.0       0              NaN              NaN   \n",
       "\n",
       "     PromoInterval  \n",
       "0              NaN  \n",
       "1  Jan,Apr,Jul,Oct  \n",
       "2  Jan,Apr,Jul,Oct  \n",
       "3              NaN  \n",
       "4              NaN  "
      ]
     },
     "metadata": {},
     "output_type": "display_data"
    }
   ],
   "source": [
    "store = pd.read_csv('store.csv', low_memory=False)\n",
    "display(store.head())"
   ]
  },
  {
   "cell_type": "code",
   "execution_count": 7,
   "id": "a5fce77c",
   "metadata": {},
   "outputs": [
    {
     "data": {
      "application/vnd.microsoft.datawrangler.viewer.v0+json": {
       "columns": [
        {
         "name": "index",
         "rawType": "int64",
         "type": "integer"
        },
        {
         "name": "Store",
         "rawType": "int64",
         "type": "integer"
        },
        {
         "name": "Assortment",
         "rawType": "object",
         "type": "string"
        },
        {
         "name": "CompetitionDistance",
         "rawType": "float64",
         "type": "float"
        },
        {
         "name": "Promo2",
         "rawType": "int64",
         "type": "integer"
        },
        {
         "name": "Promo2SinceWeek",
         "rawType": "float64",
         "type": "float"
        },
        {
         "name": "Promo2SinceYear",
         "rawType": "float64",
         "type": "float"
        },
        {
         "name": "PromoInterval",
         "rawType": "object",
         "type": "unknown"
        }
       ],
       "ref": "4a7b84ec-f178-4f6e-861a-39e87aa96cf5",
       "rows": [
        [
         "0",
         "1",
         "a",
         "1270.0",
         "0",
         null,
         null,
         null
        ],
        [
         "1",
         "2",
         "a",
         "570.0",
         "1",
         "13.0",
         "2010.0",
         "Jan,Apr,Jul,Oct"
        ],
        [
         "2",
         "3",
         "a",
         "14130.0",
         "1",
         "14.0",
         "2011.0",
         "Jan,Apr,Jul,Oct"
        ],
        [
         "3",
         "4",
         "c",
         "620.0",
         "0",
         null,
         null,
         null
        ],
        [
         "4",
         "5",
         "a",
         "29910.0",
         "0",
         null,
         null,
         null
        ]
       ],
       "shape": {
        "columns": 7,
        "rows": 5
       }
      },
      "text/html": [
       "<div>\n",
       "<style scoped>\n",
       "    .dataframe tbody tr th:only-of-type {\n",
       "        vertical-align: middle;\n",
       "    }\n",
       "\n",
       "    .dataframe tbody tr th {\n",
       "        vertical-align: top;\n",
       "    }\n",
       "\n",
       "    .dataframe thead th {\n",
       "        text-align: right;\n",
       "    }\n",
       "</style>\n",
       "<table border=\"1\" class=\"dataframe\">\n",
       "  <thead>\n",
       "    <tr style=\"text-align: right;\">\n",
       "      <th></th>\n",
       "      <th>Store</th>\n",
       "      <th>Assortment</th>\n",
       "      <th>CompetitionDistance</th>\n",
       "      <th>Promo2</th>\n",
       "      <th>Promo2SinceWeek</th>\n",
       "      <th>Promo2SinceYear</th>\n",
       "      <th>PromoInterval</th>\n",
       "    </tr>\n",
       "  </thead>\n",
       "  <tbody>\n",
       "    <tr>\n",
       "      <th>0</th>\n",
       "      <td>1</td>\n",
       "      <td>a</td>\n",
       "      <td>1270.0</td>\n",
       "      <td>0</td>\n",
       "      <td>NaN</td>\n",
       "      <td>NaN</td>\n",
       "      <td>NaN</td>\n",
       "    </tr>\n",
       "    <tr>\n",
       "      <th>1</th>\n",
       "      <td>2</td>\n",
       "      <td>a</td>\n",
       "      <td>570.0</td>\n",
       "      <td>1</td>\n",
       "      <td>13.0</td>\n",
       "      <td>2010.0</td>\n",
       "      <td>Jan,Apr,Jul,Oct</td>\n",
       "    </tr>\n",
       "    <tr>\n",
       "      <th>2</th>\n",
       "      <td>3</td>\n",
       "      <td>a</td>\n",
       "      <td>14130.0</td>\n",
       "      <td>1</td>\n",
       "      <td>14.0</td>\n",
       "      <td>2011.0</td>\n",
       "      <td>Jan,Apr,Jul,Oct</td>\n",
       "    </tr>\n",
       "    <tr>\n",
       "      <th>3</th>\n",
       "      <td>4</td>\n",
       "      <td>c</td>\n",
       "      <td>620.0</td>\n",
       "      <td>0</td>\n",
       "      <td>NaN</td>\n",
       "      <td>NaN</td>\n",
       "      <td>NaN</td>\n",
       "    </tr>\n",
       "    <tr>\n",
       "      <th>4</th>\n",
       "      <td>5</td>\n",
       "      <td>a</td>\n",
       "      <td>29910.0</td>\n",
       "      <td>0</td>\n",
       "      <td>NaN</td>\n",
       "      <td>NaN</td>\n",
       "      <td>NaN</td>\n",
       "    </tr>\n",
       "  </tbody>\n",
       "</table>\n",
       "</div>"
      ],
      "text/plain": [
       "   Store Assortment  CompetitionDistance  Promo2  Promo2SinceWeek  \\\n",
       "0      1          a               1270.0       0              NaN   \n",
       "1      2          a                570.0       1             13.0   \n",
       "2      3          a              14130.0       1             14.0   \n",
       "3      4          c                620.0       0              NaN   \n",
       "4      5          a              29910.0       0              NaN   \n",
       "\n",
       "   Promo2SinceYear    PromoInterval  \n",
       "0              NaN              NaN  \n",
       "1           2010.0  Jan,Apr,Jul,Oct  \n",
       "2           2011.0  Jan,Apr,Jul,Oct  \n",
       "3              NaN              NaN  \n",
       "4              NaN              NaN  "
      ]
     },
     "metadata": {},
     "output_type": "display_data"
    }
   ],
   "source": [
    "# Drop Storetype, CompetitionOpenSinceMonth, CompetitionOpenSinceYear columns\n",
    "store.drop(columns=['StoreType', 'CompetitionOpenSinceMonth', 'CompetitionOpenSinceYear'], inplace=True)\n",
    "display(store.head())"
   ]
  },
  {
   "cell_type": "code",
   "execution_count": 8,
   "id": "a1bdaa91",
   "metadata": {},
   "outputs": [
    {
     "data": {
      "application/vnd.microsoft.datawrangler.viewer.v0+json": {
       "columns": [
        {
         "name": "index",
         "rawType": "int64",
         "type": "integer"
        },
        {
         "name": "Store",
         "rawType": "int64",
         "type": "integer"
        },
        {
         "name": "Assortment",
         "rawType": "object",
         "type": "string"
        },
        {
         "name": "CompetitionDistance",
         "rawType": "float64",
         "type": "float"
        },
        {
         "name": "Promo2",
         "rawType": "int64",
         "type": "integer"
        },
        {
         "name": "Promo2SinceWeek",
         "rawType": "float64",
         "type": "float"
        },
        {
         "name": "Promo2SinceYear",
         "rawType": "float64",
         "type": "float"
        },
        {
         "name": "PromoInterval",
         "rawType": "object",
         "type": "unknown"
        }
       ],
       "ref": "08ed77d6-8672-4be0-9c0e-99643f51a889",
       "rows": [
        [
         "0",
         "1",
         "Small",
         "1270.0",
         "0",
         null,
         null,
         null
        ],
        [
         "1",
         "2",
         "Small",
         "570.0",
         "1",
         "13.0",
         "2010.0",
         "Jan,Apr,Jul,Oct"
        ],
        [
         "2",
         "3",
         "Small",
         "14130.0",
         "1",
         "14.0",
         "2011.0",
         "Jan,Apr,Jul,Oct"
        ],
        [
         "3",
         "4",
         "Large",
         "620.0",
         "0",
         null,
         null,
         null
        ],
        [
         "4",
         "5",
         "Small",
         "29910.0",
         "0",
         null,
         null,
         null
        ]
       ],
       "shape": {
        "columns": 7,
        "rows": 5
       }
      },
      "text/html": [
       "<div>\n",
       "<style scoped>\n",
       "    .dataframe tbody tr th:only-of-type {\n",
       "        vertical-align: middle;\n",
       "    }\n",
       "\n",
       "    .dataframe tbody tr th {\n",
       "        vertical-align: top;\n",
       "    }\n",
       "\n",
       "    .dataframe thead th {\n",
       "        text-align: right;\n",
       "    }\n",
       "</style>\n",
       "<table border=\"1\" class=\"dataframe\">\n",
       "  <thead>\n",
       "    <tr style=\"text-align: right;\">\n",
       "      <th></th>\n",
       "      <th>Store</th>\n",
       "      <th>Assortment</th>\n",
       "      <th>CompetitionDistance</th>\n",
       "      <th>Promo2</th>\n",
       "      <th>Promo2SinceWeek</th>\n",
       "      <th>Promo2SinceYear</th>\n",
       "      <th>PromoInterval</th>\n",
       "    </tr>\n",
       "  </thead>\n",
       "  <tbody>\n",
       "    <tr>\n",
       "      <th>0</th>\n",
       "      <td>1</td>\n",
       "      <td>Small</td>\n",
       "      <td>1270.0</td>\n",
       "      <td>0</td>\n",
       "      <td>NaN</td>\n",
       "      <td>NaN</td>\n",
       "      <td>NaN</td>\n",
       "    </tr>\n",
       "    <tr>\n",
       "      <th>1</th>\n",
       "      <td>2</td>\n",
       "      <td>Small</td>\n",
       "      <td>570.0</td>\n",
       "      <td>1</td>\n",
       "      <td>13.0</td>\n",
       "      <td>2010.0</td>\n",
       "      <td>Jan,Apr,Jul,Oct</td>\n",
       "    </tr>\n",
       "    <tr>\n",
       "      <th>2</th>\n",
       "      <td>3</td>\n",
       "      <td>Small</td>\n",
       "      <td>14130.0</td>\n",
       "      <td>1</td>\n",
       "      <td>14.0</td>\n",
       "      <td>2011.0</td>\n",
       "      <td>Jan,Apr,Jul,Oct</td>\n",
       "    </tr>\n",
       "    <tr>\n",
       "      <th>3</th>\n",
       "      <td>4</td>\n",
       "      <td>Large</td>\n",
       "      <td>620.0</td>\n",
       "      <td>0</td>\n",
       "      <td>NaN</td>\n",
       "      <td>NaN</td>\n",
       "      <td>NaN</td>\n",
       "    </tr>\n",
       "    <tr>\n",
       "      <th>4</th>\n",
       "      <td>5</td>\n",
       "      <td>Small</td>\n",
       "      <td>29910.0</td>\n",
       "      <td>0</td>\n",
       "      <td>NaN</td>\n",
       "      <td>NaN</td>\n",
       "      <td>NaN</td>\n",
       "    </tr>\n",
       "  </tbody>\n",
       "</table>\n",
       "</div>"
      ],
      "text/plain": [
       "   Store Assortment  CompetitionDistance  Promo2  Promo2SinceWeek  \\\n",
       "0      1      Small               1270.0       0              NaN   \n",
       "1      2      Small                570.0       1             13.0   \n",
       "2      3      Small              14130.0       1             14.0   \n",
       "3      4      Large                620.0       0              NaN   \n",
       "4      5      Small              29910.0       0              NaN   \n",
       "\n",
       "   Promo2SinceYear    PromoInterval  \n",
       "0              NaN              NaN  \n",
       "1           2010.0  Jan,Apr,Jul,Oct  \n",
       "2           2011.0  Jan,Apr,Jul,Oct  \n",
       "3              NaN              NaN  \n",
       "4              NaN              NaN  "
      ]
     },
     "metadata": {},
     "output_type": "display_data"
    }
   ],
   "source": [
    "# Change 'a', 'b', 'c' of Assortment to \"Small\", \"Medium\", \"Large\"\n",
    "store['Assortment'] = store['Assortment'].replace({'a': 'Small', 'b': 'Medium', 'c': 'Large'})\n",
    "display(store.head())"
   ]
  },
  {
   "cell_type": "code",
   "execution_count": 9,
   "id": "d55e8c6a",
   "metadata": {},
   "outputs": [
    {
     "data": {
      "application/vnd.microsoft.datawrangler.viewer.v0+json": {
       "columns": [
        {
         "name": "index",
         "rawType": "int64",
         "type": "integer"
        },
        {
         "name": "Store",
         "rawType": "int64",
         "type": "integer"
        },
        {
         "name": "Assortment",
         "rawType": "object",
         "type": "string"
        },
        {
         "name": "CompetitionDistance",
         "rawType": "float64",
         "type": "float"
        }
       ],
       "ref": "342f0093-4fde-452c-9369-8de151436713",
       "rows": [
        [
         "0",
         "1",
         "Small",
         "1270.0"
        ],
        [
         "1",
         "2",
         "Small",
         "570.0"
        ],
        [
         "2",
         "3",
         "Small",
         "14130.0"
        ],
        [
         "3",
         "4",
         "Large",
         "620.0"
        ],
        [
         "4",
         "5",
         "Small",
         "29910.0"
        ]
       ],
       "shape": {
        "columns": 3,
        "rows": 5
       }
      },
      "text/html": [
       "<div>\n",
       "<style scoped>\n",
       "    .dataframe tbody tr th:only-of-type {\n",
       "        vertical-align: middle;\n",
       "    }\n",
       "\n",
       "    .dataframe tbody tr th {\n",
       "        vertical-align: top;\n",
       "    }\n",
       "\n",
       "    .dataframe thead th {\n",
       "        text-align: right;\n",
       "    }\n",
       "</style>\n",
       "<table border=\"1\" class=\"dataframe\">\n",
       "  <thead>\n",
       "    <tr style=\"text-align: right;\">\n",
       "      <th></th>\n",
       "      <th>Store</th>\n",
       "      <th>Assortment</th>\n",
       "      <th>CompetitionDistance</th>\n",
       "    </tr>\n",
       "  </thead>\n",
       "  <tbody>\n",
       "    <tr>\n",
       "      <th>0</th>\n",
       "      <td>1</td>\n",
       "      <td>Small</td>\n",
       "      <td>1270.0</td>\n",
       "    </tr>\n",
       "    <tr>\n",
       "      <th>1</th>\n",
       "      <td>2</td>\n",
       "      <td>Small</td>\n",
       "      <td>570.0</td>\n",
       "    </tr>\n",
       "    <tr>\n",
       "      <th>2</th>\n",
       "      <td>3</td>\n",
       "      <td>Small</td>\n",
       "      <td>14130.0</td>\n",
       "    </tr>\n",
       "    <tr>\n",
       "      <th>3</th>\n",
       "      <td>4</td>\n",
       "      <td>Large</td>\n",
       "      <td>620.0</td>\n",
       "    </tr>\n",
       "    <tr>\n",
       "      <th>4</th>\n",
       "      <td>5</td>\n",
       "      <td>Small</td>\n",
       "      <td>29910.0</td>\n",
       "    </tr>\n",
       "  </tbody>\n",
       "</table>\n",
       "</div>"
      ],
      "text/plain": [
       "   Store Assortment  CompetitionDistance\n",
       "0      1      Small               1270.0\n",
       "1      2      Small                570.0\n",
       "2      3      Small              14130.0\n",
       "3      4      Large                620.0\n",
       "4      5      Small              29910.0"
      ]
     },
     "metadata": {},
     "output_type": "display_data"
    }
   ],
   "source": [
    "promo = store.copy()\n",
    "\n",
    "store.drop(columns=['Promo2', 'PromoInterval', 'Promo2SinceYear', 'Promo2SinceWeek'], inplace=True)\n",
    "display(store.head())\n",
    "store.to_csv('new_data/stores.csv', index=False)"
   ]
  },
  {
   "cell_type": "code",
   "execution_count": 10,
   "id": "91a73b3d",
   "metadata": {},
   "outputs": [
    {
     "data": {
      "application/vnd.microsoft.datawrangler.viewer.v0+json": {
       "columns": [
        {
         "name": "index",
         "rawType": "int64",
         "type": "integer"
        },
        {
         "name": "Store",
         "rawType": "int64",
         "type": "integer"
        },
        {
         "name": "Assortment",
         "rawType": "object",
         "type": "string"
        },
        {
         "name": "CompetitionDistance",
         "rawType": "float64",
         "type": "float"
        },
        {
         "name": "Promo2",
         "rawType": "int64",
         "type": "integer"
        },
        {
         "name": "Promo2SinceWeek",
         "rawType": "float64",
         "type": "float"
        },
        {
         "name": "Promo2SinceYear",
         "rawType": "float64",
         "type": "float"
        },
        {
         "name": "PromoInterval",
         "rawType": "object",
         "type": "unknown"
        }
       ],
       "ref": "d78bbd34-c337-451a-ab62-f3dfa2a10238",
       "rows": [
        [
         "0",
         "1",
         "Small",
         "1270.0",
         "0",
         null,
         null,
         null
        ],
        [
         "1",
         "2",
         "Small",
         "570.0",
         "1",
         "13.0",
         "2010.0",
         "Jan,Apr,Jul,Oct"
        ],
        [
         "2",
         "3",
         "Small",
         "14130.0",
         "1",
         "14.0",
         "2011.0",
         "Jan,Apr,Jul,Oct"
        ],
        [
         "3",
         "4",
         "Large",
         "620.0",
         "0",
         null,
         null,
         null
        ],
        [
         "4",
         "5",
         "Small",
         "29910.0",
         "0",
         null,
         null,
         null
        ]
       ],
       "shape": {
        "columns": 7,
        "rows": 5
       }
      },
      "text/html": [
       "<div>\n",
       "<style scoped>\n",
       "    .dataframe tbody tr th:only-of-type {\n",
       "        vertical-align: middle;\n",
       "    }\n",
       "\n",
       "    .dataframe tbody tr th {\n",
       "        vertical-align: top;\n",
       "    }\n",
       "\n",
       "    .dataframe thead th {\n",
       "        text-align: right;\n",
       "    }\n",
       "</style>\n",
       "<table border=\"1\" class=\"dataframe\">\n",
       "  <thead>\n",
       "    <tr style=\"text-align: right;\">\n",
       "      <th></th>\n",
       "      <th>Store</th>\n",
       "      <th>Assortment</th>\n",
       "      <th>CompetitionDistance</th>\n",
       "      <th>Promo2</th>\n",
       "      <th>Promo2SinceWeek</th>\n",
       "      <th>Promo2SinceYear</th>\n",
       "      <th>PromoInterval</th>\n",
       "    </tr>\n",
       "  </thead>\n",
       "  <tbody>\n",
       "    <tr>\n",
       "      <th>0</th>\n",
       "      <td>1</td>\n",
       "      <td>Small</td>\n",
       "      <td>1270.0</td>\n",
       "      <td>0</td>\n",
       "      <td>NaN</td>\n",
       "      <td>NaN</td>\n",
       "      <td>NaN</td>\n",
       "    </tr>\n",
       "    <tr>\n",
       "      <th>1</th>\n",
       "      <td>2</td>\n",
       "      <td>Small</td>\n",
       "      <td>570.0</td>\n",
       "      <td>1</td>\n",
       "      <td>13.0</td>\n",
       "      <td>2010.0</td>\n",
       "      <td>Jan,Apr,Jul,Oct</td>\n",
       "    </tr>\n",
       "    <tr>\n",
       "      <th>2</th>\n",
       "      <td>3</td>\n",
       "      <td>Small</td>\n",
       "      <td>14130.0</td>\n",
       "      <td>1</td>\n",
       "      <td>14.0</td>\n",
       "      <td>2011.0</td>\n",
       "      <td>Jan,Apr,Jul,Oct</td>\n",
       "    </tr>\n",
       "    <tr>\n",
       "      <th>3</th>\n",
       "      <td>4</td>\n",
       "      <td>Large</td>\n",
       "      <td>620.0</td>\n",
       "      <td>0</td>\n",
       "      <td>NaN</td>\n",
       "      <td>NaN</td>\n",
       "      <td>NaN</td>\n",
       "    </tr>\n",
       "    <tr>\n",
       "      <th>4</th>\n",
       "      <td>5</td>\n",
       "      <td>Small</td>\n",
       "      <td>29910.0</td>\n",
       "      <td>0</td>\n",
       "      <td>NaN</td>\n",
       "      <td>NaN</td>\n",
       "      <td>NaN</td>\n",
       "    </tr>\n",
       "  </tbody>\n",
       "</table>\n",
       "</div>"
      ],
      "text/plain": [
       "   Store Assortment  CompetitionDistance  Promo2  Promo2SinceWeek  \\\n",
       "0      1      Small               1270.0       0              NaN   \n",
       "1      2      Small                570.0       1             13.0   \n",
       "2      3      Small              14130.0       1             14.0   \n",
       "3      4      Large                620.0       0              NaN   \n",
       "4      5      Small              29910.0       0              NaN   \n",
       "\n",
       "   Promo2SinceYear    PromoInterval  \n",
       "0              NaN              NaN  \n",
       "1           2010.0  Jan,Apr,Jul,Oct  \n",
       "2           2011.0  Jan,Apr,Jul,Oct  \n",
       "3              NaN              NaN  \n",
       "4              NaN              NaN  "
      ]
     },
     "metadata": {},
     "output_type": "display_data"
    },
    {
     "data": {
      "application/vnd.microsoft.datawrangler.viewer.v0+json": {
       "columns": [
        {
         "name": "index",
         "rawType": "int64",
         "type": "integer"
        },
        {
         "name": "Store",
         "rawType": "int64",
         "type": "integer"
        },
        {
         "name": "Date",
         "rawType": "datetime64[ns]",
         "type": "datetime"
        },
        {
         "name": "Sales",
         "rawType": "int64",
         "type": "integer"
        },
        {
         "name": "Customers",
         "rawType": "int64",
         "type": "integer"
        },
        {
         "name": "Promo",
         "rawType": "int64",
         "type": "integer"
        }
       ],
       "ref": "f4bae6b8-6243-42dd-81ba-688e7fbf5217",
       "rows": [
        [
         "0",
         "1",
         "2015-07-31 00:00:00",
         "5263",
         "555",
         "1"
        ],
        [
         "1",
         "2",
         "2015-07-31 00:00:00",
         "6064",
         "625",
         "1"
        ],
        [
         "2",
         "3",
         "2015-07-31 00:00:00",
         "8314",
         "821",
         "1"
        ],
        [
         "3",
         "4",
         "2015-07-31 00:00:00",
         "13995",
         "1498",
         "1"
        ],
        [
         "4",
         "5",
         "2015-07-31 00:00:00",
         "4822",
         "559",
         "1"
        ]
       ],
       "shape": {
        "columns": 5,
        "rows": 5
       }
      },
      "text/html": [
       "<div>\n",
       "<style scoped>\n",
       "    .dataframe tbody tr th:only-of-type {\n",
       "        vertical-align: middle;\n",
       "    }\n",
       "\n",
       "    .dataframe tbody tr th {\n",
       "        vertical-align: top;\n",
       "    }\n",
       "\n",
       "    .dataframe thead th {\n",
       "        text-align: right;\n",
       "    }\n",
       "</style>\n",
       "<table border=\"1\" class=\"dataframe\">\n",
       "  <thead>\n",
       "    <tr style=\"text-align: right;\">\n",
       "      <th></th>\n",
       "      <th>Store</th>\n",
       "      <th>Date</th>\n",
       "      <th>Sales</th>\n",
       "      <th>Customers</th>\n",
       "      <th>Promo</th>\n",
       "    </tr>\n",
       "  </thead>\n",
       "  <tbody>\n",
       "    <tr>\n",
       "      <th>0</th>\n",
       "      <td>1</td>\n",
       "      <td>2015-07-31</td>\n",
       "      <td>5263</td>\n",
       "      <td>555</td>\n",
       "      <td>1</td>\n",
       "    </tr>\n",
       "    <tr>\n",
       "      <th>1</th>\n",
       "      <td>2</td>\n",
       "      <td>2015-07-31</td>\n",
       "      <td>6064</td>\n",
       "      <td>625</td>\n",
       "      <td>1</td>\n",
       "    </tr>\n",
       "    <tr>\n",
       "      <th>2</th>\n",
       "      <td>3</td>\n",
       "      <td>2015-07-31</td>\n",
       "      <td>8314</td>\n",
       "      <td>821</td>\n",
       "      <td>1</td>\n",
       "    </tr>\n",
       "    <tr>\n",
       "      <th>3</th>\n",
       "      <td>4</td>\n",
       "      <td>2015-07-31</td>\n",
       "      <td>13995</td>\n",
       "      <td>1498</td>\n",
       "      <td>1</td>\n",
       "    </tr>\n",
       "    <tr>\n",
       "      <th>4</th>\n",
       "      <td>5</td>\n",
       "      <td>2015-07-31</td>\n",
       "      <td>4822</td>\n",
       "      <td>559</td>\n",
       "      <td>1</td>\n",
       "    </tr>\n",
       "  </tbody>\n",
       "</table>\n",
       "</div>"
      ],
      "text/plain": [
       "   Store       Date  Sales  Customers  Promo\n",
       "0      1 2015-07-31   5263        555      1\n",
       "1      2 2015-07-31   6064        625      1\n",
       "2      3 2015-07-31   8314        821      1\n",
       "3      4 2015-07-31  13995       1498      1\n",
       "4      5 2015-07-31   4822        559      1"
      ]
     },
     "metadata": {},
     "output_type": "display_data"
    }
   ],
   "source": [
    "display(promo.head())\n",
    "display(train.head())"
   ]
  },
  {
   "cell_type": "code",
   "execution_count": 11,
   "id": "2449c9f7",
   "metadata": {},
   "outputs": [
    {
     "name": "stdout",
     "output_type": "stream",
     "text": [
      "(1115, 7)\n"
     ]
    },
    {
     "data": {
      "application/vnd.microsoft.datawrangler.viewer.v0+json": {
       "columns": [
        {
         "name": "index",
         "rawType": "int64",
         "type": "integer"
        },
        {
         "name": "Store",
         "rawType": "int64",
         "type": "integer"
        },
        {
         "name": "Assortment",
         "rawType": "object",
         "type": "string"
        },
        {
         "name": "CompetitionDistance",
         "rawType": "float64",
         "type": "float"
        },
        {
         "name": "Promo2",
         "rawType": "int64",
         "type": "integer"
        },
        {
         "name": "Promo2SinceWeek",
         "rawType": "float64",
         "type": "float"
        },
        {
         "name": "Promo2SinceYear",
         "rawType": "float64",
         "type": "float"
        },
        {
         "name": "PromoInterval",
         "rawType": "object",
         "type": "string"
        }
       ],
       "ref": "1e34b702-cee8-4bd3-9aaf-6625ba138884",
       "rows": [
        [
         "1",
         "2",
         "Small",
         "570.0",
         "1",
         "13.0",
         "2010.0",
         "Jan,Apr,Jul,Oct"
        ],
        [
         "2",
         "3",
         "Small",
         "14130.0",
         "1",
         "14.0",
         "2011.0",
         "Jan,Apr,Jul,Oct"
        ],
        [
         "10",
         "11",
         "Large",
         "960.0",
         "1",
         "1.0",
         "2012.0",
         "Jan,Apr,Jul,Oct"
        ],
        [
         "11",
         "12",
         "Large",
         "1070.0",
         "1",
         "13.0",
         "2010.0",
         "Jan,Apr,Jul,Oct"
        ],
        [
         "12",
         "13",
         "Small",
         "310.0",
         "1",
         "45.0",
         "2009.0",
         "Feb,May,Aug,Nov"
        ]
       ],
       "shape": {
        "columns": 7,
        "rows": 5
       }
      },
      "text/html": [
       "<div>\n",
       "<style scoped>\n",
       "    .dataframe tbody tr th:only-of-type {\n",
       "        vertical-align: middle;\n",
       "    }\n",
       "\n",
       "    .dataframe tbody tr th {\n",
       "        vertical-align: top;\n",
       "    }\n",
       "\n",
       "    .dataframe thead th {\n",
       "        text-align: right;\n",
       "    }\n",
       "</style>\n",
       "<table border=\"1\" class=\"dataframe\">\n",
       "  <thead>\n",
       "    <tr style=\"text-align: right;\">\n",
       "      <th></th>\n",
       "      <th>Store</th>\n",
       "      <th>Assortment</th>\n",
       "      <th>CompetitionDistance</th>\n",
       "      <th>Promo2</th>\n",
       "      <th>Promo2SinceWeek</th>\n",
       "      <th>Promo2SinceYear</th>\n",
       "      <th>PromoInterval</th>\n",
       "    </tr>\n",
       "  </thead>\n",
       "  <tbody>\n",
       "    <tr>\n",
       "      <th>1</th>\n",
       "      <td>2</td>\n",
       "      <td>Small</td>\n",
       "      <td>570.0</td>\n",
       "      <td>1</td>\n",
       "      <td>13.0</td>\n",
       "      <td>2010.0</td>\n",
       "      <td>Jan,Apr,Jul,Oct</td>\n",
       "    </tr>\n",
       "    <tr>\n",
       "      <th>2</th>\n",
       "      <td>3</td>\n",
       "      <td>Small</td>\n",
       "      <td>14130.0</td>\n",
       "      <td>1</td>\n",
       "      <td>14.0</td>\n",
       "      <td>2011.0</td>\n",
       "      <td>Jan,Apr,Jul,Oct</td>\n",
       "    </tr>\n",
       "    <tr>\n",
       "      <th>10</th>\n",
       "      <td>11</td>\n",
       "      <td>Large</td>\n",
       "      <td>960.0</td>\n",
       "      <td>1</td>\n",
       "      <td>1.0</td>\n",
       "      <td>2012.0</td>\n",
       "      <td>Jan,Apr,Jul,Oct</td>\n",
       "    </tr>\n",
       "    <tr>\n",
       "      <th>11</th>\n",
       "      <td>12</td>\n",
       "      <td>Large</td>\n",
       "      <td>1070.0</td>\n",
       "      <td>1</td>\n",
       "      <td>13.0</td>\n",
       "      <td>2010.0</td>\n",
       "      <td>Jan,Apr,Jul,Oct</td>\n",
       "    </tr>\n",
       "    <tr>\n",
       "      <th>12</th>\n",
       "      <td>13</td>\n",
       "      <td>Small</td>\n",
       "      <td>310.0</td>\n",
       "      <td>1</td>\n",
       "      <td>45.0</td>\n",
       "      <td>2009.0</td>\n",
       "      <td>Feb,May,Aug,Nov</td>\n",
       "    </tr>\n",
       "  </tbody>\n",
       "</table>\n",
       "</div>"
      ],
      "text/plain": [
       "    Store Assortment  CompetitionDistance  Promo2  Promo2SinceWeek  \\\n",
       "1       2      Small                570.0       1             13.0   \n",
       "2       3      Small              14130.0       1             14.0   \n",
       "10     11      Large                960.0       1              1.0   \n",
       "11     12      Large               1070.0       1             13.0   \n",
       "12     13      Small                310.0       1             45.0   \n",
       "\n",
       "    Promo2SinceYear    PromoInterval  \n",
       "1            2010.0  Jan,Apr,Jul,Oct  \n",
       "2            2011.0  Jan,Apr,Jul,Oct  \n",
       "10           2012.0  Jan,Apr,Jul,Oct  \n",
       "11           2010.0  Jan,Apr,Jul,Oct  \n",
       "12           2009.0  Feb,May,Aug,Nov  "
      ]
     },
     "metadata": {},
     "output_type": "display_data"
    },
    {
     "name": "stdout",
     "output_type": "stream",
     "text": [
      "(571, 7)\n"
     ]
    }
   ],
   "source": [
    "# Delete all rows of promo with Promo2 = 0\n",
    "print(promo.shape)\n",
    "promo = promo[promo['Promo2'] != 0]\n",
    "display(promo.head())\n",
    "print(promo.shape)"
   ]
  },
  {
   "cell_type": "code",
   "execution_count": 12,
   "id": "16946182",
   "metadata": {},
   "outputs": [
    {
     "data": {
      "application/vnd.microsoft.datawrangler.viewer.v0+json": {
       "columns": [
        {
         "name": "index",
         "rawType": "int64",
         "type": "integer"
        },
        {
         "name": "Store",
         "rawType": "int64",
         "type": "integer"
        },
        {
         "name": "Promo2SinceWeek",
         "rawType": "float64",
         "type": "float"
        },
        {
         "name": "Promo2SinceYear",
         "rawType": "float64",
         "type": "float"
        },
        {
         "name": "PromoInterval",
         "rawType": "object",
         "type": "string"
        }
       ],
       "ref": "d4f20627-6581-4575-81e6-c0d599e5371e",
       "rows": [
        [
         "1",
         "2",
         "13.0",
         "2010.0",
         "Jan,Apr,Jul,Oct"
        ],
        [
         "2",
         "3",
         "14.0",
         "2011.0",
         "Jan,Apr,Jul,Oct"
        ],
        [
         "10",
         "11",
         "1.0",
         "2012.0",
         "Jan,Apr,Jul,Oct"
        ],
        [
         "11",
         "12",
         "13.0",
         "2010.0",
         "Jan,Apr,Jul,Oct"
        ],
        [
         "12",
         "13",
         "45.0",
         "2009.0",
         "Feb,May,Aug,Nov"
        ]
       ],
       "shape": {
        "columns": 4,
        "rows": 5
       }
      },
      "text/html": [
       "<div>\n",
       "<style scoped>\n",
       "    .dataframe tbody tr th:only-of-type {\n",
       "        vertical-align: middle;\n",
       "    }\n",
       "\n",
       "    .dataframe tbody tr th {\n",
       "        vertical-align: top;\n",
       "    }\n",
       "\n",
       "    .dataframe thead th {\n",
       "        text-align: right;\n",
       "    }\n",
       "</style>\n",
       "<table border=\"1\" class=\"dataframe\">\n",
       "  <thead>\n",
       "    <tr style=\"text-align: right;\">\n",
       "      <th></th>\n",
       "      <th>Store</th>\n",
       "      <th>Promo2SinceWeek</th>\n",
       "      <th>Promo2SinceYear</th>\n",
       "      <th>PromoInterval</th>\n",
       "    </tr>\n",
       "  </thead>\n",
       "  <tbody>\n",
       "    <tr>\n",
       "      <th>1</th>\n",
       "      <td>2</td>\n",
       "      <td>13.0</td>\n",
       "      <td>2010.0</td>\n",
       "      <td>Jan,Apr,Jul,Oct</td>\n",
       "    </tr>\n",
       "    <tr>\n",
       "      <th>2</th>\n",
       "      <td>3</td>\n",
       "      <td>14.0</td>\n",
       "      <td>2011.0</td>\n",
       "      <td>Jan,Apr,Jul,Oct</td>\n",
       "    </tr>\n",
       "    <tr>\n",
       "      <th>10</th>\n",
       "      <td>11</td>\n",
       "      <td>1.0</td>\n",
       "      <td>2012.0</td>\n",
       "      <td>Jan,Apr,Jul,Oct</td>\n",
       "    </tr>\n",
       "    <tr>\n",
       "      <th>11</th>\n",
       "      <td>12</td>\n",
       "      <td>13.0</td>\n",
       "      <td>2010.0</td>\n",
       "      <td>Jan,Apr,Jul,Oct</td>\n",
       "    </tr>\n",
       "    <tr>\n",
       "      <th>12</th>\n",
       "      <td>13</td>\n",
       "      <td>45.0</td>\n",
       "      <td>2009.0</td>\n",
       "      <td>Feb,May,Aug,Nov</td>\n",
       "    </tr>\n",
       "  </tbody>\n",
       "</table>\n",
       "</div>"
      ],
      "text/plain": [
       "    Store  Promo2SinceWeek  Promo2SinceYear    PromoInterval\n",
       "1       2             13.0           2010.0  Jan,Apr,Jul,Oct\n",
       "2       3             14.0           2011.0  Jan,Apr,Jul,Oct\n",
       "10     11              1.0           2012.0  Jan,Apr,Jul,Oct\n",
       "11     12             13.0           2010.0  Jan,Apr,Jul,Oct\n",
       "12     13             45.0           2009.0  Feb,May,Aug,Nov"
      ]
     },
     "metadata": {},
     "output_type": "display_data"
    }
   ],
   "source": [
    "promo.drop(columns=['Promo2', 'Assortment', 'Promo2', 'CompetitionDistance'], inplace=True)\n",
    "display(promo.head())"
   ]
  },
  {
   "cell_type": "code",
   "execution_count": 14,
   "id": "8ddcb46f",
   "metadata": {},
   "outputs": [
    {
     "data": {
      "application/vnd.microsoft.datawrangler.viewer.v0+json": {
       "columns": [
        {
         "name": "index",
         "rawType": "int64",
         "type": "integer"
        },
        {
         "name": "Store",
         "rawType": "int64",
         "type": "integer"
        },
        {
         "name": "Date",
         "rawType": "datetime64[ns]",
         "type": "datetime"
        },
        {
         "name": "Promo",
         "rawType": "int64",
         "type": "integer"
        }
       ],
       "ref": "e565e060-d9e5-418c-b58b-faa03ba13c9a",
       "rows": [
        [
         "0",
         "1",
         "2015-07-31 00:00:00",
         "1"
        ],
        [
         "1",
         "2",
         "2015-07-31 00:00:00",
         "1"
        ],
        [
         "2",
         "3",
         "2015-07-31 00:00:00",
         "1"
        ],
        [
         "3",
         "4",
         "2015-07-31 00:00:00",
         "1"
        ],
        [
         "4",
         "5",
         "2015-07-31 00:00:00",
         "1"
        ]
       ],
       "shape": {
        "columns": 3,
        "rows": 5
       }
      },
      "text/html": [
       "<div>\n",
       "<style scoped>\n",
       "    .dataframe tbody tr th:only-of-type {\n",
       "        vertical-align: middle;\n",
       "    }\n",
       "\n",
       "    .dataframe tbody tr th {\n",
       "        vertical-align: top;\n",
       "    }\n",
       "\n",
       "    .dataframe thead th {\n",
       "        text-align: right;\n",
       "    }\n",
       "</style>\n",
       "<table border=\"1\" class=\"dataframe\">\n",
       "  <thead>\n",
       "    <tr style=\"text-align: right;\">\n",
       "      <th></th>\n",
       "      <th>Store</th>\n",
       "      <th>Date</th>\n",
       "      <th>Promo</th>\n",
       "    </tr>\n",
       "  </thead>\n",
       "  <tbody>\n",
       "    <tr>\n",
       "      <th>0</th>\n",
       "      <td>1</td>\n",
       "      <td>2015-07-31</td>\n",
       "      <td>1</td>\n",
       "    </tr>\n",
       "    <tr>\n",
       "      <th>1</th>\n",
       "      <td>2</td>\n",
       "      <td>2015-07-31</td>\n",
       "      <td>1</td>\n",
       "    </tr>\n",
       "    <tr>\n",
       "      <th>2</th>\n",
       "      <td>3</td>\n",
       "      <td>2015-07-31</td>\n",
       "      <td>1</td>\n",
       "    </tr>\n",
       "    <tr>\n",
       "      <th>3</th>\n",
       "      <td>4</td>\n",
       "      <td>2015-07-31</td>\n",
       "      <td>1</td>\n",
       "    </tr>\n",
       "    <tr>\n",
       "      <th>4</th>\n",
       "      <td>5</td>\n",
       "      <td>2015-07-31</td>\n",
       "      <td>1</td>\n",
       "    </tr>\n",
       "  </tbody>\n",
       "</table>\n",
       "</div>"
      ],
      "text/plain": [
       "   Store       Date  Promo\n",
       "0      1 2015-07-31      1\n",
       "1      2 2015-07-31      1\n",
       "2      3 2015-07-31      1\n",
       "3      4 2015-07-31      1\n",
       "4      5 2015-07-31      1"
      ]
     },
     "metadata": {},
     "output_type": "display_data"
    }
   ],
   "source": [
    "train.drop(columns=['Customers', 'Sales'], inplace=True)\n",
    "display(train.head())"
   ]
  },
  {
   "cell_type": "code",
   "execution_count": 15,
   "id": "ac210139",
   "metadata": {},
   "outputs": [
    {
     "name": "stdout",
     "output_type": "stream",
     "text": [
      "(844392, 3)\n",
      "(376896, 3)\n"
     ]
    }
   ],
   "source": [
    "print(train.shape)\n",
    "train = train[train['Promo'] == 1]\n",
    "print(train.shape)"
   ]
  },
  {
   "cell_type": "code",
   "execution_count": 16,
   "id": "47e87485",
   "metadata": {},
   "outputs": [],
   "source": [
    "train.drop(columns=['Promo'], inplace=True)\n",
    "train.to_csv('new_data/promotions.csv', index=False)"
   ]
  },
  {
   "cell_type": "code",
   "execution_count": 17,
   "id": "aef270f8",
   "metadata": {},
   "outputs": [
    {
     "data": {
      "application/vnd.microsoft.datawrangler.viewer.v0+json": {
       "columns": [
        {
         "name": "index",
         "rawType": "int64",
         "type": "integer"
        },
        {
         "name": "Store",
         "rawType": "int64",
         "type": "integer"
        },
        {
         "name": "Assortment",
         "rawType": "object",
         "type": "string"
        },
        {
         "name": "CompetitionDistance",
         "rawType": "float64",
         "type": "float"
        },
        {
         "name": "Promo2SinceWeek",
         "rawType": "float64",
         "type": "float"
        },
        {
         "name": "Promo2SinceYear",
         "rawType": "float64",
         "type": "float"
        },
        {
         "name": "PromoInterval",
         "rawType": "object",
         "type": "unknown"
        }
       ],
       "ref": "48ef2730-141d-4126-97a1-a68998f240ed",
       "rows": [
        [
         "0",
         "1",
         "Small",
         "1270.0",
         null,
         null,
         null
        ],
        [
         "1",
         "2",
         "Small",
         "570.0",
         "13.0",
         "2010.0",
         "Jan,Apr,Jul,Oct"
        ],
        [
         "2",
         "3",
         "Small",
         "14130.0",
         "14.0",
         "2011.0",
         "Jan,Apr,Jul,Oct"
        ],
        [
         "3",
         "4",
         "Large",
         "620.0",
         null,
         null,
         null
        ],
        [
         "4",
         "5",
         "Small",
         "29910.0",
         null,
         null,
         null
        ]
       ],
       "shape": {
        "columns": 6,
        "rows": 5
       }
      },
      "text/html": [
       "<div>\n",
       "<style scoped>\n",
       "    .dataframe tbody tr th:only-of-type {\n",
       "        vertical-align: middle;\n",
       "    }\n",
       "\n",
       "    .dataframe tbody tr th {\n",
       "        vertical-align: top;\n",
       "    }\n",
       "\n",
       "    .dataframe thead th {\n",
       "        text-align: right;\n",
       "    }\n",
       "</style>\n",
       "<table border=\"1\" class=\"dataframe\">\n",
       "  <thead>\n",
       "    <tr style=\"text-align: right;\">\n",
       "      <th></th>\n",
       "      <th>Store</th>\n",
       "      <th>Assortment</th>\n",
       "      <th>CompetitionDistance</th>\n",
       "      <th>Promo2SinceWeek</th>\n",
       "      <th>Promo2SinceYear</th>\n",
       "      <th>PromoInterval</th>\n",
       "    </tr>\n",
       "  </thead>\n",
       "  <tbody>\n",
       "    <tr>\n",
       "      <th>0</th>\n",
       "      <td>1</td>\n",
       "      <td>Small</td>\n",
       "      <td>1270.0</td>\n",
       "      <td>NaN</td>\n",
       "      <td>NaN</td>\n",
       "      <td>NaN</td>\n",
       "    </tr>\n",
       "    <tr>\n",
       "      <th>1</th>\n",
       "      <td>2</td>\n",
       "      <td>Small</td>\n",
       "      <td>570.0</td>\n",
       "      <td>13.0</td>\n",
       "      <td>2010.0</td>\n",
       "      <td>Jan,Apr,Jul,Oct</td>\n",
       "    </tr>\n",
       "    <tr>\n",
       "      <th>2</th>\n",
       "      <td>3</td>\n",
       "      <td>Small</td>\n",
       "      <td>14130.0</td>\n",
       "      <td>14.0</td>\n",
       "      <td>2011.0</td>\n",
       "      <td>Jan,Apr,Jul,Oct</td>\n",
       "    </tr>\n",
       "    <tr>\n",
       "      <th>3</th>\n",
       "      <td>4</td>\n",
       "      <td>Large</td>\n",
       "      <td>620.0</td>\n",
       "      <td>NaN</td>\n",
       "      <td>NaN</td>\n",
       "      <td>NaN</td>\n",
       "    </tr>\n",
       "    <tr>\n",
       "      <th>4</th>\n",
       "      <td>5</td>\n",
       "      <td>Small</td>\n",
       "      <td>29910.0</td>\n",
       "      <td>NaN</td>\n",
       "      <td>NaN</td>\n",
       "      <td>NaN</td>\n",
       "    </tr>\n",
       "  </tbody>\n",
       "</table>\n",
       "</div>"
      ],
      "text/plain": [
       "   Store Assortment  CompetitionDistance  Promo2SinceWeek  Promo2SinceYear  \\\n",
       "0      1      Small               1270.0              NaN              NaN   \n",
       "1      2      Small                570.0             13.0           2010.0   \n",
       "2      3      Small              14130.0             14.0           2011.0   \n",
       "3      4      Large                620.0              NaN              NaN   \n",
       "4      5      Small              29910.0              NaN              NaN   \n",
       "\n",
       "     PromoInterval  \n",
       "0              NaN  \n",
       "1  Jan,Apr,Jul,Oct  \n",
       "2  Jan,Apr,Jul,Oct  \n",
       "3              NaN  \n",
       "4              NaN  "
      ]
     },
     "metadata": {},
     "output_type": "display_data"
    }
   ],
   "source": [
    "new_stores = pd.merge(store, promo, on='Store', how='left')\n",
    "display(new_stores.head())"
   ]
  },
  {
   "cell_type": "code",
   "execution_count": 19,
   "id": "3abbb483",
   "metadata": {},
   "outputs": [
    {
     "data": {
      "application/vnd.microsoft.datawrangler.viewer.v0+json": {
       "columns": [
        {
         "name": "index",
         "rawType": "int64",
         "type": "integer"
        },
        {
         "name": "Store",
         "rawType": "int64",
         "type": "integer"
        },
        {
         "name": "Assortment",
         "rawType": "object",
         "type": "string"
        },
        {
         "name": "CompetitionDistance",
         "rawType": "float64",
         "type": "float"
        },
        {
         "name": "PromoSinceWeek",
         "rawType": "float64",
         "type": "float"
        },
        {
         "name": "PromoSinceYear",
         "rawType": "float64",
         "type": "float"
        },
        {
         "name": "PromoInterval",
         "rawType": "object",
         "type": "unknown"
        }
       ],
       "ref": "8fc79e6f-63ee-4823-9f5f-6927e0bc9ce3",
       "rows": [
        [
         "0",
         "1",
         "Small",
         "1270.0",
         null,
         null,
         null
        ],
        [
         "1",
         "2",
         "Small",
         "570.0",
         "13.0",
         "2010.0",
         "Jan,Apr,Jul,Oct"
        ],
        [
         "2",
         "3",
         "Small",
         "14130.0",
         "14.0",
         "2011.0",
         "Jan,Apr,Jul,Oct"
        ],
        [
         "3",
         "4",
         "Large",
         "620.0",
         null,
         null,
         null
        ],
        [
         "4",
         "5",
         "Small",
         "29910.0",
         null,
         null,
         null
        ]
       ],
       "shape": {
        "columns": 6,
        "rows": 5
       }
      },
      "text/html": [
       "<div>\n",
       "<style scoped>\n",
       "    .dataframe tbody tr th:only-of-type {\n",
       "        vertical-align: middle;\n",
       "    }\n",
       "\n",
       "    .dataframe tbody tr th {\n",
       "        vertical-align: top;\n",
       "    }\n",
       "\n",
       "    .dataframe thead th {\n",
       "        text-align: right;\n",
       "    }\n",
       "</style>\n",
       "<table border=\"1\" class=\"dataframe\">\n",
       "  <thead>\n",
       "    <tr style=\"text-align: right;\">\n",
       "      <th></th>\n",
       "      <th>Store</th>\n",
       "      <th>Assortment</th>\n",
       "      <th>CompetitionDistance</th>\n",
       "      <th>PromoSinceWeek</th>\n",
       "      <th>PromoSinceYear</th>\n",
       "      <th>PromoInterval</th>\n",
       "    </tr>\n",
       "  </thead>\n",
       "  <tbody>\n",
       "    <tr>\n",
       "      <th>0</th>\n",
       "      <td>1</td>\n",
       "      <td>Small</td>\n",
       "      <td>1270.0</td>\n",
       "      <td>NaN</td>\n",
       "      <td>NaN</td>\n",
       "      <td>NaN</td>\n",
       "    </tr>\n",
       "    <tr>\n",
       "      <th>1</th>\n",
       "      <td>2</td>\n",
       "      <td>Small</td>\n",
       "      <td>570.0</td>\n",
       "      <td>13.0</td>\n",
       "      <td>2010.0</td>\n",
       "      <td>Jan,Apr,Jul,Oct</td>\n",
       "    </tr>\n",
       "    <tr>\n",
       "      <th>2</th>\n",
       "      <td>3</td>\n",
       "      <td>Small</td>\n",
       "      <td>14130.0</td>\n",
       "      <td>14.0</td>\n",
       "      <td>2011.0</td>\n",
       "      <td>Jan,Apr,Jul,Oct</td>\n",
       "    </tr>\n",
       "    <tr>\n",
       "      <th>3</th>\n",
       "      <td>4</td>\n",
       "      <td>Large</td>\n",
       "      <td>620.0</td>\n",
       "      <td>NaN</td>\n",
       "      <td>NaN</td>\n",
       "      <td>NaN</td>\n",
       "    </tr>\n",
       "    <tr>\n",
       "      <th>4</th>\n",
       "      <td>5</td>\n",
       "      <td>Small</td>\n",
       "      <td>29910.0</td>\n",
       "      <td>NaN</td>\n",
       "      <td>NaN</td>\n",
       "      <td>NaN</td>\n",
       "    </tr>\n",
       "  </tbody>\n",
       "</table>\n",
       "</div>"
      ],
      "text/plain": [
       "   Store Assortment  CompetitionDistance  PromoSinceWeek  PromoSinceYear  \\\n",
       "0      1      Small               1270.0             NaN             NaN   \n",
       "1      2      Small                570.0            13.0          2010.0   \n",
       "2      3      Small              14130.0            14.0          2011.0   \n",
       "3      4      Large                620.0             NaN             NaN   \n",
       "4      5      Small              29910.0             NaN             NaN   \n",
       "\n",
       "     PromoInterval  \n",
       "0              NaN  \n",
       "1  Jan,Apr,Jul,Oct  \n",
       "2  Jan,Apr,Jul,Oct  \n",
       "3              NaN  \n",
       "4              NaN  "
      ]
     },
     "metadata": {},
     "output_type": "display_data"
    }
   ],
   "source": [
    "# Rename the columns\n",
    "new_stores.rename(columns={'Promo2SinceWeek': 'PromoSinceWeek', 'Promo2SinceYear': 'PromoSinceYear'}, inplace=True)\n",
    "display(new_stores.head())"
   ]
  },
  {
   "cell_type": "code",
   "execution_count": 20,
   "id": "d68a209f",
   "metadata": {},
   "outputs": [],
   "source": [
    "new_stores.to_csv('new_data/stores.csv', index=False)"
   ]
  }
 ],
 "metadata": {
  "kernelspec": {
   "display_name": "ai",
   "language": "python",
   "name": "python3"
  },
  "language_info": {
   "codemirror_mode": {
    "name": "ipython",
    "version": 3
   },
   "file_extension": ".py",
   "mimetype": "text/x-python",
   "name": "python",
   "nbconvert_exporter": "python",
   "pygments_lexer": "ipython3",
   "version": "3.11.11"
  }
 },
 "nbformat": 4,
 "nbformat_minor": 5
}
