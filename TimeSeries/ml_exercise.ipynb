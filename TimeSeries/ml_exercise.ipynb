{
 "cells": [
  {
   "cell_type": "markdown",
   "id": "5c91d760",
   "metadata": {},
   "source": [
    "# VistaMart Colllective Time Series Forecasting"
   ]
  },
  {
   "cell_type": "code",
   "execution_count": 16,
   "id": "34ad5b91",
   "metadata": {},
   "outputs": [],
   "source": [
    "import pandas as pd\n",
    "import numpy as np\n",
    "import matplotlib.pyplot as plt\n",
    "from xgboost import XGBRegressor\n",
    "from sklearn.metrics import root_mean_squared_error\n",
    "from sklearn.preprocessing import LabelEncoder"
   ]
  },
  {
   "cell_type": "markdown",
   "id": "abad228e",
   "metadata": {},
   "source": [
    "Load the main csv containing the data for the VistaMart collective time series forecasting.\n",
    "\n",
    "Since the data are not sorted, let's sort them by date and store first."
   ]
  },
  {
   "cell_type": "code",
   "execution_count": 2,
   "id": "383c7984",
   "metadata": {},
   "outputs": [
    {
     "data": {
      "application/vnd.microsoft.datawrangler.viewer.v0+json": {
       "columns": [
        {
         "name": "index",
         "rawType": "int64",
         "type": "integer"
        },
        {
         "name": "Store",
         "rawType": "int64",
         "type": "integer"
        },
        {
         "name": "Date",
         "rawType": "datetime64[ns]",
         "type": "datetime"
        },
        {
         "name": "Sales",
         "rawType": "int64",
         "type": "integer"
        },
        {
         "name": "Customers",
         "rawType": "int64",
         "type": "integer"
        }
       ],
       "ref": "66abf177-5a6d-42d0-a857-1da2e1ee3c94",
       "rows": [
        [
         "843264",
         "1",
         "2013-01-02 00:00:00",
         "5530",
         "668"
        ],
        [
         "842155",
         "1",
         "2013-01-03 00:00:00",
         "4327",
         "578"
        ],
        [
         "841047",
         "1",
         "2013-01-04 00:00:00",
         "4486",
         "619"
        ],
        [
         "839940",
         "1",
         "2013-01-05 00:00:00",
         "4997",
         "635"
        ],
        [
         "838815",
         "1",
         "2013-01-07 00:00:00",
         "7176",
         "785"
        ]
       ],
       "shape": {
        "columns": 4,
        "rows": 5
       }
      },
      "text/html": [
       "<div>\n",
       "<style scoped>\n",
       "    .dataframe tbody tr th:only-of-type {\n",
       "        vertical-align: middle;\n",
       "    }\n",
       "\n",
       "    .dataframe tbody tr th {\n",
       "        vertical-align: top;\n",
       "    }\n",
       "\n",
       "    .dataframe thead th {\n",
       "        text-align: right;\n",
       "    }\n",
       "</style>\n",
       "<table border=\"1\" class=\"dataframe\">\n",
       "  <thead>\n",
       "    <tr style=\"text-align: right;\">\n",
       "      <th></th>\n",
       "      <th>Store</th>\n",
       "      <th>Date</th>\n",
       "      <th>Sales</th>\n",
       "      <th>Customers</th>\n",
       "    </tr>\n",
       "  </thead>\n",
       "  <tbody>\n",
       "    <tr>\n",
       "      <th>843264</th>\n",
       "      <td>1</td>\n",
       "      <td>2013-01-02</td>\n",
       "      <td>5530</td>\n",
       "      <td>668</td>\n",
       "    </tr>\n",
       "    <tr>\n",
       "      <th>842155</th>\n",
       "      <td>1</td>\n",
       "      <td>2013-01-03</td>\n",
       "      <td>4327</td>\n",
       "      <td>578</td>\n",
       "    </tr>\n",
       "    <tr>\n",
       "      <th>841047</th>\n",
       "      <td>1</td>\n",
       "      <td>2013-01-04</td>\n",
       "      <td>4486</td>\n",
       "      <td>619</td>\n",
       "    </tr>\n",
       "    <tr>\n",
       "      <th>839940</th>\n",
       "      <td>1</td>\n",
       "      <td>2013-01-05</td>\n",
       "      <td>4997</td>\n",
       "      <td>635</td>\n",
       "    </tr>\n",
       "    <tr>\n",
       "      <th>838815</th>\n",
       "      <td>1</td>\n",
       "      <td>2013-01-07</td>\n",
       "      <td>7176</td>\n",
       "      <td>785</td>\n",
       "    </tr>\n",
       "  </tbody>\n",
       "</table>\n",
       "</div>"
      ],
      "text/plain": [
       "        Store       Date  Sales  Customers\n",
       "843264      1 2013-01-02   5530        668\n",
       "842155      1 2013-01-03   4327        578\n",
       "841047      1 2013-01-04   4486        619\n",
       "839940      1 2013-01-05   4997        635\n",
       "838815      1 2013-01-07   7176        785"
      ]
     },
     "metadata": {},
     "output_type": "display_data"
    }
   ],
   "source": [
    "df = pd.read_csv('new_data/dataset.csv', parse_dates=['Date'], low_memory=False)\n",
    "\n",
    "# Sort df by Date\n",
    "df = df.sort_values(by=['Store', 'Date'])\n",
    "display(df.head())"
   ]
  },
  {
   "cell_type": "markdown",
   "id": "8505c9c0",
   "metadata": {},
   "source": [
    "Let's load also the data for the individual stores and for the daily promotions."
   ]
  },
  {
   "cell_type": "code",
   "execution_count": 3,
   "id": "dd068ec1",
   "metadata": {},
   "outputs": [
    {
     "data": {
      "application/vnd.microsoft.datawrangler.viewer.v0+json": {
       "columns": [
        {
         "name": "index",
         "rawType": "int64",
         "type": "integer"
        },
        {
         "name": "Store",
         "rawType": "int64",
         "type": "integer"
        },
        {
         "name": "Assortment",
         "rawType": "object",
         "type": "string"
        },
        {
         "name": "CompetitionDistance",
         "rawType": "float64",
         "type": "float"
        },
        {
         "name": "PromoSinceWeek",
         "rawType": "float64",
         "type": "float"
        },
        {
         "name": "PromoSinceYear",
         "rawType": "float64",
         "type": "float"
        },
        {
         "name": "PromoInterval",
         "rawType": "object",
         "type": "unknown"
        }
       ],
       "ref": "e5ee29c2-e5ab-4f68-80e2-1e8c30fbaa6a",
       "rows": [
        [
         "0",
         "1",
         "Small",
         "1270.0",
         null,
         null,
         null
        ],
        [
         "1",
         "2",
         "Small",
         "570.0",
         "13.0",
         "2010.0",
         "Jan,Apr,Jul,Oct"
        ],
        [
         "2",
         "3",
         "Small",
         "14130.0",
         "14.0",
         "2011.0",
         "Jan,Apr,Jul,Oct"
        ],
        [
         "3",
         "4",
         "Large",
         "620.0",
         null,
         null,
         null
        ],
        [
         "4",
         "5",
         "Small",
         "29910.0",
         null,
         null,
         null
        ]
       ],
       "shape": {
        "columns": 6,
        "rows": 5
       }
      },
      "text/html": [
       "<div>\n",
       "<style scoped>\n",
       "    .dataframe tbody tr th:only-of-type {\n",
       "        vertical-align: middle;\n",
       "    }\n",
       "\n",
       "    .dataframe tbody tr th {\n",
       "        vertical-align: top;\n",
       "    }\n",
       "\n",
       "    .dataframe thead th {\n",
       "        text-align: right;\n",
       "    }\n",
       "</style>\n",
       "<table border=\"1\" class=\"dataframe\">\n",
       "  <thead>\n",
       "    <tr style=\"text-align: right;\">\n",
       "      <th></th>\n",
       "      <th>Store</th>\n",
       "      <th>Assortment</th>\n",
       "      <th>CompetitionDistance</th>\n",
       "      <th>PromoSinceWeek</th>\n",
       "      <th>PromoSinceYear</th>\n",
       "      <th>PromoInterval</th>\n",
       "    </tr>\n",
       "  </thead>\n",
       "  <tbody>\n",
       "    <tr>\n",
       "      <th>0</th>\n",
       "      <td>1</td>\n",
       "      <td>Small</td>\n",
       "      <td>1270.0</td>\n",
       "      <td>NaN</td>\n",
       "      <td>NaN</td>\n",
       "      <td>NaN</td>\n",
       "    </tr>\n",
       "    <tr>\n",
       "      <th>1</th>\n",
       "      <td>2</td>\n",
       "      <td>Small</td>\n",
       "      <td>570.0</td>\n",
       "      <td>13.0</td>\n",
       "      <td>2010.0</td>\n",
       "      <td>Jan,Apr,Jul,Oct</td>\n",
       "    </tr>\n",
       "    <tr>\n",
       "      <th>2</th>\n",
       "      <td>3</td>\n",
       "      <td>Small</td>\n",
       "      <td>14130.0</td>\n",
       "      <td>14.0</td>\n",
       "      <td>2011.0</td>\n",
       "      <td>Jan,Apr,Jul,Oct</td>\n",
       "    </tr>\n",
       "    <tr>\n",
       "      <th>3</th>\n",
       "      <td>4</td>\n",
       "      <td>Large</td>\n",
       "      <td>620.0</td>\n",
       "      <td>NaN</td>\n",
       "      <td>NaN</td>\n",
       "      <td>NaN</td>\n",
       "    </tr>\n",
       "    <tr>\n",
       "      <th>4</th>\n",
       "      <td>5</td>\n",
       "      <td>Small</td>\n",
       "      <td>29910.0</td>\n",
       "      <td>NaN</td>\n",
       "      <td>NaN</td>\n",
       "      <td>NaN</td>\n",
       "    </tr>\n",
       "  </tbody>\n",
       "</table>\n",
       "</div>"
      ],
      "text/plain": [
       "   Store Assortment  CompetitionDistance  PromoSinceWeek  PromoSinceYear  \\\n",
       "0      1      Small               1270.0             NaN             NaN   \n",
       "1      2      Small                570.0            13.0          2010.0   \n",
       "2      3      Small              14130.0            14.0          2011.0   \n",
       "3      4      Large                620.0             NaN             NaN   \n",
       "4      5      Small              29910.0             NaN             NaN   \n",
       "\n",
       "     PromoInterval  \n",
       "0              NaN  \n",
       "1  Jan,Apr,Jul,Oct  \n",
       "2  Jan,Apr,Jul,Oct  \n",
       "3              NaN  \n",
       "4              NaN  "
      ]
     },
     "metadata": {},
     "output_type": "display_data"
    }
   ],
   "source": [
    "stores = pd.read_csv('new_data/stores.csv')\n",
    "display(stores.head())"
   ]
  },
  {
   "cell_type": "code",
   "execution_count": 4,
   "id": "9a2e14cd",
   "metadata": {},
   "outputs": [
    {
     "data": {
      "application/vnd.microsoft.datawrangler.viewer.v0+json": {
       "columns": [
        {
         "name": "index",
         "rawType": "int64",
         "type": "integer"
        },
        {
         "name": "Store",
         "rawType": "int64",
         "type": "integer"
        },
        {
         "name": "Date",
         "rawType": "datetime64[ns]",
         "type": "datetime"
        }
       ],
       "ref": "41a65575-b18f-43c0-9b5a-f55b2bdb0b17",
       "rows": [
        [
         "0",
         "1",
         "2015-07-31 00:00:00"
        ],
        [
         "1",
         "2",
         "2015-07-31 00:00:00"
        ],
        [
         "2",
         "3",
         "2015-07-31 00:00:00"
        ],
        [
         "3",
         "4",
         "2015-07-31 00:00:00"
        ],
        [
         "4",
         "5",
         "2015-07-31 00:00:00"
        ]
       ],
       "shape": {
        "columns": 2,
        "rows": 5
       }
      },
      "text/html": [
       "<div>\n",
       "<style scoped>\n",
       "    .dataframe tbody tr th:only-of-type {\n",
       "        vertical-align: middle;\n",
       "    }\n",
       "\n",
       "    .dataframe tbody tr th {\n",
       "        vertical-align: top;\n",
       "    }\n",
       "\n",
       "    .dataframe thead th {\n",
       "        text-align: right;\n",
       "    }\n",
       "</style>\n",
       "<table border=\"1\" class=\"dataframe\">\n",
       "  <thead>\n",
       "    <tr style=\"text-align: right;\">\n",
       "      <th></th>\n",
       "      <th>Store</th>\n",
       "      <th>Date</th>\n",
       "    </tr>\n",
       "  </thead>\n",
       "  <tbody>\n",
       "    <tr>\n",
       "      <th>0</th>\n",
       "      <td>1</td>\n",
       "      <td>2015-07-31</td>\n",
       "    </tr>\n",
       "    <tr>\n",
       "      <th>1</th>\n",
       "      <td>2</td>\n",
       "      <td>2015-07-31</td>\n",
       "    </tr>\n",
       "    <tr>\n",
       "      <th>2</th>\n",
       "      <td>3</td>\n",
       "      <td>2015-07-31</td>\n",
       "    </tr>\n",
       "    <tr>\n",
       "      <th>3</th>\n",
       "      <td>4</td>\n",
       "      <td>2015-07-31</td>\n",
       "    </tr>\n",
       "    <tr>\n",
       "      <th>4</th>\n",
       "      <td>5</td>\n",
       "      <td>2015-07-31</td>\n",
       "    </tr>\n",
       "  </tbody>\n",
       "</table>\n",
       "</div>"
      ],
      "text/plain": [
       "   Store       Date\n",
       "0      1 2015-07-31\n",
       "1      2 2015-07-31\n",
       "2      3 2015-07-31\n",
       "3      4 2015-07-31\n",
       "4      5 2015-07-31"
      ]
     },
     "metadata": {},
     "output_type": "display_data"
    }
   ],
   "source": [
    "promotions = pd.read_csv('new_data/promotions.csv', parse_dates=['Date'])\n",
    "display(promotions.head())"
   ]
  },
  {
   "cell_type": "markdown",
   "id": "6eb593b1",
   "metadata": {},
   "source": [
    "It is importa to visualize the data to understand the time series and the seasonality of the data."
   ]
  },
  {
   "cell_type": "code",
   "execution_count": 5,
   "id": "aa94cbb9",
   "metadata": {},
   "outputs": [
    {
     "data": {
      "image/png": "[encoded data removed]",
      "text/plain": [
       "<Figure size 2000x1000 with 1 Axes>"
      ]
     },
     "metadata": {},
     "output_type": "display_data"
    }
   ],
   "source": [
    "def plot_store_time_series(store_id, df):\n",
    "    store_data = df[df['Store'] == store_id]\n",
    "    x = np.arange(len(store_data['Date'].unique()))\n",
    "    y = store_data.groupby('Date')['Sales'].sum()\n",
    "\n",
    "    plt.figure(figsize=(20, 10))\n",
    "    plt.plot(x, y)\n",
    "    plt.title(f'Sales by Date for Store {store_id}')\n",
    "    plt.xlabel('Date')\n",
    "    plt.ylabel('Sales')\n",
    "    plt.xticks(rotation=90)\n",
    "    plt.grid()\n",
    "    plt.savefig(f'time_series_plot.png')\n",
    "    plt.show()\n",
    "\n",
    "plot_store_time_series(1, df)"
   ]
  },
  {
   "cell_type": "markdown",
   "id": "0775801a",
   "metadata": {},
   "source": [
    "We can start to analyze the data to see if there are any missing values, outliers, or other issues that need to be addressed before we can proceed with the forecasting."
   ]
  },
  {
   "cell_type": "code",
   "execution_count": 6,
   "id": "d8c9fa70",
   "metadata": {},
   "outputs": [
    {
     "name": "stdout",
     "output_type": "stream",
     "text": [
      "Columns with NaN values: []\n"
     ]
    }
   ],
   "source": [
    "def identify_nans(df):\n",
    "    nan_columns = df.columns[df.isna().any()].tolist()\n",
    "    print(f\"Columns with NaN values: {nan_columns}\")\n",
    "    for col in nan_columns:\n",
    "        print(f\"Column: {col}, Number of NaNs: {df[col].isna().sum()}\")\n",
    "\n",
    "identify_nans(df)"
   ]
  },
  {
   "cell_type": "code",
   "execution_count": 7,
   "id": "2eba4dca",
   "metadata": {},
   "outputs": [
    {
     "data": {
      "application/vnd.microsoft.datawrangler.viewer.v0+json": {
       "columns": [
        {
         "name": "index",
         "rawType": "int64",
         "type": "integer"
        },
        {
         "name": "Store",
         "rawType": "int64",
         "type": "integer"
        },
        {
         "name": "Date",
         "rawType": "datetime64[ns]",
         "type": "datetime"
        },
        {
         "name": "Sales",
         "rawType": "int64",
         "type": "integer"
        },
        {
         "name": "Customers",
         "rawType": "int64",
         "type": "integer"
        },
        {
         "name": "rolling_mean",
         "rawType": "float64",
         "type": "float"
        },
        {
         "name": "rolling_std",
         "rawType": "float64",
         "type": "float"
        },
        {
         "name": "z_score",
         "rawType": "float64",
         "type": "float"
        },
        {
         "name": "is_outlier",
         "rawType": "bool",
         "type": "boolean"
        }
       ],
       "ref": "ff46e0ea-0e9c-4e56-a01d-81ea2aafeb6d",
       "rows": [
        [
         "22",
         "1",
         "2013-01-28 00:00:00",
         "4055",
         "549",
         "5303.714285714285",
         "576.4942076279451",
         "-2.166048278008327",
         "True"
        ],
        [
         "52",
         "1",
         "2013-03-04 00:00:00",
         "7675",
         "840",
         "4957.428571428572",
         "1297.2393581683202",
         "2.0948882035221263",
         "True"
        ],
        [
         "64",
         "1",
         "2013-03-18 00:00:00",
         "7072",
         "778",
         "5035.857142857143",
         "1004.4876685109074",
         "2.027046145983371",
         "True"
        ],
        [
         "103",
         "1",
         "2013-05-06 00:00:00",
         "4568",
         "562",
         "5780.714285714285",
         "587.5700566133127",
         "-2.063948412729255",
         "True"
        ],
        [
         "115",
         "1",
         "2013-05-22 00:00:00",
         "3559",
         "507",
         "4562.571428571428",
         "500.43209900473636",
         "-2.0054097859976205",
         "True"
        ]
       ],
       "shape": {
        "columns": 8,
        "rows": 5
       }
      },
      "text/html": [
       "<div>\n",
       "<style scoped>\n",
       "    .dataframe tbody tr th:only-of-type {\n",
       "        vertical-align: middle;\n",
       "    }\n",
       "\n",
       "    .dataframe tbody tr th {\n",
       "        vertical-align: top;\n",
       "    }\n",
       "\n",
       "    .dataframe thead th {\n",
       "        text-align: right;\n",
       "    }\n",
       "</style>\n",
       "<table border=\"1\" class=\"dataframe\">\n",
       "  <thead>\n",
       "    <tr style=\"text-align: right;\">\n",
       "      <th></th>\n",
       "      <th>Store</th>\n",
       "      <th>Date</th>\n",
       "      <th>Sales</th>\n",
       "      <th>Customers</th>\n",
       "      <th>rolling_mean</th>\n",
       "      <th>rolling_std</th>\n",
       "      <th>z_score</th>\n",
       "      <th>is_outlier</th>\n",
       "    </tr>\n",
       "  </thead>\n",
       "  <tbody>\n",
       "    <tr>\n",
       "      <th>22</th>\n",
       "      <td>1</td>\n",
       "      <td>2013-01-28</td>\n",
       "      <td>4055</td>\n",
       "      <td>549</td>\n",
       "      <td>5303.714286</td>\n",
       "      <td>576.494208</td>\n",
       "      <td>-2.166048</td>\n",
       "      <td>True</td>\n",
       "    </tr>\n",
       "    <tr>\n",
       "      <th>52</th>\n",
       "      <td>1</td>\n",
       "      <td>2013-03-04</td>\n",
       "      <td>7675</td>\n",
       "      <td>840</td>\n",
       "      <td>4957.428571</td>\n",
       "      <td>1297.239358</td>\n",
       "      <td>2.094888</td>\n",
       "      <td>True</td>\n",
       "    </tr>\n",
       "    <tr>\n",
       "      <th>64</th>\n",
       "      <td>1</td>\n",
       "      <td>2013-03-18</td>\n",
       "      <td>7072</td>\n",
       "      <td>778</td>\n",
       "      <td>5035.857143</td>\n",
       "      <td>1004.487669</td>\n",
       "      <td>2.027046</td>\n",
       "      <td>True</td>\n",
       "    </tr>\n",
       "    <tr>\n",
       "      <th>103</th>\n",
       "      <td>1</td>\n",
       "      <td>2013-05-06</td>\n",
       "      <td>4568</td>\n",
       "      <td>562</td>\n",
       "      <td>5780.714286</td>\n",
       "      <td>587.570057</td>\n",
       "      <td>-2.063948</td>\n",
       "      <td>True</td>\n",
       "    </tr>\n",
       "    <tr>\n",
       "      <th>115</th>\n",
       "      <td>1</td>\n",
       "      <td>2013-05-22</td>\n",
       "      <td>3559</td>\n",
       "      <td>507</td>\n",
       "      <td>4562.571429</td>\n",
       "      <td>500.432099</td>\n",
       "      <td>-2.005410</td>\n",
       "      <td>True</td>\n",
       "    </tr>\n",
       "  </tbody>\n",
       "</table>\n",
       "</div>"
      ],
      "text/plain": [
       "     Store       Date  Sales  Customers  rolling_mean  rolling_std   z_score  \\\n",
       "22       1 2013-01-28   4055        549   5303.714286   576.494208 -2.166048   \n",
       "52       1 2013-03-04   7675        840   4957.428571  1297.239358  2.094888   \n",
       "64       1 2013-03-18   7072        778   5035.857143  1004.487669  2.027046   \n",
       "103      1 2013-05-06   4568        562   5780.714286   587.570057 -2.063948   \n",
       "115      1 2013-05-22   3559        507   4562.571429   500.432099 -2.005410   \n",
       "\n",
       "     is_outlier  \n",
       "22         True  \n",
       "52         True  \n",
       "64         True  \n",
       "103        True  \n",
       "115        True  "
      ]
     },
     "metadata": {},
     "output_type": "display_data"
    }
   ],
   "source": [
    "def identify_outliers(train_df):\n",
    "    df = train_df.copy()\n",
    "\n",
    "    df['Date'] = pd.to_datetime(df['Date'])\n",
    "    df = df.sort_values(['Store', 'Date'])\n",
    "    window = 7\n",
    "\n",
    "    df['rolling_mean'] = df.groupby('Store')['Sales'].transform(lambda x: x.rolling(window=window, min_periods=1).mean())\n",
    "    df['rolling_std'] = df.groupby('Store')['Sales'].transform(lambda x: x.rolling(window=window, min_periods=1).std())\n",
    "\n",
    "    # Avoid division by zero (std can be 0 in early days)\n",
    "    df['rolling_std'] = df['rolling_std'].replace(0, np.nan)\n",
    "\n",
    "    df['z_score'] = (df['Sales'] - df['rolling_mean']) / df['rolling_std']\n",
    "    df['is_outlier'] = df['z_score'].abs() > 2\n",
    "    df.reset_index(drop=True, inplace=True)\n",
    "\n",
    "    return df\n",
    "\n",
    "outliers = identify_outliers(df)\n",
    "display(outliers[outliers['is_outlier'] == True].head())"
   ]
  },
  {
   "cell_type": "code",
   "execution_count": 8,
   "id": "d6df8d7e",
   "metadata": {},
   "outputs": [
    {
     "data": {
      "image/png": "[encoded data removed]",
      "text/plain": [
       "<Figure size 1500x500 with 1 Axes>"
      ]
     },
     "metadata": {},
     "output_type": "display_data"
    }
   ],
   "source": [
    "def plot_outliers(store_id, outliers):\n",
    "    # Use df, which contains z_score and is_outlier columns\n",
    "    store_data = outliers[outliers['Store'] == store_id].copy()\n",
    "    plt.figure(figsize=(15, 5))\n",
    "    plt.plot(store_data['Date'], store_data['Sales'], label='Sales')\n",
    "    # Plot outliers (z_score > 2 or < -2)\n",
    "    outlier_mask = store_data['is_outlier']\n",
    "    plt.scatter(store_data.loc[outlier_mask, 'Date'], \n",
    "                store_data.loc[outlier_mask, 'Sales'], \n",
    "                color='red', label='Outlier (|z-score| > 2)')\n",
    "    plt.legend()\n",
    "    plt.title(f\"Store {store_id} - Sales with Outliers Highlighted\")\n",
    "    plt.xlabel('Date')\n",
    "    plt.ylabel('Sales')\n",
    "    plt.savefig(\"Outliers.png\")\n",
    "    plt.show()\n",
    "\n",
    "plot_outliers(50, outliers)"
   ]
  },
  {
   "cell_type": "markdown",
   "id": "65f35dac",
   "metadata": {},
   "source": [
    "We have access to singular day promotions, but we need to convert also the periodic promotions into a similar format."
   ]
  },
  {
   "cell_type": "code",
   "execution_count": 9,
   "id": "4189fe6c",
   "metadata": {},
   "outputs": [
    {
     "data": {
      "application/vnd.microsoft.datawrangler.viewer.v0+json": {
       "columns": [
        {
         "name": "index",
         "rawType": "int64",
         "type": "integer"
        },
        {
         "name": "Store",
         "rawType": "int64",
         "type": "integer"
        },
        {
         "name": "Date",
         "rawType": "datetime64[ns]",
         "type": "datetime"
        }
       ],
       "ref": "8e402ef0-76cb-4ff5-85bf-14e21d945c49",
       "rows": [
        [
         "0",
         "2",
         "2010-04-01 00:00:00"
        ],
        [
         "1",
         "2",
         "2010-04-02 00:00:00"
        ],
        [
         "2",
         "2",
         "2010-04-03 00:00:00"
        ],
        [
         "3",
         "2",
         "2010-04-04 00:00:00"
        ],
        [
         "4",
         "2",
         "2010-04-05 00:00:00"
        ],
        [
         "5",
         "2",
         "2010-04-06 00:00:00"
        ],
        [
         "6",
         "2",
         "2010-04-07 00:00:00"
        ],
        [
         "7",
         "2",
         "2010-04-08 00:00:00"
        ],
        [
         "8",
         "2",
         "2010-04-09 00:00:00"
        ],
        [
         "9",
         "2",
         "2010-04-10 00:00:00"
        ],
        [
         "10",
         "2",
         "2010-04-11 00:00:00"
        ],
        [
         "11",
         "2",
         "2010-04-12 00:00:00"
        ],
        [
         "12",
         "2",
         "2010-04-13 00:00:00"
        ],
        [
         "13",
         "2",
         "2010-04-14 00:00:00"
        ],
        [
         "14",
         "2",
         "2010-04-15 00:00:00"
        ],
        [
         "15",
         "2",
         "2010-04-16 00:00:00"
        ],
        [
         "16",
         "2",
         "2010-04-17 00:00:00"
        ],
        [
         "17",
         "2",
         "2010-04-18 00:00:00"
        ],
        [
         "18",
         "2",
         "2010-04-19 00:00:00"
        ],
        [
         "19",
         "2",
         "2010-04-20 00:00:00"
        ],
        [
         "20",
         "2",
         "2010-04-21 00:00:00"
        ],
        [
         "21",
         "2",
         "2010-04-22 00:00:00"
        ],
        [
         "22",
         "2",
         "2010-04-23 00:00:00"
        ],
        [
         "23",
         "2",
         "2010-04-24 00:00:00"
        ],
        [
         "24",
         "2",
         "2010-04-25 00:00:00"
        ],
        [
         "25",
         "2",
         "2010-04-26 00:00:00"
        ],
        [
         "26",
         "2",
         "2010-04-27 00:00:00"
        ],
        [
         "27",
         "2",
         "2010-04-28 00:00:00"
        ],
        [
         "28",
         "2",
         "2010-04-29 00:00:00"
        ],
        [
         "29",
         "2",
         "2010-04-30 00:00:00"
        ],
        [
         "30",
         "2",
         "2010-07-01 00:00:00"
        ],
        [
         "31",
         "2",
         "2010-07-02 00:00:00"
        ],
        [
         "32",
         "2",
         "2010-07-03 00:00:00"
        ],
        [
         "33",
         "2",
         "2010-07-04 00:00:00"
        ],
        [
         "34",
         "2",
         "2010-07-05 00:00:00"
        ],
        [
         "35",
         "2",
         "2010-07-06 00:00:00"
        ],
        [
         "36",
         "2",
         "2010-07-07 00:00:00"
        ],
        [
         "37",
         "2",
         "2010-07-08 00:00:00"
        ],
        [
         "38",
         "2",
         "2010-07-09 00:00:00"
        ],
        [
         "39",
         "2",
         "2010-07-10 00:00:00"
        ],
        [
         "40",
         "2",
         "2010-07-11 00:00:00"
        ],
        [
         "41",
         "2",
         "2010-07-12 00:00:00"
        ],
        [
         "42",
         "2",
         "2010-07-13 00:00:00"
        ],
        [
         "43",
         "2",
         "2010-07-14 00:00:00"
        ],
        [
         "44",
         "2",
         "2010-07-15 00:00:00"
        ],
        [
         "45",
         "2",
         "2010-07-16 00:00:00"
        ],
        [
         "46",
         "2",
         "2010-07-17 00:00:00"
        ],
        [
         "47",
         "2",
         "2010-07-18 00:00:00"
        ],
        [
         "48",
         "2",
         "2010-07-19 00:00:00"
        ],
        [
         "49",
         "2",
         "2010-07-20 00:00:00"
        ]
       ],
       "shape": {
        "columns": 2,
        "rows": 256760
       }
      },
      "text/html": [
       "<div>\n",
       "<style scoped>\n",
       "    .dataframe tbody tr th:only-of-type {\n",
       "        vertical-align: middle;\n",
       "    }\n",
       "\n",
       "    .dataframe tbody tr th {\n",
       "        vertical-align: top;\n",
       "    }\n",
       "\n",
       "    .dataframe thead th {\n",
       "        text-align: right;\n",
       "    }\n",
       "</style>\n",
       "<table border=\"1\" class=\"dataframe\">\n",
       "  <thead>\n",
       "    <tr style=\"text-align: right;\">\n",
       "      <th></th>\n",
       "      <th>Store</th>\n",
       "      <th>Date</th>\n",
       "    </tr>\n",
       "  </thead>\n",
       "  <tbody>\n",
       "    <tr>\n",
       "      <th>0</th>\n",
       "      <td>2</td>\n",
       "      <td>2010-04-01</td>\n",
       "    </tr>\n",
       "    <tr>\n",
       "      <th>1</th>\n",
       "      <td>2</td>\n",
       "      <td>2010-04-02</td>\n",
       "    </tr>\n",
       "    <tr>\n",
       "      <th>2</th>\n",
       "      <td>2</td>\n",
       "      <td>2010-04-03</td>\n",
       "    </tr>\n",
       "    <tr>\n",
       "      <th>3</th>\n",
       "      <td>2</td>\n",
       "      <td>2010-04-04</td>\n",
       "    </tr>\n",
       "    <tr>\n",
       "      <th>4</th>\n",
       "      <td>2</td>\n",
       "      <td>2010-04-05</td>\n",
       "    </tr>\n",
       "    <tr>\n",
       "      <th>...</th>\n",
       "      <td>...</td>\n",
       "      <td>...</td>\n",
       "    </tr>\n",
       "    <tr>\n",
       "      <th>256755</th>\n",
       "      <td>1115</td>\n",
       "      <td>2015-12-27</td>\n",
       "    </tr>\n",
       "    <tr>\n",
       "      <th>256756</th>\n",
       "      <td>1115</td>\n",
       "      <td>2015-12-28</td>\n",
       "    </tr>\n",
       "    <tr>\n",
       "      <th>256757</th>\n",
       "      <td>1115</td>\n",
       "      <td>2015-12-29</td>\n",
       "    </tr>\n",
       "    <tr>\n",
       "      <th>256758</th>\n",
       "      <td>1115</td>\n",
       "      <td>2015-12-30</td>\n",
       "    </tr>\n",
       "    <tr>\n",
       "      <th>256759</th>\n",
       "      <td>1115</td>\n",
       "      <td>2015-12-31</td>\n",
       "    </tr>\n",
       "  </tbody>\n",
       "</table>\n",
       "<p>256760 rows × 2 columns</p>\n",
       "</div>"
      ],
      "text/plain": [
       "        Store       Date\n",
       "0           2 2010-04-01\n",
       "1           2 2010-04-02\n",
       "2           2 2010-04-03\n",
       "3           2 2010-04-04\n",
       "4           2 2010-04-05\n",
       "...       ...        ...\n",
       "256755   1115 2015-12-27\n",
       "256756   1115 2015-12-28\n",
       "256757   1115 2015-12-29\n",
       "256758   1115 2015-12-30\n",
       "256759   1115 2015-12-31\n",
       "\n",
       "[256760 rows x 2 columns]"
      ]
     },
     "metadata": {},
     "output_type": "display_data"
    }
   ],
   "source": [
    "def get_promo_dates(stores_df: pd.DataFrame) -> pd.DataFrame:\n",
    "    stores_df = stores_df.copy()\n",
    "    stores_df = stores_df.dropna(subset=['PromoInterval', 'PromoSinceYear', 'PromoSinceWeek'])\n",
    "\n",
    "    month_map = {\n",
    "        'Jan': 1, 'Feb': 2, 'Mar': 3, 'Apr': 4,\n",
    "        'May': 5, 'Jun': 6, 'Jul': 7, 'Aug': 8,\n",
    "        'Sept': 9, 'Oct': 10, 'Nov': 11, 'Dec': 12\n",
    "    }\n",
    "\n",
    "    promo_rows = []\n",
    "    for _, row in stores_df.iterrows():\n",
    "        store_id = row['Store']\n",
    "        promo_year = int(row['PromoSinceYear'])\n",
    "        promo_week = int(row['PromoSinceWeek'])\n",
    "        months = [m.strip() for m in row['PromoInterval'].split(',')]\n",
    "\n",
    "        promo_start_date = pd.to_datetime(f'{promo_year}-W{int(promo_week):02d}-1', format='%Y-W%W-%w')\n",
    "\n",
    "        for year in range(promo_year, 2016):\n",
    "            for month in months:\n",
    "                month_num = month_map[month]\n",
    "                promo_date = pd.Timestamp(year=year, month=month_num, day=1)\n",
    "\n",
    "                if promo_date >= promo_start_date:\n",
    "                    month_dates = pd.date_range(start=promo_date, end=promo_date + pd.offsets.MonthEnd(0), freq='D')\n",
    "                    for d in month_dates:\n",
    "                        promo_rows.append({'Store': store_id, 'Date': pd.to_datetime(d)})\n",
    "\n",
    "    promo_df = pd.DataFrame(promo_rows)\n",
    "    return promo_df\n",
    "\n",
    "promo_dates_df = get_promo_dates(stores)\n",
    "display(promo_dates_df)"
   ]
  },
  {
   "cell_type": "markdown",
   "id": "7dc0fe45",
   "metadata": {},
   "source": [
    "Now we have to add the periodic promotions to the datafram of the daily promotions."
   ]
  },
  {
   "cell_type": "code",
   "execution_count": 10,
   "id": "62d9c20d",
   "metadata": {},
   "outputs": [
    {
     "data": {
      "application/vnd.microsoft.datawrangler.viewer.v0+json": {
       "columns": [
        {
         "name": "index",
         "rawType": "int64",
         "type": "integer"
        },
        {
         "name": "Store",
         "rawType": "int64",
         "type": "integer"
        },
        {
         "name": "Date",
         "rawType": "datetime64[ns]",
         "type": "datetime"
        }
       ],
       "ref": "53083da7-3964-452c-9ec7-5fa619fe0bb6",
       "rows": [
        [
         "0",
         "1",
         "2013-01-07 00:00:00"
        ],
        [
         "1",
         "1",
         "2013-01-08 00:00:00"
        ],
        [
         "2",
         "1",
         "2013-01-09 00:00:00"
        ],
        [
         "3",
         "1",
         "2013-01-10 00:00:00"
        ],
        [
         "4",
         "1",
         "2013-01-11 00:00:00"
        ],
        [
         "5",
         "1",
         "2013-01-21 00:00:00"
        ],
        [
         "6",
         "1",
         "2013-01-22 00:00:00"
        ],
        [
         "7",
         "1",
         "2013-01-23 00:00:00"
        ],
        [
         "8",
         "1",
         "2013-01-24 00:00:00"
        ],
        [
         "9",
         "1",
         "2013-01-25 00:00:00"
        ],
        [
         "10",
         "1",
         "2013-02-04 00:00:00"
        ],
        [
         "11",
         "1",
         "2013-02-05 00:00:00"
        ],
        [
         "12",
         "1",
         "2013-02-06 00:00:00"
        ],
        [
         "13",
         "1",
         "2013-02-07 00:00:00"
        ],
        [
         "14",
         "1",
         "2013-02-08 00:00:00"
        ],
        [
         "15",
         "1",
         "2013-02-18 00:00:00"
        ],
        [
         "16",
         "1",
         "2013-02-19 00:00:00"
        ],
        [
         "17",
         "1",
         "2013-02-20 00:00:00"
        ],
        [
         "18",
         "1",
         "2013-02-21 00:00:00"
        ],
        [
         "19",
         "1",
         "2013-02-22 00:00:00"
        ],
        [
         "20",
         "1",
         "2013-03-04 00:00:00"
        ],
        [
         "21",
         "1",
         "2013-03-05 00:00:00"
        ],
        [
         "22",
         "1",
         "2013-03-06 00:00:00"
        ],
        [
         "23",
         "1",
         "2013-03-07 00:00:00"
        ],
        [
         "24",
         "1",
         "2013-03-08 00:00:00"
        ],
        [
         "25",
         "1",
         "2013-03-18 00:00:00"
        ],
        [
         "26",
         "1",
         "2013-03-19 00:00:00"
        ],
        [
         "27",
         "1",
         "2013-03-20 00:00:00"
        ],
        [
         "28",
         "1",
         "2013-03-21 00:00:00"
        ],
        [
         "29",
         "1",
         "2013-03-22 00:00:00"
        ],
        [
         "30",
         "1",
         "2013-03-25 00:00:00"
        ],
        [
         "31",
         "1",
         "2013-03-26 00:00:00"
        ],
        [
         "32",
         "1",
         "2013-03-27 00:00:00"
        ],
        [
         "33",
         "1",
         "2013-03-28 00:00:00"
        ],
        [
         "34",
         "1",
         "2013-04-08 00:00:00"
        ],
        [
         "35",
         "1",
         "2013-04-09 00:00:00"
        ],
        [
         "36",
         "1",
         "2013-04-10 00:00:00"
        ],
        [
         "37",
         "1",
         "2013-04-11 00:00:00"
        ],
        [
         "38",
         "1",
         "2013-04-12 00:00:00"
        ],
        [
         "39",
         "1",
         "2013-04-22 00:00:00"
        ],
        [
         "40",
         "1",
         "2013-04-23 00:00:00"
        ],
        [
         "41",
         "1",
         "2013-04-24 00:00:00"
        ],
        [
         "42",
         "1",
         "2013-04-25 00:00:00"
        ],
        [
         "43",
         "1",
         "2013-04-26 00:00:00"
        ],
        [
         "44",
         "1",
         "2013-04-29 00:00:00"
        ],
        [
         "45",
         "1",
         "2013-04-30 00:00:00"
        ],
        [
         "46",
         "1",
         "2013-05-02 00:00:00"
        ],
        [
         "47",
         "1",
         "2013-05-03 00:00:00"
        ],
        [
         "48",
         "1",
         "2013-05-13 00:00:00"
        ],
        [
         "49",
         "1",
         "2013-05-14 00:00:00"
        ]
       ],
       "shape": {
        "columns": 2,
        "rows": 577882
       }
      },
      "text/html": [
       "<div>\n",
       "<style scoped>\n",
       "    .dataframe tbody tr th:only-of-type {\n",
       "        vertical-align: middle;\n",
       "    }\n",
       "\n",
       "    .dataframe tbody tr th {\n",
       "        vertical-align: top;\n",
       "    }\n",
       "\n",
       "    .dataframe thead th {\n",
       "        text-align: right;\n",
       "    }\n",
       "</style>\n",
       "<table border=\"1\" class=\"dataframe\">\n",
       "  <thead>\n",
       "    <tr style=\"text-align: right;\">\n",
       "      <th></th>\n",
       "      <th>Store</th>\n",
       "      <th>Date</th>\n",
       "    </tr>\n",
       "  </thead>\n",
       "  <tbody>\n",
       "    <tr>\n",
       "      <th>0</th>\n",
       "      <td>1</td>\n",
       "      <td>2013-01-07</td>\n",
       "    </tr>\n",
       "    <tr>\n",
       "      <th>1</th>\n",
       "      <td>1</td>\n",
       "      <td>2013-01-08</td>\n",
       "    </tr>\n",
       "    <tr>\n",
       "      <th>2</th>\n",
       "      <td>1</td>\n",
       "      <td>2013-01-09</td>\n",
       "    </tr>\n",
       "    <tr>\n",
       "      <th>3</th>\n",
       "      <td>1</td>\n",
       "      <td>2013-01-10</td>\n",
       "    </tr>\n",
       "    <tr>\n",
       "      <th>4</th>\n",
       "      <td>1</td>\n",
       "      <td>2013-01-11</td>\n",
       "    </tr>\n",
       "    <tr>\n",
       "      <th>...</th>\n",
       "      <td>...</td>\n",
       "      <td>...</td>\n",
       "    </tr>\n",
       "    <tr>\n",
       "      <th>577877</th>\n",
       "      <td>1115</td>\n",
       "      <td>2015-12-27</td>\n",
       "    </tr>\n",
       "    <tr>\n",
       "      <th>577878</th>\n",
       "      <td>1115</td>\n",
       "      <td>2015-12-28</td>\n",
       "    </tr>\n",
       "    <tr>\n",
       "      <th>577879</th>\n",
       "      <td>1115</td>\n",
       "      <td>2015-12-29</td>\n",
       "    </tr>\n",
       "    <tr>\n",
       "      <th>577880</th>\n",
       "      <td>1115</td>\n",
       "      <td>2015-12-30</td>\n",
       "    </tr>\n",
       "    <tr>\n",
       "      <th>577881</th>\n",
       "      <td>1115</td>\n",
       "      <td>2015-12-31</td>\n",
       "    </tr>\n",
       "  </tbody>\n",
       "</table>\n",
       "<p>577882 rows × 2 columns</p>\n",
       "</div>"
      ],
      "text/plain": [
       "        Store       Date\n",
       "0           1 2013-01-07\n",
       "1           1 2013-01-08\n",
       "2           1 2013-01-09\n",
       "3           1 2013-01-10\n",
       "4           1 2013-01-11\n",
       "...       ...        ...\n",
       "577877   1115 2015-12-27\n",
       "577878   1115 2015-12-28\n",
       "577879   1115 2015-12-29\n",
       "577880   1115 2015-12-30\n",
       "577881   1115 2015-12-31\n",
       "\n",
       "[577882 rows x 2 columns]"
      ]
     },
     "metadata": {},
     "output_type": "display_data"
    }
   ],
   "source": [
    "# Add promo_dates_df to promotions\n",
    "promotions = pd.merge(promotions, promo_dates_df, on=['Store', 'Date'], how='outer')\n",
    "promotions = promotions.drop_duplicates(subset=['Store', 'Date'])\n",
    "promotions = promotions.sort_values(by=['Store', 'Date'])\n",
    "display(promotions)"
   ]
  },
  {
   "cell_type": "markdown",
   "id": "83cba3f6",
   "metadata": {},
   "source": [
    "We can merge the main df with the stores one to add the info regarding the stores to the main df."
   ]
  },
  {
   "cell_type": "code",
   "execution_count": 11,
   "id": "56b270e9",
   "metadata": {},
   "outputs": [
    {
     "data": {
      "application/vnd.microsoft.datawrangler.viewer.v0+json": {
       "columns": [
        {
         "name": "index",
         "rawType": "int64",
         "type": "integer"
        },
        {
         "name": "Store",
         "rawType": "int64",
         "type": "integer"
        },
        {
         "name": "Date",
         "rawType": "datetime64[ns]",
         "type": "datetime"
        },
        {
         "name": "Sales",
         "rawType": "int64",
         "type": "integer"
        },
        {
         "name": "Customers",
         "rawType": "int64",
         "type": "integer"
        },
        {
         "name": "Assortment",
         "rawType": "object",
         "type": "string"
        },
        {
         "name": "CompetitionDistance",
         "rawType": "float64",
         "type": "float"
        },
        {
         "name": "PromoSinceWeek",
         "rawType": "float64",
         "type": "float"
        },
        {
         "name": "PromoSinceYear",
         "rawType": "float64",
         "type": "float"
        },
        {
         "name": "PromoInterval",
         "rawType": "object",
         "type": "unknown"
        }
       ],
       "ref": "05503365-885e-4345-82be-d05f849bc69d",
       "rows": [
        [
         "0",
         "1",
         "2013-01-02 00:00:00",
         "5530",
         "668",
         "Small",
         "1270.0",
         null,
         null,
         null
        ],
        [
         "1",
         "1",
         "2013-01-03 00:00:00",
         "4327",
         "578",
         "Small",
         "1270.0",
         null,
         null,
         null
        ],
        [
         "2",
         "1",
         "2013-01-04 00:00:00",
         "4486",
         "619",
         "Small",
         "1270.0",
         null,
         null,
         null
        ],
        [
         "3",
         "1",
         "2013-01-05 00:00:00",
         "4997",
         "635",
         "Small",
         "1270.0",
         null,
         null,
         null
        ],
        [
         "4",
         "1",
         "2013-01-07 00:00:00",
         "7176",
         "785",
         "Small",
         "1270.0",
         null,
         null,
         null
        ],
        [
         "5",
         "1",
         "2013-01-08 00:00:00",
         "5580",
         "654",
         "Small",
         "1270.0",
         null,
         null,
         null
        ],
        [
         "6",
         "1",
         "2013-01-09 00:00:00",
         "5471",
         "626",
         "Small",
         "1270.0",
         null,
         null,
         null
        ],
        [
         "7",
         "1",
         "2013-01-10 00:00:00",
         "4892",
         "615",
         "Small",
         "1270.0",
         null,
         null,
         null
        ],
        [
         "8",
         "1",
         "2013-01-11 00:00:00",
         "4881",
         "592",
         "Small",
         "1270.0",
         null,
         null,
         null
        ],
        [
         "9",
         "1",
         "2013-01-12 00:00:00",
         "4952",
         "646",
         "Small",
         "1270.0",
         null,
         null,
         null
        ],
        [
         "10",
         "1",
         "2013-01-14 00:00:00",
         "4717",
         "616",
         "Small",
         "1270.0",
         null,
         null,
         null
        ],
        [
         "11",
         "1",
         "2013-01-15 00:00:00",
         "3900",
         "512",
         "Small",
         "1270.0",
         null,
         null,
         null
        ],
        [
         "12",
         "1",
         "2013-01-16 00:00:00",
         "4008",
         "530",
         "Small",
         "1270.0",
         null,
         null,
         null
        ],
        [
         "13",
         "1",
         "2013-01-17 00:00:00",
         "4044",
         "503",
         "Small",
         "1270.0",
         null,
         null,
         null
        ],
        [
         "14",
         "1",
         "2013-01-18 00:00:00",
         "4127",
         "568",
         "Small",
         "1270.0",
         null,
         null,
         null
        ],
        [
         "15",
         "1",
         "2013-01-19 00:00:00",
         "5182",
         "688",
         "Small",
         "1270.0",
         null,
         null,
         null
        ],
        [
         "16",
         "1",
         "2013-01-21 00:00:00",
         "5394",
         "607",
         "Small",
         "1270.0",
         null,
         null,
         null
        ],
        [
         "17",
         "1",
         "2013-01-22 00:00:00",
         "5720",
         "667",
         "Small",
         "1270.0",
         null,
         null,
         null
        ],
        [
         "18",
         "1",
         "2013-01-23 00:00:00",
         "5578",
         "627",
         "Small",
         "1270.0",
         null,
         null,
         null
        ],
        [
         "19",
         "1",
         "2013-01-24 00:00:00",
         "5195",
         "645",
         "Small",
         "1270.0",
         null,
         null,
         null
        ],
        [
         "20",
         "1",
         "2013-01-25 00:00:00",
         "5586",
         "676",
         "Small",
         "1270.0",
         null,
         null,
         null
        ],
        [
         "21",
         "1",
         "2013-01-26 00:00:00",
         "5598",
         "640",
         "Small",
         "1270.0",
         null,
         null,
         null
        ],
        [
         "22",
         "1",
         "2013-01-28 00:00:00",
         "4055",
         "549",
         "Small",
         "1270.0",
         null,
         null,
         null
        ],
        [
         "23",
         "1",
         "2013-01-29 00:00:00",
         "3725",
         "522",
         "Small",
         "1270.0",
         null,
         null,
         null
        ],
        [
         "24",
         "1",
         "2013-01-30 00:00:00",
         "4601",
         "560",
         "Small",
         "1270.0",
         null,
         null,
         null
        ],
        [
         "25",
         "1",
         "2013-01-31 00:00:00",
         "4709",
         "571",
         "Small",
         "1270.0",
         null,
         null,
         null
        ],
        [
         "26",
         "1",
         "2013-02-01 00:00:00",
         "5633",
         "658",
         "Small",
         "1270.0",
         null,
         null,
         null
        ],
        [
         "27",
         "1",
         "2013-02-02 00:00:00",
         "5970",
         "701",
         "Small",
         "1270.0",
         null,
         null,
         null
        ],
        [
         "28",
         "1",
         "2013-02-04 00:00:00",
         "7032",
         "762",
         "Small",
         "1270.0",
         null,
         null,
         null
        ],
        [
         "29",
         "1",
         "2013-02-05 00:00:00",
         "6049",
         "678",
         "Small",
         "1270.0",
         null,
         null,
         null
        ],
        [
         "30",
         "1",
         "2013-02-06 00:00:00",
         "6140",
         "693",
         "Small",
         "1270.0",
         null,
         null,
         null
        ],
        [
         "31",
         "1",
         "2013-02-07 00:00:00",
         "5499",
         "675",
         "Small",
         "1270.0",
         null,
         null,
         null
        ],
        [
         "32",
         "1",
         "2013-02-08 00:00:00",
         "5681",
         "630",
         "Small",
         "1270.0",
         null,
         null,
         null
        ],
        [
         "33",
         "1",
         "2013-02-09 00:00:00",
         "5370",
         "656",
         "Small",
         "1270.0",
         null,
         null,
         null
        ],
        [
         "34",
         "1",
         "2013-02-11 00:00:00",
         "4409",
         "599",
         "Small",
         "1270.0",
         null,
         null,
         null
        ],
        [
         "35",
         "1",
         "2013-02-12 00:00:00",
         "4015",
         "572",
         "Small",
         "1270.0",
         null,
         null,
         null
        ],
        [
         "36",
         "1",
         "2013-02-13 00:00:00",
         "4252",
         "604",
         "Small",
         "1270.0",
         null,
         null,
         null
        ],
        [
         "37",
         "1",
         "2013-02-14 00:00:00",
         "4241",
         "573",
         "Small",
         "1270.0",
         null,
         null,
         null
        ],
        [
         "38",
         "1",
         "2013-02-15 00:00:00",
         "4809",
         "607",
         "Small",
         "1270.0",
         null,
         null,
         null
        ],
        [
         "39",
         "1",
         "2013-02-16 00:00:00",
         "6154",
         "682",
         "Small",
         "1270.0",
         null,
         null,
         null
        ],
        [
         "40",
         "1",
         "2013-02-18 00:00:00",
         "6407",
         "710",
         "Small",
         "1270.0",
         null,
         null,
         null
        ],
        [
         "41",
         "1",
         "2013-02-19 00:00:00",
         "5386",
         "608",
         "Small",
         "1270.0",
         null,
         null,
         null
        ],
        [
         "42",
         "1",
         "2013-02-20 00:00:00",
         "5660",
         "684",
         "Small",
         "1270.0",
         null,
         null,
         null
        ],
        [
         "43",
         "1",
         "2013-02-21 00:00:00",
         "5261",
         "629",
         "Small",
         "1270.0",
         null,
         null,
         null
        ],
        [
         "44",
         "1",
         "2013-02-22 00:00:00",
         "5000",
         "599",
         "Small",
         "1270.0",
         null,
         null,
         null
        ],
        [
         "45",
         "1",
         "2013-02-23 00:00:00",
         "5237",
         "650",
         "Small",
         "1270.0",
         null,
         null,
         null
        ],
        [
         "46",
         "1",
         "2013-02-25 00:00:00",
         "4038",
         "534",
         "Small",
         "1270.0",
         null,
         null,
         null
        ],
        [
         "47",
         "1",
         "2013-02-26 00:00:00",
         "3794",
         "525",
         "Small",
         "1270.0",
         null,
         null,
         null
        ],
        [
         "48",
         "1",
         "2013-02-27 00:00:00",
         "4558",
         "579",
         "Small",
         "1270.0",
         null,
         null,
         null
        ],
        [
         "49",
         "1",
         "2013-02-28 00:00:00",
         "4676",
         "581",
         "Small",
         "1270.0",
         null,
         null,
         null
        ]
       ],
       "shape": {
        "columns": 9,
        "rows": 844392
       }
      },
      "text/html": [
       "<div>\n",
       "<style scoped>\n",
       "    .dataframe tbody tr th:only-of-type {\n",
       "        vertical-align: middle;\n",
       "    }\n",
       "\n",
       "    .dataframe tbody tr th {\n",
       "        vertical-align: top;\n",
       "    }\n",
       "\n",
       "    .dataframe thead th {\n",
       "        text-align: right;\n",
       "    }\n",
       "</style>\n",
       "<table border=\"1\" class=\"dataframe\">\n",
       "  <thead>\n",
       "    <tr style=\"text-align: right;\">\n",
       "      <th></th>\n",
       "      <th>Store</th>\n",
       "      <th>Date</th>\n",
       "      <th>Sales</th>\n",
       "      <th>Customers</th>\n",
       "      <th>Assortment</th>\n",
       "      <th>CompetitionDistance</th>\n",
       "      <th>PromoSinceWeek</th>\n",
       "      <th>PromoSinceYear</th>\n",
       "      <th>PromoInterval</th>\n",
       "    </tr>\n",
       "  </thead>\n",
       "  <tbody>\n",
       "    <tr>\n",
       "      <th>0</th>\n",
       "      <td>1</td>\n",
       "      <td>2013-01-02</td>\n",
       "      <td>5530</td>\n",
       "      <td>668</td>\n",
       "      <td>Small</td>\n",
       "      <td>1270.0</td>\n",
       "      <td>NaN</td>\n",
       "      <td>NaN</td>\n",
       "      <td>NaN</td>\n",
       "    </tr>\n",
       "    <tr>\n",
       "      <th>1</th>\n",
       "      <td>1</td>\n",
       "      <td>2013-01-03</td>\n",
       "      <td>4327</td>\n",
       "      <td>578</td>\n",
       "      <td>Small</td>\n",
       "      <td>1270.0</td>\n",
       "      <td>NaN</td>\n",
       "      <td>NaN</td>\n",
       "      <td>NaN</td>\n",
       "    </tr>\n",
       "    <tr>\n",
       "      <th>2</th>\n",
       "      <td>1</td>\n",
       "      <td>2013-01-04</td>\n",
       "      <td>4486</td>\n",
       "      <td>619</td>\n",
       "      <td>Small</td>\n",
       "      <td>1270.0</td>\n",
       "      <td>NaN</td>\n",
       "      <td>NaN</td>\n",
       "      <td>NaN</td>\n",
       "    </tr>\n",
       "    <tr>\n",
       "      <th>3</th>\n",
       "      <td>1</td>\n",
       "      <td>2013-01-05</td>\n",
       "      <td>4997</td>\n",
       "      <td>635</td>\n",
       "      <td>Small</td>\n",
       "      <td>1270.0</td>\n",
       "      <td>NaN</td>\n",
       "      <td>NaN</td>\n",
       "      <td>NaN</td>\n",
       "    </tr>\n",
       "    <tr>\n",
       "      <th>4</th>\n",
       "      <td>1</td>\n",
       "      <td>2013-01-07</td>\n",
       "      <td>7176</td>\n",
       "      <td>785</td>\n",
       "      <td>Small</td>\n",
       "      <td>1270.0</td>\n",
       "      <td>NaN</td>\n",
       "      <td>NaN</td>\n",
       "      <td>NaN</td>\n",
       "    </tr>\n",
       "    <tr>\n",
       "      <th>...</th>\n",
       "      <td>...</td>\n",
       "      <td>...</td>\n",
       "      <td>...</td>\n",
       "      <td>...</td>\n",
       "      <td>...</td>\n",
       "      <td>...</td>\n",
       "      <td>...</td>\n",
       "      <td>...</td>\n",
       "      <td>...</td>\n",
       "    </tr>\n",
       "    <tr>\n",
       "      <th>844387</th>\n",
       "      <td>1115</td>\n",
       "      <td>2015-07-27</td>\n",
       "      <td>10712</td>\n",
       "      <td>608</td>\n",
       "      <td>Large</td>\n",
       "      <td>5350.0</td>\n",
       "      <td>22.0</td>\n",
       "      <td>2012.0</td>\n",
       "      <td>Mar,Jun,Sept,Dec</td>\n",
       "    </tr>\n",
       "    <tr>\n",
       "      <th>844388</th>\n",
       "      <td>1115</td>\n",
       "      <td>2015-07-28</td>\n",
       "      <td>8093</td>\n",
       "      <td>500</td>\n",
       "      <td>Large</td>\n",
       "      <td>5350.0</td>\n",
       "      <td>22.0</td>\n",
       "      <td>2012.0</td>\n",
       "      <td>Mar,Jun,Sept,Dec</td>\n",
       "    </tr>\n",
       "    <tr>\n",
       "      <th>844389</th>\n",
       "      <td>1115</td>\n",
       "      <td>2015-07-29</td>\n",
       "      <td>7661</td>\n",
       "      <td>473</td>\n",
       "      <td>Large</td>\n",
       "      <td>5350.0</td>\n",
       "      <td>22.0</td>\n",
       "      <td>2012.0</td>\n",
       "      <td>Mar,Jun,Sept,Dec</td>\n",
       "    </tr>\n",
       "    <tr>\n",
       "      <th>844390</th>\n",
       "      <td>1115</td>\n",
       "      <td>2015-07-30</td>\n",
       "      <td>8405</td>\n",
       "      <td>502</td>\n",
       "      <td>Large</td>\n",
       "      <td>5350.0</td>\n",
       "      <td>22.0</td>\n",
       "      <td>2012.0</td>\n",
       "      <td>Mar,Jun,Sept,Dec</td>\n",
       "    </tr>\n",
       "    <tr>\n",
       "      <th>844391</th>\n",
       "      <td>1115</td>\n",
       "      <td>2015-07-31</td>\n",
       "      <td>8680</td>\n",
       "      <td>538</td>\n",
       "      <td>Large</td>\n",
       "      <td>5350.0</td>\n",
       "      <td>22.0</td>\n",
       "      <td>2012.0</td>\n",
       "      <td>Mar,Jun,Sept,Dec</td>\n",
       "    </tr>\n",
       "  </tbody>\n",
       "</table>\n",
       "<p>844392 rows × 9 columns</p>\n",
       "</div>"
      ],
      "text/plain": [
       "        Store       Date  Sales  Customers Assortment  CompetitionDistance  \\\n",
       "0           1 2013-01-02   5530        668      Small               1270.0   \n",
       "1           1 2013-01-03   4327        578      Small               1270.0   \n",
       "2           1 2013-01-04   4486        619      Small               1270.0   \n",
       "3           1 2013-01-05   4997        635      Small               1270.0   \n",
       "4           1 2013-01-07   7176        785      Small               1270.0   \n",
       "...       ...        ...    ...        ...        ...                  ...   \n",
       "844387   1115 2015-07-27  10712        608      Large               5350.0   \n",
       "844388   1115 2015-07-28   8093        500      Large               5350.0   \n",
       "844389   1115 2015-07-29   7661        473      Large               5350.0   \n",
       "844390   1115 2015-07-30   8405        502      Large               5350.0   \n",
       "844391   1115 2015-07-31   8680        538      Large               5350.0   \n",
       "\n",
       "        PromoSinceWeek  PromoSinceYear     PromoInterval  \n",
       "0                  NaN             NaN               NaN  \n",
       "1                  NaN             NaN               NaN  \n",
       "2                  NaN             NaN               NaN  \n",
       "3                  NaN             NaN               NaN  \n",
       "4                  NaN             NaN               NaN  \n",
       "...                ...             ...               ...  \n",
       "844387            22.0          2012.0  Mar,Jun,Sept,Dec  \n",
       "844388            22.0          2012.0  Mar,Jun,Sept,Dec  \n",
       "844389            22.0          2012.0  Mar,Jun,Sept,Dec  \n",
       "844390            22.0          2012.0  Mar,Jun,Sept,Dec  \n",
       "844391            22.0          2012.0  Mar,Jun,Sept,Dec  \n",
       "\n",
       "[844392 rows x 9 columns]"
      ]
     },
     "metadata": {},
     "output_type": "display_data"
    }
   ],
   "source": [
    "# Merge stores with df\n",
    "df = pd.merge(df, stores, on='Store', how='left')\n",
    "display(df)"
   ]
  },
  {
   "cell_type": "code",
   "execution_count": 12,
   "id": "f43f7611",
   "metadata": {},
   "outputs": [
    {
     "data": {
      "application/vnd.microsoft.datawrangler.viewer.v0+json": {
       "columns": [
        {
         "name": "index",
         "rawType": "int64",
         "type": "integer"
        },
        {
         "name": "Store",
         "rawType": "int64",
         "type": "integer"
        },
        {
         "name": "Date",
         "rawType": "datetime64[ns]",
         "type": "datetime"
        },
        {
         "name": "Sales",
         "rawType": "int64",
         "type": "integer"
        },
        {
         "name": "Customers",
         "rawType": "int64",
         "type": "integer"
        },
        {
         "name": "Assortment",
         "rawType": "object",
         "type": "string"
        },
        {
         "name": "CompetitionDistance",
         "rawType": "float64",
         "type": "float"
        }
       ],
       "ref": "3350adda-3d1c-4be6-9437-6db32eabe7ac",
       "rows": [
        [
         "0",
         "1",
         "2013-01-02 00:00:00",
         "5530",
         "668",
         "Small",
         "1270.0"
        ],
        [
         "1",
         "1",
         "2013-01-03 00:00:00",
         "4327",
         "578",
         "Small",
         "1270.0"
        ],
        [
         "2",
         "1",
         "2013-01-04 00:00:00",
         "4486",
         "619",
         "Small",
         "1270.0"
        ],
        [
         "3",
         "1",
         "2013-01-05 00:00:00",
         "4997",
         "635",
         "Small",
         "1270.0"
        ],
        [
         "4",
         "1",
         "2013-01-07 00:00:00",
         "7176",
         "785",
         "Small",
         "1270.0"
        ],
        [
         "5",
         "1",
         "2013-01-08 00:00:00",
         "5580",
         "654",
         "Small",
         "1270.0"
        ],
        [
         "6",
         "1",
         "2013-01-09 00:00:00",
         "5471",
         "626",
         "Small",
         "1270.0"
        ],
        [
         "7",
         "1",
         "2013-01-10 00:00:00",
         "4892",
         "615",
         "Small",
         "1270.0"
        ],
        [
         "8",
         "1",
         "2013-01-11 00:00:00",
         "4881",
         "592",
         "Small",
         "1270.0"
        ],
        [
         "9",
         "1",
         "2013-01-12 00:00:00",
         "4952",
         "646",
         "Small",
         "1270.0"
        ],
        [
         "10",
         "1",
         "2013-01-14 00:00:00",
         "4717",
         "616",
         "Small",
         "1270.0"
        ],
        [
         "11",
         "1",
         "2013-01-15 00:00:00",
         "3900",
         "512",
         "Small",
         "1270.0"
        ],
        [
         "12",
         "1",
         "2013-01-16 00:00:00",
         "4008",
         "530",
         "Small",
         "1270.0"
        ],
        [
         "13",
         "1",
         "2013-01-17 00:00:00",
         "4044",
         "503",
         "Small",
         "1270.0"
        ],
        [
         "14",
         "1",
         "2013-01-18 00:00:00",
         "4127",
         "568",
         "Small",
         "1270.0"
        ],
        [
         "15",
         "1",
         "2013-01-19 00:00:00",
         "5182",
         "688",
         "Small",
         "1270.0"
        ],
        [
         "16",
         "1",
         "2013-01-21 00:00:00",
         "5394",
         "607",
         "Small",
         "1270.0"
        ],
        [
         "17",
         "1",
         "2013-01-22 00:00:00",
         "5720",
         "667",
         "Small",
         "1270.0"
        ],
        [
         "18",
         "1",
         "2013-01-23 00:00:00",
         "5578",
         "627",
         "Small",
         "1270.0"
        ],
        [
         "19",
         "1",
         "2013-01-24 00:00:00",
         "5195",
         "645",
         "Small",
         "1270.0"
        ],
        [
         "20",
         "1",
         "2013-01-25 00:00:00",
         "5586",
         "676",
         "Small",
         "1270.0"
        ],
        [
         "21",
         "1",
         "2013-01-26 00:00:00",
         "5598",
         "640",
         "Small",
         "1270.0"
        ],
        [
         "22",
         "1",
         "2013-01-28 00:00:00",
         "4055",
         "549",
         "Small",
         "1270.0"
        ],
        [
         "23",
         "1",
         "2013-01-29 00:00:00",
         "3725",
         "522",
         "Small",
         "1270.0"
        ],
        [
         "24",
         "1",
         "2013-01-30 00:00:00",
         "4601",
         "560",
         "Small",
         "1270.0"
        ],
        [
         "25",
         "1",
         "2013-01-31 00:00:00",
         "4709",
         "571",
         "Small",
         "1270.0"
        ],
        [
         "26",
         "1",
         "2013-02-01 00:00:00",
         "5633",
         "658",
         "Small",
         "1270.0"
        ],
        [
         "27",
         "1",
         "2013-02-02 00:00:00",
         "5970",
         "701",
         "Small",
         "1270.0"
        ],
        [
         "28",
         "1",
         "2013-02-04 00:00:00",
         "7032",
         "762",
         "Small",
         "1270.0"
        ],
        [
         "29",
         "1",
         "2013-02-05 00:00:00",
         "6049",
         "678",
         "Small",
         "1270.0"
        ],
        [
         "30",
         "1",
         "2013-02-06 00:00:00",
         "6140",
         "693",
         "Small",
         "1270.0"
        ],
        [
         "31",
         "1",
         "2013-02-07 00:00:00",
         "5499",
         "675",
         "Small",
         "1270.0"
        ],
        [
         "32",
         "1",
         "2013-02-08 00:00:00",
         "5681",
         "630",
         "Small",
         "1270.0"
        ],
        [
         "33",
         "1",
         "2013-02-09 00:00:00",
         "5370",
         "656",
         "Small",
         "1270.0"
        ],
        [
         "34",
         "1",
         "2013-02-11 00:00:00",
         "4409",
         "599",
         "Small",
         "1270.0"
        ],
        [
         "35",
         "1",
         "2013-02-12 00:00:00",
         "4015",
         "572",
         "Small",
         "1270.0"
        ],
        [
         "36",
         "1",
         "2013-02-13 00:00:00",
         "4252",
         "604",
         "Small",
         "1270.0"
        ],
        [
         "37",
         "1",
         "2013-02-14 00:00:00",
         "4241",
         "573",
         "Small",
         "1270.0"
        ],
        [
         "38",
         "1",
         "2013-02-15 00:00:00",
         "4809",
         "607",
         "Small",
         "1270.0"
        ],
        [
         "39",
         "1",
         "2013-02-16 00:00:00",
         "6154",
         "682",
         "Small",
         "1270.0"
        ],
        [
         "40",
         "1",
         "2013-02-18 00:00:00",
         "6407",
         "710",
         "Small",
         "1270.0"
        ],
        [
         "41",
         "1",
         "2013-02-19 00:00:00",
         "5386",
         "608",
         "Small",
         "1270.0"
        ],
        [
         "42",
         "1",
         "2013-02-20 00:00:00",
         "5660",
         "684",
         "Small",
         "1270.0"
        ],
        [
         "43",
         "1",
         "2013-02-21 00:00:00",
         "5261",
         "629",
         "Small",
         "1270.0"
        ],
        [
         "44",
         "1",
         "2013-02-22 00:00:00",
         "5000",
         "599",
         "Small",
         "1270.0"
        ],
        [
         "45",
         "1",
         "2013-02-23 00:00:00",
         "5237",
         "650",
         "Small",
         "1270.0"
        ],
        [
         "46",
         "1",
         "2013-02-25 00:00:00",
         "4038",
         "534",
         "Small",
         "1270.0"
        ],
        [
         "47",
         "1",
         "2013-02-26 00:00:00",
         "3794",
         "525",
         "Small",
         "1270.0"
        ],
        [
         "48",
         "1",
         "2013-02-27 00:00:00",
         "4558",
         "579",
         "Small",
         "1270.0"
        ],
        [
         "49",
         "1",
         "2013-02-28 00:00:00",
         "4676",
         "581",
         "Small",
         "1270.0"
        ]
       ],
       "shape": {
        "columns": 6,
        "rows": 844392
       }
      },
      "text/html": [
       "<div>\n",
       "<style scoped>\n",
       "    .dataframe tbody tr th:only-of-type {\n",
       "        vertical-align: middle;\n",
       "    }\n",
       "\n",
       "    .dataframe tbody tr th {\n",
       "        vertical-align: top;\n",
       "    }\n",
       "\n",
       "    .dataframe thead th {\n",
       "        text-align: right;\n",
       "    }\n",
       "</style>\n",
       "<table border=\"1\" class=\"dataframe\">\n",
       "  <thead>\n",
       "    <tr style=\"text-align: right;\">\n",
       "      <th></th>\n",
       "      <th>Store</th>\n",
       "      <th>Date</th>\n",
       "      <th>Sales</th>\n",
       "      <th>Customers</th>\n",
       "      <th>Assortment</th>\n",
       "      <th>CompetitionDistance</th>\n",
       "    </tr>\n",
       "  </thead>\n",
       "  <tbody>\n",
       "    <tr>\n",
       "      <th>0</th>\n",
       "      <td>1</td>\n",
       "      <td>2013-01-02</td>\n",
       "      <td>5530</td>\n",
       "      <td>668</td>\n",
       "      <td>Small</td>\n",
       "      <td>1270.0</td>\n",
       "    </tr>\n",
       "    <tr>\n",
       "      <th>1</th>\n",
       "      <td>1</td>\n",
       "      <td>2013-01-03</td>\n",
       "      <td>4327</td>\n",
       "      <td>578</td>\n",
       "      <td>Small</td>\n",
       "      <td>1270.0</td>\n",
       "    </tr>\n",
       "    <tr>\n",
       "      <th>2</th>\n",
       "      <td>1</td>\n",
       "      <td>2013-01-04</td>\n",
       "      <td>4486</td>\n",
       "      <td>619</td>\n",
       "      <td>Small</td>\n",
       "      <td>1270.0</td>\n",
       "    </tr>\n",
       "    <tr>\n",
       "      <th>3</th>\n",
       "      <td>1</td>\n",
       "      <td>2013-01-05</td>\n",
       "      <td>4997</td>\n",
       "      <td>635</td>\n",
       "      <td>Small</td>\n",
       "      <td>1270.0</td>\n",
       "    </tr>\n",
       "    <tr>\n",
       "      <th>4</th>\n",
       "      <td>1</td>\n",
       "      <td>2013-01-07</td>\n",
       "      <td>7176</td>\n",
       "      <td>785</td>\n",
       "      <td>Small</td>\n",
       "      <td>1270.0</td>\n",
       "    </tr>\n",
       "    <tr>\n",
       "      <th>...</th>\n",
       "      <td>...</td>\n",
       "      <td>...</td>\n",
       "      <td>...</td>\n",
       "      <td>...</td>\n",
       "      <td>...</td>\n",
       "      <td>...</td>\n",
       "    </tr>\n",
       "    <tr>\n",
       "      <th>844387</th>\n",
       "      <td>1115</td>\n",
       "      <td>2015-07-27</td>\n",
       "      <td>10712</td>\n",
       "      <td>608</td>\n",
       "      <td>Large</td>\n",
       "      <td>5350.0</td>\n",
       "    </tr>\n",
       "    <tr>\n",
       "      <th>844388</th>\n",
       "      <td>1115</td>\n",
       "      <td>2015-07-28</td>\n",
       "      <td>8093</td>\n",
       "      <td>500</td>\n",
       "      <td>Large</td>\n",
       "      <td>5350.0</td>\n",
       "    </tr>\n",
       "    <tr>\n",
       "      <th>844389</th>\n",
       "      <td>1115</td>\n",
       "      <td>2015-07-29</td>\n",
       "      <td>7661</td>\n",
       "      <td>473</td>\n",
       "      <td>Large</td>\n",
       "      <td>5350.0</td>\n",
       "    </tr>\n",
       "    <tr>\n",
       "      <th>844390</th>\n",
       "      <td>1115</td>\n",
       "      <td>2015-07-30</td>\n",
       "      <td>8405</td>\n",
       "      <td>502</td>\n",
       "      <td>Large</td>\n",
       "      <td>5350.0</td>\n",
       "    </tr>\n",
       "    <tr>\n",
       "      <th>844391</th>\n",
       "      <td>1115</td>\n",
       "      <td>2015-07-31</td>\n",
       "      <td>8680</td>\n",
       "      <td>538</td>\n",
       "      <td>Large</td>\n",
       "      <td>5350.0</td>\n",
       "    </tr>\n",
       "  </tbody>\n",
       "</table>\n",
       "<p>844392 rows × 6 columns</p>\n",
       "</div>"
      ],
      "text/plain": [
       "        Store       Date  Sales  Customers Assortment  CompetitionDistance\n",
       "0           1 2013-01-02   5530        668      Small               1270.0\n",
       "1           1 2013-01-03   4327        578      Small               1270.0\n",
       "2           1 2013-01-04   4486        619      Small               1270.0\n",
       "3           1 2013-01-05   4997        635      Small               1270.0\n",
       "4           1 2013-01-07   7176        785      Small               1270.0\n",
       "...       ...        ...    ...        ...        ...                  ...\n",
       "844387   1115 2015-07-27  10712        608      Large               5350.0\n",
       "844388   1115 2015-07-28   8093        500      Large               5350.0\n",
       "844389   1115 2015-07-29   7661        473      Large               5350.0\n",
       "844390   1115 2015-07-30   8405        502      Large               5350.0\n",
       "844391   1115 2015-07-31   8680        538      Large               5350.0\n",
       "\n",
       "[844392 rows x 6 columns]"
      ]
     },
     "metadata": {},
     "output_type": "display_data"
    }
   ],
   "source": [
    "df.drop(columns=['PromoSinceWeek', 'PromoSinceYear', 'PromoInterval'], inplace=True)\n",
    "display(df)"
   ]
  },
  {
   "cell_type": "markdown",
   "id": "b01c8b13",
   "metadata": {},
   "source": [
    "We can also add all the promotions dates to the main df but giving priority to the existence of a main df entry with the same date and store id on the promotions df."
   ]
  },
  {
   "cell_type": "code",
   "execution_count": 13,
   "id": "8743811c",
   "metadata": {},
   "outputs": [
    {
     "data": {
      "application/vnd.microsoft.datawrangler.viewer.v0+json": {
       "columns": [
        {
         "name": "index",
         "rawType": "int64",
         "type": "integer"
        },
        {
         "name": "Store",
         "rawType": "int64",
         "type": "integer"
        },
        {
         "name": "Date",
         "rawType": "datetime64[ns]",
         "type": "datetime"
        },
        {
         "name": "Sales",
         "rawType": "int64",
         "type": "integer"
        },
        {
         "name": "Customers",
         "rawType": "int64",
         "type": "integer"
        },
        {
         "name": "Assortment",
         "rawType": "object",
         "type": "string"
        },
        {
         "name": "CompetitionDistance",
         "rawType": "float64",
         "type": "float"
        },
        {
         "name": "Promo",
         "rawType": "int32",
         "type": "integer"
        }
       ],
       "ref": "730c8286-c4f0-4569-b53d-69909770c0ed",
       "rows": [
        [
         "0",
         "1",
         "2013-01-02 00:00:00",
         "5530",
         "668",
         "Small",
         "1270.0",
         "0"
        ],
        [
         "1",
         "1",
         "2013-01-03 00:00:00",
         "4327",
         "578",
         "Small",
         "1270.0",
         "0"
        ],
        [
         "2",
         "1",
         "2013-01-04 00:00:00",
         "4486",
         "619",
         "Small",
         "1270.0",
         "0"
        ],
        [
         "3",
         "1",
         "2013-01-05 00:00:00",
         "4997",
         "635",
         "Small",
         "1270.0",
         "0"
        ],
        [
         "4",
         "1",
         "2013-01-07 00:00:00",
         "7176",
         "785",
         "Small",
         "1270.0",
         "1"
        ],
        [
         "5",
         "1",
         "2013-01-08 00:00:00",
         "5580",
         "654",
         "Small",
         "1270.0",
         "1"
        ],
        [
         "6",
         "1",
         "2013-01-09 00:00:00",
         "5471",
         "626",
         "Small",
         "1270.0",
         "1"
        ],
        [
         "7",
         "1",
         "2013-01-10 00:00:00",
         "4892",
         "615",
         "Small",
         "1270.0",
         "1"
        ],
        [
         "8",
         "1",
         "2013-01-11 00:00:00",
         "4881",
         "592",
         "Small",
         "1270.0",
         "1"
        ],
        [
         "9",
         "1",
         "2013-01-12 00:00:00",
         "4952",
         "646",
         "Small",
         "1270.0",
         "0"
        ],
        [
         "10",
         "1",
         "2013-01-14 00:00:00",
         "4717",
         "616",
         "Small",
         "1270.0",
         "0"
        ],
        [
         "11",
         "1",
         "2013-01-15 00:00:00",
         "3900",
         "512",
         "Small",
         "1270.0",
         "0"
        ],
        [
         "12",
         "1",
         "2013-01-16 00:00:00",
         "4008",
         "530",
         "Small",
         "1270.0",
         "0"
        ],
        [
         "13",
         "1",
         "2013-01-17 00:00:00",
         "4044",
         "503",
         "Small",
         "1270.0",
         "0"
        ],
        [
         "14",
         "1",
         "2013-01-18 00:00:00",
         "4127",
         "568",
         "Small",
         "1270.0",
         "0"
        ],
        [
         "15",
         "1",
         "2013-01-19 00:00:00",
         "5182",
         "688",
         "Small",
         "1270.0",
         "0"
        ],
        [
         "16",
         "1",
         "2013-01-21 00:00:00",
         "5394",
         "607",
         "Small",
         "1270.0",
         "1"
        ],
        [
         "17",
         "1",
         "2013-01-22 00:00:00",
         "5720",
         "667",
         "Small",
         "1270.0",
         "1"
        ],
        [
         "18",
         "1",
         "2013-01-23 00:00:00",
         "5578",
         "627",
         "Small",
         "1270.0",
         "1"
        ],
        [
         "19",
         "1",
         "2013-01-24 00:00:00",
         "5195",
         "645",
         "Small",
         "1270.0",
         "1"
        ],
        [
         "20",
         "1",
         "2013-01-25 00:00:00",
         "5586",
         "676",
         "Small",
         "1270.0",
         "1"
        ],
        [
         "21",
         "1",
         "2013-01-26 00:00:00",
         "5598",
         "640",
         "Small",
         "1270.0",
         "0"
        ],
        [
         "22",
         "1",
         "2013-01-28 00:00:00",
         "4055",
         "549",
         "Small",
         "1270.0",
         "0"
        ],
        [
         "23",
         "1",
         "2013-01-29 00:00:00",
         "3725",
         "522",
         "Small",
         "1270.0",
         "0"
        ],
        [
         "24",
         "1",
         "2013-01-30 00:00:00",
         "4601",
         "560",
         "Small",
         "1270.0",
         "0"
        ],
        [
         "25",
         "1",
         "2013-01-31 00:00:00",
         "4709",
         "571",
         "Small",
         "1270.0",
         "0"
        ],
        [
         "26",
         "1",
         "2013-02-01 00:00:00",
         "5633",
         "658",
         "Small",
         "1270.0",
         "0"
        ],
        [
         "27",
         "1",
         "2013-02-02 00:00:00",
         "5970",
         "701",
         "Small",
         "1270.0",
         "0"
        ],
        [
         "28",
         "1",
         "2013-02-04 00:00:00",
         "7032",
         "762",
         "Small",
         "1270.0",
         "1"
        ],
        [
         "29",
         "1",
         "2013-02-05 00:00:00",
         "6049",
         "678",
         "Small",
         "1270.0",
         "1"
        ],
        [
         "30",
         "1",
         "2013-02-06 00:00:00",
         "6140",
         "693",
         "Small",
         "1270.0",
         "1"
        ],
        [
         "31",
         "1",
         "2013-02-07 00:00:00",
         "5499",
         "675",
         "Small",
         "1270.0",
         "1"
        ],
        [
         "32",
         "1",
         "2013-02-08 00:00:00",
         "5681",
         "630",
         "Small",
         "1270.0",
         "1"
        ],
        [
         "33",
         "1",
         "2013-02-09 00:00:00",
         "5370",
         "656",
         "Small",
         "1270.0",
         "0"
        ],
        [
         "34",
         "1",
         "2013-02-11 00:00:00",
         "4409",
         "599",
         "Small",
         "1270.0",
         "0"
        ],
        [
         "35",
         "1",
         "2013-02-12 00:00:00",
         "4015",
         "572",
         "Small",
         "1270.0",
         "0"
        ],
        [
         "36",
         "1",
         "2013-02-13 00:00:00",
         "4252",
         "604",
         "Small",
         "1270.0",
         "0"
        ],
        [
         "37",
         "1",
         "2013-02-14 00:00:00",
         "4241",
         "573",
         "Small",
         "1270.0",
         "0"
        ],
        [
         "38",
         "1",
         "2013-02-15 00:00:00",
         "4809",
         "607",
         "Small",
         "1270.0",
         "0"
        ],
        [
         "39",
         "1",
         "2013-02-16 00:00:00",
         "6154",
         "682",
         "Small",
         "1270.0",
         "0"
        ],
        [
         "40",
         "1",
         "2013-02-18 00:00:00",
         "6407",
         "710",
         "Small",
         "1270.0",
         "1"
        ],
        [
         "41",
         "1",
         "2013-02-19 00:00:00",
         "5386",
         "608",
         "Small",
         "1270.0",
         "1"
        ],
        [
         "42",
         "1",
         "2013-02-20 00:00:00",
         "5660",
         "684",
         "Small",
         "1270.0",
         "1"
        ],
        [
         "43",
         "1",
         "2013-02-21 00:00:00",
         "5261",
         "629",
         "Small",
         "1270.0",
         "1"
        ],
        [
         "44",
         "1",
         "2013-02-22 00:00:00",
         "5000",
         "599",
         "Small",
         "1270.0",
         "1"
        ],
        [
         "45",
         "1",
         "2013-02-23 00:00:00",
         "5237",
         "650",
         "Small",
         "1270.0",
         "0"
        ],
        [
         "46",
         "1",
         "2013-02-25 00:00:00",
         "4038",
         "534",
         "Small",
         "1270.0",
         "0"
        ],
        [
         "47",
         "1",
         "2013-02-26 00:00:00",
         "3794",
         "525",
         "Small",
         "1270.0",
         "0"
        ],
        [
         "48",
         "1",
         "2013-02-27 00:00:00",
         "4558",
         "579",
         "Small",
         "1270.0",
         "0"
        ],
        [
         "49",
         "1",
         "2013-02-28 00:00:00",
         "4676",
         "581",
         "Small",
         "1270.0",
         "0"
        ]
       ],
       "shape": {
        "columns": 7,
        "rows": 844392
       }
      },
      "text/html": [
       "<div>\n",
       "<style scoped>\n",
       "    .dataframe tbody tr th:only-of-type {\n",
       "        vertical-align: middle;\n",
       "    }\n",
       "\n",
       "    .dataframe tbody tr th {\n",
       "        vertical-align: top;\n",
       "    }\n",
       "\n",
       "    .dataframe thead th {\n",
       "        text-align: right;\n",
       "    }\n",
       "</style>\n",
       "<table border=\"1\" class=\"dataframe\">\n",
       "  <thead>\n",
       "    <tr style=\"text-align: right;\">\n",
       "      <th></th>\n",
       "      <th>Store</th>\n",
       "      <th>Date</th>\n",
       "      <th>Sales</th>\n",
       "      <th>Customers</th>\n",
       "      <th>Assortment</th>\n",
       "      <th>CompetitionDistance</th>\n",
       "      <th>Promo</th>\n",
       "    </tr>\n",
       "  </thead>\n",
       "  <tbody>\n",
       "    <tr>\n",
       "      <th>0</th>\n",
       "      <td>1</td>\n",
       "      <td>2013-01-02</td>\n",
       "      <td>5530</td>\n",
       "      <td>668</td>\n",
       "      <td>Small</td>\n",
       "      <td>1270.0</td>\n",
       "      <td>0</td>\n",
       "    </tr>\n",
       "    <tr>\n",
       "      <th>1</th>\n",
       "      <td>1</td>\n",
       "      <td>2013-01-03</td>\n",
       "      <td>4327</td>\n",
       "      <td>578</td>\n",
       "      <td>Small</td>\n",
       "      <td>1270.0</td>\n",
       "      <td>0</td>\n",
       "    </tr>\n",
       "    <tr>\n",
       "      <th>2</th>\n",
       "      <td>1</td>\n",
       "      <td>2013-01-04</td>\n",
       "      <td>4486</td>\n",
       "      <td>619</td>\n",
       "      <td>Small</td>\n",
       "      <td>1270.0</td>\n",
       "      <td>0</td>\n",
       "    </tr>\n",
       "    <tr>\n",
       "      <th>3</th>\n",
       "      <td>1</td>\n",
       "      <td>2013-01-05</td>\n",
       "      <td>4997</td>\n",
       "      <td>635</td>\n",
       "      <td>Small</td>\n",
       "      <td>1270.0</td>\n",
       "      <td>0</td>\n",
       "    </tr>\n",
       "    <tr>\n",
       "      <th>4</th>\n",
       "      <td>1</td>\n",
       "      <td>2013-01-07</td>\n",
       "      <td>7176</td>\n",
       "      <td>785</td>\n",
       "      <td>Small</td>\n",
       "      <td>1270.0</td>\n",
       "      <td>1</td>\n",
       "    </tr>\n",
       "    <tr>\n",
       "      <th>...</th>\n",
       "      <td>...</td>\n",
       "      <td>...</td>\n",
       "      <td>...</td>\n",
       "      <td>...</td>\n",
       "      <td>...</td>\n",
       "      <td>...</td>\n",
       "      <td>...</td>\n",
       "    </tr>\n",
       "    <tr>\n",
       "      <th>844387</th>\n",
       "      <td>1115</td>\n",
       "      <td>2015-07-27</td>\n",
       "      <td>10712</td>\n",
       "      <td>608</td>\n",
       "      <td>Large</td>\n",
       "      <td>5350.0</td>\n",
       "      <td>1</td>\n",
       "    </tr>\n",
       "    <tr>\n",
       "      <th>844388</th>\n",
       "      <td>1115</td>\n",
       "      <td>2015-07-28</td>\n",
       "      <td>8093</td>\n",
       "      <td>500</td>\n",
       "      <td>Large</td>\n",
       "      <td>5350.0</td>\n",
       "      <td>1</td>\n",
       "    </tr>\n",
       "    <tr>\n",
       "      <th>844389</th>\n",
       "      <td>1115</td>\n",
       "      <td>2015-07-29</td>\n",
       "      <td>7661</td>\n",
       "      <td>473</td>\n",
       "      <td>Large</td>\n",
       "      <td>5350.0</td>\n",
       "      <td>1</td>\n",
       "    </tr>\n",
       "    <tr>\n",
       "      <th>844390</th>\n",
       "      <td>1115</td>\n",
       "      <td>2015-07-30</td>\n",
       "      <td>8405</td>\n",
       "      <td>502</td>\n",
       "      <td>Large</td>\n",
       "      <td>5350.0</td>\n",
       "      <td>1</td>\n",
       "    </tr>\n",
       "    <tr>\n",
       "      <th>844391</th>\n",
       "      <td>1115</td>\n",
       "      <td>2015-07-31</td>\n",
       "      <td>8680</td>\n",
       "      <td>538</td>\n",
       "      <td>Large</td>\n",
       "      <td>5350.0</td>\n",
       "      <td>1</td>\n",
       "    </tr>\n",
       "  </tbody>\n",
       "</table>\n",
       "<p>844392 rows × 7 columns</p>\n",
       "</div>"
      ],
      "text/plain": [
       "        Store       Date  Sales  Customers Assortment  CompetitionDistance  \\\n",
       "0           1 2013-01-02   5530        668      Small               1270.0   \n",
       "1           1 2013-01-03   4327        578      Small               1270.0   \n",
       "2           1 2013-01-04   4486        619      Small               1270.0   \n",
       "3           1 2013-01-05   4997        635      Small               1270.0   \n",
       "4           1 2013-01-07   7176        785      Small               1270.0   \n",
       "...       ...        ...    ...        ...        ...                  ...   \n",
       "844387   1115 2015-07-27  10712        608      Large               5350.0   \n",
       "844388   1115 2015-07-28   8093        500      Large               5350.0   \n",
       "844389   1115 2015-07-29   7661        473      Large               5350.0   \n",
       "844390   1115 2015-07-30   8405        502      Large               5350.0   \n",
       "844391   1115 2015-07-31   8680        538      Large               5350.0   \n",
       "\n",
       "        Promo  \n",
       "0           0  \n",
       "1           0  \n",
       "2           0  \n",
       "3           0  \n",
       "4           1  \n",
       "...       ...  \n",
       "844387      1  \n",
       "844388      1  \n",
       "844389      1  \n",
       "844390      1  \n",
       "844391      1  \n",
       "\n",
       "[844392 rows x 7 columns]"
      ]
     },
     "metadata": {},
     "output_type": "display_data"
    }
   ],
   "source": [
    "# Merge df with promotions on 'Store' and 'Date', keeping only rows present in df\n",
    "df = pd.merge(df, promotions, on=['Store', 'Date'], how='left', indicator='promo_merge')\n",
    "df['Promo'] = (df['promo_merge'] == 'both').astype(int)\n",
    "df.drop(columns=['promo_merge'], inplace=True)\n",
    "display(df)"
   ]
  },
  {
   "cell_type": "code",
   "execution_count": 14,
   "id": "42f660c5",
   "metadata": {},
   "outputs": [
    {
     "name": "stdout",
     "output_type": "stream",
     "text": [
      "Columns with NaN values: ['CompetitionDistance']\n",
      "Column: CompetitionDistance, Number of NaNs: 2186\n"
     ]
    }
   ],
   "source": [
    "identify_nans(df)"
   ]
  },
  {
   "cell_type": "markdown",
   "id": "a3be6506",
   "metadata": {},
   "source": [
    "There are some missing values in the main df, but this is not a problem since we can fill them."
   ]
  },
  {
   "cell_type": "code",
   "execution_count": 15,
   "id": "a491e844",
   "metadata": {},
   "outputs": [
    {
     "name": "stdout",
     "output_type": "stream",
     "text": [
      "Columns with NaN values: []\n"
     ]
    }
   ],
   "source": [
    "df.fillna(0, inplace=True)\n",
    "identify_nans(df)"
   ]
  },
  {
   "cell_type": "markdown",
   "id": "82808c72",
   "metadata": {},
   "source": [
    "It could be better to add the day of the week and the month as integers to the main df, since they could be useful for the forecasting."
   ]
  },
  {
   "cell_type": "code",
   "execution_count": 19,
   "id": "b80e8f19",
   "metadata": {},
   "outputs": [
    {
     "data": {
      "application/vnd.microsoft.datawrangler.viewer.v0+json": {
       "columns": [
        {
         "name": "index",
         "rawType": "int64",
         "type": "integer"
        },
        {
         "name": "Store",
         "rawType": "int64",
         "type": "integer"
        },
        {
         "name": "Date",
         "rawType": "datetime64[ns]",
         "type": "datetime"
        },
        {
         "name": "Sales",
         "rawType": "int64",
         "type": "integer"
        },
        {
         "name": "Customers",
         "rawType": "int64",
         "type": "integer"
        },
        {
         "name": "Assortment",
         "rawType": "int32",
         "type": "integer"
        },
        {
         "name": "CompetitionDistance",
         "rawType": "float64",
         "type": "float"
        },
        {
         "name": "Promo",
         "rawType": "int32",
         "type": "integer"
        },
        {
         "name": "DayOfWeek",
         "rawType": "int32",
         "type": "integer"
        },
        {
         "name": "Month",
         "rawType": "int32",
         "type": "integer"
        }
       ],
       "ref": "cee15b3f-2105-4243-8b27-b848de48f034",
       "rows": [
        [
         "0",
         "1",
         "2013-01-02 00:00:00",
         "5530",
         "668",
         "2",
         "1270.0",
         "0",
         "2",
         "1"
        ],
        [
         "1",
         "1",
         "2013-01-03 00:00:00",
         "4327",
         "578",
         "2",
         "1270.0",
         "0",
         "3",
         "1"
        ],
        [
         "2",
         "1",
         "2013-01-04 00:00:00",
         "4486",
         "619",
         "2",
         "1270.0",
         "0",
         "4",
         "1"
        ],
        [
         "3",
         "1",
         "2013-01-05 00:00:00",
         "4997",
         "635",
         "2",
         "1270.0",
         "0",
         "5",
         "1"
        ],
        [
         "4",
         "1",
         "2013-01-07 00:00:00",
         "7176",
         "785",
         "2",
         "1270.0",
         "1",
         "0",
         "1"
        ],
        [
         "5",
         "1",
         "2013-01-08 00:00:00",
         "5580",
         "654",
         "2",
         "1270.0",
         "1",
         "1",
         "1"
        ],
        [
         "6",
         "1",
         "2013-01-09 00:00:00",
         "5471",
         "626",
         "2",
         "1270.0",
         "1",
         "2",
         "1"
        ],
        [
         "7",
         "1",
         "2013-01-10 00:00:00",
         "4892",
         "615",
         "2",
         "1270.0",
         "1",
         "3",
         "1"
        ],
        [
         "8",
         "1",
         "2013-01-11 00:00:00",
         "4881",
         "592",
         "2",
         "1270.0",
         "1",
         "4",
         "1"
        ],
        [
         "9",
         "1",
         "2013-01-12 00:00:00",
         "4952",
         "646",
         "2",
         "1270.0",
         "0",
         "5",
         "1"
        ],
        [
         "10",
         "1",
         "2013-01-14 00:00:00",
         "4717",
         "616",
         "2",
         "1270.0",
         "0",
         "0",
         "1"
        ],
        [
         "11",
         "1",
         "2013-01-15 00:00:00",
         "3900",
         "512",
         "2",
         "1270.0",
         "0",
         "1",
         "1"
        ],
        [
         "12",
         "1",
         "2013-01-16 00:00:00",
         "4008",
         "530",
         "2",
         "1270.0",
         "0",
         "2",
         "1"
        ],
        [
         "13",
         "1",
         "2013-01-17 00:00:00",
         "4044",
         "503",
         "2",
         "1270.0",
         "0",
         "3",
         "1"
        ],
        [
         "14",
         "1",
         "2013-01-18 00:00:00",
         "4127",
         "568",
         "2",
         "1270.0",
         "0",
         "4",
         "1"
        ],
        [
         "15",
         "1",
         "2013-01-19 00:00:00",
         "5182",
         "688",
         "2",
         "1270.0",
         "0",
         "5",
         "1"
        ],
        [
         "16",
         "1",
         "2013-01-21 00:00:00",
         "5394",
         "607",
         "2",
         "1270.0",
         "1",
         "0",
         "1"
        ],
        [
         "17",
         "1",
         "2013-01-22 00:00:00",
         "5720",
         "667",
         "2",
         "1270.0",
         "1",
         "1",
         "1"
        ],
        [
         "18",
         "1",
         "2013-01-23 00:00:00",
         "5578",
         "627",
         "2",
         "1270.0",
         "1",
         "2",
         "1"
        ],
        [
         "19",
         "1",
         "2013-01-24 00:00:00",
         "5195",
         "645",
         "2",
         "1270.0",
         "1",
         "3",
         "1"
        ],
        [
         "20",
         "1",
         "2013-01-25 00:00:00",
         "5586",
         "676",
         "2",
         "1270.0",
         "1",
         "4",
         "1"
        ],
        [
         "21",
         "1",
         "2013-01-26 00:00:00",
         "5598",
         "640",
         "2",
         "1270.0",
         "0",
         "5",
         "1"
        ],
        [
         "22",
         "1",
         "2013-01-28 00:00:00",
         "4055",
         "549",
         "2",
         "1270.0",
         "0",
         "0",
         "1"
        ],
        [
         "23",
         "1",
         "2013-01-29 00:00:00",
         "3725",
         "522",
         "2",
         "1270.0",
         "0",
         "1",
         "1"
        ],
        [
         "24",
         "1",
         "2013-01-30 00:00:00",
         "4601",
         "560",
         "2",
         "1270.0",
         "0",
         "2",
         "1"
        ],
        [
         "25",
         "1",
         "2013-01-31 00:00:00",
         "4709",
         "571",
         "2",
         "1270.0",
         "0",
         "3",
         "1"
        ],
        [
         "26",
         "1",
         "2013-02-01 00:00:00",
         "5633",
         "658",
         "2",
         "1270.0",
         "0",
         "4",
         "2"
        ],
        [
         "27",
         "1",
         "2013-02-02 00:00:00",
         "5970",
         "701",
         "2",
         "1270.0",
         "0",
         "5",
         "2"
        ],
        [
         "28",
         "1",
         "2013-02-04 00:00:00",
         "7032",
         "762",
         "2",
         "1270.0",
         "1",
         "0",
         "2"
        ],
        [
         "29",
         "1",
         "2013-02-05 00:00:00",
         "6049",
         "678",
         "2",
         "1270.0",
         "1",
         "1",
         "2"
        ],
        [
         "30",
         "1",
         "2013-02-06 00:00:00",
         "6140",
         "693",
         "2",
         "1270.0",
         "1",
         "2",
         "2"
        ],
        [
         "31",
         "1",
         "2013-02-07 00:00:00",
         "5499",
         "675",
         "2",
         "1270.0",
         "1",
         "3",
         "2"
        ],
        [
         "32",
         "1",
         "2013-02-08 00:00:00",
         "5681",
         "630",
         "2",
         "1270.0",
         "1",
         "4",
         "2"
        ],
        [
         "33",
         "1",
         "2013-02-09 00:00:00",
         "5370",
         "656",
         "2",
         "1270.0",
         "0",
         "5",
         "2"
        ],
        [
         "34",
         "1",
         "2013-02-11 00:00:00",
         "4409",
         "599",
         "2",
         "1270.0",
         "0",
         "0",
         "2"
        ],
        [
         "35",
         "1",
         "2013-02-12 00:00:00",
         "4015",
         "572",
         "2",
         "1270.0",
         "0",
         "1",
         "2"
        ],
        [
         "36",
         "1",
         "2013-02-13 00:00:00",
         "4252",
         "604",
         "2",
         "1270.0",
         "0",
         "2",
         "2"
        ],
        [
         "37",
         "1",
         "2013-02-14 00:00:00",
         "4241",
         "573",
         "2",
         "1270.0",
         "0",
         "3",
         "2"
        ],
        [
         "38",
         "1",
         "2013-02-15 00:00:00",
         "4809",
         "607",
         "2",
         "1270.0",
         "0",
         "4",
         "2"
        ],
        [
         "39",
         "1",
         "2013-02-16 00:00:00",
         "6154",
         "682",
         "2",
         "1270.0",
         "0",
         "5",
         "2"
        ],
        [
         "40",
         "1",
         "2013-02-18 00:00:00",
         "6407",
         "710",
         "2",
         "1270.0",
         "1",
         "0",
         "2"
        ],
        [
         "41",
         "1",
         "2013-02-19 00:00:00",
         "5386",
         "608",
         "2",
         "1270.0",
         "1",
         "1",
         "2"
        ],
        [
         "42",
         "1",
         "2013-02-20 00:00:00",
         "5660",
         "684",
         "2",
         "1270.0",
         "1",
         "2",
         "2"
        ],
        [
         "43",
         "1",
         "2013-02-21 00:00:00",
         "5261",
         "629",
         "2",
         "1270.0",
         "1",
         "3",
         "2"
        ],
        [
         "44",
         "1",
         "2013-02-22 00:00:00",
         "5000",
         "599",
         "2",
         "1270.0",
         "1",
         "4",
         "2"
        ],
        [
         "45",
         "1",
         "2013-02-23 00:00:00",
         "5237",
         "650",
         "2",
         "1270.0",
         "0",
         "5",
         "2"
        ],
        [
         "46",
         "1",
         "2013-02-25 00:00:00",
         "4038",
         "534",
         "2",
         "1270.0",
         "0",
         "0",
         "2"
        ],
        [
         "47",
         "1",
         "2013-02-26 00:00:00",
         "3794",
         "525",
         "2",
         "1270.0",
         "0",
         "1",
         "2"
        ],
        [
         "48",
         "1",
         "2013-02-27 00:00:00",
         "4558",
         "579",
         "2",
         "1270.0",
         "0",
         "2",
         "2"
        ],
        [
         "49",
         "1",
         "2013-02-28 00:00:00",
         "4676",
         "581",
         "2",
         "1270.0",
         "0",
         "3",
         "2"
        ]
       ],
       "shape": {
        "columns": 9,
        "rows": 844392
       }
      },
      "text/html": [
       "<div>\n",
       "<style scoped>\n",
       "    .dataframe tbody tr th:only-of-type {\n",
       "        vertical-align: middle;\n",
       "    }\n",
       "\n",
       "    .dataframe tbody tr th {\n",
       "        vertical-align: top;\n",
       "    }\n",
       "\n",
       "    .dataframe thead th {\n",
       "        text-align: right;\n",
       "    }\n",
       "</style>\n",
       "<table border=\"1\" class=\"dataframe\">\n",
       "  <thead>\n",
       "    <tr style=\"text-align: right;\">\n",
       "      <th></th>\n",
       "      <th>Store</th>\n",
       "      <th>Date</th>\n",
       "      <th>Sales</th>\n",
       "      <th>Customers</th>\n",
       "      <th>Assortment</th>\n",
       "      <th>CompetitionDistance</th>\n",
       "      <th>Promo</th>\n",
       "      <th>DayOfWeek</th>\n",
       "      <th>Month</th>\n",
       "    </tr>\n",
       "  </thead>\n",
       "  <tbody>\n",
       "    <tr>\n",
       "      <th>0</th>\n",
       "      <td>1</td>\n",
       "      <td>2013-01-02</td>\n",
       "      <td>5530</td>\n",
       "      <td>668</td>\n",
       "      <td>2</td>\n",
       "      <td>1270.0</td>\n",
       "      <td>0</td>\n",
       "      <td>2</td>\n",
       "      <td>1</td>\n",
       "    </tr>\n",
       "    <tr>\n",
       "      <th>1</th>\n",
       "      <td>1</td>\n",
       "      <td>2013-01-03</td>\n",
       "      <td>4327</td>\n",
       "      <td>578</td>\n",
       "      <td>2</td>\n",
       "      <td>1270.0</td>\n",
       "      <td>0</td>\n",
       "      <td>3</td>\n",
       "      <td>1</td>\n",
       "    </tr>\n",
       "    <tr>\n",
       "      <th>2</th>\n",
       "      <td>1</td>\n",
       "      <td>2013-01-04</td>\n",
       "      <td>4486</td>\n",
       "      <td>619</td>\n",
       "      <td>2</td>\n",
       "      <td>1270.0</td>\n",
       "      <td>0</td>\n",
       "      <td>4</td>\n",
       "      <td>1</td>\n",
       "    </tr>\n",
       "    <tr>\n",
       "      <th>3</th>\n",
       "      <td>1</td>\n",
       "      <td>2013-01-05</td>\n",
       "      <td>4997</td>\n",
       "      <td>635</td>\n",
       "      <td>2</td>\n",
       "      <td>1270.0</td>\n",
       "      <td>0</td>\n",
       "      <td>5</td>\n",
       "      <td>1</td>\n",
       "    </tr>\n",
       "    <tr>\n",
       "      <th>4</th>\n",
       "      <td>1</td>\n",
       "      <td>2013-01-07</td>\n",
       "      <td>7176</td>\n",
       "      <td>785</td>\n",
       "      <td>2</td>\n",
       "      <td>1270.0</td>\n",
       "      <td>1</td>\n",
       "      <td>0</td>\n",
       "      <td>1</td>\n",
       "    </tr>\n",
       "    <tr>\n",
       "      <th>...</th>\n",
       "      <td>...</td>\n",
       "      <td>...</td>\n",
       "      <td>...</td>\n",
       "      <td>...</td>\n",
       "      <td>...</td>\n",
       "      <td>...</td>\n",
       "      <td>...</td>\n",
       "      <td>...</td>\n",
       "      <td>...</td>\n",
       "    </tr>\n",
       "    <tr>\n",
       "      <th>844387</th>\n",
       "      <td>1115</td>\n",
       "      <td>2015-07-27</td>\n",
       "      <td>10712</td>\n",
       "      <td>608</td>\n",
       "      <td>0</td>\n",
       "      <td>5350.0</td>\n",
       "      <td>1</td>\n",
       "      <td>0</td>\n",
       "      <td>7</td>\n",
       "    </tr>\n",
       "    <tr>\n",
       "      <th>844388</th>\n",
       "      <td>1115</td>\n",
       "      <td>2015-07-28</td>\n",
       "      <td>8093</td>\n",
       "      <td>500</td>\n",
       "      <td>0</td>\n",
       "      <td>5350.0</td>\n",
       "      <td>1</td>\n",
       "      <td>1</td>\n",
       "      <td>7</td>\n",
       "    </tr>\n",
       "    <tr>\n",
       "      <th>844389</th>\n",
       "      <td>1115</td>\n",
       "      <td>2015-07-29</td>\n",
       "      <td>7661</td>\n",
       "      <td>473</td>\n",
       "      <td>0</td>\n",
       "      <td>5350.0</td>\n",
       "      <td>1</td>\n",
       "      <td>2</td>\n",
       "      <td>7</td>\n",
       "    </tr>\n",
       "    <tr>\n",
       "      <th>844390</th>\n",
       "      <td>1115</td>\n",
       "      <td>2015-07-30</td>\n",
       "      <td>8405</td>\n",
       "      <td>502</td>\n",
       "      <td>0</td>\n",
       "      <td>5350.0</td>\n",
       "      <td>1</td>\n",
       "      <td>3</td>\n",
       "      <td>7</td>\n",
       "    </tr>\n",
       "    <tr>\n",
       "      <th>844391</th>\n",
       "      <td>1115</td>\n",
       "      <td>2015-07-31</td>\n",
       "      <td>8680</td>\n",
       "      <td>538</td>\n",
       "      <td>0</td>\n",
       "      <td>5350.0</td>\n",
       "      <td>1</td>\n",
       "      <td>4</td>\n",
       "      <td>7</td>\n",
       "    </tr>\n",
       "  </tbody>\n",
       "</table>\n",
       "<p>844392 rows × 9 columns</p>\n",
       "</div>"
      ],
      "text/plain": [
       "        Store       Date  Sales  Customers  Assortment  CompetitionDistance  \\\n",
       "0           1 2013-01-02   5530        668           2               1270.0   \n",
       "1           1 2013-01-03   4327        578           2               1270.0   \n",
       "2           1 2013-01-04   4486        619           2               1270.0   \n",
       "3           1 2013-01-05   4997        635           2               1270.0   \n",
       "4           1 2013-01-07   7176        785           2               1270.0   \n",
       "...       ...        ...    ...        ...         ...                  ...   \n",
       "844387   1115 2015-07-27  10712        608           0               5350.0   \n",
       "844388   1115 2015-07-28   8093        500           0               5350.0   \n",
       "844389   1115 2015-07-29   7661        473           0               5350.0   \n",
       "844390   1115 2015-07-30   8405        502           0               5350.0   \n",
       "844391   1115 2015-07-31   8680        538           0               5350.0   \n",
       "\n",
       "        Promo  DayOfWeek  Month  \n",
       "0           0          2      1  \n",
       "1           0          3      1  \n",
       "2           0          4      1  \n",
       "3           0          5      1  \n",
       "4           1          0      1  \n",
       "...       ...        ...    ...  \n",
       "844387      1          0      7  \n",
       "844388      1          1      7  \n",
       "844389      1          2      7  \n",
       "844390      1          3      7  \n",
       "844391      1          4      7  \n",
       "\n",
       "[844392 rows x 9 columns]"
      ]
     },
     "metadata": {},
     "output_type": "display_data"
    }
   ],
   "source": [
    "# Add day of week as a integer\n",
    "df['DayOfWeek'] = df['Date'].dt.dayofweek\n",
    "\n",
    "# Add month as a integer\n",
    "df['Month'] = df['Date'].dt.month\n",
    "display(df)"
   ]
  },
  {
   "cell_type": "markdown",
   "id": "68612034",
   "metadata": {},
   "source": [
    "Another important thing to do is to convert the Assortment in a correct format, since it is a categorical variable, we need to convert it to a numerical variable for the forecasting."
   ]
  },
  {
   "cell_type": "code",
   "execution_count": 20,
   "id": "5f5d2aff",
   "metadata": {},
   "outputs": [
    {
     "name": "stdout",
     "output_type": "stream",
     "text": [
      "[0 1 2]\n"
     ]
    },
    {
     "data": {
      "application/vnd.microsoft.datawrangler.viewer.v0+json": {
       "columns": [
        {
         "name": "index",
         "rawType": "int64",
         "type": "integer"
        },
        {
         "name": "Store",
         "rawType": "int64",
         "type": "integer"
        },
        {
         "name": "Date",
         "rawType": "datetime64[ns]",
         "type": "datetime"
        },
        {
         "name": "Sales",
         "rawType": "int64",
         "type": "integer"
        },
        {
         "name": "Customers",
         "rawType": "int64",
         "type": "integer"
        },
        {
         "name": "Assortment",
         "rawType": "int64",
         "type": "integer"
        },
        {
         "name": "CompetitionDistance",
         "rawType": "float64",
         "type": "float"
        },
        {
         "name": "Promo",
         "rawType": "int32",
         "type": "integer"
        },
        {
         "name": "DayOfWeek",
         "rawType": "int32",
         "type": "integer"
        },
        {
         "name": "Month",
         "rawType": "int32",
         "type": "integer"
        }
       ],
       "ref": "1390996e-9a6a-4066-bcc2-b1bedf4bba75",
       "rows": [
        [
         "0",
         "1",
         "2013-01-02 00:00:00",
         "5530",
         "668",
         "2",
         "1270.0",
         "0",
         "2",
         "1"
        ],
        [
         "1",
         "1",
         "2013-01-03 00:00:00",
         "4327",
         "578",
         "2",
         "1270.0",
         "0",
         "3",
         "1"
        ],
        [
         "2",
         "1",
         "2013-01-04 00:00:00",
         "4486",
         "619",
         "2",
         "1270.0",
         "0",
         "4",
         "1"
        ],
        [
         "3",
         "1",
         "2013-01-05 00:00:00",
         "4997",
         "635",
         "2",
         "1270.0",
         "0",
         "5",
         "1"
        ],
        [
         "4",
         "1",
         "2013-01-07 00:00:00",
         "7176",
         "785",
         "2",
         "1270.0",
         "1",
         "0",
         "1"
        ]
       ],
       "shape": {
        "columns": 9,
        "rows": 5
       }
      },
      "text/html": [
       "<div>\n",
       "<style scoped>\n",
       "    .dataframe tbody tr th:only-of-type {\n",
       "        vertical-align: middle;\n",
       "    }\n",
       "\n",
       "    .dataframe tbody tr th {\n",
       "        vertical-align: top;\n",
       "    }\n",
       "\n",
       "    .dataframe thead th {\n",
       "        text-align: right;\n",
       "    }\n",
       "</style>\n",
       "<table border=\"1\" class=\"dataframe\">\n",
       "  <thead>\n",
       "    <tr style=\"text-align: right;\">\n",
       "      <th></th>\n",
       "      <th>Store</th>\n",
       "      <th>Date</th>\n",
       "      <th>Sales</th>\n",
       "      <th>Customers</th>\n",
       "      <th>Assortment</th>\n",
       "      <th>CompetitionDistance</th>\n",
       "      <th>Promo</th>\n",
       "      <th>DayOfWeek</th>\n",
       "      <th>Month</th>\n",
       "    </tr>\n",
       "  </thead>\n",
       "  <tbody>\n",
       "    <tr>\n",
       "      <th>0</th>\n",
       "      <td>1</td>\n",
       "      <td>2013-01-02</td>\n",
       "      <td>5530</td>\n",
       "      <td>668</td>\n",
       "      <td>2</td>\n",
       "      <td>1270.0</td>\n",
       "      <td>0</td>\n",
       "      <td>2</td>\n",
       "      <td>1</td>\n",
       "    </tr>\n",
       "    <tr>\n",
       "      <th>1</th>\n",
       "      <td>1</td>\n",
       "      <td>2013-01-03</td>\n",
       "      <td>4327</td>\n",
       "      <td>578</td>\n",
       "      <td>2</td>\n",
       "      <td>1270.0</td>\n",
       "      <td>0</td>\n",
       "      <td>3</td>\n",
       "      <td>1</td>\n",
       "    </tr>\n",
       "    <tr>\n",
       "      <th>2</th>\n",
       "      <td>1</td>\n",
       "      <td>2013-01-04</td>\n",
       "      <td>4486</td>\n",
       "      <td>619</td>\n",
       "      <td>2</td>\n",
       "      <td>1270.0</td>\n",
       "      <td>0</td>\n",
       "      <td>4</td>\n",
       "      <td>1</td>\n",
       "    </tr>\n",
       "    <tr>\n",
       "      <th>3</th>\n",
       "      <td>1</td>\n",
       "      <td>2013-01-05</td>\n",
       "      <td>4997</td>\n",
       "      <td>635</td>\n",
       "      <td>2</td>\n",
       "      <td>1270.0</td>\n",
       "      <td>0</td>\n",
       "      <td>5</td>\n",
       "      <td>1</td>\n",
       "    </tr>\n",
       "    <tr>\n",
       "      <th>4</th>\n",
       "      <td>1</td>\n",
       "      <td>2013-01-07</td>\n",
       "      <td>7176</td>\n",
       "      <td>785</td>\n",
       "      <td>2</td>\n",
       "      <td>1270.0</td>\n",
       "      <td>1</td>\n",
       "      <td>0</td>\n",
       "      <td>1</td>\n",
       "    </tr>\n",
       "  </tbody>\n",
       "</table>\n",
       "</div>"
      ],
      "text/plain": [
       "   Store       Date  Sales  Customers  Assortment  CompetitionDistance  Promo  \\\n",
       "0      1 2013-01-02   5530        668           2               1270.0      0   \n",
       "1      1 2013-01-03   4327        578           2               1270.0      0   \n",
       "2      1 2013-01-04   4486        619           2               1270.0      0   \n",
       "3      1 2013-01-05   4997        635           2               1270.0      0   \n",
       "4      1 2013-01-07   7176        785           2               1270.0      1   \n",
       "\n",
       "   DayOfWeek  Month  \n",
       "0          2      1  \n",
       "1          3      1  \n",
       "2          4      1  \n",
       "3          5      1  \n",
       "4          0      1  "
      ]
     },
     "metadata": {},
     "output_type": "display_data"
    }
   ],
   "source": [
    "encoder = LabelEncoder()\n",
    "df['Assortment'] = encoder.fit_transform(df['Assortment'])\n",
    "\n",
    "print(encoder.inverse_transform([0, 1, 2]))\n",
    "display(df.head())"
   ]
  },
  {
   "cell_type": "markdown",
   "id": "eea2bba9",
   "metadata": {},
   "source": [
    "The df contains a Customers columns which represents the number of customers for each store and date. This column is a sort of data leakage, since it is not available at the time of the prediction. We need to drop this column from the df."
   ]
  },
  {
   "cell_type": "code",
   "execution_count": 21,
   "id": "c969b6f4",
   "metadata": {},
   "outputs": [],
   "source": [
    "df.drop(columns=['Customers'], inplace=True)"
   ]
  },
  {
   "cell_type": "markdown",
   "id": "ac96696c",
   "metadata": {},
   "source": [
    "Since we are going to use XGBoost for the forecasting, we need to add some additional features to the df, such as the lagged values of the Sales and the rolling mean of the Sales."
   ]
  },
  {
   "cell_type": "code",
   "execution_count": 24,
   "id": "2a211b73",
   "metadata": {},
   "outputs": [],
   "source": [
    "# Features Engineering\n",
    "lags = [1, 7, 14]\n",
    "ma = [7, 14]\n",
    "std = [7, 14]\n",
    "\n",
    "# Adding Lag Features\n",
    "for lag in lags:\n",
    "    df[f'Sales_lag_{lag}'] = df.groupby('Store')['Sales'].shift(lag)\n",
    "df = df.dropna(subset=[f'Sales_lag_{lag}' for lag in lags]).copy()\n",
    "\n",
    "# Adding Rolling mean features\n",
    "for ma_window in ma:\n",
    "    df.loc[:, f'Sales_ma_{ma_window}'] = (\n",
    "        df.groupby('Store')['Sales']\n",
    "        .apply(lambda x: x.shift(1).rolling(window=ma_window).mean())\n",
    "        .values\n",
    "    )\n",
    "df = df.dropna(subset=[f'Sales_ma_{ma_window}' for ma_window in ma]).copy()\n",
    "\n",
    "# Adding Rolling std features\n",
    "for std_window in std:\n",
    "    df.loc[:, f'Sales_std_{std_window}'] = (\n",
    "        df.groupby('Store')['Sales']\n",
    "        .apply(lambda x: x.shift(1).rolling(window=std_window).std())\n",
    "        .values\n",
    "    )\n",
    "df = df.dropna(subset=[f'Sales_ma_{ma_window}' for ma_window in ma]).copy()"
   ]
  },
  {
   "cell_type": "code",
   "execution_count": 25,
   "id": "4b85dd64",
   "metadata": {},
   "outputs": [
    {
     "data": {
      "application/vnd.microsoft.datawrangler.viewer.v0+json": {
       "columns": [
        {
         "name": "index",
         "rawType": "int64",
         "type": "integer"
        },
        {
         "name": "Store",
         "rawType": "int64",
         "type": "integer"
        },
        {
         "name": "Date",
         "rawType": "datetime64[ns]",
         "type": "datetime"
        },
        {
         "name": "Sales",
         "rawType": "int64",
         "type": "integer"
        },
        {
         "name": "Assortment",
         "rawType": "int64",
         "type": "integer"
        },
        {
         "name": "CompetitionDistance",
         "rawType": "float64",
         "type": "float"
        },
        {
         "name": "Promo",
         "rawType": "int32",
         "type": "integer"
        },
        {
         "name": "DayOfWeek",
         "rawType": "int32",
         "type": "integer"
        },
        {
         "name": "Month",
         "rawType": "int32",
         "type": "integer"
        },
        {
         "name": "Sales_lag_1",
         "rawType": "float64",
         "type": "float"
        },
        {
         "name": "Sales_lag_7",
         "rawType": "float64",
         "type": "float"
        },
        {
         "name": "Sales_lag_14",
         "rawType": "float64",
         "type": "float"
        },
        {
         "name": "Sales_ma_7",
         "rawType": "float64",
         "type": "float"
        },
        {
         "name": "Sales_ma_14",
         "rawType": "float64",
         "type": "float"
        },
        {
         "name": "Sales_std_7",
         "rawType": "float64",
         "type": "float"
        },
        {
         "name": "Sales_std_14",
         "rawType": "float64",
         "type": "float"
        }
       ],
       "ref": "cb7da52c-cb44-496e-a97a-b1642ab89d17",
       "rows": [
        [
         "56",
         "1",
         "2013-03-08 00:00:00",
         "5853",
         "2",
         "1270.0",
         "1",
         "4",
         "3",
         "5637.0",
         "4676.0",
         "5660.0",
         "5746.0",
         "5269.285714285715",
         null,
         null
        ],
        [
         "57",
         "1",
         "2013-03-09 00:00:00",
         "5578",
         "2",
         "1270.0",
         "0",
         "5",
         "3",
         "5853.0",
         "4611.0",
         "5261.0",
         "5914.142857142857",
         "5283.071428571428",
         null,
         null
        ],
        [
         "58",
         "1",
         "2013-03-11 00:00:00",
         "4949",
         "2",
         "1270.0",
         "0",
         "0",
         "3",
         "5578.0",
         "5350.0",
         "5000.0",
         "6052.285714285715",
         "5305.714285714285",
         null,
         null
        ],
        [
         "59",
         "1",
         "2013-03-12 00:00:00",
         "3853",
         "2",
         "1270.0",
         "0",
         "1",
         "3",
         "4949.0",
         "7675.0",
         "5237.0",
         "5995.0",
         "5302.071428571428",
         null,
         null
        ],
        [
         "60",
         "1",
         "2013-03-13 00:00:00",
         "4341",
         "2",
         "1270.0",
         "0",
         "2",
         "3",
         "3853.0",
         "6300.0",
         "4038.0",
         "5449.0",
         "5203.214285714285",
         null,
         null
        ]
       ],
       "shape": {
        "columns": 15,
        "rows": 5
       }
      },
      "text/html": [
       "<div>\n",
       "<style scoped>\n",
       "    .dataframe tbody tr th:only-of-type {\n",
       "        vertical-align: middle;\n",
       "    }\n",
       "\n",
       "    .dataframe tbody tr th {\n",
       "        vertical-align: top;\n",
       "    }\n",
       "\n",
       "    .dataframe thead th {\n",
       "        text-align: right;\n",
       "    }\n",
       "</style>\n",
       "<table border=\"1\" class=\"dataframe\">\n",
       "  <thead>\n",
       "    <tr style=\"text-align: right;\">\n",
       "      <th></th>\n",
       "      <th>Store</th>\n",
       "      <th>Date</th>\n",
       "      <th>Sales</th>\n",
       "      <th>Assortment</th>\n",
       "      <th>CompetitionDistance</th>\n",
       "      <th>Promo</th>\n",
       "      <th>DayOfWeek</th>\n",
       "      <th>Month</th>\n",
       "      <th>Sales_lag_1</th>\n",
       "      <th>Sales_lag_7</th>\n",
       "      <th>Sales_lag_14</th>\n",
       "      <th>Sales_ma_7</th>\n",
       "      <th>Sales_ma_14</th>\n",
       "      <th>Sales_std_7</th>\n",
       "      <th>Sales_std_14</th>\n",
       "    </tr>\n",
       "  </thead>\n",
       "  <tbody>\n",
       "    <tr>\n",
       "      <th>56</th>\n",
       "      <td>1</td>\n",
       "      <td>2013-03-08</td>\n",
       "      <td>5853</td>\n",
       "      <td>2</td>\n",
       "      <td>1270.0</td>\n",
       "      <td>1</td>\n",
       "      <td>4</td>\n",
       "      <td>3</td>\n",
       "      <td>5637.0</td>\n",
       "      <td>4676.0</td>\n",
       "      <td>5660.0</td>\n",
       "      <td>5746.000000</td>\n",
       "      <td>5269.285714</td>\n",
       "      <td>NaN</td>\n",
       "      <td>NaN</td>\n",
       "    </tr>\n",
       "    <tr>\n",
       "      <th>57</th>\n",
       "      <td>1</td>\n",
       "      <td>2013-03-09</td>\n",
       "      <td>5578</td>\n",
       "      <td>2</td>\n",
       "      <td>1270.0</td>\n",
       "      <td>0</td>\n",
       "      <td>5</td>\n",
       "      <td>3</td>\n",
       "      <td>5853.0</td>\n",
       "      <td>4611.0</td>\n",
       "      <td>5261.0</td>\n",
       "      <td>5914.142857</td>\n",
       "      <td>5283.071429</td>\n",
       "      <td>NaN</td>\n",
       "      <td>NaN</td>\n",
       "    </tr>\n",
       "    <tr>\n",
       "      <th>58</th>\n",
       "      <td>1</td>\n",
       "      <td>2013-03-11</td>\n",
       "      <td>4949</td>\n",
       "      <td>2</td>\n",
       "      <td>1270.0</td>\n",
       "      <td>0</td>\n",
       "      <td>0</td>\n",
       "      <td>3</td>\n",
       "      <td>5578.0</td>\n",
       "      <td>5350.0</td>\n",
       "      <td>5000.0</td>\n",
       "      <td>6052.285714</td>\n",
       "      <td>5305.714286</td>\n",
       "      <td>NaN</td>\n",
       "      <td>NaN</td>\n",
       "    </tr>\n",
       "    <tr>\n",
       "      <th>59</th>\n",
       "      <td>1</td>\n",
       "      <td>2013-03-12</td>\n",
       "      <td>3853</td>\n",
       "      <td>2</td>\n",
       "      <td>1270.0</td>\n",
       "      <td>0</td>\n",
       "      <td>1</td>\n",
       "      <td>3</td>\n",
       "      <td>4949.0</td>\n",
       "      <td>7675.0</td>\n",
       "      <td>5237.0</td>\n",
       "      <td>5995.000000</td>\n",
       "      <td>5302.071429</td>\n",
       "      <td>NaN</td>\n",
       "      <td>NaN</td>\n",
       "    </tr>\n",
       "    <tr>\n",
       "      <th>60</th>\n",
       "      <td>1</td>\n",
       "      <td>2013-03-13</td>\n",
       "      <td>4341</td>\n",
       "      <td>2</td>\n",
       "      <td>1270.0</td>\n",
       "      <td>0</td>\n",
       "      <td>2</td>\n",
       "      <td>3</td>\n",
       "      <td>3853.0</td>\n",
       "      <td>6300.0</td>\n",
       "      <td>4038.0</td>\n",
       "      <td>5449.000000</td>\n",
       "      <td>5203.214286</td>\n",
       "      <td>NaN</td>\n",
       "      <td>NaN</td>\n",
       "    </tr>\n",
       "  </tbody>\n",
       "</table>\n",
       "</div>"
      ],
      "text/plain": [
       "    Store       Date  Sales  Assortment  CompetitionDistance  Promo  \\\n",
       "56      1 2013-03-08   5853           2               1270.0      1   \n",
       "57      1 2013-03-09   5578           2               1270.0      0   \n",
       "58      1 2013-03-11   4949           2               1270.0      0   \n",
       "59      1 2013-03-12   3853           2               1270.0      0   \n",
       "60      1 2013-03-13   4341           2               1270.0      0   \n",
       "\n",
       "    DayOfWeek  Month  Sales_lag_1  Sales_lag_7  Sales_lag_14   Sales_ma_7  \\\n",
       "56          4      3       5637.0       4676.0        5660.0  5746.000000   \n",
       "57          5      3       5853.0       4611.0        5261.0  5914.142857   \n",
       "58          0      3       5578.0       5350.0        5000.0  6052.285714   \n",
       "59          1      3       4949.0       7675.0        5237.0  5995.000000   \n",
       "60          2      3       3853.0       6300.0        4038.0  5449.000000   \n",
       "\n",
       "    Sales_ma_14  Sales_std_7  Sales_std_14  \n",
       "56  5269.285714          NaN           NaN  \n",
       "57  5283.071429          NaN           NaN  \n",
       "58  5305.714286          NaN           NaN  \n",
       "59  5302.071429          NaN           NaN  \n",
       "60  5203.214286          NaN           NaN  "
      ]
     },
     "metadata": {},
     "output_type": "display_data"
    }
   ],
   "source": [
    "display(df.head())"
   ]
  },
  {
   "cell_type": "markdown",
   "id": "17ae8ce2",
   "metadata": {},
   "source": [
    "We finished the preprocessing of the data, now we can split the data into train and test sets."
   ]
  },
  {
   "cell_type": "code",
   "execution_count": 26,
   "id": "3f483536",
   "metadata": {},
   "outputs": [],
   "source": [
    "def split_dataset(df):\n",
    "    df = df.copy()\n",
    "    train = df[df['Date'] < '2015-03-01']\n",
    "    train = train.drop(columns='Date')\n",
    "    test = df[df['Date'] >= '2015-03-01']\n",
    "    test = test.drop(columns='Date')\n",
    "\n",
    "    X_train, y_train = train.drop(columns='Sales'), train['Sales']\n",
    "    X_test, y_test = test.drop(columns='Sales'), test['Sales']\n",
    "\n",
    "    return X_train, y_train, X_test, y_test\n",
    "\n",
    "\n",
    "X_train, y_train, X_test, y_test = split_dataset(df)"
   ]
  },
  {
   "cell_type": "markdown",
   "id": "91bec356",
   "metadata": {},
   "source": [
    "It is important to find the best parameters for the XGBoost model, so we can use Optuna to find the best parameters which could minimize the RMSE."
   ]
  },
  {
   "cell_type": "code",
   "execution_count": 27,
   "id": "6f9c6551",
   "metadata": {},
   "outputs": [],
   "source": [
    "import optuna\n",
    "\n",
    "def objective(trial):\n",
    "    params = {\n",
    "        'n_estimators': trial.suggest_int('n_estimators', 50, 500),\n",
    "        'max_depth': trial.suggest_int('max_depth', 3, 12),\n",
    "        'learning_rate': trial.suggest_float('learning_rate', 0.01, 0.3),\n",
    "        'subsample': trial.suggest_float('subsample', 0.5, 1.0),\n",
    "        'colsample_bytree': trial.suggest_float('colsample_bytree', 0.5, 1.0),\n",
    "        'min_child_weight': trial.suggest_int('min_child_weight', 1, 10),\n",
    "        'gamma': trial.suggest_float('gamma', 0, 5),\n",
    "        'reg_alpha': trial.suggest_float('reg_alpha', 0, 5),\n",
    "        'reg_lambda': trial.suggest_float('reg_lambda', 0, 5),\n",
    "        'random_state': 42,\n",
    "        'n_jobs': -1,\n",
    "        'tree_method': 'hist',\n",
    "    }\n",
    "\n",
    "    model = XGBRegressor(**params)\n",
    "    model.fit(X_train, y_train)\n",
    "\n",
    "    preds = model.predict(X_test)\n",
    "    rmse = root_mean_squared_error(y_test, preds)\n",
    "\n",
    "    return rmse"
   ]
  },
  {
   "cell_type": "code",
   "execution_count": 28,
   "id": "f2f23c60",
   "metadata": {},
   "outputs": [
    {
     "name": "stdout",
     "output_type": "stream",
     "text": [
      "Best parameters: {'n_estimators': 475, 'max_depth': 9, 'learning_rate': 0.22594731375525895, 'subsample': 0.9841937224705313, 'colsample_bytree': 0.8115993503676006, 'min_child_weight': 9, 'gamma': 1.0508620811373048, 'reg_alpha': 0.2682513430967105, 'reg_lambda': 1.962135997883376, 'tree_method': 'hist', 'random_state': 42, 'n_jobs': -1}\n"
     ]
    }
   ],
   "source": [
    "import json\n",
    "\n",
    "try:\n",
    "    with open('best_params.json', 'r') as f:\n",
    "        best_params = json.load(f)\n",
    "except FileNotFoundError:\n",
    "    best_params = None    \n",
    "\n",
    "if not best_params:\n",
    "    study = optuna.create_study(direction='minimize')\n",
    "    study.optimize(objective, n_trials=50)\n",
    "\n",
    "    best_params = study.best_params\n",
    "print(f\"Best parameters: {best_params}\")"
   ]
  },
  {
   "cell_type": "markdown",
   "id": "4804b393",
   "metadata": {},
   "source": [
    "Now we can train the model with the best parameters found by Optuna and make the predictions for the test set."
   ]
  },
  {
   "cell_type": "code",
   "execution_count": 29,
   "id": "acacf9b9",
   "metadata": {},
   "outputs": [],
   "source": [
    "best_params['tree_method'] = 'hist'\n",
    "best_params['random_state'] = 42\n",
    "best_params['n_jobs'] = -1\n",
    "\n",
    "model = XGBRegressor(**best_params)\n",
    "\n",
    "model.fit(X_train, y_train,\n",
    "    eval_set=[(X_test, y_test)],\n",
    "    verbose=False)\n",
    "\n",
    "y_pred = model.predict(X_test)\n",
    "y_pred = np.clip(y_pred, 0, None)"
   ]
  },
  {
   "cell_type": "markdown",
   "id": "c4ca38a2",
   "metadata": {},
   "source": [
    "We can also calculate the RMSE for the test set and plot the predictions vs the actual values."
   ]
  },
  {
   "cell_type": "code",
   "execution_count": 30,
   "id": "c1c9e084",
   "metadata": {},
   "outputs": [
    {
     "name": "stdout",
     "output_type": "stream",
     "text": [
      "Test RMSE: 995.38\n",
      "Mean Sales: 7205.45\n",
      "Error percentage: 13.81%\n"
     ]
    }
   ],
   "source": [
    "rmse = root_mean_squared_error(y_test, y_pred)\n",
    "print(f\"Test RMSE: {rmse:.2f}\")\n",
    "print(f\"Mean Sales: {y_test.mean():.2f}\")\n",
    "print(f\"Error percentage: {rmse / y_test.mean() * 100:.2f}%\")"
   ]
  },
  {
   "cell_type": "code",
   "execution_count": 31,
   "id": "c8586ab0",
   "metadata": {},
   "outputs": [
    {
     "data": {
      "image/png": "[encoded data removed]",
      "text/plain": [
       "<Figure size 1400x600 with 1 Axes>"
      ]
     },
     "metadata": {},
     "output_type": "display_data"
    }
   ],
   "source": [
    "def plot_actual_vs_predicted(y_test, y_pred):\n",
    "    plt.figure(figsize=(14,6))\n",
    "    plt.plot(y_test.values, label='Actual Sales')\n",
    "    plt.plot(y_pred, label='Predicted Sales')\n",
    "    plt.title('Actual vs Predicted Sales')\n",
    "    plt.xlabel('Sample Index (time ordered)')\n",
    "    plt.ylabel('Sales')\n",
    "    plt.legend()\n",
    "    plt.savefig('actual_vs_predicted.png')\n",
    "    plt.show()\n",
    "    \n",
    "n1 = 0\n",
    "n2 = 100\n",
    "\n",
    "plot_actual_vs_predicted(y_test[n1:n2], y_pred[n1:n2])"
   ]
  },
  {
   "cell_type": "code",
   "execution_count": 32,
   "id": "86bd301b",
   "metadata": {},
   "outputs": [],
   "source": [
    "with open('best_params.json', 'w') as f:\n",
    "    json.dump(best_params, f, indent=4)"
   ]
  }
 ],
 "metadata": {
  "kernelspec": {
   "display_name": "ai",
   "language": "python",
   "name": "python3"
  },
  "language_info": {
   "codemirror_mode": {
    "name": "ipython",
    "version": 3
   },
   "file_extension": ".py",
   "mimetype": "text/x-python",
   "name": "python",
   "nbconvert_exporter": "python",
   "pygments_lexer": "ipython3",
   "version": "3.11.11"
  }
 },
 "nbformat": 4,
 "nbformat_minor": 5
}
