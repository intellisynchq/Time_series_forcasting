{
 "cells": [
  {
   "cell_type": "code",
   "execution_count": null,
   "id": "1070026c",
   "metadata": {},
   "outputs": [
    {
     "name": "stdout",
     "output_type": "stream",
     "text": [
      "No NaN in holidays_events.csv\n",
      "NaN found in oil.csv:\n",
      "  Row 0, Column 'dcoilwtico'\n",
      "  Row 14, Column 'dcoilwtico'\n",
      "  Row 34, Column 'dcoilwtico'\n",
      "  Row 63, Column 'dcoilwtico'\n",
      "  Row 104, Column 'dcoilwtico'\n",
      "  Row 132, Column 'dcoilwtico'\n",
      "  Row 174, Column 'dcoilwtico'\n",
      "  Row 237, Column 'dcoilwtico'\n",
      "  Row 256, Column 'dcoilwtico'\n",
      "  Row 261, Column 'dcoilwtico'\n",
      "  Row 274, Column 'dcoilwtico'\n",
      "  Row 294, Column 'dcoilwtico'\n",
      "  Row 338, Column 'dcoilwtico'\n",
      "  Row 364, Column 'dcoilwtico'\n",
      "  Row 393, Column 'dcoilwtico'\n",
      "  Row 434, Column 'dcoilwtico'\n",
      "  Row 497, Column 'dcoilwtico'\n",
      "  Row 517, Column 'dcoilwtico'\n",
      "  Row 522, Column 'dcoilwtico'\n",
      "  Row 534, Column 'dcoilwtico'\n",
      "  Row 554, Column 'dcoilwtico'\n",
      "  Row 588, Column 'dcoilwtico'\n",
      "  Row 624, Column 'dcoilwtico'\n",
      "  Row 653, Column 'dcoilwtico'\n",
      "  Row 699, Column 'dcoilwtico'\n",
      "  Row 757, Column 'dcoilwtico'\n",
      "  Row 778, Column 'dcoilwtico'\n",
      "  Row 783, Column 'dcoilwtico'\n",
      "  Row 794, Column 'dcoilwtico'\n",
      "  Row 814, Column 'dcoilwtico'\n",
      "  Row 843, Column 'dcoilwtico'\n",
      "  Row 889, Column 'dcoilwtico'\n",
      "  Row 914, Column 'dcoilwtico'\n",
      "  Row 959, Column 'dcoilwtico'\n",
      "  Row 1017, Column 'dcoilwtico'\n",
      "  Row 1039, Column 'dcoilwtico'\n",
      "  Row 1044, Column 'dcoilwtico'\n",
      "  Row 1054, Column 'dcoilwtico'\n",
      "  Row 1079, Column 'dcoilwtico'\n",
      "  Row 1118, Column 'dcoilwtico'\n",
      "  Row 1149, Column 'dcoilwtico'\n",
      "  Row 1174, Column 'dcoilwtico'\n",
      "  Row 1175, Column 'dcoilwtico'\n",
      "No NaN in sample_submission.csv\n",
      "No NaN in stores.csv\n",
      "No NaN in test.csv\n",
      "No NaN in train.csv\n",
      "No NaN in transactions.csv\n"
     ]
    }
   ],
   "source": [
    "import os\n",
    "import pandas as pd\n",
    "import numpy as np\n",
    "\n",
    "csv_dir = \"data\"\n",
    "\n",
    "for filename in os.listdir(csv_dir):\n",
    "    if filename.endswith('.csv'):\n",
    "        file_path = os.path.join(csv_dir, filename)\n",
    "        df = pd.read_csv(file_path)\n",
    "        nan_locations = np.where(df.isna())\n",
    "        if len(nan_locations[0]) > 0:\n",
    "            print(f\"NaN found in {filename}:\")\n",
    "            for row, col in zip(*nan_locations):\n",
    "                print(f\"  Row {row}, Column '{df.columns[col]}'\")\n",
    "        else:\n",
    "            print(f\"No NaN in {filename}\")"
   ]
  }
 ],
 "metadata": {
  "kernelspec": {
   "display_name": "analysis",
   "language": "python",
   "name": "python3"
  },
  "language_info": {
   "codemirror_mode": {
    "name": "ipython",
    "version": 3
   },
   "file_extension": ".py",
   "mimetype": "text/x-python",
   "name": "python",
   "nbconvert_exporter": "python",
   "pygments_lexer": "ipython3",
   "version": "3.11.11"
  }
 },
 "nbformat": 4,
 "nbformat_minor": 5
}
