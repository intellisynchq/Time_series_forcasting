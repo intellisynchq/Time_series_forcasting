{
 "cells": [
  {
   "cell_type": "markdown",
   "id": "8135e2c3",
   "metadata": {},
   "source": [
    "# Import all necessary libraries"
   ]
  },
  {
   "cell_type": "code",
   "execution_count": 1,
   "id": "8f13f6bd",
   "metadata": {},
   "outputs": [],
   "source": [
    "import os\n",
    "import warnings\n",
    "warnings.filterwarnings('ignore')\n",
    "\n",
    "# Data manipulation libraries\n",
    "import numpy as np\n",
    "import pandas as pd\n",
    "\n",
    "# Machine learning libraries\n",
    "from sklearn.preprocessing import OneHotEncoder\n",
    "from sklearn.feature_selection import VarianceThreshold\n",
    "\n",
    "# Darts time series libraries\n",
    "from darts import TimeSeries\n",
    "from darts.dataprocessing import Pipeline\n",
    "from darts.dataprocessing.transformers import Scaler, InvertibleMapper, StaticCovariatesTransformer\n",
    "from darts.dataprocessing.transformers.missing_values_filler import MissingValuesFiller\n",
    "from darts.models.filtering.moving_average_filter import MovingAverageFilter\n",
    "\n",
    "# Progress bar\n",
    "from tqdm.notebook import tqdm_notebook\n",
    "\n",
    "# Trainer\n",
    "from trainer import Trainer"
   ]
  },
  {
   "cell_type": "code",
   "execution_count": 2,
   "id": "18b7ca26",
   "metadata": {},
   "outputs": [],
   "source": [
    "def cprint(title, color_tag, *args):\n",
    "    \"\"\"\n",
    "    Helper function to print messages with formatting\n",
    "    \"\"\"\n",
    "    print(\n",
    "        \"=\"*len(title), color_tag + title + \"\\33[0m\", \"=\"*len(title),\n",
    "        *args,\n",
    "        sep=\"\\n\",\n",
    "    )"
   ]
  },
  {
   "cell_type": "markdown",
   "id": "a1d019ca",
   "metadata": {},
   "source": [
    "# Data Loading"
   ]
  },
  {
   "cell_type": "code",
   "execution_count": 3,
   "id": "e01f9de8",
   "metadata": {},
   "outputs": [],
   "source": [
    "PATH = \"data\"\n",
    "\n",
    "# Load main datasets\n",
    "train = pd.read_csv(os.path.join(PATH, \"train.csv\"), parse_dates=[\"date\"])\n",
    "test = pd.read_csv(os.path.join(PATH, \"test.csv\"), parse_dates=[\"date\"])\n",
    "\n",
    "# Load supplementary datasets\n",
    "oil = pd.read_csv(os.path.join(PATH, \"oil.csv\"), parse_dates=[\"date\"]).rename(columns={\"dcoilwtico\": \"oil\"})\n",
    "store = pd.read_csv(os.path.join(PATH, \"stores.csv\"))\n",
    "transaction = pd.read_csv(os.path.join(PATH, \"transactions.csv\"), parse_dates=[\"date\"])\n",
    "holiday = pd.read_csv(os.path.join(PATH, \"holidays_events.csv\"), parse_dates=[\"date\"])"
   ]
  },
  {
   "cell_type": "markdown",
   "id": "dd538f95",
   "metadata": {},
   "source": [
    "# Data Exploration"
   ]
  },
  {
   "cell_type": "markdown",
   "id": "15b89559",
   "metadata": {},
   "source": [
    "### Basic information"
   ]
  },
  {
   "cell_type": "code",
   "execution_count": 4,
   "id": "cdcceafc",
   "metadata": {},
   "outputs": [],
   "source": [
    "num_family = train.family.nunique()\n",
    "num_store = train.store_nbr.nunique()\n",
    "num_ts = train.groupby([\"store_nbr\", \"family\"]).ngroups\n",
    "train_start = train.date.min().date()\n",
    "train_end = train.date.max().date()\n",
    "num_train_date = train.date.nunique()\n",
    "train_len = (train_end - train_start).days + 1\n",
    "test_start = test.date.min().date()\n",
    "test_end = test.date.max().date()\n",
    "num_test_date = test.date.nunique()\n",
    "test_len = (test_end - test_start).days + 1"
   ]
  },
  {
   "cell_type": "code",
   "execution_count": 5,
   "id": "0b4e1c36",
   "metadata": {},
   "outputs": [
    {
     "name": "stdout",
     "output_type": "stream",
     "text": [
      "=========================\n",
      "\u001b[1;36mBasic information of data\u001b[0m\n",
      "=========================\n",
      "Number of family types      : 33\n",
      "Number of stores            : 54\n",
      "Number of store-family pairs: 1782\n",
      "Number of target series     : 1782\n",
      "\n",
      "Number of unique train dates: 1684\n",
      "Train date range            : 1688 days from 2013-01-01 to 2017-08-15\n",
      "Number of unique test dates : 16\n",
      "Test date range             : 16 days from 2017-08-16 to 2017-08-31\n"
     ]
    }
   ],
   "source": [
    "cprint(\n",
    "    \"Basic information of data\",\n",
    "    \"\\33[1;36m\",\n",
    "    f\"Number of family types      : {num_family}\",\n",
    "    f\"Number of stores            : {num_store}\",\n",
    "    f\"Number of store-family pairs: {num_family * num_store}\",\n",
    "    f\"Number of target series     : {num_ts}\",\n",
    "    \"\",\n",
    "    f\"Number of unique train dates: {num_train_date}\",\n",
    "    f\"Train date range            : {train_len} days from {train_start} to {train_end}\",\n",
    "    f\"Number of unique test dates : {num_test_date}\",\n",
    "    f\"Test date range             : {test_len} days from {test_start} to {test_end}\",\n",
    ")"
   ]
  },
  {
   "cell_type": "code",
   "execution_count": 6,
   "id": "c05df237",
   "metadata": {},
   "outputs": [],
   "source": [
    "# Analyze missing dates in training data\n",
    "missing_dates = pd.date_range(train_start, train_end).difference(train.date.unique())\n",
    "missing_dates = missing_dates.strftime(\"%Y-%m-%d\").tolist()\n",
    "\n",
    "unique_dp_count = train.groupby([\"store_nbr\", \"family\"]).date.count().unique().tolist()"
   ]
  },
  {
   "cell_type": "code",
   "execution_count": 7,
   "id": "19ca5c2b",
   "metadata": {},
   "outputs": [
    {
     "name": "stdout",
     "output_type": "stream",
     "text": [
      "===========================\n",
      "\u001b[1;36mMissing gaps in time series\u001b[0m\n",
      "===========================\n",
      "List incl. unique counts of data points: [1684]\n",
      "Missing dates                          : ['2013-12-25', '2014-12-25', '2015-12-25', '2016-12-25']\n"
     ]
    }
   ],
   "source": [
    "cprint(\n",
    "    \"Missing gaps in time series\",\n",
    "    \"\\33[1;36m\",\n",
    "    f\"List incl. unique counts of data points: {unique_dp_count}\",\n",
    "    f\"Missing dates                          : {missing_dates}\",\n",
    ")"
   ]
  },
  {
   "cell_type": "markdown",
   "id": "834cb887",
   "metadata": {},
   "source": [
    "As we can see there are no data on each Christmas day"
   ]
  },
  {
   "cell_type": "markdown",
   "id": "18566f2e",
   "metadata": {},
   "source": [
    "# Preprocessing"
   ]
  },
  {
   "cell_type": "markdown",
   "id": "bf43478d",
   "metadata": {},
   "source": [
    "### Training Set"
   ]
  },
  {
   "cell_type": "code",
   "execution_count": 8,
   "id": "28533d35",
   "metadata": {},
   "outputs": [],
   "source": [
    "multi_idx = pd.MultiIndex.from_product(\n",
    "    [pd.date_range(train_start, train_end), train.store_nbr.unique(), train.family.unique()],\n",
    "    names=[\"date\", \"store_nbr\", \"family\"],\n",
    ")\n",
    "train = train.set_index([\"date\", \"store_nbr\", \"family\"]).reindex(multi_idx).reset_index()"
   ]
  },
  {
   "cell_type": "code",
   "execution_count": 9,
   "id": "45f9a586",
   "metadata": {},
   "outputs": [],
   "source": [
    "train[[\"sales\", \"onpromotion\"]] = train[[\"sales\", \"onpromotion\"]].fillna(0.)\n",
    "train.id = train.id.interpolate(method=\"linear\")"
   ]
  },
  {
   "cell_type": "markdown",
   "id": "aabc7974",
   "metadata": {},
   "source": [
    "### Oil Set"
   ]
  },
  {
   "cell_type": "code",
   "execution_count": 10,
   "id": "5664c300",
   "metadata": {},
   "outputs": [],
   "source": [
    "missing_oil_dates = pd.date_range(train_start, test_end).difference(oil.date)\n",
    "num_missing_oil_dates = len(missing_oil_dates)\n",
    "num_wknd_missing = (missing_oil_dates.weekday >= 5).sum()\n",
    "total_num_wknd = (pd.date_range(train_start, test_end).weekday >= 5).sum()"
   ]
  },
  {
   "cell_type": "code",
   "execution_count": 11,
   "id": "6275e001",
   "metadata": {},
   "outputs": [
    {
     "name": "stdout",
     "output_type": "stream",
     "text": [
      "=================\n",
      "\u001b[1;33mMissing oil dates\u001b[0m\n",
      "=================\n",
      "Number of missing oil dates: 486\n",
      "Number of weekends missing : 486\n",
      "Total number of weekends   : 486\n"
     ]
    }
   ],
   "source": [
    "cprint(\n",
    "    \"Missing oil dates\",\n",
    "    \"\\33[1;33m\",\n",
    "    f\"Number of missing oil dates: {num_missing_oil_dates}\",\n",
    "    f\"Number of weekends missing : {num_wknd_missing}\",\n",
    "    f\"Total number of weekends   : {total_num_wknd}\",\n",
    ")"
   ]
  },
  {
   "cell_type": "markdown",
   "id": "d537b486",
   "metadata": {},
   "source": [
    "There are no oil data during the weekends"
   ]
  },
  {
   "cell_type": "code",
   "execution_count": 12,
   "id": "51e36ad9",
   "metadata": {},
   "outputs": [],
   "source": [
    "oil = oil.merge(\n",
    "    pd.DataFrame({\"date\": pd.date_range(train_start, test_end)}),\n",
    "    on=\"date\",\n",
    "    how=\"outer\",\n",
    ").sort_values(\"date\", ignore_index=True)\n",
    "\n",
    "oil.oil = oil.oil.interpolate(method=\"linear\", limit_direction=\"both\")"
   ]
  },
  {
   "cell_type": "markdown",
   "id": "3368dc92",
   "metadata": {},
   "source": [
    "### Transaction Set"
   ]
  },
  {
   "cell_type": "code",
   "execution_count": 13,
   "id": "bc6150d0",
   "metadata": {},
   "outputs": [],
   "source": [
    "num_zero_sales = (train.groupby([\"date\", \"store_nbr\"]).sales.sum().eq(0)).sum()\n",
    "total_rec = num_store * train_len\n",
    "curr_rec = len(transaction.index)\n",
    "missing_rec = total_rec - curr_rec - num_zero_sales"
   ]
  },
  {
   "cell_type": "code",
   "execution_count": 14,
   "id": "b3cd81fd",
   "metadata": {},
   "outputs": [
    {
     "name": "stdout",
     "output_type": "stream",
     "text": [
      "===========================\n",
      "\u001b[1;32mMissing transaction records\u001b[0m\n",
      "===========================\n",
      "Correct number of records: 91152\n",
      "\n",
      "Breakdown...\n",
      "Current number of records: 83488\n",
      "Number of zero sales     : 7546\n",
      "Number of missing records: 118\n"
     ]
    }
   ],
   "source": [
    "cprint(\n",
    "    \"Missing transaction records\",\n",
    "    \"\\33[1;32m\",\n",
    "    f\"Correct number of records: {total_rec}\",\n",
    "    \"\",\n",
    "    f\"Breakdown...\",\n",
    "    f\"Current number of records: {curr_rec}\",\n",
    "    f\"Number of zero sales     : {num_zero_sales}\",\n",
    "    f\"Number of missing records: {missing_rec}\",\n",
    ")"
   ]
  },
  {
   "cell_type": "code",
   "execution_count": 15,
   "id": "128a328e",
   "metadata": {},
   "outputs": [],
   "source": [
    "# Compute total sales for each store\n",
    "store_sales = train.groupby([\"date\", \"store_nbr\"]).sales.sum().reset_index()\n",
    "\n",
    "# Reindex transaction data to ensure complete coverage\n",
    "transaction = transaction.merge(\n",
    "    store_sales,\n",
    "    on=[\"date\", \"store_nbr\"],\n",
    "    how=\"outer\",\n",
    ").sort_values([\"date\", \"store_nbr\"], ignore_index=True)\n",
    "\n",
    "# Fill missing transaction values\n",
    "# Set transactions to 0 for days with zero sales\n",
    "transaction.loc[transaction.sales.eq(0), \"transactions\"] = 0.\n",
    "transaction = transaction.drop(columns=[\"sales\"])\n",
    "\n",
    "# Fill remaining missing values using linear interpolation per store\n",
    "transaction.transactions = transaction.groupby(\"store_nbr\", group_keys=False).transactions.apply(\n",
    "    lambda x: x.interpolate(method=\"linear\", limit_direction=\"both\")\n",
    ")"
   ]
  },
  {
   "cell_type": "markdown",
   "id": "1fc6c8dc",
   "metadata": {},
   "source": [
    "### Holidays Set"
   ]
  },
  {
   "cell_type": "markdown",
   "id": "73e79b61",
   "metadata": {},
   "source": [
    "#### Exploratory Data Analysis"
   ]
  },
  {
   "cell_type": "code",
   "execution_count": 16,
   "id": "ed47b8cc",
   "metadata": {},
   "outputs": [
    {
     "name": "stdout",
     "output_type": "stream",
     "text": [
      "=====================================\n",
      "\u001b[1;35mList of locale names for each holiday\u001b[0m\n",
      "=====================================\n",
      "Locale names for national holidays:\n",
      "['Ecuador']\n",
      "\n",
      "Locale names for regional holidays:\n",
      "['Cotopaxi', 'Imbabura', 'Santa Elena', 'Santo Domingo de los Tsachilas']\n",
      "\n",
      "Locale names for local holidays:\n",
      "['Ambato', 'Cayambe', 'Cuenca', 'El Carmen', 'Esmeraldas', 'Guaranda', 'Guayaquil', 'Ibarra', 'Latacunga', 'Libertad', 'Loja', 'Machala', 'Manta', 'Puyo', 'Quevedo', 'Quito', 'Riobamba', 'Salinas', 'Santo Domingo']\n"
     ]
    }
   ],
   "source": [
    "# Explore holiday categories\n",
    "national_locale_name = sorted(holiday[holiday.locale.eq(\"National\")].locale_name.unique().tolist())\n",
    "regional_locale_name = sorted(holiday[holiday.locale.eq(\"Regional\")].locale_name.unique().tolist())\n",
    "local_locale_name = sorted(holiday[holiday.locale.eq(\"Local\")].locale_name.unique().tolist())\n",
    "\n",
    "cprint(\n",
    "    \"List of locale names for each holiday\",\n",
    "    \"\\33[1;35m\",\n",
    "    \"Locale names for national holidays:\",\n",
    "    national_locale_name,\n",
    "    \"\",\n",
    "    \"Locale names for regional holidays:\",\n",
    "    regional_locale_name,\n",
    "    \"\",\n",
    "    \"Locale names for local holidays:\",\n",
    "    local_locale_name,\n",
    ")"
   ]
  },
  {
   "cell_type": "markdown",
   "id": "b7b5b437",
   "metadata": {},
   "source": [
    "#### Cleaning"
   ]
  },
  {
   "cell_type": "code",
   "execution_count": 17,
   "id": "ed9d80de",
   "metadata": {},
   "outputs": [],
   "source": [
    "def process_holiday(s):\n",
    "    \"\"\"Clean and standardize holiday descriptions\"\"\"\n",
    "    if \"futbol\" in s:\n",
    "        return \"futbol\"\n",
    "    to_remove = list(set(store.city.str.lower()) | set(store.state.str.lower()))\n",
    "    for w in to_remove:\n",
    "        s = s.replace(w, \"\")\n",
    "    return s"
   ]
  },
  {
   "cell_type": "code",
   "execution_count": 18,
   "id": "41a01a94",
   "metadata": {},
   "outputs": [],
   "source": [
    "# Process holiday descriptions\n",
    "holiday.description = holiday.apply(\n",
    "    lambda x: x.description.lower().replace(x.locale_name.lower(), \"\"), \n",
    "    axis=1,\n",
    ").apply(\n",
    "    process_holiday\n",
    ").replace(\n",
    "    r\"[+-]\\d+|\\b(de|del|traslado|recupero|puente|-)\\b\", \"\", regex=True,\n",
    ").replace(\n",
    "    r\"\\s+|-\", \" \", regex=True,\n",
    ").str.strip()"
   ]
  },
  {
   "cell_type": "code",
   "execution_count": 19,
   "id": "46b02829",
   "metadata": {},
   "outputs": [],
   "source": [
    "# Remove transferred holidays\n",
    "holiday = holiday[holiday.transferred.eq(False)]"
   ]
  },
  {
   "cell_type": "markdown",
   "id": "b767dc5b",
   "metadata": {},
   "source": [
    "#### Categorical Features"
   ]
  },
  {
   "cell_type": "code",
   "execution_count": 20,
   "id": "98fb18ff",
   "metadata": {},
   "outputs": [],
   "source": [
    "# 1. Extract work days (Saturdays designated as work days)\n",
    "work_days = holiday[holiday.type.eq(\"Work Day\")]\n",
    "work_days = work_days[[\"date\", \"type\"]].rename(\n",
    "    columns={\"type\": \"work_day\"}\n",
    ").reset_index(drop=True)\n",
    "work_days.work_day = work_days.work_day.notna().astype(int)\n",
    "\n",
    "# Remove work days from holiday dataframe\n",
    "holiday = holiday[holiday.type!=\"Work Day\"].reset_index(drop=True)\n",
    "\n",
    "# 2. Process local holidays (city level)\n",
    "local_holidays = holiday[holiday.locale.eq(\"Local\")]\n",
    "local_holidays = local_holidays[[\"date\", \"locale_name\", \"description\"]].rename(\n",
    "    columns={\"locale_name\": \"city\"}\n",
    ").reset_index(drop=True)\n",
    "local_holidays = local_holidays[~local_holidays.duplicated()]\n",
    "local_holidays = pd.get_dummies(local_holidays, columns=[\"description\"], prefix=\"loc\")\n",
    "\n",
    "# 3. Process regional holidays (state level)\n",
    "regional_holidays = holiday[holiday.locale.eq(\"Regional\")]\n",
    "regional_holidays = regional_holidays[[\"date\", \"locale_name\", \"description\"]].rename(\n",
    "    columns={\"locale_name\": \"state\", \"description\": \"provincializacion\"}\n",
    ").reset_index(drop=True)\n",
    "regional_holidays.provincializacion = regional_holidays.provincializacion.eq(\"provincializacion\").astype(int)\n",
    "\n",
    "# 4. Process national holidays\n",
    "national_holidays = holiday[holiday.locale.eq(\"National\")]\n",
    "national_holidays = national_holidays[[\"date\", \"description\"]].reset_index(drop=True)\n",
    "national_holidays = national_holidays[~national_holidays.duplicated()]\n",
    "national_holidays = pd.get_dummies(national_holidays, columns=[\"description\"], prefix=\"nat\")\n",
    "\n",
    "# Combine national holidays that fall on the same day\n",
    "national_holidays = national_holidays.groupby(\"date\").sum().reset_index()\n",
    "\n",
    "# Shorten column name for visualization purposes\n",
    "if \"nat_primer grito independencia\" in national_holidays.columns:\n",
    "    national_holidays = national_holidays.rename(columns={\"nat_primer grito independencia\": \"nat_primer grito\"})\n"
   ]
  },
  {
   "cell_type": "markdown",
   "id": "f210c593",
   "metadata": {},
   "source": [
    "## Feture Selection and Combination"
   ]
  },
  {
   "cell_type": "code",
   "execution_count": 21,
   "id": "a9452561",
   "metadata": {},
   "outputs": [],
   "source": [
    "# Select national holidays with larger impacts on sales based on correlation analysis\n",
    "selected_holidays = [\n",
    "    \"nat_terremoto\", \"nat_navidad\", \"nat_dia la madre\", \"nat_dia trabajo\",\n",
    "    \"nat_primer dia ano\", \"nat_futbol\", \"nat_dia difuntos\",\n",
    "]\n",
    "\n",
    "# Filter available holidays\n",
    "available_holidays = [col for col in selected_holidays if col in national_holidays.columns]\n",
    "keep_national_holidays = national_holidays[[\"date\"] + available_holidays]"
   ]
  },
  {
   "cell_type": "code",
   "execution_count": 22,
   "id": "4ececca3",
   "metadata": {},
   "outputs": [],
   "source": [
    "# Combine all datasets into a single comprehensive dataframe\n",
    "data = pd.concat(\n",
    "    [train, test], axis=0, ignore_index=True,\n",
    ").merge(\n",
    "    transaction, on=[\"date\", \"store_nbr\"], how=\"left\",\n",
    ").merge(\n",
    "    oil, on=\"date\", how=\"left\",\n",
    ").merge(\n",
    "    store, on=\"store_nbr\", how=\"left\",\n",
    ").merge(\n",
    "    work_days, on=\"date\", how=\"left\",\n",
    ").merge(\n",
    "    keep_national_holidays, on=\"date\", how=\"left\",\n",
    ").sort_values([\"date\", \"store_nbr\", \"family\"], ignore_index=True)\n",
    "\n",
    "# Fill holiday columns with 0s to indicate absence of holidays/events\n",
    "data[[\"work_day\"] + available_holidays] = data[[\"work_day\"] + available_holidays].fillna(0)"
   ]
  },
  {
   "cell_type": "code",
   "execution_count": 23,
   "id": "23db02d1",
   "metadata": {},
   "outputs": [],
   "source": [
    "# Include date-related features as future covariates\n",
    "data[\"day\"] = data.date.dt.day\n",
    "data[\"month\"] = data.date.dt.month\n",
    "data[\"year\"] = data.date.dt.year\n",
    "data[\"day_of_week\"] = data.date.dt.dayofweek\n",
    "data[\"day_of_year\"] = data.date.dt.dayofyear\n",
    "data[\"week_of_year\"] = data.date.dt.isocalendar().week.astype(int)\n",
    "data[\"date_index\"] = data.date.factorize()[0]  # Note: sort by date before computing this\n",
    "\n",
    "# Add cyclical encoding for day of week, month, and day of year to better capture periodicity\n",
    "data[\"sin_day_of_week\"] = np.sin(2 * np.pi * data.day_of_week / 7)\n",
    "data[\"cos_day_of_week\"] = np.cos(2 * np.pi * data.day_of_week / 7)\n",
    "data[\"sin_month\"] = np.sin(2 * np.pi * data.month / 12)\n",
    "data[\"cos_month\"] = np.cos(2 * np.pi * data.month / 12)\n",
    "data[\"sin_day_of_year\"] = np.sin(2 * np.pi * data.day_of_year / 365)\n",
    "data[\"cos_day_of_year\"] = np.cos(2 * np.pi * data.day_of_year / 365)"
   ]
  },
  {
   "cell_type": "code",
   "execution_count": 24,
   "id": "f83b5da9",
   "metadata": {},
   "outputs": [],
   "source": [
    "# Add pay period indicators (based on domain knowledge: public sector paid on 15th and last day of month)\n",
    "data[\"is_payday\"] = ((data.date.dt.day == 15) | \n",
    "                     (data.date.dt.is_month_end)).astype(int)\n",
    "\n",
    "# Add indicators for days after payday (spending often increases in days following payment)\n",
    "data[\"is_day_after_payday\"] = ((data.date.dt.day == 16) | \n",
    "                              (data.date.dt.day == 1)).astype(int)\n",
    "\n",
    "data[\"is_two_days_after_payday\"] = ((data.date.dt.day == 17) | \n",
    "                                   (data.date.dt.day == 2)).astype(int)\n",
    "\n",
    "# Add payday week indicator (entire week after payday may see elevated sales)\n",
    "data[\"is_payday_week\"] = ((data.date.dt.day >= 15) & (data.date.dt.day <= 21) | \n",
    "                          (data.date.dt.day >= 1) & (data.date.dt.day <= 7)).astype(int)"
   ]
  },
  {
   "cell_type": "code",
   "execution_count": 25,
   "id": "1eeda25a",
   "metadata": {},
   "outputs": [],
   "source": [
    "# Impute days with zero sales using linear interpolation later\n",
    "zero_sales_dates = missing_dates + [f\"{j}-01-01\" for j in range(2013, 2018)]\n",
    "data.loc[(data.date.isin(zero_sales_dates))&(data.sales.eq(0))&(data.onpromotion.eq(0)), [\"sales\", \"onpromotion\"]] = np.nan\n",
    "\n",
    "# Add prefixes for clarity in feature naming\n",
    "data.store_nbr = data.store_nbr.apply(lambda x: (f\"store_nbr_{x}\"))\n",
    "data.cluster = data.cluster.apply(lambda x: (f\"cluster_{x}\"))\n",
    "data.type = data.type.apply(lambda x: (f\"type_{x}\"))\n",
    "\n",
    "# Add prefixes to ensure no duplicate values between 'city' and 'state'\n",
    "data.city = data.city.apply(lambda x: (f\"city_{x.lower()}\"))\n",
    "data.state = data.state.apply(lambda x: (f\"state_{x.lower()}\"))"
   ]
  },
  {
   "cell_type": "markdown",
   "id": "b4b1f6ed",
   "metadata": {},
   "source": [
    "### Low Variance Features"
   ]
  },
  {
   "cell_type": "code",
   "execution_count": 26,
   "id": "b00fa74f",
   "metadata": {},
   "outputs": [],
   "source": [
    "def identify_low_variance_features(df, threshold=0.01):\n",
    "    \"\"\"\n",
    "    Identify features with low variance that might not be useful for prediction.\n",
    "    \n",
    "    Parameters:\n",
    "    -----------\n",
    "    df : pandas DataFrame\n",
    "        DataFrame containing features to analyze\n",
    "    threshold : float\n",
    "        Variance threshold\n",
    "        \n",
    "    Returns:\n",
    "    --------\n",
    "    list\n",
    "        List of feature names with variance below threshold\n",
    "    \"\"\"\n",
    "    # Select numeric columns\n",
    "    numeric_cols = df.select_dtypes(include=['float64', 'int64']).columns\n",
    "    \n",
    "    # Apply variance threshold\n",
    "    selector = VarianceThreshold(threshold)\n",
    "    selector.fit(df[numeric_cols])\n",
    "    \n",
    "    # Identify low variance features\n",
    "    low_var_indices = np.where(selector.variances_ <= threshold)[0]\n",
    "    low_var_features = numeric_cols[low_var_indices].tolist()\n",
    "    \n",
    "    return low_var_features"
   ]
  },
  {
   "cell_type": "code",
   "execution_count": 27,
   "id": "6644ace1",
   "metadata": {},
   "outputs": [
    {
     "name": "stdout",
     "output_type": "stream",
     "text": [
      "=====================\n",
      "\u001b[1;31mLow variance features\u001b[0m\n",
      "=====================\n",
      "Features with variance below threshold: ['work_day', 'nat_dia la madre', 'nat_dia trabajo', 'nat_primer dia ano', 'nat_futbol', 'nat_dia difuntos']\n"
     ]
    }
   ],
   "source": [
    "# Identify low variance features in the dataset\n",
    "# We'll focus on sales data for variance analysis since it's our target\n",
    "sales_columns = ['sales', 'onpromotion', 'transactions', 'oil'] + \\\n",
    "                [col for col in data.columns if col.startswith(('is_', 'work_day', 'nat_'))]\n",
    "\n",
    "# Create a sample for variance analysis (to save computation)\n",
    "sample_data = data.sample(frac=0.1, random_state=42)\n",
    "low_var_features = identify_low_variance_features(sample_data[sales_columns], threshold=0.01)\n",
    "\n",
    "# Print low variance features that will be excluded\n",
    "cprint(\n",
    "    \"Low variance features\",\n",
    "    \"\\33[1;31m\",\n",
    "    f\"Features with variance below threshold: {low_var_features}\",\n",
    ")\n",
    "\n",
    "# Exclude low variance features from our feature sets\n",
    "excluded_features = set(low_var_features)"
   ]
  },
  {
   "cell_type": "markdown",
   "id": "96a641e9",
   "metadata": {},
   "source": [
    "## Feature Engineering - Pipeline"
   ]
  },
  {
   "cell_type": "code",
   "execution_count": 28,
   "id": "08cf9726",
   "metadata": {},
   "outputs": [],
   "source": [
    "def get_pipeline(static_covs_transform=False, log_transform=False):\n",
    "    \"\"\"\n",
    "    Create a pipeline for data transformation.\n",
    "    \n",
    "    Parameters:\n",
    "    -----------\n",
    "    static_covs_transform : bool\n",
    "        Whether to transform static covariates using OneHotEncoder\n",
    "    log_transform : bool\n",
    "        Whether to apply log transformation to the target variable\n",
    "        \n",
    "    Returns:\n",
    "    --------\n",
    "    Pipeline\n",
    "        Darts pipeline for data transformation\n",
    "    \"\"\"\n",
    "    lst = []\n",
    "    \n",
    "    # Fill missing values\n",
    "    filler = MissingValuesFiller(n_jobs=-1)\n",
    "    lst.append(filler)\n",
    "    \n",
    "    # Specify transformation for static covariates\n",
    "    if static_covs_transform:\n",
    "        static_covs_transformer = StaticCovariatesTransformer(\n",
    "            transformer_cat=OneHotEncoder(),\n",
    "            n_jobs=-1,\n",
    "        )\n",
    "        lst.append(static_covs_transformer)\n",
    "\n",
    "    # Perform log transformation on sales\n",
    "    if log_transform:\n",
    "        log_transformer = InvertibleMapper(\n",
    "            fn=np.log1p,\n",
    "            inverse_fn=np.expm1,\n",
    "            n_jobs=-1,\n",
    "        )\n",
    "        lst.append(log_transformer)\n",
    "\n",
    "    # Rescale time series\n",
    "    scaler = Scaler()\n",
    "    lst.append(scaler)\n",
    "\n",
    "    # Chain all transformations\n",
    "    pipeline = Pipeline(lst)\n",
    "    return pipeline"
   ]
  },
  {
   "cell_type": "markdown",
   "id": "b3b54c55",
   "metadata": {},
   "source": [
    "## Time Series Extraction"
   ]
  },
  {
   "cell_type": "code",
   "execution_count": 29,
   "id": "4abd6144",
   "metadata": {},
   "outputs": [],
   "source": [
    "def get_target_series(static_cols, log_transform=True):\n",
    "    \"\"\"\n",
    "    Extract target time series from the data.\n",
    "    \n",
    "    Parameters:\n",
    "    -----------\n",
    "    static_cols : list\n",
    "        List of static covariates to include\n",
    "    log_transform : bool\n",
    "        Whether to apply log transformation to the target variable\n",
    "        \n",
    "    Returns:\n",
    "    --------\n",
    "    target_dict : dict\n",
    "        Dictionary of target time series by product family\n",
    "    pipe_dict : dict\n",
    "        Dictionary of pipelines by product family\n",
    "    id_dict : dict\n",
    "        Dictionary of series identifiers by product family\n",
    "    \"\"\"\n",
    "    target_dict = {}\n",
    "    pipe_dict = {}\n",
    "    id_dict = {}\n",
    "\n",
    "    for fam in tqdm_notebook(data.family.unique(), desc=\"Extracting target series\"):\n",
    "        # Filter data for each model\n",
    "        df = data[(data.family.eq(fam)) & (data.date.le(train_end.strftime(\"%Y-%m-%d\")))]\n",
    "        \n",
    "        # Initialize transformation pipeline for target series\n",
    "        pipe = get_pipeline(True, log_transform=log_transform)\n",
    "        \n",
    "        # Extract target series together with static covariates\n",
    "        target = TimeSeries.from_group_dataframe(\n",
    "            df=df,\n",
    "            time_col=\"date\",\n",
    "            value_cols=\"sales\",\n",
    "            group_cols=\"store_nbr\",\n",
    "            static_cols=static_cols,\n",
    "        )\n",
    "\n",
    "        # Record identity of each target series\n",
    "        target_id = [{\"store_nbr\": t.static_covariates.store_nbr[0], \"family\": fam} \n",
    "                     for t in target]\n",
    "        id_dict[fam] = target_id\n",
    "        \n",
    "        # Apply transformations\n",
    "        target = pipe.fit_transform(target)\n",
    "        target_dict[fam] = [t.astype(np.float32) for t in target]\n",
    "        pipe_dict[fam] = pipe[2:]\n",
    "        \n",
    "    return target_dict, pipe_dict, id_dict"
   ]
  },
  {
   "cell_type": "code",
   "execution_count": 30,
   "id": "94d11c4c",
   "metadata": {},
   "outputs": [],
   "source": [
    "def get_covariates(\n",
    "    past_cols,\n",
    "    future_cols,\n",
    "    past_ma_cols=None,\n",
    "    future_ma_cols=None,\n",
    "    past_window_sizes=[7, 28],\n",
    "    future_window_sizes=[7, 28],\n",
    "):\n",
    "    \"\"\"\n",
    "    Extract past and future covariates from the data.\n",
    "    \n",
    "    Parameters:\n",
    "    -----------\n",
    "    past_cols : list\n",
    "        List of past covariates to include\n",
    "    future_cols : list\n",
    "        List of future covariates to include\n",
    "    past_ma_cols : list or None\n",
    "        List of past covariates to compute moving average\n",
    "    future_ma_cols : list or None\n",
    "        List of future covariates to compute moving average\n",
    "    past_window_sizes : list\n",
    "        Window sizes for past moving averages\n",
    "    future_window_sizes : list\n",
    "        Window sizes for future moving averages\n",
    "        \n",
    "    Returns:\n",
    "    --------\n",
    "    past_dict : dict\n",
    "        Dictionary of past covariates by product family\n",
    "    future_dict : dict\n",
    "        Dictionary of future covariates by product family\n",
    "    \"\"\"\n",
    "    past_dict = {}\n",
    "    future_dict = {}\n",
    "    \n",
    "    # Initialize transformation pipeline for covariates\n",
    "    covs_pipe = get_pipeline()\n",
    "\n",
    "    for fam in tqdm_notebook(data.family.unique(), desc=\"Extracting covariates\"):\n",
    "        # Filter data for each model\n",
    "        df = data[data.family.eq(fam)]\n",
    "        \n",
    "        # Extract past covariates - Include the full date range (training + test)\n",
    "        past_covs = TimeSeries.from_group_dataframe(\n",
    "            df=df,  # No date filtering here - include all dates\n",
    "            time_col=\"date\",\n",
    "            value_cols=past_cols,\n",
    "            group_cols=\"store_nbr\",\n",
    "        )\n",
    "        past_covs = [p.with_static_covariates(None) for p in past_covs]\n",
    "        past_covs = covs_pipe.fit_transform(past_covs)\n",
    "        \n",
    "        # Add moving average features for past covariates if specified\n",
    "        if past_ma_cols is not None and len(past_ma_cols) > 0:\n",
    "            for size in past_window_sizes:\n",
    "                ma_filter = MovingAverageFilter(window=size)\n",
    "                past_ma_cols_filtered = [col for col in past_ma_cols if col not in excluded_features]\n",
    "                if past_ma_cols_filtered:\n",
    "                    old_names = [f\"rolling_mean_{size}_{col}\" for col in past_ma_cols_filtered]\n",
    "                    new_names = [f\"{col}_ma{size}\" for col in past_ma_cols_filtered]\n",
    "                    past_ma_covs = [\n",
    "                        ma_filter.filter(p[past_ma_cols_filtered]).with_columns_renamed(old_names, new_names) \n",
    "                        for p in past_covs\n",
    "                    ]\n",
    "                    past_covs = [p.stack(p_ma) for p, p_ma in zip(past_covs, past_ma_covs)]\n",
    "        \n",
    "        past_dict[fam] = [p.astype(np.float32) for p in past_covs]\n",
    "\n",
    "        # Extract future covariates\n",
    "        future_covs = TimeSeries.from_group_dataframe(\n",
    "            df=df,\n",
    "            time_col=\"date\",\n",
    "            value_cols=future_cols,\n",
    "            group_cols=\"store_nbr\",\n",
    "        )\n",
    "        future_covs = [f.with_static_covariates(None) for f in future_covs]\n",
    "        future_covs = covs_pipe.fit_transform(future_covs)\n",
    "        \n",
    "        # Add moving average features for future covariates if specified\n",
    "        if future_ma_cols is not None and len(future_ma_cols) > 0:\n",
    "            for size in future_window_sizes:\n",
    "                ma_filter = MovingAverageFilter(window=size)\n",
    "                future_ma_cols_filtered = [col for col in future_ma_cols if col not in excluded_features]\n",
    "                if future_ma_cols_filtered:\n",
    "                    old_names = [f\"rolling_mean_{size}_{col}\" for col in future_ma_cols_filtered]\n",
    "                    new_names = [f\"{col}_ma{size}\" for col in future_ma_cols_filtered]\n",
    "                    future_ma_covs = [\n",
    "                        ma_filter.filter(f[future_ma_cols_filtered]).with_columns_renamed(old_names, new_names) \n",
    "                        for f in future_covs\n",
    "                    ]\n",
    "                    future_covs = [f.stack(f_ma) for f, f_ma in zip(future_covs, future_ma_covs)]\n",
    "        \n",
    "        future_dict[fam] = [f.astype(np.float32) for f in future_covs]\n",
    "            \n",
    "    return past_dict, future_dict"
   ]
  },
  {
   "cell_type": "markdown",
   "id": "7fcc3d1e",
   "metadata": {},
   "source": [
    "#### Extraction"
   ]
  },
  {
   "cell_type": "code",
   "execution_count": 31,
   "id": "14df27e5",
   "metadata": {},
   "outputs": [
    {
     "data": {
      "application/vnd.jupyter.widget-view+json": {
       "model_id": "a7cc0ee24fd2491d8392eed4111f5576",
       "version_major": 2,
       "version_minor": 0
      },
      "text/plain": [
       "Extracting target series:   0%|          | 0/33 [00:00<?, ?it/s]"
      ]
     },
     "metadata": {},
     "output_type": "display_data"
    },
    {
     "name": "stderr",
     "output_type": "stream",
     "text": [
      "UserWarning: The (time) index from `df` is monotonically increasing. This results in time series groups with non-overlapping (time) index. You can ignore this warning if the index represents the actual index of each individual time series group.\n",
      "UserWarning: The (time) index from `df` is monotonically increasing. This results in time series groups with non-overlapping (time) index. You can ignore this warning if the index represents the actual index of each individual time series group.\n",
      "UserWarning: The (time) index from `df` is monotonically increasing. This results in time series groups with non-overlapping (time) index. You can ignore this warning if the index represents the actual index of each individual time series group.\n",
      "UserWarning: The (time) index from `df` is monotonically increasing. This results in time series groups with non-overlapping (time) index. You can ignore this warning if the index represents the actual index of each individual time series group.\n",
      "UserWarning: The (time) index from `df` is monotonically increasing. This results in time series groups with non-overlapping (time) index. You can ignore this warning if the index represents the actual index of each individual time series group.\n",
      "UserWarning: The (time) index from `df` is monotonically increasing. This results in time series groups with non-overlapping (time) index. You can ignore this warning if the index represents the actual index of each individual time series group.\n",
      "UserWarning: The (time) index from `df` is monotonically increasing. This results in time series groups with non-overlapping (time) index. You can ignore this warning if the index represents the actual index of each individual time series group.\n",
      "UserWarning: The (time) index from `df` is monotonically increasing. This results in time series groups with non-overlapping (time) index. You can ignore this warning if the index represents the actual index of each individual time series group.\n",
      "UserWarning: The (time) index from `df` is monotonically increasing. This results in time series groups with non-overlapping (time) index. You can ignore this warning if the index represents the actual index of each individual time series group.\n",
      "UserWarning: The (time) index from `df` is monotonically increasing. This results in time series groups with non-overlapping (time) index. You can ignore this warning if the index represents the actual index of each individual time series group.\n",
      "UserWarning: The (time) index from `df` is monotonically increasing. This results in time series groups with non-overlapping (time) index. You can ignore this warning if the index represents the actual index of each individual time series group.\n",
      "UserWarning: The (time) index from `df` is monotonically increasing. This results in time series groups with non-overlapping (time) index. You can ignore this warning if the index represents the actual index of each individual time series group.\n",
      "UserWarning: The (time) index from `df` is monotonically increasing. This results in time series groups with non-overlapping (time) index. You can ignore this warning if the index represents the actual index of each individual time series group.\n",
      "UserWarning: The (time) index from `df` is monotonically increasing. This results in time series groups with non-overlapping (time) index. You can ignore this warning if the index represents the actual index of each individual time series group.\n",
      "UserWarning: The (time) index from `df` is monotonically increasing. This results in time series groups with non-overlapping (time) index. You can ignore this warning if the index represents the actual index of each individual time series group.\n",
      "UserWarning: The (time) index from `df` is monotonically increasing. This results in time series groups with non-overlapping (time) index. You can ignore this warning if the index represents the actual index of each individual time series group.\n",
      "UserWarning: The (time) index from `df` is monotonically increasing. This results in time series groups with non-overlapping (time) index. You can ignore this warning if the index represents the actual index of each individual time series group.\n",
      "UserWarning: The (time) index from `df` is monotonically increasing. This results in time series groups with non-overlapping (time) index. You can ignore this warning if the index represents the actual index of each individual time series group.\n",
      "UserWarning: The (time) index from `df` is monotonically increasing. This results in time series groups with non-overlapping (time) index. You can ignore this warning if the index represents the actual index of each individual time series group.\n",
      "UserWarning: The (time) index from `df` is monotonically increasing. This results in time series groups with non-overlapping (time) index. You can ignore this warning if the index represents the actual index of each individual time series group.\n",
      "UserWarning: The (time) index from `df` is monotonically increasing. This results in time series groups with non-overlapping (time) index. You can ignore this warning if the index represents the actual index of each individual time series group.\n",
      "UserWarning: The (time) index from `df` is monotonically increasing. This results in time series groups with non-overlapping (time) index. You can ignore this warning if the index represents the actual index of each individual time series group.\n",
      "UserWarning: The (time) index from `df` is monotonically increasing. This results in time series groups with non-overlapping (time) index. You can ignore this warning if the index represents the actual index of each individual time series group.\n",
      "UserWarning: The (time) index from `df` is monotonically increasing. This results in time series groups with non-overlapping (time) index. You can ignore this warning if the index represents the actual index of each individual time series group.\n",
      "UserWarning: The (time) index from `df` is monotonically increasing. This results in time series groups with non-overlapping (time) index. You can ignore this warning if the index represents the actual index of each individual time series group.\n",
      "UserWarning: The (time) index from `df` is monotonically increasing. This results in time series groups with non-overlapping (time) index. You can ignore this warning if the index represents the actual index of each individual time series group.\n",
      "UserWarning: The (time) index from `df` is monotonically increasing. This results in time series groups with non-overlapping (time) index. You can ignore this warning if the index represents the actual index of each individual time series group.\n",
      "UserWarning: The (time) index from `df` is monotonically increasing. This results in time series groups with non-overlapping (time) index. You can ignore this warning if the index represents the actual index of each individual time series group.\n",
      "UserWarning: The (time) index from `df` is monotonically increasing. This results in time series groups with non-overlapping (time) index. You can ignore this warning if the index represents the actual index of each individual time series group.\n",
      "UserWarning: The (time) index from `df` is monotonically increasing. This results in time series groups with non-overlapping (time) index. You can ignore this warning if the index represents the actual index of each individual time series group.\n",
      "UserWarning: The (time) index from `df` is monotonically increasing. This results in time series groups with non-overlapping (time) index. You can ignore this warning if the index represents the actual index of each individual time series group.\n",
      "UserWarning: The (time) index from `df` is monotonically increasing. This results in time series groups with non-overlapping (time) index. You can ignore this warning if the index represents the actual index of each individual time series group.\n",
      "UserWarning: The (time) index from `df` is monotonically increasing. This results in time series groups with non-overlapping (time) index. You can ignore this warning if the index represents the actual index of each individual time series group.\n"
     ]
    }
   ],
   "source": [
    "# List of static covariates excluding 'store_nbr'; 'store_nbr' is automatically extracted using 'group_cols'\n",
    "static_cols = [\"city\", \"state\", \"type\", \"cluster\"]\n",
    "\n",
    "# Extract target time series\n",
    "target_dict, pipe_dict, id_dict = get_target_series(static_cols)"
   ]
  },
  {
   "cell_type": "code",
   "execution_count": 32,
   "id": "74491815",
   "metadata": {},
   "outputs": [
    {
     "data": {
      "application/vnd.jupyter.widget-view+json": {
       "model_id": "eef4569d27f54fda9f142ded373e605a",
       "version_major": 2,
       "version_minor": 0
      },
      "text/plain": [
       "Extracting covariates:   0%|          | 0/33 [00:00<?, ?it/s]"
      ]
     },
     "metadata": {},
     "output_type": "display_data"
    },
    {
     "name": "stderr",
     "output_type": "stream",
     "text": [
      "UserWarning: The (time) index from `df` is monotonically increasing. This results in time series groups with non-overlapping (time) index. You can ignore this warning if the index represents the actual index of each individual time series group.\n",
      "UserWarning: The (time) index from `df` is monotonically increasing. This results in time series groups with non-overlapping (time) index. You can ignore this warning if the index represents the actual index of each individual time series group.\n",
      "UserWarning: The (time) index from `df` is monotonically increasing. This results in time series groups with non-overlapping (time) index. You can ignore this warning if the index represents the actual index of each individual time series group.\n",
      "UserWarning: The (time) index from `df` is monotonically increasing. This results in time series groups with non-overlapping (time) index. You can ignore this warning if the index represents the actual index of each individual time series group.\n",
      "UserWarning: The (time) index from `df` is monotonically increasing. This results in time series groups with non-overlapping (time) index. You can ignore this warning if the index represents the actual index of each individual time series group.\n",
      "UserWarning: The (time) index from `df` is monotonically increasing. This results in time series groups with non-overlapping (time) index. You can ignore this warning if the index represents the actual index of each individual time series group.\n",
      "UserWarning: The (time) index from `df` is monotonically increasing. This results in time series groups with non-overlapping (time) index. You can ignore this warning if the index represents the actual index of each individual time series group.\n",
      "UserWarning: The (time) index from `df` is monotonically increasing. This results in time series groups with non-overlapping (time) index. You can ignore this warning if the index represents the actual index of each individual time series group.\n",
      "UserWarning: The (time) index from `df` is monotonically increasing. This results in time series groups with non-overlapping (time) index. You can ignore this warning if the index represents the actual index of each individual time series group.\n",
      "UserWarning: The (time) index from `df` is monotonically increasing. This results in time series groups with non-overlapping (time) index. You can ignore this warning if the index represents the actual index of each individual time series group.\n",
      "UserWarning: The (time) index from `df` is monotonically increasing. This results in time series groups with non-overlapping (time) index. You can ignore this warning if the index represents the actual index of each individual time series group.\n",
      "UserWarning: The (time) index from `df` is monotonically increasing. This results in time series groups with non-overlapping (time) index. You can ignore this warning if the index represents the actual index of each individual time series group.\n",
      "UserWarning: The (time) index from `df` is monotonically increasing. This results in time series groups with non-overlapping (time) index. You can ignore this warning if the index represents the actual index of each individual time series group.\n",
      "UserWarning: The (time) index from `df` is monotonically increasing. This results in time series groups with non-overlapping (time) index. You can ignore this warning if the index represents the actual index of each individual time series group.\n",
      "UserWarning: The (time) index from `df` is monotonically increasing. This results in time series groups with non-overlapping (time) index. You can ignore this warning if the index represents the actual index of each individual time series group.\n",
      "UserWarning: The (time) index from `df` is monotonically increasing. This results in time series groups with non-overlapping (time) index. You can ignore this warning if the index represents the actual index of each individual time series group.\n",
      "UserWarning: The (time) index from `df` is monotonically increasing. This results in time series groups with non-overlapping (time) index. You can ignore this warning if the index represents the actual index of each individual time series group.\n",
      "UserWarning: The (time) index from `df` is monotonically increasing. This results in time series groups with non-overlapping (time) index. You can ignore this warning if the index represents the actual index of each individual time series group.\n",
      "UserWarning: The (time) index from `df` is monotonically increasing. This results in time series groups with non-overlapping (time) index. You can ignore this warning if the index represents the actual index of each individual time series group.\n",
      "UserWarning: The (time) index from `df` is monotonically increasing. This results in time series groups with non-overlapping (time) index. You can ignore this warning if the index represents the actual index of each individual time series group.\n",
      "UserWarning: The (time) index from `df` is monotonically increasing. This results in time series groups with non-overlapping (time) index. You can ignore this warning if the index represents the actual index of each individual time series group.\n",
      "UserWarning: The (time) index from `df` is monotonically increasing. This results in time series groups with non-overlapping (time) index. You can ignore this warning if the index represents the actual index of each individual time series group.\n",
      "UserWarning: The (time) index from `df` is monotonically increasing. This results in time series groups with non-overlapping (time) index. You can ignore this warning if the index represents the actual index of each individual time series group.\n",
      "UserWarning: The (time) index from `df` is monotonically increasing. This results in time series groups with non-overlapping (time) index. You can ignore this warning if the index represents the actual index of each individual time series group.\n",
      "UserWarning: The (time) index from `df` is monotonically increasing. This results in time series groups with non-overlapping (time) index. You can ignore this warning if the index represents the actual index of each individual time series group.\n",
      "UserWarning: The (time) index from `df` is monotonically increasing. This results in time series groups with non-overlapping (time) index. You can ignore this warning if the index represents the actual index of each individual time series group.\n",
      "UserWarning: The (time) index from `df` is monotonically increasing. This results in time series groups with non-overlapping (time) index. You can ignore this warning if the index represents the actual index of each individual time series group.\n",
      "UserWarning: The (time) index from `df` is monotonically increasing. This results in time series groups with non-overlapping (time) index. You can ignore this warning if the index represents the actual index of each individual time series group.\n",
      "UserWarning: The (time) index from `df` is monotonically increasing. This results in time series groups with non-overlapping (time) index. You can ignore this warning if the index represents the actual index of each individual time series group.\n",
      "UserWarning: The (time) index from `df` is monotonically increasing. This results in time series groups with non-overlapping (time) index. You can ignore this warning if the index represents the actual index of each individual time series group.\n",
      "UserWarning: The (time) index from `df` is monotonically increasing. This results in time series groups with non-overlapping (time) index. You can ignore this warning if the index represents the actual index of each individual time series group.\n",
      "UserWarning: The (time) index from `df` is monotonically increasing. This results in time series groups with non-overlapping (time) index. You can ignore this warning if the index represents the actual index of each individual time series group.\n",
      "UserWarning: The (time) index from `df` is monotonically increasing. This results in time series groups with non-overlapping (time) index. You can ignore this warning if the index represents the actual index of each individual time series group.\n",
      "UserWarning: The (time) index from `df` is monotonically increasing. This results in time series groups with non-overlapping (time) index. You can ignore this warning if the index represents the actual index of each individual time series group.\n",
      "UserWarning: The (time) index from `df` is monotonically increasing. This results in time series groups with non-overlapping (time) index. You can ignore this warning if the index represents the actual index of each individual time series group.\n",
      "UserWarning: The (time) index from `df` is monotonically increasing. This results in time series groups with non-overlapping (time) index. You can ignore this warning if the index represents the actual index of each individual time series group.\n",
      "UserWarning: The (time) index from `df` is monotonically increasing. This results in time series groups with non-overlapping (time) index. You can ignore this warning if the index represents the actual index of each individual time series group.\n",
      "UserWarning: The (time) index from `df` is monotonically increasing. This results in time series groups with non-overlapping (time) index. You can ignore this warning if the index represents the actual index of each individual time series group.\n",
      "UserWarning: The (time) index from `df` is monotonically increasing. This results in time series groups with non-overlapping (time) index. You can ignore this warning if the index represents the actual index of each individual time series group.\n",
      "UserWarning: The (time) index from `df` is monotonically increasing. This results in time series groups with non-overlapping (time) index. You can ignore this warning if the index represents the actual index of each individual time series group.\n",
      "UserWarning: The (time) index from `df` is monotonically increasing. This results in time series groups with non-overlapping (time) index. You can ignore this warning if the index represents the actual index of each individual time series group.\n",
      "UserWarning: The (time) index from `df` is monotonically increasing. This results in time series groups with non-overlapping (time) index. You can ignore this warning if the index represents the actual index of each individual time series group.\n",
      "UserWarning: The (time) index from `df` is monotonically increasing. This results in time series groups with non-overlapping (time) index. You can ignore this warning if the index represents the actual index of each individual time series group.\n",
      "UserWarning: The (time) index from `df` is monotonically increasing. This results in time series groups with non-overlapping (time) index. You can ignore this warning if the index represents the actual index of each individual time series group.\n",
      "UserWarning: The (time) index from `df` is monotonically increasing. This results in time series groups with non-overlapping (time) index. You can ignore this warning if the index represents the actual index of each individual time series group.\n",
      "UserWarning: The (time) index from `df` is monotonically increasing. This results in time series groups with non-overlapping (time) index. You can ignore this warning if the index represents the actual index of each individual time series group.\n",
      "UserWarning: The (time) index from `df` is monotonically increasing. This results in time series groups with non-overlapping (time) index. You can ignore this warning if the index represents the actual index of each individual time series group.\n",
      "UserWarning: The (time) index from `df` is monotonically increasing. This results in time series groups with non-overlapping (time) index. You can ignore this warning if the index represents the actual index of each individual time series group.\n",
      "UserWarning: The (time) index from `df` is monotonically increasing. This results in time series groups with non-overlapping (time) index. You can ignore this warning if the index represents the actual index of each individual time series group.\n",
      "UserWarning: The (time) index from `df` is monotonically increasing. This results in time series groups with non-overlapping (time) index. You can ignore this warning if the index represents the actual index of each individual time series group.\n",
      "UserWarning: The (time) index from `df` is monotonically increasing. This results in time series groups with non-overlapping (time) index. You can ignore this warning if the index represents the actual index of each individual time series group.\n",
      "UserWarning: The (time) index from `df` is monotonically increasing. This results in time series groups with non-overlapping (time) index. You can ignore this warning if the index represents the actual index of each individual time series group.\n",
      "UserWarning: The (time) index from `df` is monotonically increasing. This results in time series groups with non-overlapping (time) index. You can ignore this warning if the index represents the actual index of each individual time series group.\n",
      "UserWarning: The (time) index from `df` is monotonically increasing. This results in time series groups with non-overlapping (time) index. You can ignore this warning if the index represents the actual index of each individual time series group.\n",
      "UserWarning: The (time) index from `df` is monotonically increasing. This results in time series groups with non-overlapping (time) index. You can ignore this warning if the index represents the actual index of each individual time series group.\n",
      "UserWarning: The (time) index from `df` is monotonically increasing. This results in time series groups with non-overlapping (time) index. You can ignore this warning if the index represents the actual index of each individual time series group.\n",
      "UserWarning: The (time) index from `df` is monotonically increasing. This results in time series groups with non-overlapping (time) index. You can ignore this warning if the index represents the actual index of each individual time series group.\n",
      "UserWarning: The (time) index from `df` is monotonically increasing. This results in time series groups with non-overlapping (time) index. You can ignore this warning if the index represents the actual index of each individual time series group.\n",
      "UserWarning: The (time) index from `df` is monotonically increasing. This results in time series groups with non-overlapping (time) index. You can ignore this warning if the index represents the actual index of each individual time series group.\n",
      "UserWarning: The (time) index from `df` is monotonically increasing. This results in time series groups with non-overlapping (time) index. You can ignore this warning if the index represents the actual index of each individual time series group.\n",
      "UserWarning: The (time) index from `df` is monotonically increasing. This results in time series groups with non-overlapping (time) index. You can ignore this warning if the index represents the actual index of each individual time series group.\n",
      "UserWarning: The (time) index from `df` is monotonically increasing. This results in time series groups with non-overlapping (time) index. You can ignore this warning if the index represents the actual index of each individual time series group.\n",
      "UserWarning: The (time) index from `df` is monotonically increasing. This results in time series groups with non-overlapping (time) index. You can ignore this warning if the index represents the actual index of each individual time series group.\n",
      "UserWarning: The (time) index from `df` is monotonically increasing. This results in time series groups with non-overlapping (time) index. You can ignore this warning if the index represents the actual index of each individual time series group.\n",
      "UserWarning: The (time) index from `df` is monotonically increasing. This results in time series groups with non-overlapping (time) index. You can ignore this warning if the index represents the actual index of each individual time series group.\n",
      "UserWarning: The (time) index from `df` is monotonically increasing. This results in time series groups with non-overlapping (time) index. You can ignore this warning if the index represents the actual index of each individual time series group.\n"
     ]
    }
   ],
   "source": [
    "# Define covariate columns\n",
    "# Past covariates\n",
    "past_cols = [\"transactions\"]\n",
    "\n",
    "# Future covariates - focus on most important predictors\n",
    "future_cols = [\n",
    "    \"oil\", \"onpromotion\",\n",
    "    \"day\", \"month\", \"year\", \"day_of_week\", \n",
    "    \"sin_day_of_week\", \"cos_day_of_week\", \n",
    "    \"sin_month\", \"cos_month\",\n",
    "    \"sin_day_of_year\", \"cos_day_of_year\",\n",
    "    \"work_day\",\n",
    "]\n",
    "\n",
    "# Add available holiday features\n",
    "future_cols.extend(available_holidays)\n",
    "\n",
    "# Add payday features\n",
    "future_cols.extend([\"is_payday\", \"is_day_after_payday\", \"is_payday_week\"])\n",
    "\n",
    "# Filter out low variance features\n",
    "future_cols = [col for col in future_cols if col not in excluded_features]\n",
    "\n",
    "# Additional past and future covariates from computing the moving averages\n",
    "past_ma_cols = [\"transactions\"]  # Added transactions to moving averages\n",
    "future_ma_cols = [\"oil\", \"onpromotion\"]\n",
    "\n",
    "# Expanded window sizes for more comprehensive patterns\n",
    "past_window_sizes = [7, 14, 28]\n",
    "future_window_sizes = [7, 14, 28]\n",
    "\n",
    "# Extract covariate time series\n",
    "past_dict, future_dict = get_covariates(\n",
    "    past_cols, \n",
    "    future_cols, \n",
    "    past_ma_cols, \n",
    "    future_ma_cols,\n",
    "    past_window_sizes,\n",
    "    future_window_sizes\n",
    ")"
   ]
  },
  {
   "cell_type": "code",
   "execution_count": 33,
   "id": "e319dead",
   "metadata": {},
   "outputs": [
    {
     "name": "stdout",
     "output_type": "stream",
     "text": [
      "=======================\n",
      "\u001b[1;34mList of all covariates:\u001b[0m\n",
      "=======================\n",
      "Static covariates:\n",
      "['city', 'state', 'type', 'cluster', 'store_nbr']\n",
      "\n",
      "Past covariates:\n",
      "['transactions', 'transactions_ma7', 'transactions_ma14', 'transactions_ma28']\n",
      "\n",
      "Future covariates:\n",
      "['oil', 'onpromotion', 'day', 'month', 'year', 'day_of_week', 'sin_day_of_week', 'cos_day_of_week', 'sin_month', 'cos_month', 'sin_day_of_year', 'cos_day_of_year', 'nat_terremoto', 'nat_navidad', 'is_payday', 'is_day_after_payday', 'is_payday_week', 'oil_ma7', 'onpromotion_ma7', 'oil_ma14', 'onpromotion_ma14', 'oil_ma28', 'onpromotion_ma28']\n"
     ]
    }
   ],
   "source": [
    "# Display list of all covariates\n",
    "if \"AUTOMOTIVE\" in past_dict:\n",
    "    cprint(\n",
    "        \"List of all covariates:\",\n",
    "        \"\\33[1;34m\",\n",
    "        \"Static covariates:\",\n",
    "        static_cols + [\"store_nbr\"],\n",
    "        \"\",\n",
    "        \"Past covariates:\",\n",
    "        past_dict[\"AUTOMOTIVE\"][0].components.tolist(),\n",
    "        \"\",\n",
    "        \"Future covariates:\",\n",
    "        future_dict[\"AUTOMOTIVE\"][0].components.tolist(),\n",
    "    )"
   ]
  },
  {
   "cell_type": "markdown",
   "id": "2c7e0ce8",
   "metadata": {},
   "source": [
    "## Trainer Configuration"
   ]
  },
  {
   "cell_type": "code",
   "execution_count": 34,
   "id": "a99a0042",
   "metadata": {},
   "outputs": [],
   "source": [
    "TRAINER_CONFIG = {\n",
    "    # The time series data previously extracted\n",
    "    \"target_dict\": target_dict,\n",
    "    \"pipe_dict\": pipe_dict,\n",
    "    \"id_dict\": id_dict,\n",
    "    \"past_dict\": past_dict,\n",
    "    \"future_dict\": future_dict,\n",
    "    \n",
    "    # Cross-validation settings\n",
    "    \"forecast_horizon\": 16,  # The length of the validation set\n",
    "    \"folds\": 1,  # Standard train-validation split (reduced from 3 to 1 for stability)\n",
    "    \n",
    "    # The number of previous days to check for zero sales; if all are zero, generate zero forecasts\n",
    "    \"zero_fc_window\": 21,\n",
    "    \n",
    "    # Specify the covariates in a list to include in the model\n",
    "    # Set to None to not use any, and set to 'keep_all' to include everything\n",
    "    \"static_covs\": \"keep_all\",\n",
    "    \"past_covs\": \"keep_all\",\n",
    "    \"future_covs\": \"keep_all\",\n",
    "}"
   ]
  },
  {
   "cell_type": "markdown",
   "id": "d1bcd00f",
   "metadata": {},
   "source": [
    "## Training adn Evaluation"
   ]
  },
  {
   "cell_type": "code",
   "execution_count": 35,
   "id": "90d5a9c2",
   "metadata": {},
   "outputs": [
    {
     "data": {
      "application/vnd.jupyter.widget-view+json": {
       "model_id": "546f80c9365c4b619e7701ea2c83a519",
       "version_major": 2,
       "version_minor": 0
      },
      "text/plain": [
       "Setting up:   0%|          | 0/33 [00:00<?, ?it/s]"
      ]
     },
     "metadata": {},
     "output_type": "display_data"
    }
   ],
   "source": [
    "# Initialize model trainer\n",
    "trainer = Trainer(**TRAINER_CONFIG)"
   ]
  },
  {
   "cell_type": "code",
   "execution_count": 36,
   "id": "ece12d3b",
   "metadata": {},
   "outputs": [],
   "source": [
    "# Base model configuration with improved regularization\n",
    "BASE_CONFIG = {\n",
    "    \"random_state\": 42,  # Consistent random state\n",
    "    \n",
    "    # The number of lag values of the target series\n",
    "    \"lags\": 63,\n",
    "    \n",
    "    # The number of lag values of the past covariates\n",
    "    \"lags_past_covariates\": list(range(-1, -30, -1)) if TRAINER_CONFIG[\"past_covs\"] is not None else None,\n",
    "    \n",
    "    # The number of (past, future-1) lag values of the future covariates\n",
    "    \"lags_future_covariates\": (14, 1) if TRAINER_CONFIG[\"future_covs\"] is not None else None,\n",
    "    \n",
    "    # The number of days ahead that the model is forecasting given today's input data\n",
    "    \"output_chunk_length\": 1,\n",
    "}\n",
    "\n",
    "# Validate linear regression model\n",
    "# Note: Using only parameters supported by LinearRegressionModel in darts\n",
    "LR_CONFIG = {\n",
    "    **BASE_CONFIG,\n",
    "    \"fit_intercept\": True,\n",
    "}"
   ]
  },
  {
   "cell_type": "code",
   "execution_count": 37,
   "id": "34473e0c",
   "metadata": {},
   "outputs": [
    {
     "name": "stdout",
     "output_type": "stream",
     "text": [
      "\n",
      "Validating Linear Regression Model\n"
     ]
    },
    {
     "data": {
      "application/vnd.jupyter.widget-view+json": {
       "model_id": "109eb5603c7d4d62a4ea47ecf347d3c0",
       "version_major": 2,
       "version_minor": 0
      },
      "text/plain": [
       "Performing validation:   0%|          | 0/33 [00:00<?, ?it/s]"
      ]
     },
     "metadata": {},
     "output_type": "display_data"
    },
    {
     "name": "stderr",
     "output_type": "stream",
     "text": [
      "`predict()` was called with `n > output_chunk_length`: using auto-regression to forecast the values after `output_chunk_length` points. The model will access `(n - output_chunk_length)` future values of your `past_covariates` (relative to the first predicted time step). To hide this warning, set `show_warnings=False`.\n"
     ]
    },
    {
     "name": "stdout",
     "output_type": "stream",
     "text": [
      "AUTOMOTIVE                 | lr: 0.48960\n"
     ]
    },
    {
     "name": "stderr",
     "output_type": "stream",
     "text": [
      "`predict()` was called with `n > output_chunk_length`: using auto-regression to forecast the values after `output_chunk_length` points. The model will access `(n - output_chunk_length)` future values of your `past_covariates` (relative to the first predicted time step). To hide this warning, set `show_warnings=False`.\n"
     ]
    },
    {
     "name": "stdout",
     "output_type": "stream",
     "text": [
      "BABY CARE                  | lr: 0.18589\n"
     ]
    },
    {
     "name": "stderr",
     "output_type": "stream",
     "text": [
      "`predict()` was called with `n > output_chunk_length`: using auto-regression to forecast the values after `output_chunk_length` points. The model will access `(n - output_chunk_length)` future values of your `past_covariates` (relative to the first predicted time step). To hide this warning, set `show_warnings=False`.\n"
     ]
    },
    {
     "name": "stdout",
     "output_type": "stream",
     "text": [
      "BEAUTY                     | lr: 0.48624\n"
     ]
    },
    {
     "name": "stderr",
     "output_type": "stream",
     "text": [
      "`predict()` was called with `n > output_chunk_length`: using auto-regression to forecast the values after `output_chunk_length` points. The model will access `(n - output_chunk_length)` future values of your `past_covariates` (relative to the first predicted time step). To hide this warning, set `show_warnings=False`.\n"
     ]
    },
    {
     "name": "stdout",
     "output_type": "stream",
     "text": [
      "BEVERAGES                  | lr: 0.24119\n"
     ]
    },
    {
     "name": "stderr",
     "output_type": "stream",
     "text": [
      "`predict()` was called with `n > output_chunk_length`: using auto-regression to forecast the values after `output_chunk_length` points. The model will access `(n - output_chunk_length)` future values of your `past_covariates` (relative to the first predicted time step). To hide this warning, set `show_warnings=False`.\n"
     ]
    },
    {
     "name": "stdout",
     "output_type": "stream",
     "text": [
      "BOOKS                      | lr: 0.03767\n"
     ]
    },
    {
     "name": "stderr",
     "output_type": "stream",
     "text": [
      "`predict()` was called with `n > output_chunk_length`: using auto-regression to forecast the values after `output_chunk_length` points. The model will access `(n - output_chunk_length)` future values of your `past_covariates` (relative to the first predicted time step). To hide this warning, set `show_warnings=False`.\n"
     ]
    },
    {
     "name": "stdout",
     "output_type": "stream",
     "text": [
      "BREAD/BAKERY               | lr: 0.18231\n"
     ]
    },
    {
     "name": "stderr",
     "output_type": "stream",
     "text": [
      "`predict()` was called with `n > output_chunk_length`: using auto-regression to forecast the values after `output_chunk_length` points. The model will access `(n - output_chunk_length)` future values of your `past_covariates` (relative to the first predicted time step). To hide this warning, set `show_warnings=False`.\n"
     ]
    },
    {
     "name": "stdout",
     "output_type": "stream",
     "text": [
      "CELEBRATION                | lr: 0.54399\n"
     ]
    },
    {
     "name": "stderr",
     "output_type": "stream",
     "text": [
      "`predict()` was called with `n > output_chunk_length`: using auto-regression to forecast the values after `output_chunk_length` points. The model will access `(n - output_chunk_length)` future values of your `past_covariates` (relative to the first predicted time step). To hide this warning, set `show_warnings=False`.\n"
     ]
    },
    {
     "name": "stdout",
     "output_type": "stream",
     "text": [
      "CLEANING                   | lr: 0.28143\n"
     ]
    },
    {
     "name": "stderr",
     "output_type": "stream",
     "text": [
      "`predict()` was called with `n > output_chunk_length`: using auto-regression to forecast the values after `output_chunk_length` points. The model will access `(n - output_chunk_length)` future values of your `past_covariates` (relative to the first predicted time step). To hide this warning, set `show_warnings=False`.\n"
     ]
    },
    {
     "name": "stdout",
     "output_type": "stream",
     "text": [
      "DAIRY                      | lr: 0.16627\n"
     ]
    },
    {
     "name": "stderr",
     "output_type": "stream",
     "text": [
      "`predict()` was called with `n > output_chunk_length`: using auto-regression to forecast the values after `output_chunk_length` points. The model will access `(n - output_chunk_length)` future values of your `past_covariates` (relative to the first predicted time step). To hide this warning, set `show_warnings=False`.\n"
     ]
    },
    {
     "name": "stdout",
     "output_type": "stream",
     "text": [
      "DELI                       | lr: 0.19264\n"
     ]
    },
    {
     "name": "stderr",
     "output_type": "stream",
     "text": [
      "`predict()` was called with `n > output_chunk_length`: using auto-regression to forecast the values after `output_chunk_length` points. The model will access `(n - output_chunk_length)` future values of your `past_covariates` (relative to the first predicted time step). To hide this warning, set `show_warnings=False`.\n"
     ]
    },
    {
     "name": "stdout",
     "output_type": "stream",
     "text": [
      "EGGS                       | lr: 0.25945\n"
     ]
    },
    {
     "name": "stderr",
     "output_type": "stream",
     "text": [
      "`predict()` was called with `n > output_chunk_length`: using auto-regression to forecast the values after `output_chunk_length` points. The model will access `(n - output_chunk_length)` future values of your `past_covariates` (relative to the first predicted time step). To hide this warning, set `show_warnings=False`.\n"
     ]
    },
    {
     "name": "stdout",
     "output_type": "stream",
     "text": [
      "FROZEN FOODS               | lr: 0.26601\n"
     ]
    },
    {
     "name": "stderr",
     "output_type": "stream",
     "text": [
      "`predict()` was called with `n > output_chunk_length`: using auto-regression to forecast the values after `output_chunk_length` points. The model will access `(n - output_chunk_length)` future values of your `past_covariates` (relative to the first predicted time step). To hide this warning, set `show_warnings=False`.\n"
     ]
    },
    {
     "name": "stdout",
     "output_type": "stream",
     "text": [
      "GROCERY I                  | lr: 0.20895\n"
     ]
    },
    {
     "name": "stderr",
     "output_type": "stream",
     "text": [
      "`predict()` was called with `n > output_chunk_length`: using auto-regression to forecast the values after `output_chunk_length` points. The model will access `(n - output_chunk_length)` future values of your `past_covariates` (relative to the first predicted time step). To hide this warning, set `show_warnings=False`.\n"
     ]
    },
    {
     "name": "stdout",
     "output_type": "stream",
     "text": [
      "GROCERY II                 | lr: 0.51069\n"
     ]
    },
    {
     "name": "stderr",
     "output_type": "stream",
     "text": [
      "`predict()` was called with `n > output_chunk_length`: using auto-regression to forecast the values after `output_chunk_length` points. The model will access `(n - output_chunk_length)` future values of your `past_covariates` (relative to the first predicted time step). To hide this warning, set `show_warnings=False`.\n"
     ]
    },
    {
     "name": "stdout",
     "output_type": "stream",
     "text": [
      "HARDWARE                   | lr: 0.51285\n"
     ]
    },
    {
     "name": "stderr",
     "output_type": "stream",
     "text": [
      "`predict()` was called with `n > output_chunk_length`: using auto-regression to forecast the values after `output_chunk_length` points. The model will access `(n - output_chunk_length)` future values of your `past_covariates` (relative to the first predicted time step). To hide this warning, set `show_warnings=False`.\n"
     ]
    },
    {
     "name": "stdout",
     "output_type": "stream",
     "text": [
      "HOME AND KITCHEN I         | lr: 0.45870\n"
     ]
    },
    {
     "name": "stderr",
     "output_type": "stream",
     "text": [
      "`predict()` was called with `n > output_chunk_length`: using auto-regression to forecast the values after `output_chunk_length` points. The model will access `(n - output_chunk_length)` future values of your `past_covariates` (relative to the first predicted time step). To hide this warning, set `show_warnings=False`.\n"
     ]
    },
    {
     "name": "stdout",
     "output_type": "stream",
     "text": [
      "HOME AND KITCHEN II        | lr: 0.44164\n"
     ]
    },
    {
     "name": "stderr",
     "output_type": "stream",
     "text": [
      "`predict()` was called with `n > output_chunk_length`: using auto-regression to forecast the values after `output_chunk_length` points. The model will access `(n - output_chunk_length)` future values of your `past_covariates` (relative to the first predicted time step). To hide this warning, set `show_warnings=False`.\n"
     ]
    },
    {
     "name": "stdout",
     "output_type": "stream",
     "text": [
      "HOME APPLIANCES            | lr: 0.26462\n"
     ]
    },
    {
     "name": "stderr",
     "output_type": "stream",
     "text": [
      "`predict()` was called with `n > output_chunk_length`: using auto-regression to forecast the values after `output_chunk_length` points. The model will access `(n - output_chunk_length)` future values of your `past_covariates` (relative to the first predicted time step). To hide this warning, set `show_warnings=False`.\n"
     ]
    },
    {
     "name": "stdout",
     "output_type": "stream",
     "text": [
      "HOME CARE                  | lr: 0.29638\n"
     ]
    },
    {
     "name": "stderr",
     "output_type": "stream",
     "text": [
      "`predict()` was called with `n > output_chunk_length`: using auto-regression to forecast the values after `output_chunk_length` points. The model will access `(n - output_chunk_length)` future values of your `past_covariates` (relative to the first predicted time step). To hide this warning, set `show_warnings=False`.\n"
     ]
    },
    {
     "name": "stdout",
     "output_type": "stream",
     "text": [
      "LADIESWEAR                 | lr: 0.47630\n"
     ]
    },
    {
     "name": "stderr",
     "output_type": "stream",
     "text": [
      "`predict()` was called with `n > output_chunk_length`: using auto-regression to forecast the values after `output_chunk_length` points. The model will access `(n - output_chunk_length)` future values of your `past_covariates` (relative to the first predicted time step). To hide this warning, set `show_warnings=False`.\n"
     ]
    },
    {
     "name": "stdout",
     "output_type": "stream",
     "text": [
      "LAWN AND GARDEN            | lr: 0.35078\n"
     ]
    },
    {
     "name": "stderr",
     "output_type": "stream",
     "text": [
      "`predict()` was called with `n > output_chunk_length`: using auto-regression to forecast the values after `output_chunk_length` points. The model will access `(n - output_chunk_length)` future values of your `past_covariates` (relative to the first predicted time step). To hide this warning, set `show_warnings=False`.\n"
     ]
    },
    {
     "name": "stdout",
     "output_type": "stream",
     "text": [
      "LINGERIE                   | lr: 0.59723\n"
     ]
    },
    {
     "name": "stderr",
     "output_type": "stream",
     "text": [
      "`predict()` was called with `n > output_chunk_length`: using auto-regression to forecast the values after `output_chunk_length` points. The model will access `(n - output_chunk_length)` future values of your `past_covariates` (relative to the first predicted time step). To hide this warning, set `show_warnings=False`.\n"
     ]
    },
    {
     "name": "stdout",
     "output_type": "stream",
     "text": [
      "LIQUOR,WINE,BEER           | lr: 0.45504\n"
     ]
    },
    {
     "name": "stderr",
     "output_type": "stream",
     "text": [
      "`predict()` was called with `n > output_chunk_length`: using auto-regression to forecast the values after `output_chunk_length` points. The model will access `(n - output_chunk_length)` future values of your `past_covariates` (relative to the first predicted time step). To hide this warning, set `show_warnings=False`.\n"
     ]
    },
    {
     "name": "stdout",
     "output_type": "stream",
     "text": [
      "MAGAZINES                  | lr: 0.48326\n"
     ]
    },
    {
     "name": "stderr",
     "output_type": "stream",
     "text": [
      "`predict()` was called with `n > output_chunk_length`: using auto-regression to forecast the values after `output_chunk_length` points. The model will access `(n - output_chunk_length)` future values of your `past_covariates` (relative to the first predicted time step). To hide this warning, set `show_warnings=False`.\n"
     ]
    },
    {
     "name": "stdout",
     "output_type": "stream",
     "text": [
      "MEATS                      | lr: 0.20693\n"
     ]
    },
    {
     "name": "stderr",
     "output_type": "stream",
     "text": [
      "`predict()` was called with `n > output_chunk_length`: using auto-regression to forecast the values after `output_chunk_length` points. The model will access `(n - output_chunk_length)` future values of your `past_covariates` (relative to the first predicted time step). To hide this warning, set `show_warnings=False`.\n"
     ]
    },
    {
     "name": "stdout",
     "output_type": "stream",
     "text": [
      "PERSONAL CARE              | lr: 0.23702\n"
     ]
    },
    {
     "name": "stderr",
     "output_type": "stream",
     "text": [
      "`predict()` was called with `n > output_chunk_length`: using auto-regression to forecast the values after `output_chunk_length` points. The model will access `(n - output_chunk_length)` future values of your `past_covariates` (relative to the first predicted time step). To hide this warning, set `show_warnings=False`.\n"
     ]
    },
    {
     "name": "stdout",
     "output_type": "stream",
     "text": [
      "PET SUPPLIES               | lr: 0.46558\n"
     ]
    },
    {
     "name": "stderr",
     "output_type": "stream",
     "text": [
      "`predict()` was called with `n > output_chunk_length`: using auto-regression to forecast the values after `output_chunk_length` points. The model will access `(n - output_chunk_length)` future values of your `past_covariates` (relative to the first predicted time step). To hide this warning, set `show_warnings=False`.\n"
     ]
    },
    {
     "name": "stdout",
     "output_type": "stream",
     "text": [
      "PLAYERS AND ELECTRONICS    | lr: 0.46647\n"
     ]
    },
    {
     "name": "stderr",
     "output_type": "stream",
     "text": [
      "`predict()` was called with `n > output_chunk_length`: using auto-regression to forecast the values after `output_chunk_length` points. The model will access `(n - output_chunk_length)` future values of your `past_covariates` (relative to the first predicted time step). To hide this warning, set `show_warnings=False`.\n"
     ]
    },
    {
     "name": "stdout",
     "output_type": "stream",
     "text": [
      "POULTRY                    | lr: 0.20597\n"
     ]
    },
    {
     "name": "stderr",
     "output_type": "stream",
     "text": [
      "`predict()` was called with `n > output_chunk_length`: using auto-regression to forecast the values after `output_chunk_length` points. The model will access `(n - output_chunk_length)` future values of your `past_covariates` (relative to the first predicted time step). To hide this warning, set `show_warnings=False`.\n"
     ]
    },
    {
     "name": "stdout",
     "output_type": "stream",
     "text": [
      "PREPARED FOODS             | lr: 0.25772\n"
     ]
    },
    {
     "name": "stderr",
     "output_type": "stream",
     "text": [
      "`predict()` was called with `n > output_chunk_length`: using auto-regression to forecast the values after `output_chunk_length` points. The model will access `(n - output_chunk_length)` future values of your `past_covariates` (relative to the first predicted time step). To hide this warning, set `show_warnings=False`.\n"
     ]
    },
    {
     "name": "stdout",
     "output_type": "stream",
     "text": [
      "PRODUCE                    | lr: 0.58282\n"
     ]
    },
    {
     "name": "stderr",
     "output_type": "stream",
     "text": [
      "`predict()` was called with `n > output_chunk_length`: using auto-regression to forecast the values after `output_chunk_length` points. The model will access `(n - output_chunk_length)` future values of your `past_covariates` (relative to the first predicted time step). To hide this warning, set `show_warnings=False`.\n"
     ]
    },
    {
     "name": "stdout",
     "output_type": "stream",
     "text": [
      "SCHOOL AND OFFICE SUPPLIES | lr: 0.70311\n"
     ]
    },
    {
     "name": "stderr",
     "output_type": "stream",
     "text": [
      "`predict()` was called with `n > output_chunk_length`: using auto-regression to forecast the values after `output_chunk_length` points. The model will access `(n - output_chunk_length)` future values of your `past_covariates` (relative to the first predicted time step). To hide this warning, set `show_warnings=False`.\n"
     ]
    },
    {
     "name": "stdout",
     "output_type": "stream",
     "text": [
      "SEAFOOD                    | lr: 0.44949\n",
      "Average RMSLE | lr: 0.36255\n"
     ]
    }
   ],
   "source": [
    "print(\"\\nValidating Linear Regression Model\")\n",
    "trainer.validate([\"lr\"], [LR_CONFIG], drop_before=\"2015-01-01\")"
   ]
  },
  {
   "cell_type": "code",
   "execution_count": 38,
   "id": "fd5c7b33",
   "metadata": {},
   "outputs": [],
   "source": [
    "# LightGBM configuration with stronger regularization to prevent overfitting\n",
    "# Removed early_stopping_rounds to prevent errors\n",
    "LGBM_BASE_CONFIG = {\n",
    "    **BASE_CONFIG,\n",
    "    \n",
    "    # Core parameters\n",
    "    \"n_estimators\": 200,\n",
    "    \"learning_rate\": 0.03,  # Decreased to reduce overfitting\n",
    "    \"max_depth\": 8,  # Reduced from 12 to prevent overfitting\n",
    "    \"num_leaves\": 31,\n",
    "    \n",
    "    # Regularization parameters\n",
    "    \"min_child_samples\": 20,  # Minimum samples per leaf\n",
    "    \"min_child_weight\": 1e-3,  # Minimum sum of instance weight in a leaf\n",
    "    \"subsample\": 0.7,  # Reduced from 0.8 for better regularization\n",
    "    \"colsample_bytree\": 0.7,  # Reduced from 0.8 for better regularization\n",
    "    \"reg_alpha\": 0.03,  # Increased L1 regularization\n",
    "    \"reg_lambda\": 0.3,  # Increased L2 regularization\n",
    "    \n",
    "    # Removed early_stopping_rounds to avoid errors\n",
    "    \"verbose\": -1,\n",
    "}\n",
    "\n",
    "# XGBoost configuration with strong regularization\n",
    "# Removed early_stopping_rounds to prevent errors\n",
    "XGB_CONFIG = {\n",
    "    **BASE_CONFIG,\n",
    "    \"n_estimators\": 300,\n",
    "    \"learning_rate\": 0.03,\n",
    "    \"max_depth\": 8,\n",
    "    \"subsample\": 0.7,\n",
    "    \"colsample_bytree\": 0.7,\n",
    "    \"reg_alpha\": 0.05,\n",
    "    \"reg_lambda\": 0.5,\n",
    "    \"gamma\": 0.01,  # Minimum loss reduction for further partition\n",
    "    \"min_child_weight\": 3,\n",
    "    \"tree_method\": \"hist\",\n",
    "    # Removed early_stopping_rounds to avoid errors\n",
    "    \"verbose\": 0,\n",
    "}"
   ]
  },
  {
   "cell_type": "code",
   "execution_count": 39,
   "id": "59e1fdc1",
   "metadata": {},
   "outputs": [],
   "source": [
    "# Experiment with different lag configurations\n",
    "LGBM_CONFIG1 = LGBM_BASE_CONFIG.copy()  # Keep full lag structure\n",
    "\n",
    "LGBM_CONFIG2 = LGBM_BASE_CONFIG.copy()\n",
    "LGBM_CONFIG2[\"lags\"] = list(range(-1, -8, -1))  # One week of lags\n",
    "\n",
    "LGBM_CONFIG3 = LGBM_BASE_CONFIG.copy()\n",
    "LGBM_CONFIG3[\"lags\"] = list(range(-365, -372, -1))  # Same week last year\n",
    "\n",
    "# Add a configuration with very recent lags\n",
    "LGBM_CONFIG5 = LGBM_BASE_CONFIG.copy()\n",
    "LGBM_CONFIG5[\"lags\"] = [-1, -2, -3]  # Very recent lags\n",
    "\n",
    "# Add seasonal weekly pattern\n",
    "LGBM_CONFIG6 = LGBM_BASE_CONFIG.copy()\n",
    "LGBM_CONFIG6[\"lags\"] = [-7, -14, -21, -28]  # Weekly patterns"
   ]
  },
  {
   "cell_type": "code",
   "execution_count": 40,
   "id": "32e47c21",
   "metadata": {},
   "outputs": [],
   "source": [
    "# CatBoost configuration with regularization\n",
    "CAT_CONFIG = {\n",
    "    **BASE_CONFIG,\n",
    "    \"iterations\": 200,\n",
    "    \"learning_rate\": 0.03,\n",
    "    \"depth\": 8,  # Reduced from 12\n",
    "    \"l2_leaf_reg\": 5.0,  # Increased from 3.0\n",
    "    \"random_strength\": 0.2,  # Increased from 0.1\n",
    "    \"bagging_temperature\": 0.8,\n",
    "    \"grow_policy\": \"SymmetricTree\",\n",
    "    \"verbose\": False,\n",
    "}\n",
    "\n",
    "# Build a more robust ensemble with diversified models\n",
    "# Using fewer models for better stability\n",
    "ENS_MODELS = [\"lr\", \"lgbm\", \"lgbm\", \"cat\"]\n",
    "ENS_CONFIGS = [\n",
    "    LR_CONFIG,          # Linear model for baseline\n",
    "    LGBM_CONFIG1,       # Full lag structure\n",
    "    LGBM_CONFIG6,       # Weekly patterns\n",
    "    CAT_CONFIG,         # CatBoost model\n",
    "]"
   ]
  },
  {
   "cell_type": "code",
   "execution_count": 41,
   "id": "d49bb9c2",
   "metadata": {},
   "outputs": [
    {
     "name": "stdout",
     "output_type": "stream",
     "text": [
      "\n",
      "Validating Ensemble Models\n"
     ]
    },
    {
     "data": {
      "application/vnd.jupyter.widget-view+json": {
       "model_id": "6c27af5bbb614cd793507dd5144fcac0",
       "version_major": 2,
       "version_minor": 0
      },
      "text/plain": [
       "Performing validation:   0%|          | 0/33 [00:00<?, ?it/s]"
      ]
     },
     "metadata": {},
     "output_type": "display_data"
    },
    {
     "name": "stderr",
     "output_type": "stream",
     "text": [
      "`predict()` was called with `n > output_chunk_length`: using auto-regression to forecast the values after `output_chunk_length` points. The model will access `(n - output_chunk_length)` future values of your `past_covariates` (relative to the first predicted time step). To hide this warning, set `show_warnings=False`.\n",
      "  File \"c:\\Users\\giuse\\.conda\\envs\\ai\\Lib\\site-packages\\joblib\\externals\\loky\\backend\\context.py\", line 257, in _count_physical_cores\n",
      "    cpu_info = subprocess.run(\n",
      "               ^^^^^^^^^^^^^^^\n",
      "  File \"c:\\Users\\giuse\\.conda\\envs\\ai\\Lib\\subprocess.py\", line 548, in run\n",
      "    with Popen(*popenargs, **kwargs) as process:\n",
      "         ^^^^^^^^^^^^^^^^^^^^^^^^^^^\n",
      "  File \"c:\\Users\\giuse\\.conda\\envs\\ai\\Lib\\subprocess.py\", line 1026, in __init__\n",
      "    self._execute_child(args, executable, preexec_fn, close_fds,\n",
      "  File \"c:\\Users\\giuse\\.conda\\envs\\ai\\Lib\\subprocess.py\", line 1538, in _execute_child\n",
      "    hp, ht, pid, tid = _winapi.CreateProcess(executable, args,\n",
      "                       ^^^^^^^^^^^^^^^^^^^^^^^^^^^^^^^^^^^^^^^\n",
      "`predict()` was called with `n > output_chunk_length`: using auto-regression to forecast the values after `output_chunk_length` points. The model will access `(n - output_chunk_length)` future values of your `past_covariates` (relative to the first predicted time step). To hide this warning, set `show_warnings=False`.\n",
      "`predict()` was called with `n > output_chunk_length`: using auto-regression to forecast the values after `output_chunk_length` points. The model will access `(n - output_chunk_length)` future values of your `past_covariates` (relative to the first predicted time step). To hide this warning, set `show_warnings=False`.\n",
      "`predict()` was called with `n > output_chunk_length`: using auto-regression to forecast the values after `output_chunk_length` points. The model will access `(n - output_chunk_length)` future values of your `past_covariates` (relative to the first predicted time step). To hide this warning, set `show_warnings=False`.\n"
     ]
    },
    {
     "name": "stdout",
     "output_type": "stream",
     "text": [
      "AUTOMOTIVE                 | lr: 0.48960 - lgbm: 0.49851 - lgbm: 0.51123 - cat: 0.49941 - ens: 0.49399\n"
     ]
    },
    {
     "name": "stderr",
     "output_type": "stream",
     "text": [
      "`predict()` was called with `n > output_chunk_length`: using auto-regression to forecast the values after `output_chunk_length` points. The model will access `(n - output_chunk_length)` future values of your `past_covariates` (relative to the first predicted time step). To hide this warning, set `show_warnings=False`.\n",
      "`predict()` was called with `n > output_chunk_length`: using auto-regression to forecast the values after `output_chunk_length` points. The model will access `(n - output_chunk_length)` future values of your `past_covariates` (relative to the first predicted time step). To hide this warning, set `show_warnings=False`.\n",
      "`predict()` was called with `n > output_chunk_length`: using auto-regression to forecast the values after `output_chunk_length` points. The model will access `(n - output_chunk_length)` future values of your `past_covariates` (relative to the first predicted time step). To hide this warning, set `show_warnings=False`.\n",
      "`predict()` was called with `n > output_chunk_length`: using auto-regression to forecast the values after `output_chunk_length` points. The model will access `(n - output_chunk_length)` future values of your `past_covariates` (relative to the first predicted time step). To hide this warning, set `show_warnings=False`.\n"
     ]
    },
    {
     "name": "stdout",
     "output_type": "stream",
     "text": [
      "BABY CARE                  | lr: 0.18589 - lgbm: 0.20710 - lgbm: 0.19457 - cat: 0.18463 - ens: 0.19115\n"
     ]
    },
    {
     "name": "stderr",
     "output_type": "stream",
     "text": [
      "`predict()` was called with `n > output_chunk_length`: using auto-regression to forecast the values after `output_chunk_length` points. The model will access `(n - output_chunk_length)` future values of your `past_covariates` (relative to the first predicted time step). To hide this warning, set `show_warnings=False`.\n",
      "`predict()` was called with `n > output_chunk_length`: using auto-regression to forecast the values after `output_chunk_length` points. The model will access `(n - output_chunk_length)` future values of your `past_covariates` (relative to the first predicted time step). To hide this warning, set `show_warnings=False`.\n",
      "`predict()` was called with `n > output_chunk_length`: using auto-regression to forecast the values after `output_chunk_length` points. The model will access `(n - output_chunk_length)` future values of your `past_covariates` (relative to the first predicted time step). To hide this warning, set `show_warnings=False`.\n",
      "`predict()` was called with `n > output_chunk_length`: using auto-regression to forecast the values after `output_chunk_length` points. The model will access `(n - output_chunk_length)` future values of your `past_covariates` (relative to the first predicted time step). To hide this warning, set `show_warnings=False`.\n"
     ]
    },
    {
     "name": "stdout",
     "output_type": "stream",
     "text": [
      "BEAUTY                     | lr: 0.48624 - lgbm: 0.45021 - lgbm: 0.47975 - cat: 0.45920 - ens: 0.45575\n"
     ]
    },
    {
     "name": "stderr",
     "output_type": "stream",
     "text": [
      "`predict()` was called with `n > output_chunk_length`: using auto-regression to forecast the values after `output_chunk_length` points. The model will access `(n - output_chunk_length)` future values of your `past_covariates` (relative to the first predicted time step). To hide this warning, set `show_warnings=False`.\n",
      "`predict()` was called with `n > output_chunk_length`: using auto-regression to forecast the values after `output_chunk_length` points. The model will access `(n - output_chunk_length)` future values of your `past_covariates` (relative to the first predicted time step). To hide this warning, set `show_warnings=False`.\n",
      "`predict()` was called with `n > output_chunk_length`: using auto-regression to forecast the values after `output_chunk_length` points. The model will access `(n - output_chunk_length)` future values of your `past_covariates` (relative to the first predicted time step). To hide this warning, set `show_warnings=False`.\n",
      "`predict()` was called with `n > output_chunk_length`: using auto-regression to forecast the values after `output_chunk_length` points. The model will access `(n - output_chunk_length)` future values of your `past_covariates` (relative to the first predicted time step). To hide this warning, set `show_warnings=False`.\n"
     ]
    },
    {
     "name": "stdout",
     "output_type": "stream",
     "text": [
      "BEVERAGES                  | lr: 0.24119 - lgbm: 0.22316 - lgbm: 0.21941 - cat: 0.23551 - ens: 0.20955\n"
     ]
    },
    {
     "name": "stderr",
     "output_type": "stream",
     "text": [
      "`predict()` was called with `n > output_chunk_length`: using auto-regression to forecast the values after `output_chunk_length` points. The model will access `(n - output_chunk_length)` future values of your `past_covariates` (relative to the first predicted time step). To hide this warning, set `show_warnings=False`.\n",
      "`predict()` was called with `n > output_chunk_length`: using auto-regression to forecast the values after `output_chunk_length` points. The model will access `(n - output_chunk_length)` future values of your `past_covariates` (relative to the first predicted time step). To hide this warning, set `show_warnings=False`.\n",
      "`predict()` was called with `n > output_chunk_length`: using auto-regression to forecast the values after `output_chunk_length` points. The model will access `(n - output_chunk_length)` future values of your `past_covariates` (relative to the first predicted time step). To hide this warning, set `show_warnings=False`.\n",
      "`predict()` was called with `n > output_chunk_length`: using auto-regression to forecast the values after `output_chunk_length` points. The model will access `(n - output_chunk_length)` future values of your `past_covariates` (relative to the first predicted time step). To hide this warning, set `show_warnings=False`.\n"
     ]
    },
    {
     "name": "stdout",
     "output_type": "stream",
     "text": [
      "BOOKS                      | lr: 0.03767 - lgbm: 0.05250 - lgbm: 0.04189 - cat: 0.02500 - ens: 0.03858\n"
     ]
    },
    {
     "name": "stderr",
     "output_type": "stream",
     "text": [
      "`predict()` was called with `n > output_chunk_length`: using auto-regression to forecast the values after `output_chunk_length` points. The model will access `(n - output_chunk_length)` future values of your `past_covariates` (relative to the first predicted time step). To hide this warning, set `show_warnings=False`.\n",
      "`predict()` was called with `n > output_chunk_length`: using auto-regression to forecast the values after `output_chunk_length` points. The model will access `(n - output_chunk_length)` future values of your `past_covariates` (relative to the first predicted time step). To hide this warning, set `show_warnings=False`.\n",
      "`predict()` was called with `n > output_chunk_length`: using auto-regression to forecast the values after `output_chunk_length` points. The model will access `(n - output_chunk_length)` future values of your `past_covariates` (relative to the first predicted time step). To hide this warning, set `show_warnings=False`.\n",
      "`predict()` was called with `n > output_chunk_length`: using auto-regression to forecast the values after `output_chunk_length` points. The model will access `(n - output_chunk_length)` future values of your `past_covariates` (relative to the first predicted time step). To hide this warning, set `show_warnings=False`.\n"
     ]
    },
    {
     "name": "stdout",
     "output_type": "stream",
     "text": [
      "BREAD/BAKERY               | lr: 0.18231 - lgbm: 0.16647 - lgbm: 0.16454 - cat: 0.17294 - ens: 0.15463\n"
     ]
    },
    {
     "name": "stderr",
     "output_type": "stream",
     "text": [
      "`predict()` was called with `n > output_chunk_length`: using auto-regression to forecast the values after `output_chunk_length` points. The model will access `(n - output_chunk_length)` future values of your `past_covariates` (relative to the first predicted time step). To hide this warning, set `show_warnings=False`.\n",
      "`predict()` was called with `n > output_chunk_length`: using auto-regression to forecast the values after `output_chunk_length` points. The model will access `(n - output_chunk_length)` future values of your `past_covariates` (relative to the first predicted time step). To hide this warning, set `show_warnings=False`.\n",
      "`predict()` was called with `n > output_chunk_length`: using auto-regression to forecast the values after `output_chunk_length` points. The model will access `(n - output_chunk_length)` future values of your `past_covariates` (relative to the first predicted time step). To hide this warning, set `show_warnings=False`.\n",
      "`predict()` was called with `n > output_chunk_length`: using auto-regression to forecast the values after `output_chunk_length` points. The model will access `(n - output_chunk_length)` future values of your `past_covariates` (relative to the first predicted time step). To hide this warning, set `show_warnings=False`.\n"
     ]
    },
    {
     "name": "stdout",
     "output_type": "stream",
     "text": [
      "CELEBRATION                | lr: 0.54399 - lgbm: 0.52648 - lgbm: 0.52661 - cat: 0.51935 - ens: 0.51597\n"
     ]
    },
    {
     "name": "stderr",
     "output_type": "stream",
     "text": [
      "`predict()` was called with `n > output_chunk_length`: using auto-regression to forecast the values after `output_chunk_length` points. The model will access `(n - output_chunk_length)` future values of your `past_covariates` (relative to the first predicted time step). To hide this warning, set `show_warnings=False`.\n",
      "`predict()` was called with `n > output_chunk_length`: using auto-regression to forecast the values after `output_chunk_length` points. The model will access `(n - output_chunk_length)` future values of your `past_covariates` (relative to the first predicted time step). To hide this warning, set `show_warnings=False`.\n",
      "`predict()` was called with `n > output_chunk_length`: using auto-regression to forecast the values after `output_chunk_length` points. The model will access `(n - output_chunk_length)` future values of your `past_covariates` (relative to the first predicted time step). To hide this warning, set `show_warnings=False`.\n",
      "`predict()` was called with `n > output_chunk_length`: using auto-regression to forecast the values after `output_chunk_length` points. The model will access `(n - output_chunk_length)` future values of your `past_covariates` (relative to the first predicted time step). To hide this warning, set `show_warnings=False`.\n"
     ]
    },
    {
     "name": "stdout",
     "output_type": "stream",
     "text": [
      "CLEANING                   | lr: 0.28143 - lgbm: 0.25184 - lgbm: 0.26802 - cat: 0.25978 - ens: 0.24598\n"
     ]
    },
    {
     "name": "stderr",
     "output_type": "stream",
     "text": [
      "`predict()` was called with `n > output_chunk_length`: using auto-regression to forecast the values after `output_chunk_length` points. The model will access `(n - output_chunk_length)` future values of your `past_covariates` (relative to the first predicted time step). To hide this warning, set `show_warnings=False`.\n",
      "`predict()` was called with `n > output_chunk_length`: using auto-regression to forecast the values after `output_chunk_length` points. The model will access `(n - output_chunk_length)` future values of your `past_covariates` (relative to the first predicted time step). To hide this warning, set `show_warnings=False`.\n",
      "`predict()` was called with `n > output_chunk_length`: using auto-regression to forecast the values after `output_chunk_length` points. The model will access `(n - output_chunk_length)` future values of your `past_covariates` (relative to the first predicted time step). To hide this warning, set `show_warnings=False`.\n",
      "`predict()` was called with `n > output_chunk_length`: using auto-regression to forecast the values after `output_chunk_length` points. The model will access `(n - output_chunk_length)` future values of your `past_covariates` (relative to the first predicted time step). To hide this warning, set `show_warnings=False`.\n"
     ]
    },
    {
     "name": "stdout",
     "output_type": "stream",
     "text": [
      "DAIRY                      | lr: 0.16627 - lgbm: 0.14277 - lgbm: 0.14415 - cat: 0.15374 - ens: 0.13583\n"
     ]
    },
    {
     "name": "stderr",
     "output_type": "stream",
     "text": [
      "`predict()` was called with `n > output_chunk_length`: using auto-regression to forecast the values after `output_chunk_length` points. The model will access `(n - output_chunk_length)` future values of your `past_covariates` (relative to the first predicted time step). To hide this warning, set `show_warnings=False`.\n",
      "`predict()` was called with `n > output_chunk_length`: using auto-regression to forecast the values after `output_chunk_length` points. The model will access `(n - output_chunk_length)` future values of your `past_covariates` (relative to the first predicted time step). To hide this warning, set `show_warnings=False`.\n",
      "`predict()` was called with `n > output_chunk_length`: using auto-regression to forecast the values after `output_chunk_length` points. The model will access `(n - output_chunk_length)` future values of your `past_covariates` (relative to the first predicted time step). To hide this warning, set `show_warnings=False`.\n",
      "`predict()` was called with `n > output_chunk_length`: using auto-regression to forecast the values after `output_chunk_length` points. The model will access `(n - output_chunk_length)` future values of your `past_covariates` (relative to the first predicted time step). To hide this warning, set `show_warnings=False`.\n"
     ]
    },
    {
     "name": "stdout",
     "output_type": "stream",
     "text": [
      "DELI                       | lr: 0.19264 - lgbm: 0.17726 - lgbm: 0.17601 - cat: 0.18255 - ens: 0.17099\n"
     ]
    },
    {
     "name": "stderr",
     "output_type": "stream",
     "text": [
      "`predict()` was called with `n > output_chunk_length`: using auto-regression to forecast the values after `output_chunk_length` points. The model will access `(n - output_chunk_length)` future values of your `past_covariates` (relative to the first predicted time step). To hide this warning, set `show_warnings=False`.\n",
      "`predict()` was called with `n > output_chunk_length`: using auto-regression to forecast the values after `output_chunk_length` points. The model will access `(n - output_chunk_length)` future values of your `past_covariates` (relative to the first predicted time step). To hide this warning, set `show_warnings=False`.\n",
      "`predict()` was called with `n > output_chunk_length`: using auto-regression to forecast the values after `output_chunk_length` points. The model will access `(n - output_chunk_length)` future values of your `past_covariates` (relative to the first predicted time step). To hide this warning, set `show_warnings=False`.\n",
      "`predict()` was called with `n > output_chunk_length`: using auto-regression to forecast the values after `output_chunk_length` points. The model will access `(n - output_chunk_length)` future values of your `past_covariates` (relative to the first predicted time step). To hide this warning, set `show_warnings=False`.\n"
     ]
    },
    {
     "name": "stdout",
     "output_type": "stream",
     "text": [
      "EGGS                       | lr: 0.25945 - lgbm: 0.25971 - lgbm: 0.26611 - cat: 0.26335 - ens: 0.25204\n"
     ]
    },
    {
     "name": "stderr",
     "output_type": "stream",
     "text": [
      "`predict()` was called with `n > output_chunk_length`: using auto-regression to forecast the values after `output_chunk_length` points. The model will access `(n - output_chunk_length)` future values of your `past_covariates` (relative to the first predicted time step). To hide this warning, set `show_warnings=False`.\n",
      "`predict()` was called with `n > output_chunk_length`: using auto-regression to forecast the values after `output_chunk_length` points. The model will access `(n - output_chunk_length)` future values of your `past_covariates` (relative to the first predicted time step). To hide this warning, set `show_warnings=False`.\n",
      "`predict()` was called with `n > output_chunk_length`: using auto-regression to forecast the values after `output_chunk_length` points. The model will access `(n - output_chunk_length)` future values of your `past_covariates` (relative to the first predicted time step). To hide this warning, set `show_warnings=False`.\n",
      "`predict()` was called with `n > output_chunk_length`: using auto-regression to forecast the values after `output_chunk_length` points. The model will access `(n - output_chunk_length)` future values of your `past_covariates` (relative to the first predicted time step). To hide this warning, set `show_warnings=False`.\n"
     ]
    },
    {
     "name": "stdout",
     "output_type": "stream",
     "text": [
      "FROZEN FOODS               | lr: 0.26601 - lgbm: 0.26604 - lgbm: 0.26872 - cat: 0.28387 - ens: 0.25554\n"
     ]
    },
    {
     "name": "stderr",
     "output_type": "stream",
     "text": [
      "`predict()` was called with `n > output_chunk_length`: using auto-regression to forecast the values after `output_chunk_length` points. The model will access `(n - output_chunk_length)` future values of your `past_covariates` (relative to the first predicted time step). To hide this warning, set `show_warnings=False`.\n",
      "`predict()` was called with `n > output_chunk_length`: using auto-regression to forecast the values after `output_chunk_length` points. The model will access `(n - output_chunk_length)` future values of your `past_covariates` (relative to the first predicted time step). To hide this warning, set `show_warnings=False`.\n",
      "`predict()` was called with `n > output_chunk_length`: using auto-regression to forecast the values after `output_chunk_length` points. The model will access `(n - output_chunk_length)` future values of your `past_covariates` (relative to the first predicted time step). To hide this warning, set `show_warnings=False`.\n",
      "`predict()` was called with `n > output_chunk_length`: using auto-regression to forecast the values after `output_chunk_length` points. The model will access `(n - output_chunk_length)` future values of your `past_covariates` (relative to the first predicted time step). To hide this warning, set `show_warnings=False`.\n"
     ]
    },
    {
     "name": "stdout",
     "output_type": "stream",
     "text": [
      "GROCERY I                  | lr: 0.20895 - lgbm: 0.15268 - lgbm: 0.15533 - cat: 0.17060 - ens: 0.14118\n"
     ]
    },
    {
     "name": "stderr",
     "output_type": "stream",
     "text": [
      "`predict()` was called with `n > output_chunk_length`: using auto-regression to forecast the values after `output_chunk_length` points. The model will access `(n - output_chunk_length)` future values of your `past_covariates` (relative to the first predicted time step). To hide this warning, set `show_warnings=False`.\n",
      "`predict()` was called with `n > output_chunk_length`: using auto-regression to forecast the values after `output_chunk_length` points. The model will access `(n - output_chunk_length)` future values of your `past_covariates` (relative to the first predicted time step). To hide this warning, set `show_warnings=False`.\n",
      "`predict()` was called with `n > output_chunk_length`: using auto-regression to forecast the values after `output_chunk_length` points. The model will access `(n - output_chunk_length)` future values of your `past_covariates` (relative to the first predicted time step). To hide this warning, set `show_warnings=False`.\n",
      "`predict()` was called with `n > output_chunk_length`: using auto-regression to forecast the values after `output_chunk_length` points. The model will access `(n - output_chunk_length)` future values of your `past_covariates` (relative to the first predicted time step). To hide this warning, set `show_warnings=False`.\n"
     ]
    },
    {
     "name": "stdout",
     "output_type": "stream",
     "text": [
      "GROCERY II                 | lr: 0.51069 - lgbm: 0.52637 - lgbm: 0.52218 - cat: 0.52572 - ens: 0.50861\n"
     ]
    },
    {
     "name": "stderr",
     "output_type": "stream",
     "text": [
      "`predict()` was called with `n > output_chunk_length`: using auto-regression to forecast the values after `output_chunk_length` points. The model will access `(n - output_chunk_length)` future values of your `past_covariates` (relative to the first predicted time step). To hide this warning, set `show_warnings=False`.\n",
      "`predict()` was called with `n > output_chunk_length`: using auto-regression to forecast the values after `output_chunk_length` points. The model will access `(n - output_chunk_length)` future values of your `past_covariates` (relative to the first predicted time step). To hide this warning, set `show_warnings=False`.\n",
      "`predict()` was called with `n > output_chunk_length`: using auto-regression to forecast the values after `output_chunk_length` points. The model will access `(n - output_chunk_length)` future values of your `past_covariates` (relative to the first predicted time step). To hide this warning, set `show_warnings=False`.\n",
      "`predict()` was called with `n > output_chunk_length`: using auto-regression to forecast the values after `output_chunk_length` points. The model will access `(n - output_chunk_length)` future values of your `past_covariates` (relative to the first predicted time step). To hide this warning, set `show_warnings=False`.\n"
     ]
    },
    {
     "name": "stdout",
     "output_type": "stream",
     "text": [
      "HARDWARE                   | lr: 0.51285 - lgbm: 0.51769 - lgbm: 0.52234 - cat: 0.51711 - ens: 0.51323\n"
     ]
    },
    {
     "name": "stderr",
     "output_type": "stream",
     "text": [
      "`predict()` was called with `n > output_chunk_length`: using auto-regression to forecast the values after `output_chunk_length` points. The model will access `(n - output_chunk_length)` future values of your `past_covariates` (relative to the first predicted time step). To hide this warning, set `show_warnings=False`.\n",
      "`predict()` was called with `n > output_chunk_length`: using auto-regression to forecast the values after `output_chunk_length` points. The model will access `(n - output_chunk_length)` future values of your `past_covariates` (relative to the first predicted time step). To hide this warning, set `show_warnings=False`.\n",
      "`predict()` was called with `n > output_chunk_length`: using auto-regression to forecast the values after `output_chunk_length` points. The model will access `(n - output_chunk_length)` future values of your `past_covariates` (relative to the first predicted time step). To hide this warning, set `show_warnings=False`.\n",
      "`predict()` was called with `n > output_chunk_length`: using auto-regression to forecast the values after `output_chunk_length` points. The model will access `(n - output_chunk_length)` future values of your `past_covariates` (relative to the first predicted time step). To hide this warning, set `show_warnings=False`.\n"
     ]
    },
    {
     "name": "stdout",
     "output_type": "stream",
     "text": [
      "HOME AND KITCHEN I         | lr: 0.45870 - lgbm: 0.47247 - lgbm: 0.47518 - cat: 0.47799 - ens: 0.46015\n"
     ]
    },
    {
     "name": "stderr",
     "output_type": "stream",
     "text": [
      "`predict()` was called with `n > output_chunk_length`: using auto-regression to forecast the values after `output_chunk_length` points. The model will access `(n - output_chunk_length)` future values of your `past_covariates` (relative to the first predicted time step). To hide this warning, set `show_warnings=False`.\n",
      "`predict()` was called with `n > output_chunk_length`: using auto-regression to forecast the values after `output_chunk_length` points. The model will access `(n - output_chunk_length)` future values of your `past_covariates` (relative to the first predicted time step). To hide this warning, set `show_warnings=False`.\n",
      "`predict()` was called with `n > output_chunk_length`: using auto-regression to forecast the values after `output_chunk_length` points. The model will access `(n - output_chunk_length)` future values of your `past_covariates` (relative to the first predicted time step). To hide this warning, set `show_warnings=False`.\n",
      "`predict()` was called with `n > output_chunk_length`: using auto-regression to forecast the values after `output_chunk_length` points. The model will access `(n - output_chunk_length)` future values of your `past_covariates` (relative to the first predicted time step). To hide this warning, set `show_warnings=False`.\n"
     ]
    },
    {
     "name": "stdout",
     "output_type": "stream",
     "text": [
      "HOME AND KITCHEN II        | lr: 0.44164 - lgbm: 0.41982 - lgbm: 0.43232 - cat: 0.43153 - ens: 0.42363\n"
     ]
    },
    {
     "name": "stderr",
     "output_type": "stream",
     "text": [
      "`predict()` was called with `n > output_chunk_length`: using auto-regression to forecast the values after `output_chunk_length` points. The model will access `(n - output_chunk_length)` future values of your `past_covariates` (relative to the first predicted time step). To hide this warning, set `show_warnings=False`.\n",
      "`predict()` was called with `n > output_chunk_length`: using auto-regression to forecast the values after `output_chunk_length` points. The model will access `(n - output_chunk_length)` future values of your `past_covariates` (relative to the first predicted time step). To hide this warning, set `show_warnings=False`.\n",
      "`predict()` was called with `n > output_chunk_length`: using auto-regression to forecast the values after `output_chunk_length` points. The model will access `(n - output_chunk_length)` future values of your `past_covariates` (relative to the first predicted time step). To hide this warning, set `show_warnings=False`.\n",
      "`predict()` was called with `n > output_chunk_length`: using auto-regression to forecast the values after `output_chunk_length` points. The model will access `(n - output_chunk_length)` future values of your `past_covariates` (relative to the first predicted time step). To hide this warning, set `show_warnings=False`.\n"
     ]
    },
    {
     "name": "stdout",
     "output_type": "stream",
     "text": [
      "HOME APPLIANCES            | lr: 0.26462 - lgbm: 0.28606 - lgbm: 0.31072 - cat: 0.25479 - ens: 0.27582\n"
     ]
    },
    {
     "name": "stderr",
     "output_type": "stream",
     "text": [
      "`predict()` was called with `n > output_chunk_length`: using auto-regression to forecast the values after `output_chunk_length` points. The model will access `(n - output_chunk_length)` future values of your `past_covariates` (relative to the first predicted time step). To hide this warning, set `show_warnings=False`.\n",
      "`predict()` was called with `n > output_chunk_length`: using auto-regression to forecast the values after `output_chunk_length` points. The model will access `(n - output_chunk_length)` future values of your `past_covariates` (relative to the first predicted time step). To hide this warning, set `show_warnings=False`.\n",
      "`predict()` was called with `n > output_chunk_length`: using auto-regression to forecast the values after `output_chunk_length` points. The model will access `(n - output_chunk_length)` future values of your `past_covariates` (relative to the first predicted time step). To hide this warning, set `show_warnings=False`.\n",
      "`predict()` was called with `n > output_chunk_length`: using auto-regression to forecast the values after `output_chunk_length` points. The model will access `(n - output_chunk_length)` future values of your `past_covariates` (relative to the first predicted time step). To hide this warning, set `show_warnings=False`.\n"
     ]
    },
    {
     "name": "stdout",
     "output_type": "stream",
     "text": [
      "HOME CARE                  | lr: 0.29638 - lgbm: 0.21148 - lgbm: 0.21899 - cat: 0.21597 - ens: 0.22205\n"
     ]
    },
    {
     "name": "stderr",
     "output_type": "stream",
     "text": [
      "`predict()` was called with `n > output_chunk_length`: using auto-regression to forecast the values after `output_chunk_length` points. The model will access `(n - output_chunk_length)` future values of your `past_covariates` (relative to the first predicted time step). To hide this warning, set `show_warnings=False`.\n",
      "`predict()` was called with `n > output_chunk_length`: using auto-regression to forecast the values after `output_chunk_length` points. The model will access `(n - output_chunk_length)` future values of your `past_covariates` (relative to the first predicted time step). To hide this warning, set `show_warnings=False`.\n",
      "`predict()` was called with `n > output_chunk_length`: using auto-regression to forecast the values after `output_chunk_length` points. The model will access `(n - output_chunk_length)` future values of your `past_covariates` (relative to the first predicted time step). To hide this warning, set `show_warnings=False`.\n",
      "`predict()` was called with `n > output_chunk_length`: using auto-regression to forecast the values after `output_chunk_length` points. The model will access `(n - output_chunk_length)` future values of your `past_covariates` (relative to the first predicted time step). To hide this warning, set `show_warnings=False`.\n"
     ]
    },
    {
     "name": "stdout",
     "output_type": "stream",
     "text": [
      "LADIESWEAR                 | lr: 0.47630 - lgbm: 0.42155 - lgbm: 0.43670 - cat: 0.42501 - ens: 0.43382\n"
     ]
    },
    {
     "name": "stderr",
     "output_type": "stream",
     "text": [
      "`predict()` was called with `n > output_chunk_length`: using auto-regression to forecast the values after `output_chunk_length` points. The model will access `(n - output_chunk_length)` future values of your `past_covariates` (relative to the first predicted time step). To hide this warning, set `show_warnings=False`.\n",
      "`predict()` was called with `n > output_chunk_length`: using auto-regression to forecast the values after `output_chunk_length` points. The model will access `(n - output_chunk_length)` future values of your `past_covariates` (relative to the first predicted time step). To hide this warning, set `show_warnings=False`.\n",
      "`predict()` was called with `n > output_chunk_length`: using auto-regression to forecast the values after `output_chunk_length` points. The model will access `(n - output_chunk_length)` future values of your `past_covariates` (relative to the first predicted time step). To hide this warning, set `show_warnings=False`.\n",
      "`predict()` was called with `n > output_chunk_length`: using auto-regression to forecast the values after `output_chunk_length` points. The model will access `(n - output_chunk_length)` future values of your `past_covariates` (relative to the first predicted time step). To hide this warning, set `show_warnings=False`.\n"
     ]
    },
    {
     "name": "stdout",
     "output_type": "stream",
     "text": [
      "LAWN AND GARDEN            | lr: 0.35078 - lgbm: 0.35655 - lgbm: 0.37655 - cat: 0.36462 - ens: 0.35503\n"
     ]
    },
    {
     "name": "stderr",
     "output_type": "stream",
     "text": [
      "`predict()` was called with `n > output_chunk_length`: using auto-regression to forecast the values after `output_chunk_length` points. The model will access `(n - output_chunk_length)` future values of your `past_covariates` (relative to the first predicted time step). To hide this warning, set `show_warnings=False`.\n",
      "`predict()` was called with `n > output_chunk_length`: using auto-regression to forecast the values after `output_chunk_length` points. The model will access `(n - output_chunk_length)` future values of your `past_covariates` (relative to the first predicted time step). To hide this warning, set `show_warnings=False`.\n",
      "`predict()` was called with `n > output_chunk_length`: using auto-regression to forecast the values after `output_chunk_length` points. The model will access `(n - output_chunk_length)` future values of your `past_covariates` (relative to the first predicted time step). To hide this warning, set `show_warnings=False`.\n",
      "`predict()` was called with `n > output_chunk_length`: using auto-regression to forecast the values after `output_chunk_length` points. The model will access `(n - output_chunk_length)` future values of your `past_covariates` (relative to the first predicted time step). To hide this warning, set `show_warnings=False`.\n"
     ]
    },
    {
     "name": "stdout",
     "output_type": "stream",
     "text": [
      "LINGERIE                   | lr: 0.59723 - lgbm: 0.62577 - lgbm: 0.63386 - cat: 0.62780 - ens: 0.60530\n"
     ]
    },
    {
     "name": "stderr",
     "output_type": "stream",
     "text": [
      "`predict()` was called with `n > output_chunk_length`: using auto-regression to forecast the values after `output_chunk_length` points. The model will access `(n - output_chunk_length)` future values of your `past_covariates` (relative to the first predicted time step). To hide this warning, set `show_warnings=False`.\n",
      "`predict()` was called with `n > output_chunk_length`: using auto-regression to forecast the values after `output_chunk_length` points. The model will access `(n - output_chunk_length)` future values of your `past_covariates` (relative to the first predicted time step). To hide this warning, set `show_warnings=False`.\n",
      "`predict()` was called with `n > output_chunk_length`: using auto-regression to forecast the values after `output_chunk_length` points. The model will access `(n - output_chunk_length)` future values of your `past_covariates` (relative to the first predicted time step). To hide this warning, set `show_warnings=False`.\n",
      "`predict()` was called with `n > output_chunk_length`: using auto-regression to forecast the values after `output_chunk_length` points. The model will access `(n - output_chunk_length)` future values of your `past_covariates` (relative to the first predicted time step). To hide this warning, set `show_warnings=False`.\n"
     ]
    },
    {
     "name": "stdout",
     "output_type": "stream",
     "text": [
      "LIQUOR,WINE,BEER           | lr: 0.45504 - lgbm: 0.42530 - lgbm: 0.41108 - cat: 0.42330 - ens: 0.40366\n"
     ]
    },
    {
     "name": "stderr",
     "output_type": "stream",
     "text": [
      "`predict()` was called with `n > output_chunk_length`: using auto-regression to forecast the values after `output_chunk_length` points. The model will access `(n - output_chunk_length)` future values of your `past_covariates` (relative to the first predicted time step). To hide this warning, set `show_warnings=False`.\n",
      "`predict()` was called with `n > output_chunk_length`: using auto-regression to forecast the values after `output_chunk_length` points. The model will access `(n - output_chunk_length)` future values of your `past_covariates` (relative to the first predicted time step). To hide this warning, set `show_warnings=False`.\n",
      "`predict()` was called with `n > output_chunk_length`: using auto-regression to forecast the values after `output_chunk_length` points. The model will access `(n - output_chunk_length)` future values of your `past_covariates` (relative to the first predicted time step). To hide this warning, set `show_warnings=False`.\n",
      "`predict()` was called with `n > output_chunk_length`: using auto-regression to forecast the values after `output_chunk_length` points. The model will access `(n - output_chunk_length)` future values of your `past_covariates` (relative to the first predicted time step). To hide this warning, set `show_warnings=False`.\n"
     ]
    },
    {
     "name": "stdout",
     "output_type": "stream",
     "text": [
      "MAGAZINES                  | lr: 0.48326 - lgbm: 0.50866 - lgbm: 0.51757 - cat: 0.50756 - ens: 0.49493\n"
     ]
    },
    {
     "name": "stderr",
     "output_type": "stream",
     "text": [
      "`predict()` was called with `n > output_chunk_length`: using auto-regression to forecast the values after `output_chunk_length` points. The model will access `(n - output_chunk_length)` future values of your `past_covariates` (relative to the first predicted time step). To hide this warning, set `show_warnings=False`.\n",
      "`predict()` was called with `n > output_chunk_length`: using auto-regression to forecast the values after `output_chunk_length` points. The model will access `(n - output_chunk_length)` future values of your `past_covariates` (relative to the first predicted time step). To hide this warning, set `show_warnings=False`.\n",
      "`predict()` was called with `n > output_chunk_length`: using auto-regression to forecast the values after `output_chunk_length` points. The model will access `(n - output_chunk_length)` future values of your `past_covariates` (relative to the first predicted time step). To hide this warning, set `show_warnings=False`.\n",
      "`predict()` was called with `n > output_chunk_length`: using auto-regression to forecast the values after `output_chunk_length` points. The model will access `(n - output_chunk_length)` future values of your `past_covariates` (relative to the first predicted time step). To hide this warning, set `show_warnings=False`.\n"
     ]
    },
    {
     "name": "stdout",
     "output_type": "stream",
     "text": [
      "MEATS                      | lr: 0.20693 - lgbm: 0.19689 - lgbm: 0.20184 - cat: 0.20046 - ens: 0.19067\n"
     ]
    },
    {
     "name": "stderr",
     "output_type": "stream",
     "text": [
      "`predict()` was called with `n > output_chunk_length`: using auto-regression to forecast the values after `output_chunk_length` points. The model will access `(n - output_chunk_length)` future values of your `past_covariates` (relative to the first predicted time step). To hide this warning, set `show_warnings=False`.\n",
      "`predict()` was called with `n > output_chunk_length`: using auto-regression to forecast the values after `output_chunk_length` points. The model will access `(n - output_chunk_length)` future values of your `past_covariates` (relative to the first predicted time step). To hide this warning, set `show_warnings=False`.\n",
      "`predict()` was called with `n > output_chunk_length`: using auto-regression to forecast the values after `output_chunk_length` points. The model will access `(n - output_chunk_length)` future values of your `past_covariates` (relative to the first predicted time step). To hide this warning, set `show_warnings=False`.\n",
      "`predict()` was called with `n > output_chunk_length`: using auto-regression to forecast the values after `output_chunk_length` points. The model will access `(n - output_chunk_length)` future values of your `past_covariates` (relative to the first predicted time step). To hide this warning, set `show_warnings=False`.\n"
     ]
    },
    {
     "name": "stdout",
     "output_type": "stream",
     "text": [
      "PERSONAL CARE              | lr: 0.23702 - lgbm: 0.20097 - lgbm: 0.21013 - cat: 0.21229 - ens: 0.19952\n"
     ]
    },
    {
     "name": "stderr",
     "output_type": "stream",
     "text": [
      "`predict()` was called with `n > output_chunk_length`: using auto-regression to forecast the values after `output_chunk_length` points. The model will access `(n - output_chunk_length)` future values of your `past_covariates` (relative to the first predicted time step). To hide this warning, set `show_warnings=False`.\n",
      "`predict()` was called with `n > output_chunk_length`: using auto-regression to forecast the values after `output_chunk_length` points. The model will access `(n - output_chunk_length)` future values of your `past_covariates` (relative to the first predicted time step). To hide this warning, set `show_warnings=False`.\n",
      "`predict()` was called with `n > output_chunk_length`: using auto-regression to forecast the values after `output_chunk_length` points. The model will access `(n - output_chunk_length)` future values of your `past_covariates` (relative to the first predicted time step). To hide this warning, set `show_warnings=False`.\n",
      "`predict()` was called with `n > output_chunk_length`: using auto-regression to forecast the values after `output_chunk_length` points. The model will access `(n - output_chunk_length)` future values of your `past_covariates` (relative to the first predicted time step). To hide this warning, set `show_warnings=False`.\n"
     ]
    },
    {
     "name": "stdout",
     "output_type": "stream",
     "text": [
      "PET SUPPLIES               | lr: 0.46558 - lgbm: 0.45727 - lgbm: 0.46746 - cat: 0.45879 - ens: 0.45430\n"
     ]
    },
    {
     "name": "stderr",
     "output_type": "stream",
     "text": [
      "`predict()` was called with `n > output_chunk_length`: using auto-regression to forecast the values after `output_chunk_length` points. The model will access `(n - output_chunk_length)` future values of your `past_covariates` (relative to the first predicted time step). To hide this warning, set `show_warnings=False`.\n",
      "`predict()` was called with `n > output_chunk_length`: using auto-regression to forecast the values after `output_chunk_length` points. The model will access `(n - output_chunk_length)` future values of your `past_covariates` (relative to the first predicted time step). To hide this warning, set `show_warnings=False`.\n",
      "`predict()` was called with `n > output_chunk_length`: using auto-regression to forecast the values after `output_chunk_length` points. The model will access `(n - output_chunk_length)` future values of your `past_covariates` (relative to the first predicted time step). To hide this warning, set `show_warnings=False`.\n",
      "`predict()` was called with `n > output_chunk_length`: using auto-regression to forecast the values after `output_chunk_length` points. The model will access `(n - output_chunk_length)` future values of your `past_covariates` (relative to the first predicted time step). To hide this warning, set `show_warnings=False`.\n"
     ]
    },
    {
     "name": "stdout",
     "output_type": "stream",
     "text": [
      "PLAYERS AND ELECTRONICS    | lr: 0.46647 - lgbm: 0.44778 - lgbm: 0.46314 - cat: 0.45001 - ens: 0.44455\n"
     ]
    },
    {
     "name": "stderr",
     "output_type": "stream",
     "text": [
      "`predict()` was called with `n > output_chunk_length`: using auto-regression to forecast the values after `output_chunk_length` points. The model will access `(n - output_chunk_length)` future values of your `past_covariates` (relative to the first predicted time step). To hide this warning, set `show_warnings=False`.\n",
      "`predict()` was called with `n > output_chunk_length`: using auto-regression to forecast the values after `output_chunk_length` points. The model will access `(n - output_chunk_length)` future values of your `past_covariates` (relative to the first predicted time step). To hide this warning, set `show_warnings=False`.\n",
      "`predict()` was called with `n > output_chunk_length`: using auto-regression to forecast the values after `output_chunk_length` points. The model will access `(n - output_chunk_length)` future values of your `past_covariates` (relative to the first predicted time step). To hide this warning, set `show_warnings=False`.\n",
      "`predict()` was called with `n > output_chunk_length`: using auto-regression to forecast the values after `output_chunk_length` points. The model will access `(n - output_chunk_length)` future values of your `past_covariates` (relative to the first predicted time step). To hide this warning, set `show_warnings=False`.\n"
     ]
    },
    {
     "name": "stdout",
     "output_type": "stream",
     "text": [
      "POULTRY                    | lr: 0.20597 - lgbm: 0.19651 - lgbm: 0.19698 - cat: 0.20120 - ens: 0.18952\n"
     ]
    },
    {
     "name": "stderr",
     "output_type": "stream",
     "text": [
      "`predict()` was called with `n > output_chunk_length`: using auto-regression to forecast the values after `output_chunk_length` points. The model will access `(n - output_chunk_length)` future values of your `past_covariates` (relative to the first predicted time step). To hide this warning, set `show_warnings=False`.\n",
      "`predict()` was called with `n > output_chunk_length`: using auto-regression to forecast the values after `output_chunk_length` points. The model will access `(n - output_chunk_length)` future values of your `past_covariates` (relative to the first predicted time step). To hide this warning, set `show_warnings=False`.\n",
      "`predict()` was called with `n > output_chunk_length`: using auto-regression to forecast the values after `output_chunk_length` points. The model will access `(n - output_chunk_length)` future values of your `past_covariates` (relative to the first predicted time step). To hide this warning, set `show_warnings=False`.\n",
      "`predict()` was called with `n > output_chunk_length`: using auto-regression to forecast the values after `output_chunk_length` points. The model will access `(n - output_chunk_length)` future values of your `past_covariates` (relative to the first predicted time step). To hide this warning, set `show_warnings=False`.\n"
     ]
    },
    {
     "name": "stdout",
     "output_type": "stream",
     "text": [
      "PREPARED FOODS             | lr: 0.25772 - lgbm: 0.25997 - lgbm: 0.26568 - cat: 0.26236 - ens: 0.25239\n"
     ]
    },
    {
     "name": "stderr",
     "output_type": "stream",
     "text": [
      "`predict()` was called with `n > output_chunk_length`: using auto-regression to forecast the values after `output_chunk_length` points. The model will access `(n - output_chunk_length)` future values of your `past_covariates` (relative to the first predicted time step). To hide this warning, set `show_warnings=False`.\n",
      "`predict()` was called with `n > output_chunk_length`: using auto-regression to forecast the values after `output_chunk_length` points. The model will access `(n - output_chunk_length)` future values of your `past_covariates` (relative to the first predicted time step). To hide this warning, set `show_warnings=False`.\n",
      "`predict()` was called with `n > output_chunk_length`: using auto-regression to forecast the values after `output_chunk_length` points. The model will access `(n - output_chunk_length)` future values of your `past_covariates` (relative to the first predicted time step). To hide this warning, set `show_warnings=False`.\n",
      "`predict()` was called with `n > output_chunk_length`: using auto-regression to forecast the values after `output_chunk_length` points. The model will access `(n - output_chunk_length)` future values of your `past_covariates` (relative to the first predicted time step). To hide this warning, set `show_warnings=False`.\n"
     ]
    },
    {
     "name": "stdout",
     "output_type": "stream",
     "text": [
      "PRODUCE                    | lr: 0.58282 - lgbm: 0.13954 - lgbm: 0.13663 - cat: 0.14853 - ens: 0.26807\n"
     ]
    },
    {
     "name": "stderr",
     "output_type": "stream",
     "text": [
      "`predict()` was called with `n > output_chunk_length`: using auto-regression to forecast the values after `output_chunk_length` points. The model will access `(n - output_chunk_length)` future values of your `past_covariates` (relative to the first predicted time step). To hide this warning, set `show_warnings=False`.\n",
      "`predict()` was called with `n > output_chunk_length`: using auto-regression to forecast the values after `output_chunk_length` points. The model will access `(n - output_chunk_length)` future values of your `past_covariates` (relative to the first predicted time step). To hide this warning, set `show_warnings=False`.\n",
      "`predict()` was called with `n > output_chunk_length`: using auto-regression to forecast the values after `output_chunk_length` points. The model will access `(n - output_chunk_length)` future values of your `past_covariates` (relative to the first predicted time step). To hide this warning, set `show_warnings=False`.\n",
      "`predict()` was called with `n > output_chunk_length`: using auto-regression to forecast the values after `output_chunk_length` points. The model will access `(n - output_chunk_length)` future values of your `past_covariates` (relative to the first predicted time step). To hide this warning, set `show_warnings=False`.\n"
     ]
    },
    {
     "name": "stdout",
     "output_type": "stream",
     "text": [
      "SCHOOL AND OFFICE SUPPLIES | lr: 0.70311 - lgbm: 0.61771 - lgbm: 0.64288 - cat: 0.63864 - ens: 0.55927\n"
     ]
    },
    {
     "name": "stderr",
     "output_type": "stream",
     "text": [
      "`predict()` was called with `n > output_chunk_length`: using auto-regression to forecast the values after `output_chunk_length` points. The model will access `(n - output_chunk_length)` future values of your `past_covariates` (relative to the first predicted time step). To hide this warning, set `show_warnings=False`.\n",
      "`predict()` was called with `n > output_chunk_length`: using auto-regression to forecast the values after `output_chunk_length` points. The model will access `(n - output_chunk_length)` future values of your `past_covariates` (relative to the first predicted time step). To hide this warning, set `show_warnings=False`.\n",
      "`predict()` was called with `n > output_chunk_length`: using auto-regression to forecast the values after `output_chunk_length` points. The model will access `(n - output_chunk_length)` future values of your `past_covariates` (relative to the first predicted time step). To hide this warning, set `show_warnings=False`.\n",
      "`predict()` was called with `n > output_chunk_length`: using auto-regression to forecast the values after `output_chunk_length` points. The model will access `(n - output_chunk_length)` future values of your `past_covariates` (relative to the first predicted time step). To hide this warning, set `show_warnings=False`.\n"
     ]
    },
    {
     "name": "stdout",
     "output_type": "stream",
     "text": [
      "SEAFOOD                    | lr: 0.44949 - lgbm: 0.45798 - lgbm: 0.45319 - cat: 0.46065 - ens: 0.44692\n",
      "Average RMSLE | lr: 0.36255 - lgbm: 0.33700 - lgbm: 0.34278 - cat: 0.33983 - ens: 0.33220\n"
     ]
    }
   ],
   "source": [
    "# Validate ensemble models\n",
    "print(\"\\nValidating Ensemble Models\")\n",
    "trainer.validate(\n",
    "    model_names=ENS_MODELS, \n",
    "    model_configs=ENS_CONFIGS,\n",
    "    drop_before=\"2015-01-01\",\n",
    ")"
   ]
  },
  {
   "cell_type": "markdown",
   "id": "8ca10c9e",
   "metadata": {},
   "source": [
    "## Prediction"
   ]
  },
  {
   "cell_type": "code",
   "execution_count": 42,
   "id": "fa7745cf",
   "metadata": {},
   "outputs": [
    {
     "name": "stdout",
     "output_type": "stream",
     "text": [
      "\n",
      "Generating final predictions...\n"
     ]
    },
    {
     "data": {
      "application/vnd.jupyter.widget-view+json": {
       "model_id": "9f36d879371c47489e430f8f396de18d",
       "version_major": 2,
       "version_minor": 0
      },
      "text/plain": [
       "Generating forecasts:   0%|          | 0/33 [00:00<?, ?it/s]"
      ]
     },
     "metadata": {},
     "output_type": "display_data"
    },
    {
     "name": "stderr",
     "output_type": "stream",
     "text": [
      "`predict()` was called with `n > output_chunk_length`: using auto-regression to forecast the values after `output_chunk_length` points. The model will access `(n - output_chunk_length)` future values of your `past_covariates` (relative to the first predicted time step). To hide this warning, set `show_warnings=False`.\n",
      "`predict()` was called with `n > output_chunk_length`: using auto-regression to forecast the values after `output_chunk_length` points. The model will access `(n - output_chunk_length)` future values of your `past_covariates` (relative to the first predicted time step). To hide this warning, set `show_warnings=False`.\n",
      "`predict()` was called with `n > output_chunk_length`: using auto-regression to forecast the values after `output_chunk_length` points. The model will access `(n - output_chunk_length)` future values of your `past_covariates` (relative to the first predicted time step). To hide this warning, set `show_warnings=False`.\n",
      "`predict()` was called with `n > output_chunk_length`: using auto-regression to forecast the values after `output_chunk_length` points. The model will access `(n - output_chunk_length)` future values of your `past_covariates` (relative to the first predicted time step). To hide this warning, set `show_warnings=False`.\n",
      "`predict()` was called with `n > output_chunk_length`: using auto-regression to forecast the values after `output_chunk_length` points. The model will access `(n - output_chunk_length)` future values of your `past_covariates` (relative to the first predicted time step). To hide this warning, set `show_warnings=False`.\n",
      "`predict()` was called with `n > output_chunk_length`: using auto-regression to forecast the values after `output_chunk_length` points. The model will access `(n - output_chunk_length)` future values of your `past_covariates` (relative to the first predicted time step). To hide this warning, set `show_warnings=False`.\n",
      "`predict()` was called with `n > output_chunk_length`: using auto-regression to forecast the values after `output_chunk_length` points. The model will access `(n - output_chunk_length)` future values of your `past_covariates` (relative to the first predicted time step). To hide this warning, set `show_warnings=False`.\n",
      "`predict()` was called with `n > output_chunk_length`: using auto-regression to forecast the values after `output_chunk_length` points. The model will access `(n - output_chunk_length)` future values of your `past_covariates` (relative to the first predicted time step). To hide this warning, set `show_warnings=False`.\n",
      "`predict()` was called with `n > output_chunk_length`: using auto-regression to forecast the values after `output_chunk_length` points. The model will access `(n - output_chunk_length)` future values of your `past_covariates` (relative to the first predicted time step). To hide this warning, set `show_warnings=False`.\n",
      "`predict()` was called with `n > output_chunk_length`: using auto-regression to forecast the values after `output_chunk_length` points. The model will access `(n - output_chunk_length)` future values of your `past_covariates` (relative to the first predicted time step). To hide this warning, set `show_warnings=False`.\n",
      "`predict()` was called with `n > output_chunk_length`: using auto-regression to forecast the values after `output_chunk_length` points. The model will access `(n - output_chunk_length)` future values of your `past_covariates` (relative to the first predicted time step). To hide this warning, set `show_warnings=False`.\n",
      "`predict()` was called with `n > output_chunk_length`: using auto-regression to forecast the values after `output_chunk_length` points. The model will access `(n - output_chunk_length)` future values of your `past_covariates` (relative to the first predicted time step). To hide this warning, set `show_warnings=False`.\n",
      "`predict()` was called with `n > output_chunk_length`: using auto-regression to forecast the values after `output_chunk_length` points. The model will access `(n - output_chunk_length)` future values of your `past_covariates` (relative to the first predicted time step). To hide this warning, set `show_warnings=False`.\n",
      "`predict()` was called with `n > output_chunk_length`: using auto-regression to forecast the values after `output_chunk_length` points. The model will access `(n - output_chunk_length)` future values of your `past_covariates` (relative to the first predicted time step). To hide this warning, set `show_warnings=False`.\n",
      "`predict()` was called with `n > output_chunk_length`: using auto-regression to forecast the values after `output_chunk_length` points. The model will access `(n - output_chunk_length)` future values of your `past_covariates` (relative to the first predicted time step). To hide this warning, set `show_warnings=False`.\n",
      "`predict()` was called with `n > output_chunk_length`: using auto-regression to forecast the values after `output_chunk_length` points. The model will access `(n - output_chunk_length)` future values of your `past_covariates` (relative to the first predicted time step). To hide this warning, set `show_warnings=False`.\n",
      "`predict()` was called with `n > output_chunk_length`: using auto-regression to forecast the values after `output_chunk_length` points. The model will access `(n - output_chunk_length)` future values of your `past_covariates` (relative to the first predicted time step). To hide this warning, set `show_warnings=False`.\n",
      "`predict()` was called with `n > output_chunk_length`: using auto-regression to forecast the values after `output_chunk_length` points. The model will access `(n - output_chunk_length)` future values of your `past_covariates` (relative to the first predicted time step). To hide this warning, set `show_warnings=False`.\n",
      "`predict()` was called with `n > output_chunk_length`: using auto-regression to forecast the values after `output_chunk_length` points. The model will access `(n - output_chunk_length)` future values of your `past_covariates` (relative to the first predicted time step). To hide this warning, set `show_warnings=False`.\n",
      "`predict()` was called with `n > output_chunk_length`: using auto-regression to forecast the values after `output_chunk_length` points. The model will access `(n - output_chunk_length)` future values of your `past_covariates` (relative to the first predicted time step). To hide this warning, set `show_warnings=False`.\n",
      "`predict()` was called with `n > output_chunk_length`: using auto-regression to forecast the values after `output_chunk_length` points. The model will access `(n - output_chunk_length)` future values of your `past_covariates` (relative to the first predicted time step). To hide this warning, set `show_warnings=False`.\n",
      "`predict()` was called with `n > output_chunk_length`: using auto-regression to forecast the values after `output_chunk_length` points. The model will access `(n - output_chunk_length)` future values of your `past_covariates` (relative to the first predicted time step). To hide this warning, set `show_warnings=False`.\n",
      "`predict()` was called with `n > output_chunk_length`: using auto-regression to forecast the values after `output_chunk_length` points. The model will access `(n - output_chunk_length)` future values of your `past_covariates` (relative to the first predicted time step). To hide this warning, set `show_warnings=False`.\n",
      "`predict()` was called with `n > output_chunk_length`: using auto-regression to forecast the values after `output_chunk_length` points. The model will access `(n - output_chunk_length)` future values of your `past_covariates` (relative to the first predicted time step). To hide this warning, set `show_warnings=False`.\n",
      "`predict()` was called with `n > output_chunk_length`: using auto-regression to forecast the values after `output_chunk_length` points. The model will access `(n - output_chunk_length)` future values of your `past_covariates` (relative to the first predicted time step). To hide this warning, set `show_warnings=False`.\n",
      "`predict()` was called with `n > output_chunk_length`: using auto-regression to forecast the values after `output_chunk_length` points. The model will access `(n - output_chunk_length)` future values of your `past_covariates` (relative to the first predicted time step). To hide this warning, set `show_warnings=False`.\n",
      "`predict()` was called with `n > output_chunk_length`: using auto-regression to forecast the values after `output_chunk_length` points. The model will access `(n - output_chunk_length)` future values of your `past_covariates` (relative to the first predicted time step). To hide this warning, set `show_warnings=False`.\n",
      "`predict()` was called with `n > output_chunk_length`: using auto-regression to forecast the values after `output_chunk_length` points. The model will access `(n - output_chunk_length)` future values of your `past_covariates` (relative to the first predicted time step). To hide this warning, set `show_warnings=False`.\n",
      "`predict()` was called with `n > output_chunk_length`: using auto-regression to forecast the values after `output_chunk_length` points. The model will access `(n - output_chunk_length)` future values of your `past_covariates` (relative to the first predicted time step). To hide this warning, set `show_warnings=False`.\n",
      "`predict()` was called with `n > output_chunk_length`: using auto-regression to forecast the values after `output_chunk_length` points. The model will access `(n - output_chunk_length)` future values of your `past_covariates` (relative to the first predicted time step). To hide this warning, set `show_warnings=False`.\n",
      "`predict()` was called with `n > output_chunk_length`: using auto-regression to forecast the values after `output_chunk_length` points. The model will access `(n - output_chunk_length)` future values of your `past_covariates` (relative to the first predicted time step). To hide this warning, set `show_warnings=False`.\n",
      "`predict()` was called with `n > output_chunk_length`: using auto-regression to forecast the values after `output_chunk_length` points. The model will access `(n - output_chunk_length)` future values of your `past_covariates` (relative to the first predicted time step). To hide this warning, set `show_warnings=False`.\n",
      "`predict()` was called with `n > output_chunk_length`: using auto-regression to forecast the values after `output_chunk_length` points. The model will access `(n - output_chunk_length)` future values of your `past_covariates` (relative to the first predicted time step). To hide this warning, set `show_warnings=False`.\n",
      "`predict()` was called with `n > output_chunk_length`: using auto-regression to forecast the values after `output_chunk_length` points. The model will access `(n - output_chunk_length)` future values of your `past_covariates` (relative to the first predicted time step). To hide this warning, set `show_warnings=False`.\n",
      "`predict()` was called with `n > output_chunk_length`: using auto-regression to forecast the values after `output_chunk_length` points. The model will access `(n - output_chunk_length)` future values of your `past_covariates` (relative to the first predicted time step). To hide this warning, set `show_warnings=False`.\n",
      "`predict()` was called with `n > output_chunk_length`: using auto-regression to forecast the values after `output_chunk_length` points. The model will access `(n - output_chunk_length)` future values of your `past_covariates` (relative to the first predicted time step). To hide this warning, set `show_warnings=False`.\n",
      "`predict()` was called with `n > output_chunk_length`: using auto-regression to forecast the values after `output_chunk_length` points. The model will access `(n - output_chunk_length)` future values of your `past_covariates` (relative to the first predicted time step). To hide this warning, set `show_warnings=False`.\n",
      "`predict()` was called with `n > output_chunk_length`: using auto-regression to forecast the values after `output_chunk_length` points. The model will access `(n - output_chunk_length)` future values of your `past_covariates` (relative to the first predicted time step). To hide this warning, set `show_warnings=False`.\n",
      "`predict()` was called with `n > output_chunk_length`: using auto-regression to forecast the values after `output_chunk_length` points. The model will access `(n - output_chunk_length)` future values of your `past_covariates` (relative to the first predicted time step). To hide this warning, set `show_warnings=False`.\n",
      "`predict()` was called with `n > output_chunk_length`: using auto-regression to forecast the values after `output_chunk_length` points. The model will access `(n - output_chunk_length)` future values of your `past_covariates` (relative to the first predicted time step). To hide this warning, set `show_warnings=False`.\n",
      "`predict()` was called with `n > output_chunk_length`: using auto-regression to forecast the values after `output_chunk_length` points. The model will access `(n - output_chunk_length)` future values of your `past_covariates` (relative to the first predicted time step). To hide this warning, set `show_warnings=False`.\n",
      "`predict()` was called with `n > output_chunk_length`: using auto-regression to forecast the values after `output_chunk_length` points. The model will access `(n - output_chunk_length)` future values of your `past_covariates` (relative to the first predicted time step). To hide this warning, set `show_warnings=False`.\n",
      "`predict()` was called with `n > output_chunk_length`: using auto-regression to forecast the values after `output_chunk_length` points. The model will access `(n - output_chunk_length)` future values of your `past_covariates` (relative to the first predicted time step). To hide this warning, set `show_warnings=False`.\n",
      "`predict()` was called with `n > output_chunk_length`: using auto-regression to forecast the values after `output_chunk_length` points. The model will access `(n - output_chunk_length)` future values of your `past_covariates` (relative to the first predicted time step). To hide this warning, set `show_warnings=False`.\n",
      "`predict()` was called with `n > output_chunk_length`: using auto-regression to forecast the values after `output_chunk_length` points. The model will access `(n - output_chunk_length)` future values of your `past_covariates` (relative to the first predicted time step). To hide this warning, set `show_warnings=False`.\n",
      "`predict()` was called with `n > output_chunk_length`: using auto-regression to forecast the values after `output_chunk_length` points. The model will access `(n - output_chunk_length)` future values of your `past_covariates` (relative to the first predicted time step). To hide this warning, set `show_warnings=False`.\n",
      "`predict()` was called with `n > output_chunk_length`: using auto-regression to forecast the values after `output_chunk_length` points. The model will access `(n - output_chunk_length)` future values of your `past_covariates` (relative to the first predicted time step). To hide this warning, set `show_warnings=False`.\n",
      "`predict()` was called with `n > output_chunk_length`: using auto-regression to forecast the values after `output_chunk_length` points. The model will access `(n - output_chunk_length)` future values of your `past_covariates` (relative to the first predicted time step). To hide this warning, set `show_warnings=False`.\n",
      "`predict()` was called with `n > output_chunk_length`: using auto-regression to forecast the values after `output_chunk_length` points. The model will access `(n - output_chunk_length)` future values of your `past_covariates` (relative to the first predicted time step). To hide this warning, set `show_warnings=False`.\n",
      "`predict()` was called with `n > output_chunk_length`: using auto-regression to forecast the values after `output_chunk_length` points. The model will access `(n - output_chunk_length)` future values of your `past_covariates` (relative to the first predicted time step). To hide this warning, set `show_warnings=False`.\n",
      "`predict()` was called with `n > output_chunk_length`: using auto-regression to forecast the values after `output_chunk_length` points. The model will access `(n - output_chunk_length)` future values of your `past_covariates` (relative to the first predicted time step). To hide this warning, set `show_warnings=False`.\n",
      "`predict()` was called with `n > output_chunk_length`: using auto-regression to forecast the values after `output_chunk_length` points. The model will access `(n - output_chunk_length)` future values of your `past_covariates` (relative to the first predicted time step). To hide this warning, set `show_warnings=False`.\n",
      "`predict()` was called with `n > output_chunk_length`: using auto-regression to forecast the values after `output_chunk_length` points. The model will access `(n - output_chunk_length)` future values of your `past_covariates` (relative to the first predicted time step). To hide this warning, set `show_warnings=False`.\n",
      "`predict()` was called with `n > output_chunk_length`: using auto-regression to forecast the values after `output_chunk_length` points. The model will access `(n - output_chunk_length)` future values of your `past_covariates` (relative to the first predicted time step). To hide this warning, set `show_warnings=False`.\n",
      "`predict()` was called with `n > output_chunk_length`: using auto-regression to forecast the values after `output_chunk_length` points. The model will access `(n - output_chunk_length)` future values of your `past_covariates` (relative to the first predicted time step). To hide this warning, set `show_warnings=False`.\n",
      "`predict()` was called with `n > output_chunk_length`: using auto-regression to forecast the values after `output_chunk_length` points. The model will access `(n - output_chunk_length)` future values of your `past_covariates` (relative to the first predicted time step). To hide this warning, set `show_warnings=False`.\n",
      "`predict()` was called with `n > output_chunk_length`: using auto-regression to forecast the values after `output_chunk_length` points. The model will access `(n - output_chunk_length)` future values of your `past_covariates` (relative to the first predicted time step). To hide this warning, set `show_warnings=False`.\n",
      "`predict()` was called with `n > output_chunk_length`: using auto-regression to forecast the values after `output_chunk_length` points. The model will access `(n - output_chunk_length)` future values of your `past_covariates` (relative to the first predicted time step). To hide this warning, set `show_warnings=False`.\n",
      "`predict()` was called with `n > output_chunk_length`: using auto-regression to forecast the values after `output_chunk_length` points. The model will access `(n - output_chunk_length)` future values of your `past_covariates` (relative to the first predicted time step). To hide this warning, set `show_warnings=False`.\n",
      "`predict()` was called with `n > output_chunk_length`: using auto-regression to forecast the values after `output_chunk_length` points. The model will access `(n - output_chunk_length)` future values of your `past_covariates` (relative to the first predicted time step). To hide this warning, set `show_warnings=False`.\n",
      "`predict()` was called with `n > output_chunk_length`: using auto-regression to forecast the values after `output_chunk_length` points. The model will access `(n - output_chunk_length)` future values of your `past_covariates` (relative to the first predicted time step). To hide this warning, set `show_warnings=False`.\n",
      "`predict()` was called with `n > output_chunk_length`: using auto-regression to forecast the values after `output_chunk_length` points. The model will access `(n - output_chunk_length)` future values of your `past_covariates` (relative to the first predicted time step). To hide this warning, set `show_warnings=False`.\n",
      "`predict()` was called with `n > output_chunk_length`: using auto-regression to forecast the values after `output_chunk_length` points. The model will access `(n - output_chunk_length)` future values of your `past_covariates` (relative to the first predicted time step). To hide this warning, set `show_warnings=False`.\n",
      "`predict()` was called with `n > output_chunk_length`: using auto-regression to forecast the values after `output_chunk_length` points. The model will access `(n - output_chunk_length)` future values of your `past_covariates` (relative to the first predicted time step). To hide this warning, set `show_warnings=False`.\n",
      "`predict()` was called with `n > output_chunk_length`: using auto-regression to forecast the values after `output_chunk_length` points. The model will access `(n - output_chunk_length)` future values of your `past_covariates` (relative to the first predicted time step). To hide this warning, set `show_warnings=False`.\n",
      "`predict()` was called with `n > output_chunk_length`: using auto-regression to forecast the values after `output_chunk_length` points. The model will access `(n - output_chunk_length)` future values of your `past_covariates` (relative to the first predicted time step). To hide this warning, set `show_warnings=False`.\n",
      "`predict()` was called with `n > output_chunk_length`: using auto-regression to forecast the values after `output_chunk_length` points. The model will access `(n - output_chunk_length)` future values of your `past_covariates` (relative to the first predicted time step). To hide this warning, set `show_warnings=False`.\n",
      "`predict()` was called with `n > output_chunk_length`: using auto-regression to forecast the values after `output_chunk_length` points. The model will access `(n - output_chunk_length)` future values of your `past_covariates` (relative to the first predicted time step). To hide this warning, set `show_warnings=False`.\n",
      "`predict()` was called with `n > output_chunk_length`: using auto-regression to forecast the values after `output_chunk_length` points. The model will access `(n - output_chunk_length)` future values of your `past_covariates` (relative to the first predicted time step). To hide this warning, set `show_warnings=False`.\n",
      "`predict()` was called with `n > output_chunk_length`: using auto-regression to forecast the values after `output_chunk_length` points. The model will access `(n - output_chunk_length)` future values of your `past_covariates` (relative to the first predicted time step). To hide this warning, set `show_warnings=False`.\n",
      "`predict()` was called with `n > output_chunk_length`: using auto-regression to forecast the values after `output_chunk_length` points. The model will access `(n - output_chunk_length)` future values of your `past_covariates` (relative to the first predicted time step). To hide this warning, set `show_warnings=False`.\n",
      "`predict()` was called with `n > output_chunk_length`: using auto-regression to forecast the values after `output_chunk_length` points. The model will access `(n - output_chunk_length)` future values of your `past_covariates` (relative to the first predicted time step). To hide this warning, set `show_warnings=False`.\n",
      "`predict()` was called with `n > output_chunk_length`: using auto-regression to forecast the values after `output_chunk_length` points. The model will access `(n - output_chunk_length)` future values of your `past_covariates` (relative to the first predicted time step). To hide this warning, set `show_warnings=False`.\n",
      "`predict()` was called with `n > output_chunk_length`: using auto-regression to forecast the values after `output_chunk_length` points. The model will access `(n - output_chunk_length)` future values of your `past_covariates` (relative to the first predicted time step). To hide this warning, set `show_warnings=False`.\n",
      "`predict()` was called with `n > output_chunk_length`: using auto-regression to forecast the values after `output_chunk_length` points. The model will access `(n - output_chunk_length)` future values of your `past_covariates` (relative to the first predicted time step). To hide this warning, set `show_warnings=False`.\n",
      "`predict()` was called with `n > output_chunk_length`: using auto-regression to forecast the values after `output_chunk_length` points. The model will access `(n - output_chunk_length)` future values of your `past_covariates` (relative to the first predicted time step). To hide this warning, set `show_warnings=False`.\n",
      "`predict()` was called with `n > output_chunk_length`: using auto-regression to forecast the values after `output_chunk_length` points. The model will access `(n - output_chunk_length)` future values of your `past_covariates` (relative to the first predicted time step). To hide this warning, set `show_warnings=False`.\n",
      "`predict()` was called with `n > output_chunk_length`: using auto-regression to forecast the values after `output_chunk_length` points. The model will access `(n - output_chunk_length)` future values of your `past_covariates` (relative to the first predicted time step). To hide this warning, set `show_warnings=False`.\n",
      "`predict()` was called with `n > output_chunk_length`: using auto-regression to forecast the values after `output_chunk_length` points. The model will access `(n - output_chunk_length)` future values of your `past_covariates` (relative to the first predicted time step). To hide this warning, set `show_warnings=False`.\n",
      "`predict()` was called with `n > output_chunk_length`: using auto-regression to forecast the values after `output_chunk_length` points. The model will access `(n - output_chunk_length)` future values of your `past_covariates` (relative to the first predicted time step). To hide this warning, set `show_warnings=False`.\n",
      "`predict()` was called with `n > output_chunk_length`: using auto-regression to forecast the values after `output_chunk_length` points. The model will access `(n - output_chunk_length)` future values of your `past_covariates` (relative to the first predicted time step). To hide this warning, set `show_warnings=False`.\n",
      "`predict()` was called with `n > output_chunk_length`: using auto-regression to forecast the values after `output_chunk_length` points. The model will access `(n - output_chunk_length)` future values of your `past_covariates` (relative to the first predicted time step). To hide this warning, set `show_warnings=False`.\n",
      "`predict()` was called with `n > output_chunk_length`: using auto-regression to forecast the values after `output_chunk_length` points. The model will access `(n - output_chunk_length)` future values of your `past_covariates` (relative to the first predicted time step). To hide this warning, set `show_warnings=False`.\n",
      "`predict()` was called with `n > output_chunk_length`: using auto-regression to forecast the values after `output_chunk_length` points. The model will access `(n - output_chunk_length)` future values of your `past_covariates` (relative to the first predicted time step). To hide this warning, set `show_warnings=False`.\n",
      "`predict()` was called with `n > output_chunk_length`: using auto-regression to forecast the values after `output_chunk_length` points. The model will access `(n - output_chunk_length)` future values of your `past_covariates` (relative to the first predicted time step). To hide this warning, set `show_warnings=False`.\n",
      "`predict()` was called with `n > output_chunk_length`: using auto-regression to forecast the values after `output_chunk_length` points. The model will access `(n - output_chunk_length)` future values of your `past_covariates` (relative to the first predicted time step). To hide this warning, set `show_warnings=False`.\n",
      "`predict()` was called with `n > output_chunk_length`: using auto-regression to forecast the values after `output_chunk_length` points. The model will access `(n - output_chunk_length)` future values of your `past_covariates` (relative to the first predicted time step). To hide this warning, set `show_warnings=False`.\n",
      "`predict()` was called with `n > output_chunk_length`: using auto-regression to forecast the values after `output_chunk_length` points. The model will access `(n - output_chunk_length)` future values of your `past_covariates` (relative to the first predicted time step). To hide this warning, set `show_warnings=False`.\n",
      "`predict()` was called with `n > output_chunk_length`: using auto-regression to forecast the values after `output_chunk_length` points. The model will access `(n - output_chunk_length)` future values of your `past_covariates` (relative to the first predicted time step). To hide this warning, set `show_warnings=False`.\n",
      "`predict()` was called with `n > output_chunk_length`: using auto-regression to forecast the values after `output_chunk_length` points. The model will access `(n - output_chunk_length)` future values of your `past_covariates` (relative to the first predicted time step). To hide this warning, set `show_warnings=False`.\n",
      "`predict()` was called with `n > output_chunk_length`: using auto-regression to forecast the values after `output_chunk_length` points. The model will access `(n - output_chunk_length)` future values of your `past_covariates` (relative to the first predicted time step). To hide this warning, set `show_warnings=False`.\n",
      "`predict()` was called with `n > output_chunk_length`: using auto-regression to forecast the values after `output_chunk_length` points. The model will access `(n - output_chunk_length)` future values of your `past_covariates` (relative to the first predicted time step). To hide this warning, set `show_warnings=False`.\n",
      "`predict()` was called with `n > output_chunk_length`: using auto-regression to forecast the values after `output_chunk_length` points. The model will access `(n - output_chunk_length)` future values of your `past_covariates` (relative to the first predicted time step). To hide this warning, set `show_warnings=False`.\n",
      "`predict()` was called with `n > output_chunk_length`: using auto-regression to forecast the values after `output_chunk_length` points. The model will access `(n - output_chunk_length)` future values of your `past_covariates` (relative to the first predicted time step). To hide this warning, set `show_warnings=False`.\n",
      "`predict()` was called with `n > output_chunk_length`: using auto-regression to forecast the values after `output_chunk_length` points. The model will access `(n - output_chunk_length)` future values of your `past_covariates` (relative to the first predicted time step). To hide this warning, set `show_warnings=False`.\n",
      "`predict()` was called with `n > output_chunk_length`: using auto-regression to forecast the values after `output_chunk_length` points. The model will access `(n - output_chunk_length)` future values of your `past_covariates` (relative to the first predicted time step). To hide this warning, set `show_warnings=False`.\n",
      "`predict()` was called with `n > output_chunk_length`: using auto-regression to forecast the values after `output_chunk_length` points. The model will access `(n - output_chunk_length)` future values of your `past_covariates` (relative to the first predicted time step). To hide this warning, set `show_warnings=False`.\n",
      "`predict()` was called with `n > output_chunk_length`: using auto-regression to forecast the values after `output_chunk_length` points. The model will access `(n - output_chunk_length)` future values of your `past_covariates` (relative to the first predicted time step). To hide this warning, set `show_warnings=False`.\n",
      "`predict()` was called with `n > output_chunk_length`: using auto-regression to forecast the values after `output_chunk_length` points. The model will access `(n - output_chunk_length)` future values of your `past_covariates` (relative to the first predicted time step). To hide this warning, set `show_warnings=False`.\n",
      "`predict()` was called with `n > output_chunk_length`: using auto-regression to forecast the values after `output_chunk_length` points. The model will access `(n - output_chunk_length)` future values of your `past_covariates` (relative to the first predicted time step). To hide this warning, set `show_warnings=False`.\n",
      "`predict()` was called with `n > output_chunk_length`: using auto-regression to forecast the values after `output_chunk_length` points. The model will access `(n - output_chunk_length)` future values of your `past_covariates` (relative to the first predicted time step). To hide this warning, set `show_warnings=False`.\n",
      "`predict()` was called with `n > output_chunk_length`: using auto-regression to forecast the values after `output_chunk_length` points. The model will access `(n - output_chunk_length)` future values of your `past_covariates` (relative to the first predicted time step). To hide this warning, set `show_warnings=False`.\n",
      "`predict()` was called with `n > output_chunk_length`: using auto-regression to forecast the values after `output_chunk_length` points. The model will access `(n - output_chunk_length)` future values of your `past_covariates` (relative to the first predicted time step). To hide this warning, set `show_warnings=False`.\n",
      "`predict()` was called with `n > output_chunk_length`: using auto-regression to forecast the values after `output_chunk_length` points. The model will access `(n - output_chunk_length)` future values of your `past_covariates` (relative to the first predicted time step). To hide this warning, set `show_warnings=False`.\n",
      "`predict()` was called with `n > output_chunk_length`: using auto-regression to forecast the values after `output_chunk_length` points. The model will access `(n - output_chunk_length)` future values of your `past_covariates` (relative to the first predicted time step). To hide this warning, set `show_warnings=False`.\n",
      "`predict()` was called with `n > output_chunk_length`: using auto-regression to forecast the values after `output_chunk_length` points. The model will access `(n - output_chunk_length)` future values of your `past_covariates` (relative to the first predicted time step). To hide this warning, set `show_warnings=False`.\n",
      "`predict()` was called with `n > output_chunk_length`: using auto-regression to forecast the values after `output_chunk_length` points. The model will access `(n - output_chunk_length)` future values of your `past_covariates` (relative to the first predicted time step). To hide this warning, set `show_warnings=False`.\n",
      "`predict()` was called with `n > output_chunk_length`: using auto-regression to forecast the values after `output_chunk_length` points. The model will access `(n - output_chunk_length)` future values of your `past_covariates` (relative to the first predicted time step). To hide this warning, set `show_warnings=False`.\n",
      "`predict()` was called with `n > output_chunk_length`: using auto-regression to forecast the values after `output_chunk_length` points. The model will access `(n - output_chunk_length)` future values of your `past_covariates` (relative to the first predicted time step). To hide this warning, set `show_warnings=False`.\n",
      "`predict()` was called with `n > output_chunk_length`: using auto-regression to forecast the values after `output_chunk_length` points. The model will access `(n - output_chunk_length)` future values of your `past_covariates` (relative to the first predicted time step). To hide this warning, set `show_warnings=False`.\n",
      "`predict()` was called with `n > output_chunk_length`: using auto-regression to forecast the values after `output_chunk_length` points. The model will access `(n - output_chunk_length)` future values of your `past_covariates` (relative to the first predicted time step). To hide this warning, set `show_warnings=False`.\n",
      "`predict()` was called with `n > output_chunk_length`: using auto-regression to forecast the values after `output_chunk_length` points. The model will access `(n - output_chunk_length)` future values of your `past_covariates` (relative to the first predicted time step). To hide this warning, set `show_warnings=False`.\n",
      "`predict()` was called with `n > output_chunk_length`: using auto-regression to forecast the values after `output_chunk_length` points. The model will access `(n - output_chunk_length)` future values of your `past_covariates` (relative to the first predicted time step). To hide this warning, set `show_warnings=False`.\n",
      "`predict()` was called with `n > output_chunk_length`: using auto-regression to forecast the values after `output_chunk_length` points. The model will access `(n - output_chunk_length)` future values of your `past_covariates` (relative to the first predicted time step). To hide this warning, set `show_warnings=False`.\n",
      "`predict()` was called with `n > output_chunk_length`: using auto-regression to forecast the values after `output_chunk_length` points. The model will access `(n - output_chunk_length)` future values of your `past_covariates` (relative to the first predicted time step). To hide this warning, set `show_warnings=False`.\n",
      "`predict()` was called with `n > output_chunk_length`: using auto-regression to forecast the values after `output_chunk_length` points. The model will access `(n - output_chunk_length)` future values of your `past_covariates` (relative to the first predicted time step). To hide this warning, set `show_warnings=False`.\n",
      "`predict()` was called with `n > output_chunk_length`: using auto-regression to forecast the values after `output_chunk_length` points. The model will access `(n - output_chunk_length)` future values of your `past_covariates` (relative to the first predicted time step). To hide this warning, set `show_warnings=False`.\n",
      "`predict()` was called with `n > output_chunk_length`: using auto-regression to forecast the values after `output_chunk_length` points. The model will access `(n - output_chunk_length)` future values of your `past_covariates` (relative to the first predicted time step). To hide this warning, set `show_warnings=False`.\n",
      "`predict()` was called with `n > output_chunk_length`: using auto-regression to forecast the values after `output_chunk_length` points. The model will access `(n - output_chunk_length)` future values of your `past_covariates` (relative to the first predicted time step). To hide this warning, set `show_warnings=False`.\n",
      "`predict()` was called with `n > output_chunk_length`: using auto-regression to forecast the values after `output_chunk_length` points. The model will access `(n - output_chunk_length)` future values of your `past_covariates` (relative to the first predicted time step). To hide this warning, set `show_warnings=False`.\n",
      "`predict()` was called with `n > output_chunk_length`: using auto-regression to forecast the values after `output_chunk_length` points. The model will access `(n - output_chunk_length)` future values of your `past_covariates` (relative to the first predicted time step). To hide this warning, set `show_warnings=False`.\n",
      "`predict()` was called with `n > output_chunk_length`: using auto-regression to forecast the values after `output_chunk_length` points. The model will access `(n - output_chunk_length)` future values of your `past_covariates` (relative to the first predicted time step). To hide this warning, set `show_warnings=False`.\n",
      "`predict()` was called with `n > output_chunk_length`: using auto-regression to forecast the values after `output_chunk_length` points. The model will access `(n - output_chunk_length)` future values of your `past_covariates` (relative to the first predicted time step). To hide this warning, set `show_warnings=False`.\n",
      "`predict()` was called with `n > output_chunk_length`: using auto-regression to forecast the values after `output_chunk_length` points. The model will access `(n - output_chunk_length)` future values of your `past_covariates` (relative to the first predicted time step). To hide this warning, set `show_warnings=False`.\n",
      "`predict()` was called with `n > output_chunk_length`: using auto-regression to forecast the values after `output_chunk_length` points. The model will access `(n - output_chunk_length)` future values of your `past_covariates` (relative to the first predicted time step). To hide this warning, set `show_warnings=False`.\n",
      "`predict()` was called with `n > output_chunk_length`: using auto-regression to forecast the values after `output_chunk_length` points. The model will access `(n - output_chunk_length)` future values of your `past_covariates` (relative to the first predicted time step). To hide this warning, set `show_warnings=False`.\n",
      "`predict()` was called with `n > output_chunk_length`: using auto-regression to forecast the values after `output_chunk_length` points. The model will access `(n - output_chunk_length)` future values of your `past_covariates` (relative to the first predicted time step). To hide this warning, set `show_warnings=False`.\n",
      "`predict()` was called with `n > output_chunk_length`: using auto-regression to forecast the values after `output_chunk_length` points. The model will access `(n - output_chunk_length)` future values of your `past_covariates` (relative to the first predicted time step). To hide this warning, set `show_warnings=False`.\n",
      "`predict()` was called with `n > output_chunk_length`: using auto-regression to forecast the values after `output_chunk_length` points. The model will access `(n - output_chunk_length)` future values of your `past_covariates` (relative to the first predicted time step). To hide this warning, set `show_warnings=False`.\n",
      "`predict()` was called with `n > output_chunk_length`: using auto-regression to forecast the values after `output_chunk_length` points. The model will access `(n - output_chunk_length)` future values of your `past_covariates` (relative to the first predicted time step). To hide this warning, set `show_warnings=False`.\n",
      "`predict()` was called with `n > output_chunk_length`: using auto-regression to forecast the values after `output_chunk_length` points. The model will access `(n - output_chunk_length)` future values of your `past_covariates` (relative to the first predicted time step). To hide this warning, set `show_warnings=False`.\n",
      "`predict()` was called with `n > output_chunk_length`: using auto-regression to forecast the values after `output_chunk_length` points. The model will access `(n - output_chunk_length)` future values of your `past_covariates` (relative to the first predicted time step). To hide this warning, set `show_warnings=False`.\n"
     ]
    }
   ],
   "source": [
    "# Generate predictions using the ensemble model\n",
    "print(\"\\nGenerating final predictions...\")\n",
    "final_predictions = trainer.ensemble_predict(\n",
    "    model_names=ENS_MODELS,\n",
    "    model_configs=ENS_CONFIGS,\n",
    "    drop_before=\"2015-01-01\",\n",
    ")"
   ]
  },
  {
   "cell_type": "code",
   "execution_count": 43,
   "id": "2cb8e77f",
   "metadata": {},
   "outputs": [],
   "source": [
    "def prepare_submission(predictions, test_df):\n",
    "    \"\"\"\n",
    "    Prepare the final submission file.\n",
    "    \n",
    "    Parameters:\n",
    "    -----------\n",
    "    predictions : pd.DataFrame\n",
    "        DataFrame containing predictions from the ensemble model\n",
    "    test_df : pd.DataFrame\n",
    "        The original test DataFrame with 'id' values\n",
    "        \n",
    "    Returns:\n",
    "    --------\n",
    "    pd.DataFrame\n",
    "        DataFrame formatted for submission with 'id' and 'sales' columns\n",
    "    \"\"\"\n",
    "    # Process store_nbr column - remove prefix added during preprocessing\n",
    "    predictions.store_nbr = predictions.store_nbr.str.replace(\"store_nbr_\", \"\", regex=True).astype(int)\n",
    "     \n",
    "    # Match predictions with corresponding 'id' from test set\n",
    "    submission = test_df.merge(\n",
    "        predictions, on=[\"date\", \"store_nbr\", \"family\"], how=\"left\"\n",
    "    )[[\"id\", \"sales\"]]\n",
    "    \n",
    "    return submission"
   ]
  },
  {
   "cell_type": "code",
   "execution_count": 44,
   "id": "763ca4bb",
   "metadata": {},
   "outputs": [
    {
     "name": "stdout",
     "output_type": "stream",
     "text": [
      "\n",
      "Preparing submission file...\n",
      "\n",
      "Submission file saved to submission.csv\n"
     ]
    }
   ],
   "source": [
    "# Prepare and save submission\n",
    "print(\"\\nPreparing submission file...\")\n",
    "submission = prepare_submission(final_predictions, test)\n",
    "\n",
    "# Check if there are any missing values in the submission\n",
    "missing_values = submission.isna().sum().sum()\n",
    "if missing_values > 0:\n",
    "    print(f\"Warning: Submission contains {missing_values} missing values. Filling with zeros.\")\n",
    "    submission = submission.fillna(0)\n",
    "\n",
    "# Save the submission file\n",
    "submission_path = \"submission.csv\"\n",
    "submission.to_csv(submission_path, index=False)\n",
    "print(f\"\\nSubmission file saved to {submission_path}\")"
   ]
  }
 ],
 "metadata": {
  "kernelspec": {
   "display_name": "ai",
   "language": "python",
   "name": "python3"
  },
  "language_info": {
   "codemirror_mode": {
    "name": "ipython",
    "version": 3
   },
   "file_extension": ".py",
   "mimetype": "text/x-python",
   "name": "python",
   "nbconvert_exporter": "python",
   "pygments_lexer": "ipython3",
   "version": "3.11.11"
  }
 },
 "nbformat": 4,
 "nbformat_minor": 5
}
