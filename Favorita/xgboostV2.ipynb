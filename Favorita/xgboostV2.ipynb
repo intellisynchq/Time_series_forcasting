{
 "cells": [
  {
   "cell_type": "code",
   "execution_count": 1,
   "id": "d5790d05",
   "metadata": {},
   "outputs": [],
   "source": [
    "import pandas as pd\n",
    "\n",
    "df = pd.read_csv('train.csv', parse_dates=['date'])\n",
    "\n",
    "# Ordina per chiave temporale e identificativa della serie\n",
    "df = df.sort_values(by=['store_nbr', 'family', 'date'])"
   ]
  },
  {
   "cell_type": "code",
   "execution_count": 2,
   "id": "bd1b9510",
   "metadata": {},
   "outputs": [],
   "source": [
    "# Esempio di lag di 1, 7, 14, 28 giorni\n",
    "for lag in [1, 7, 14, 28]:\n",
    "    df[f'sales_lag_{lag}'] = df.groupby(['store_nbr', 'family'])['sales'].shift(lag)"
   ]
  },
  {
   "cell_type": "code",
   "execution_count": 3,
   "id": "f6b24a5c",
   "metadata": {},
   "outputs": [],
   "source": [
    "# Esempio: media su 7 e 14 giorni\n",
    "for window in [7, 14]:\n",
    "    df[f'sales_rollmean_{window}'] = df.groupby(['store_nbr', 'family'])['sales'].shift(1).rolling(window=window).mean()"
   ]
  },
  {
   "cell_type": "code",
   "execution_count": 4,
   "id": "1dbc8866",
   "metadata": {},
   "outputs": [],
   "source": [
    "# Rolling std, min, max su 14 giorni\n",
    "for func in ['std', 'min', 'max']:\n",
    "    df[f'sales_roll{func}_14'] = (\n",
    "        df.groupby(['store_nbr', 'family'])['sales']\n",
    "        .shift(1)\n",
    "        .rolling(window=14)\n",
    "        .agg(func)\n",
    "    )"
   ]
  },
  {
   "cell_type": "code",
   "execution_count": 5,
   "id": "03e4d221",
   "metadata": {},
   "outputs": [],
   "source": [
    "df['promo_7d'] = (\n",
    "    df.groupby(['store_nbr', 'family'])['onpromotion']\n",
    "    .shift(1)\n",
    "    .rolling(7).sum()\n",
    ")"
   ]
  },
  {
   "cell_type": "code",
   "execution_count": 6,
   "id": "178583e8",
   "metadata": {},
   "outputs": [],
   "source": [
    "# Dopo aver costruito le feature, puoi decidere se droppare o imputare i NaN\n",
    "df = df.dropna()"
   ]
  },
  {
   "cell_type": "code",
   "execution_count": 7,
   "id": "81cfaa09",
   "metadata": {},
   "outputs": [],
   "source": [
    "# Assumendo che la colonna 'date' sia già in formato datetime\n",
    "df['day'] = df['date'].dt.day\n",
    "df['month'] = df['date'].dt.month\n",
    "df['dayofweek'] = df['date'].dt.dayofweek\n",
    "df['is_weekend'] = df['dayofweek'] >= 5"
   ]
  },
  {
   "cell_type": "code",
   "execution_count": 8,
   "id": "ed475a4d",
   "metadata": {},
   "outputs": [],
   "source": [
    "from sklearn.preprocessing import LabelEncoder\n",
    "\n",
    "# Encoding per family e type (stringhe)\n",
    "le = LabelEncoder()\n",
    "df['family'] = le.fit_transform(df['family'])\n",
    "label_encoders = {'family': le}\n",
    "\n",
    "# store_nbr è già numerico, ma se vuoi assicurarti che sia trattato come categoria:\n",
    "df['store_nbr'] = df['store_nbr'].astype(int)"
   ]
  },
  {
   "cell_type": "code",
   "execution_count": 9,
   "id": "704a54d1",
   "metadata": {},
   "outputs": [],
   "source": [
    "# is_holiday: booleano (già True/False), possiamo trasformarlo in 0/1\n",
    "df['is_holiday'] = df['is_holiday'].astype(int)\n",
    "\n",
    "# onpromotion è già 0/1\n",
    "\n",
    "# Riempi eventuali NaN nel prezzo del petrolio con interpolazione o mediana\n",
    "df['dcoilwtico'] = df['dcoilwtico'].interpolate(method='linear')\n",
    "df['dcoilwtico'] = df['dcoilwtico'].bfill()  # fallback"
   ]
  },
  {
   "cell_type": "code",
   "execution_count": 10,
   "id": "91eff117",
   "metadata": {},
   "outputs": [],
   "source": [
    "# Split on percentage\n",
    "train_size = 0.8\n",
    "\n",
    "train = df.sample(frac=train_size, random_state=42)\n",
    "test = df.drop(train.index)\n",
    "train = train.reset_index(drop=True)\n",
    "test = test.reset_index(drop=True)"
   ]
  },
  {
   "cell_type": "code",
   "execution_count": 11,
   "id": "8f9181de",
   "metadata": {},
   "outputs": [],
   "source": [
    "target_col = 'sales'\n",
    "\n",
    "# Colonne da escludere\n",
    "drop_cols = ['id', 'date', 'sales']\n",
    "\n",
    "# Feature matrix\n",
    "X_train = train.drop(columns=drop_cols)\n",
    "X_test = test.drop(columns=drop_cols)\n",
    "\n",
    "# Target\n",
    "y_train = train[target_col]\n",
    "y_test = test[target_col]"
   ]
  },
  {
   "cell_type": "code",
   "execution_count": 12,
   "id": "e8a43c7d",
   "metadata": {},
   "outputs": [],
   "source": [
    "import optuna\n",
    "from xgboost import XGBRegressor\n",
    "from sklearn.metrics import mean_squared_error\n",
    "import numpy as np\n",
    "\n",
    "def objective(trial):\n",
    "    params = {\n",
    "        'n_estimators': trial.suggest_int('n_estimators', 100, 500),\n",
    "        'max_depth': trial.suggest_int('max_depth', 4, 12),\n",
    "        'learning_rate': trial.suggest_float('learning_rate', 0.01, 0.3),\n",
    "        'subsample': trial.suggest_float('subsample', 0.5, 1.0),\n",
    "        'colsample_bytree': trial.suggest_float('colsample_bytree', 0.5, 1.0),\n",
    "        'min_child_weight': trial.suggest_int('min_child_weight', 1, 10),\n",
    "        'gamma': trial.suggest_float('gamma', 0, 5),\n",
    "        'tree_method': 'hist',\n",
    "        'random_state': 42,\n",
    "        'n_jobs': -1\n",
    "    }\n",
    "\n",
    "    model = XGBRegressor(**params)\n",
    "    model.fit(X_train, y_train)  # Nessun early_stopping\n",
    "\n",
    "    preds = model.predict(X_test)\n",
    "    rmse = np.sqrt(mean_squared_error(y_test, preds))\n",
    "    return rmse"
   ]
  },
  {
   "cell_type": "code",
   "execution_count": 13,
   "id": "4c83a676",
   "metadata": {},
   "outputs": [
    {
     "name": "stderr",
     "output_type": "stream",
     "text": [
      "[I 2025-05-15 12:57:26,314] A new study created in memory with name: no-name-31d2926d-5ff8-4834-b4e5-975ddf1cb3d2\n",
      "[I 2025-05-15 12:57:34,679] Trial 0 finished with value: 237.97798225820753 and parameters: {'n_estimators': 491, 'max_depth': 6, 'learning_rate': 0.04124232088063815, 'subsample': 0.5583661004458964, 'colsample_bytree': 0.7548284955160666, 'min_child_weight': 6, 'gamma': 1.4297820447169203}. Best is trial 0 with value: 237.97798225820753.\n",
      "[I 2025-05-15 12:57:38,660] Trial 1 finished with value: 227.6293672236135 and parameters: {'n_estimators': 185, 'max_depth': 8, 'learning_rate': 0.17185340280807737, 'subsample': 0.7025419120745093, 'colsample_bytree': 0.7244651814149816, 'min_child_weight': 4, 'gamma': 2.2876434510563692}. Best is trial 1 with value: 227.6293672236135.\n",
      "[I 2025-05-15 12:57:51,234] Trial 2 finished with value: 226.99845030495104 and parameters: {'n_estimators': 336, 'max_depth': 12, 'learning_rate': 0.15575186677267144, 'subsample': 0.5342824309821195, 'colsample_bytree': 0.9295069667936743, 'min_child_weight': 2, 'gamma': 4.468359731162744}. Best is trial 2 with value: 226.99845030495104.\n",
      "[I 2025-05-15 12:57:54,079] Trial 3 finished with value: 251.98621787032678 and parameters: {'n_estimators': 194, 'max_depth': 4, 'learning_rate': 0.1881095865820558, 'subsample': 0.779581131192737, 'colsample_bytree': 0.654980298478214, 'min_child_weight': 8, 'gamma': 4.3999411732692115}. Best is trial 2 with value: 226.99845030495104.\n",
      "[I 2025-05-15 12:57:58,732] Trial 4 finished with value: 224.64910032637604 and parameters: {'n_estimators': 204, 'max_depth': 9, 'learning_rate': 0.2027983304366693, 'subsample': 0.7097365850896304, 'colsample_bytree': 0.5037217285451687, 'min_child_weight': 7, 'gamma': 3.057299674288148}. Best is trial 4 with value: 224.64910032637604.\n",
      "[I 2025-05-15 12:58:06,121] Trial 5 finished with value: 219.2864032432396 and parameters: {'n_estimators': 216, 'max_depth': 11, 'learning_rate': 0.08176165269843029, 'subsample': 0.5118539602447023, 'colsample_bytree': 0.569270077803431, 'min_child_weight': 1, 'gamma': 0.2766697905809451}. Best is trial 5 with value: 219.2864032432396.\n",
      "[I 2025-05-15 12:58:15,693] Trial 6 finished with value: 222.7552214543657 and parameters: {'n_estimators': 463, 'max_depth': 9, 'learning_rate': 0.1826264356318732, 'subsample': 0.7369361763147309, 'colsample_bytree': 0.7267184715320205, 'min_child_weight': 7, 'gamma': 3.195686444576051}. Best is trial 5 with value: 219.2864032432396.\n",
      "[I 2025-05-15 12:58:18,876] Trial 7 finished with value: 238.242984795249 and parameters: {'n_estimators': 173, 'max_depth': 6, 'learning_rate': 0.1346323436903139, 'subsample': 0.7248786396526188, 'colsample_bytree': 0.5400906464545809, 'min_child_weight': 2, 'gamma': 4.220648793255472}. Best is trial 5 with value: 219.2864032432396.\n",
      "[I 2025-05-15 12:58:22,370] Trial 8 finished with value: 263.5396023198683 and parameters: {'n_estimators': 219, 'max_depth': 4, 'learning_rate': 0.04318620193844159, 'subsample': 0.5990338228376617, 'colsample_bytree': 0.807674148088178, 'min_child_weight': 9, 'gamma': 2.2764626215947867}. Best is trial 5 with value: 219.2864032432396.\n",
      "[I 2025-05-15 12:58:28,583] Trial 9 finished with value: 231.89332966418138 and parameters: {'n_estimators': 432, 'max_depth': 5, 'learning_rate': 0.23731409322072822, 'subsample': 0.998493880330485, 'colsample_bytree': 0.5679493209106412, 'min_child_weight': 6, 'gamma': 0.9950855427992289}. Best is trial 5 with value: 219.2864032432396.\n",
      "[I 2025-05-15 12:58:41,664] Trial 10 finished with value: 215.22774184643586 and parameters: {'n_estimators': 304, 'max_depth': 12, 'learning_rate': 0.10038406922673691, 'subsample': 0.9139639894858055, 'colsample_bytree': 0.623719652450831, 'min_child_weight': 1, 'gamma': 1.1235641369758353}. Best is trial 10 with value: 215.22774184643586.\n",
      "[I 2025-05-15 12:58:54,978] Trial 11 finished with value: 215.59195263262623 and parameters: {'n_estimators': 304, 'max_depth': 12, 'learning_rate': 0.09772699389000161, 'subsample': 0.9304045962985938, 'colsample_bytree': 0.6425884016776517, 'min_child_weight': 1, 'gamma': 0.04394339360585775}. Best is trial 10 with value: 215.22774184643586.\n",
      "[I 2025-05-15 12:59:06,824] Trial 12 finished with value: 215.52354759326315 and parameters: {'n_estimators': 320, 'max_depth': 12, 'learning_rate': 0.10546663461638772, 'subsample': 0.9523169905061616, 'colsample_bytree': 0.6410710202093898, 'min_child_weight': 4, 'gamma': 0.06040912531710205}. Best is trial 10 with value: 215.22774184643586.\n",
      "[I 2025-05-15 12:59:16,907] Trial 13 finished with value: 215.5559588774916 and parameters: {'n_estimators': 387, 'max_depth': 10, 'learning_rate': 0.11291565680085208, 'subsample': 0.8864145436779683, 'colsample_bytree': 0.647467714845766, 'min_child_weight': 4, 'gamma': 1.1916944445584159}. Best is trial 10 with value: 215.22774184643586.\n",
      "[I 2025-05-15 12:59:25,635] Trial 14 finished with value: 222.50894476746487 and parameters: {'n_estimators': 269, 'max_depth': 11, 'learning_rate': 0.07083531469390121, 'subsample': 0.8640832118067594, 'colsample_bytree': 0.8566844928867925, 'min_child_weight': 4, 'gamma': 0.6239925808627396}. Best is trial 10 with value: 215.22774184643586.\n",
      "[I 2025-05-15 12:59:33,709] Trial 15 finished with value: 379.0475688464728 and parameters: {'n_estimators': 124, 'max_depth': 12, 'learning_rate': 0.010959872306183074, 'subsample': 0.9984696825932674, 'colsample_bytree': 0.631228552809484, 'min_child_weight': 3, 'gamma': 1.8801018600408832}. Best is trial 10 with value: 215.22774184643586.\n",
      "[I 2025-05-15 12:59:42,751] Trial 16 finished with value: 221.23657077407833 and parameters: {'n_estimators': 369, 'max_depth': 10, 'learning_rate': 0.1242927342672018, 'subsample': 0.8100603589164309, 'colsample_bytree': 0.9848222761627307, 'min_child_weight': 5, 'gamma': 0.6715543724396225}. Best is trial 10 with value: 215.22774184643586.\n",
      "[I 2025-05-15 12:59:47,984] Trial 17 finished with value: 227.29515990265463 and parameters: {'n_estimators': 270, 'max_depth': 8, 'learning_rate': 0.2791276555865426, 'subsample': 0.8982941035226133, 'colsample_bytree': 0.6866737702926038, 'min_child_weight': 10, 'gamma': 1.5788476247057595}. Best is trial 10 with value: 215.22774184643586.\n",
      "[I 2025-05-15 13:00:00,536] Trial 18 finished with value: 214.26113744477212 and parameters: {'n_estimators': 386, 'max_depth': 11, 'learning_rate': 0.14051993205551636, 'subsample': 0.9522399652976421, 'colsample_bytree': 0.6094780983366622, 'min_child_weight': 2, 'gamma': 0.6120390198159114}. Best is trial 18 with value: 214.26113744477212.\n",
      "[I 2025-05-15 13:00:11,705] Trial 19 finished with value: 217.82561263481503 and parameters: {'n_estimators': 415, 'max_depth': 10, 'learning_rate': 0.23512577474403534, 'subsample': 0.8278641775799449, 'colsample_bytree': 0.5935475677718747, 'min_child_weight': 2, 'gamma': 2.759876688889768}. Best is trial 18 with value: 214.26113744477212.\n",
      "[I 2025-05-15 13:00:23,642] Trial 20 finished with value: 219.20439948860454 and parameters: {'n_estimators': 357, 'max_depth': 11, 'learning_rate': 0.14724667502428118, 'subsample': 0.6436542531313884, 'colsample_bytree': 0.5009157497771531, 'min_child_weight': 1, 'gamma': 3.797125934098458}. Best is trial 18 with value: 214.26113744477212.\n",
      "[I 2025-05-15 13:00:36,421] Trial 21 finished with value: 215.00308302298993 and parameters: {'n_estimators': 317, 'max_depth': 12, 'learning_rate': 0.09128268293291641, 'subsample': 0.952361757236332, 'colsample_bytree': 0.6090897871845369, 'min_child_weight': 3, 'gamma': 0.4844813027410022}. Best is trial 18 with value: 214.26113744477212.\n",
      "[I 2025-05-15 13:00:45,585] Trial 22 finished with value: 217.06996064636263 and parameters: {'n_estimators': 271, 'max_depth': 11, 'learning_rate': 0.07150548587917169, 'subsample': 0.9420985639668472, 'colsample_bytree': 0.5927137225718719, 'min_child_weight': 3, 'gamma': 0.7040871894294358}. Best is trial 18 with value: 214.26113744477212.\n",
      "[I 2025-05-15 13:01:01,439] Trial 23 finished with value: 217.15275226848482 and parameters: {'n_estimators': 401, 'max_depth': 12, 'learning_rate': 0.04469026730501622, 'subsample': 0.8473684315396788, 'colsample_bytree': 0.7080416057033548, 'min_child_weight': 3, 'gamma': 1.8623074113104257}. Best is trial 18 with value: 214.26113744477212.\n",
      "[I 2025-05-15 13:01:13,175] Trial 24 finished with value: 218.64839521248084 and parameters: {'n_estimators': 347, 'max_depth': 11, 'learning_rate': 0.0883054914077633, 'subsample': 0.9141062636308653, 'colsample_bytree': 0.7761851742287371, 'min_child_weight': 2, 'gamma': 1.1660787696885573}. Best is trial 18 with value: 214.26113744477212.\n",
      "[I 2025-05-15 13:01:20,272] Trial 25 finished with value: 216.7024183033347 and parameters: {'n_estimators': 291, 'max_depth': 9, 'learning_rate': 0.1461865879652562, 'subsample': 0.9670554654436248, 'colsample_bytree': 0.6106307447744723, 'min_child_weight': 1, 'gamma': 0.4963192155799046}. Best is trial 18 with value: 214.26113744477212.\n",
      "[I 2025-05-15 13:01:31,889] Trial 26 finished with value: 216.01552144358692 and parameters: {'n_estimators': 444, 'max_depth': 10, 'learning_rate': 0.11752452134826283, 'subsample': 0.8853657597520537, 'colsample_bytree': 0.6773301500383759, 'min_child_weight': 3, 'gamma': 0.9925301151474781}. Best is trial 18 with value: 214.26113744477212.\n",
      "[I 2025-05-15 13:01:43,617] Trial 27 finished with value: 214.61092571276782 and parameters: {'n_estimators': 251, 'max_depth': 12, 'learning_rate': 0.05088820994308371, 'subsample': 0.9754730208178719, 'colsample_bytree': 0.5478006099994855, 'min_child_weight': 2, 'gamma': 1.6455486458727915}. Best is trial 18 with value: 214.26113744477212.\n",
      "[I 2025-05-15 13:01:51,228] Trial 28 finished with value: 255.74516499812583 and parameters: {'n_estimators': 243, 'max_depth': 8, 'learning_rate': 0.01308317676615784, 'subsample': 0.9787884030396716, 'colsample_bytree': 0.5315124223171377, 'min_child_weight': 5, 'gamma': 1.6846852584099818}. Best is trial 18 with value: 214.26113744477212.\n",
      "[I 2025-05-15 13:01:54,225] Trial 29 finished with value: 248.8940400383721 and parameters: {'n_estimators': 140, 'max_depth': 6, 'learning_rate': 0.052635449442827206, 'subsample': 0.9504874933491632, 'colsample_bytree': 0.5483670970399958, 'min_child_weight': 2, 'gamma': 1.4332908738592598}. Best is trial 18 with value: 214.26113744477212.\n",
      "[I 2025-05-15 13:02:02,292] Trial 30 finished with value: 219.69903252267312 and parameters: {'n_estimators': 241, 'max_depth': 11, 'learning_rate': 0.06162347330246398, 'subsample': 0.7956784788446809, 'colsample_bytree': 0.5816437819653602, 'min_child_weight': 5, 'gamma': 0.3719647521075222}. Best is trial 18 with value: 214.26113744477212.\n",
      "[I 2025-05-15 13:02:16,331] Trial 31 finished with value: 213.69645147887272 and parameters: {'n_estimators': 321, 'max_depth': 12, 'learning_rate': 0.08931699011634195, 'subsample': 0.9131840218465967, 'colsample_bytree': 0.6092180831830922, 'min_child_weight': 1, 'gamma': 0.8386562238932088}. Best is trial 31 with value: 213.69645147887272.\n",
      "[I 2025-05-15 13:02:37,078] Trial 32 finished with value: 214.22475905824012 and parameters: {'n_estimators': 485, 'max_depth': 12, 'learning_rate': 0.032538822136884596, 'subsample': 0.8666021574723868, 'colsample_bytree': 0.5294050685951609, 'min_child_weight': 2, 'gamma': 0.8504592880241268}. Best is trial 31 with value: 213.69645147887272.\n",
      "[I 2025-05-15 13:02:46,490] Trial 33 finished with value: 229.65299559922178 and parameters: {'n_estimators': 470, 'max_depth': 7, 'learning_rate': 0.03381730818944448, 'subsample': 0.861131872352467, 'colsample_bytree': 0.5470005956514458, 'min_child_weight': 2, 'gamma': 2.144704843859553}. Best is trial 31 with value: 213.69645147887272.\n",
      "[I 2025-05-15 13:03:08,286] Trial 34 finished with value: 213.71806014684904 and parameters: {'n_estimators': 475, 'max_depth': 12, 'learning_rate': 0.02865750287963112, 'subsample': 0.7766305786733935, 'colsample_bytree': 0.524529640243941, 'min_child_weight': 1, 'gamma': 4.940953692386554}. Best is trial 31 with value: 213.69645147887272.\n",
      "[I 2025-05-15 13:03:26,741] Trial 35 finished with value: 215.1133771240091 and parameters: {'n_estimators': 481, 'max_depth': 11, 'learning_rate': 0.026071014513665097, 'subsample': 0.7696928056157994, 'colsample_bytree': 0.5192054700758245, 'min_child_weight': 1, 'gamma': 3.6065281113271332}. Best is trial 31 with value: 213.69645147887272.\n",
      "[I 2025-05-15 13:03:40,326] Trial 36 finished with value: 218.14748259272054 and parameters: {'n_estimators': 493, 'max_depth': 10, 'learning_rate': 0.15845483698126075, 'subsample': 0.8278348443269149, 'colsample_bytree': 0.6709841795600364, 'min_child_weight': 1, 'gamma': 2.655173396132976}. Best is trial 31 with value: 213.69645147887272.\n",
      "[I 2025-05-15 13:03:59,736] Trial 37 finished with value: 215.27691451074708 and parameters: {'n_estimators': 500, 'max_depth': 12, 'learning_rate': 0.07352318302426522, 'subsample': 0.6687671865554944, 'colsample_bytree': 0.5656277103634082, 'min_child_weight': 2, 'gamma': 0.8481654961760362}. Best is trial 31 with value: 213.69645147887272.\n",
      "[I 2025-05-15 13:04:17,043] Trial 38 finished with value: 215.89340363311766 and parameters: {'n_estimators': 456, 'max_depth': 11, 'learning_rate': 0.02863844020396266, 'subsample': 0.7471409175858211, 'colsample_bytree': 0.5189045192952537, 'min_child_weight': 1, 'gamma': 3.6208708857852216}. Best is trial 31 with value: 213.69645147887272.\n",
      "[I 2025-05-15 13:04:34,665] Trial 39 finished with value: 214.7624636981886 and parameters: {'n_estimators': 432, 'max_depth': 12, 'learning_rate': 0.17129174870724168, 'subsample': 0.8726163464133322, 'colsample_bytree': 0.5009014438422472, 'min_child_weight': 3, 'gamma': 4.876732777298238}. Best is trial 31 with value: 213.69645147887272.\n",
      "[I 2025-05-15 13:04:43,551] Trial 40 finished with value: 220.82350310944844 and parameters: {'n_estimators': 383, 'max_depth': 9, 'learning_rate': 0.13196085341467695, 'subsample': 0.7814349448223026, 'colsample_bytree': 0.7559258345460373, 'min_child_weight': 2, 'gamma': 3.017176909646644}. Best is trial 31 with value: 213.69645147887272.\n",
      "[I 2025-05-15 13:05:00,900] Trial 41 finished with value: 212.83972534390713 and parameters: {'n_estimators': 407, 'max_depth': 12, 'learning_rate': 0.052532174838388485, 'subsample': 0.9184341442613798, 'colsample_bytree': 0.5531945494247059, 'min_child_weight': 2, 'gamma': 1.4867099156436612}. Best is trial 41 with value: 212.83972534390713.\n",
      "[I 2025-05-15 13:05:15,884] Trial 42 finished with value: 213.89784776339425 and parameters: {'n_estimators': 417, 'max_depth': 11, 'learning_rate': 0.05964258982187941, 'subsample': 0.9212722547755519, 'colsample_bytree': 0.5665057987852202, 'min_child_weight': 1, 'gamma': 1.2686320309277}. Best is trial 41 with value: 212.83972534390713.\n",
      "[I 2025-05-15 13:05:34,228] Trial 43 finished with value: 212.39788262858355 and parameters: {'n_estimators': 416, 'max_depth': 12, 'learning_rate': 0.05855265285035713, 'subsample': 0.914867755555175, 'colsample_bytree': 0.5678508819179778, 'min_child_weight': 1, 'gamma': 1.3575919753695724}. Best is trial 43 with value: 212.39788262858355.\n",
      "[I 2025-05-15 13:05:52,564] Trial 44 finished with value: 211.68478697914733 and parameters: {'n_estimators': 416, 'max_depth': 12, 'learning_rate': 0.061262821041241845, 'subsample': 0.9173305659044061, 'colsample_bytree': 0.5620303828499797, 'min_child_weight': 1, 'gamma': 2.0104361823750687}. Best is trial 44 with value: 211.68478697914733.\n",
      "[I 2025-05-15 13:06:06,427] Trial 45 finished with value: 220.43088794619237 and parameters: {'n_estimators': 449, 'max_depth': 12, 'learning_rate': 0.08568599980270375, 'subsample': 0.5789749399511714, 'colsample_bytree': 0.5834374524452923, 'min_child_weight': 7, 'gamma': 1.9442141420710617}. Best is trial 44 with value: 211.68478697914733.\n",
      "[I 2025-05-15 13:06:28,383] Trial 46 finished with value: 215.43654059824945 and parameters: {'n_estimators': 412, 'max_depth': 12, 'learning_rate': 0.02032258605368064, 'subsample': 0.8987058276474449, 'colsample_bytree': 0.5563862852652263, 'min_child_weight': 1, 'gamma': 2.357809986262903}. Best is trial 44 with value: 211.68478697914733.\n",
      "[I 2025-05-15 13:06:33,984] Trial 47 finished with value: 248.6776401949698 and parameters: {'n_estimators': 333, 'max_depth': 5, 'learning_rate': 0.04041991432362842, 'subsample': 0.8410194087633825, 'colsample_bytree': 0.5291699232477711, 'min_child_weight': 1, 'gamma': 2.093862447501107}. Best is trial 44 with value: 211.68478697914733.\n",
      "[I 2025-05-15 13:06:53,932] Trial 48 finished with value: 222.66648942130809 and parameters: {'n_estimators': 436, 'max_depth': 12, 'learning_rate': 0.06291747712973045, 'subsample': 0.9230054078818343, 'colsample_bytree': 0.8433443795676124, 'min_child_weight': 1, 'gamma': 1.4021270106945285}. Best is trial 44 with value: 211.68478697914733.\n",
      "[I 2025-05-15 13:07:05,235] Trial 49 finished with value: 220.89658911412675 and parameters: {'n_estimators': 465, 'max_depth': 10, 'learning_rate': 0.07388291411155026, 'subsample': 0.7025258712080757, 'colsample_bytree': 0.621181201451332, 'min_child_weight': 8, 'gamma': 1.7439275155862615}. Best is trial 44 with value: 211.68478697914733.\n"
     ]
    },
    {
     "name": "stdout",
     "output_type": "stream",
     "text": [
      "Migliori iperparametri:\n",
      "{'n_estimators': 416, 'max_depth': 12, 'learning_rate': 0.061262821041241845, 'subsample': 0.9173305659044061, 'colsample_bytree': 0.5620303828499797, 'min_child_weight': 1, 'gamma': 2.0104361823750687}\n"
     ]
    }
   ],
   "source": [
    "study = optuna.create_study(direction='minimize')\n",
    "study.optimize(objective, n_trials=50)  # puoi aumentare il numero di trial\n",
    "\n",
    "print(\"Migliori iperparametri:\")\n",
    "print(study.best_params)"
   ]
  },
  {
   "cell_type": "code",
   "execution_count": 14,
   "id": "d451682c",
   "metadata": {},
   "outputs": [
    {
     "name": "stdout",
     "output_type": "stream",
     "text": [
      "RMSE dopo tuning: 211.68\n"
     ]
    }
   ],
   "source": [
    "best_params = study.best_params\n",
    "best_params['tree_method'] = 'hist'\n",
    "best_params['random_state'] = 42\n",
    "best_params['n_jobs'] = -1\n",
    "\n",
    "final_model = XGBRegressor(**best_params)\n",
    "final_model.fit(X_train, y_train)\n",
    "\n",
    "y_pred = final_model.predict(X_test)\n",
    "final_rmse = np.sqrt(mean_squared_error(y_test, y_pred))\n",
    "\n",
    "print(f\"RMSE dopo tuning: {final_rmse:.2f}\")"
   ]
  }
 ],
 "metadata": {
  "kernelspec": {
   "display_name": "ai",
   "language": "python",
   "name": "python3"
  },
  "language_info": {
   "codemirror_mode": {
    "name": "ipython",
    "version": 3
   },
   "file_extension": ".py",
   "mimetype": "text/x-python",
   "name": "python",
   "nbconvert_exporter": "python",
   "pygments_lexer": "ipython3",
   "version": "3.11.11"
  }
 },
 "nbformat": 4,
 "nbformat_minor": 5
}
